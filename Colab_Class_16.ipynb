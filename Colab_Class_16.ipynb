{
  "cells": [
    {
      "cell_type": "code",
      "execution_count": null,
      "metadata": {
        "colab": {
          "base_uri": "https://localhost:8080/"
        },
        "id": "kjbC7GR4aulB",
        "outputId": "1e675e3c-0493-408b-dbd3-57b36b8fdbe8"
      },
      "outputs": [],
      "source": [
        "any([])"
      ]
    },
    {
      "cell_type": "code",
      "execution_count": null,
      "metadata": {
        "colab": {
          "base_uri": "https://localhost:8080/"
        },
        "id": "ctIinMePd4GP",
        "outputId": "8fce9709-8037-4ce4-d217-a525d36129db"
      },
      "outputs": [],
      "source": [
        "all([])"
      ]
    },
    {
      "cell_type": "code",
      "execution_count": null,
      "metadata": {
        "colab": {
          "base_uri": "https://localhost:8080/",
          "height": 109
        },
        "id": "EjikKAJ0fvtE",
        "outputId": "31d7e22f-42b0-474c-e8fd-13ad542cbe4a"
      },
      "outputs": [],
      "source": [
        "i = 5\n",
        "while True:\n",
        "  if i%0O9:\n",
        "    break\n",
        "  print(i)\n"
      ]
    },
    {
      "cell_type": "code",
      "execution_count": null,
      "metadata": {
        "colab": {
          "base_uri": "https://localhost:8080/"
        },
        "id": "CSEAwB3hhfJJ",
        "outputId": "7e3df420-0ff1-4dda-ede0-d091b7bc98af"
      },
      "outputs": [],
      "source": [
        "i = 0\n",
        "\n",
        "while i<5:\n",
        "  print(i)\n",
        "  i += 1\n",
        "  if i%3 == 0:\n",
        "    break\n",
        "else:\n",
        "  print(0)"
      ]
    },
    {
      "cell_type": "code",
      "execution_count": null,
      "metadata": {
        "colab": {
          "base_uri": "https://localhost:8080/"
        },
        "id": "Y2gUAP5hjMth",
        "outputId": "dc044865-ced0-48c8-bd90-895173c9a12f"
      },
      "outputs": [],
      "source": [
        "x = \"abcdef\"\n",
        "n = len(x)\n",
        "i = 0\n",
        "while i<n:\n",
        "  print(x[i], end=\" \")\n",
        "  i+=1\n"
      ]
    },
    {
      "cell_type": "code",
      "execution_count": null,
      "metadata": {
        "id": "HXd9vUEKkRh7"
      },
      "outputs": [],
      "source": [
        "x = \"abcdef\"\n",
        "i = \"i\"\n",
        "while i in x:\n",
        "  print(i, end=\" \")\n",
        "\n"
      ]
    },
    {
      "cell_type": "code",
      "execution_count": null,
      "metadata": {
        "colab": {
          "base_uri": "https://localhost:8080/",
          "height": 385
        },
        "id": "hwmDzPYuknhY",
        "outputId": "abbf1601-9993-49dc-90dd-73a1fead3b83"
      },
      "outputs": [],
      "source": [
        "x = \"abcdef\"\n",
        "i = \"a\"\n",
        "while i in x:\n",
        "  print(i, end=\" \")"
      ]
    },
    {
      "cell_type": "code",
      "execution_count": null,
      "metadata": {
        "colab": {
          "base_uri": "https://localhost:8080/"
        },
        "id": "GeRfmpcnjZbW",
        "outputId": "53b83632-2876-44d2-e8a0-56aa523e3a9b"
      },
      "outputs": [],
      "source": [
        "for i in x:\n",
        "  print(i, end=\" \")"
      ]
    },
    {
      "cell_type": "code",
      "execution_count": null,
      "metadata": {
        "colab": {
          "base_uri": "https://localhost:8080/",
          "height": 385
        },
        "id": "cRRd6nNHkyx2",
        "outputId": "87ca7976-0aa4-4fe5-af53-a89f89df0088"
      },
      "outputs": [],
      "source": [
        "l = [0,1,2]\n",
        "i = 0\n",
        "\n",
        "while i in l:\n",
        "  print(i, end=\" \")"
      ]
    },
    {
      "cell_type": "code",
      "execution_count": null,
      "metadata": {
        "colab": {
          "base_uri": "https://localhost:8080/",
          "height": 198
        },
        "id": "eCI0hv-RlDRo",
        "outputId": "3ea31ded-8a08-4f88-ab64-1273c7d9364d"
      },
      "outputs": [],
      "source": [
        "x = \"abcd\"\n",
        "\n",
        "for i in range(len(x)):\n",
        "  print(i.upper())\n",
        "print(x)"
      ]
    },
    {
      "cell_type": "code",
      "execution_count": null,
      "metadata": {
        "colab": {
          "base_uri": "https://localhost:8080/"
        },
        "id": "Q-sKqKaemIc8",
        "outputId": "9f6c845e-5b22-474d-bdaf-b48a58bf9140"
      },
      "outputs": [],
      "source": [
        "x = \"abcd\"\n",
        "\n",
        "for i in x:\n",
        "  print(i.upper())\n",
        "print(x)"
      ]
    },
    {
      "cell_type": "code",
      "execution_count": null,
      "metadata": {
        "colab": {
          "base_uri": "https://localhost:8080/",
          "height": 36
        },
        "id": "Xzx6TYYXmO0w",
        "outputId": "0e0a9e16-a784-49bd-e777-00a22dbf2259"
      },
      "outputs": [],
      "source": [
        "'\"Once upon a time...\",she said.'"
      ]
    },
    {
      "cell_type": "code",
      "execution_count": null,
      "metadata": {
        "colab": {
          "base_uri": "https://localhost:8080/",
          "height": 36
        },
        "id": "LMFQ_3HFqnko",
        "outputId": "e0440039-ff00-489e-b187-47c09a07b062"
      },
      "outputs": [],
      "source": [
        "\"He said, 'Yes!'\""
      ]
    },
    {
      "cell_type": "code",
      "execution_count": null,
      "metadata": {
        "colab": {
          "base_uri": "https://localhost:8080/"
        },
        "id": "olqVB7KKqozq",
        "outputId": "a0bd9806-e419-47e9-fcbf-9eb67bcd22ba"
      },
      "outputs": [],
      "source": [
        "a = \"3\\\"\"\n",
        "print(a)"
      ]
    },
    {
      "cell_type": "code",
      "execution_count": null,
      "metadata": {
        "colab": {
          "base_uri": "https://localhost:8080/"
        },
        "id": "VaTIBUiprUfg",
        "outputId": "241187e5-2723-4839-a313-d5a0e7ec16a5"
      },
      "outputs": [],
      "source": [
        "a = \"3\\\\\"\n",
        "print(len(a))"
      ]
    },
    {
      "cell_type": "code",
      "execution_count": null,
      "metadata": {
        "colab": {
          "base_uri": "https://localhost:8080/"
        },
        "id": "9N46v_K5r4TB",
        "outputId": "cc3573c2-0857-4b57-a032-5a4fce207eaf"
      },
      "outputs": [],
      "source": [
        "print(\"hello\"'harsh')"
      ]
    },
    {
      "cell_type": "code",
      "execution_count": null,
      "metadata": {
        "colab": {
          "base_uri": "https://localhost:8080/"
        },
        "id": "9j5mblk0sJMQ",
        "outputId": "bb45b98b-fa7f-4624-89ea-96d5972f7af1"
      },
      "outputs": [],
      "source": [
        "print(r\"\\\"hello\\nworld\")"
      ]
    },
    {
      "cell_type": "code",
      "execution_count": null,
      "metadata": {
        "colab": {
          "base_uri": "https://localhost:8080/"
        },
        "id": "btLlVwHuxGai",
        "outputId": "1d68a052-29f2-4d76-85bc-afbd5409933d"
      },
      "outputs": [],
      "source": [
        "names1 = ['a','b', 'c', 'd']\n",
        "\n",
        "names2 = ['e', 'f', 'g', 'h']\n",
        "\n",
        "names3 = names1[::-1]\n",
        "\n",
        "for ls in (names1,names2, names3):\n",
        "  print(ls)\n",
        "  print(type(ls))"
      ]
    },
    {
      "cell_type": "code",
      "execution_count": null,
      "metadata": {
        "colab": {
          "base_uri": "https://localhost:8080/"
        },
        "id": "xgagzUu0yINl",
        "outputId": "14bad273-68cf-48b7-e283-ea7c209c7d18"
      },
      "outputs": [],
      "source": [
        "names1 = ['Amir', 'Bear', 'Charlton', 'Daman']\n",
        "\n",
        "names2 = names1\n",
        "\n",
        "names3 = names1[:]\n",
        "print(\"Initialization Steps: \")\n",
        "\n",
        "print(\"names 1: \", names1)\n",
        "print(id(names1))\n",
        "print(\"names 2: \", names2)\n",
        "print(id(names2))\n",
        "print(\"names 3: \", names3)\n",
        "print(id(names3))\n",
        "\n",
        "print(\"\\n\\nUpdating Step: \")\n",
        "names2[0] = 'Alice'\n",
        "names3[1] = 'Bob'\n",
        "print(\"names 1: \", names1)\n",
        "print(id(names1))\n",
        "print(\"names 2: \", names2)\n",
        "print(id(names2))\n",
        "print(\"names 3: \", names3)\n",
        "print(id(names3))\n",
        "\n",
        "sum = 0\n",
        "print(\"\\n\\nStarting Loops: \")\n",
        "for ls in (names1, names2, names3):\n",
        "     print(\"Ls inside loop: \", ls)\n",
        "     if ls[0] == \"Alice\":\n",
        "            sum+=1\n",
        "     if ls[1] == \"Bob\":\n",
        "            sum+=10\n",
        "     print(\"sum inside loop : \", sum)\n",
        "\n",
        "print(sum)"
      ]
    },
    {
      "cell_type": "code",
      "execution_count": null,
      "metadata": {
        "colab": {
          "base_uri": "https://localhost:8080/",
          "height": 109
        },
        "id": "mdU0G7Il1PFB",
        "outputId": "7577ccd9-009f-43e0-8ba2-b7276842e65f"
      },
      "outputs": [],
      "source": [
        "d1 = dict{}\n",
        "print(d1)"
      ]
    },
    {
      "cell_type": "code",
      "execution_count": null,
      "metadata": {
        "id": "g-gWMn7Y2MGQ"
      },
      "outputs": [],
      "source": []
    },
    {
      "cell_type": "code",
      "execution_count": null,
      "metadata": {
        "colab": {
          "base_uri": "https://localhost:8080/"
        },
        "id": "vWoru1y_1Vmb",
        "outputId": "ac1e8581-809f-4334-f6a2-4b4baee2a2a0"
      },
      "outputs": [],
      "source": [
        "d1 = dict()\n",
        "print(d1)"
      ]
    },
    {
      "cell_type": "code",
      "execution_count": null,
      "metadata": {
        "colab": {
          "base_uri": "https://localhost:8080/"
        },
        "id": "N03inJgh2NUJ",
        "outputId": "adc98b26-c25d-4dab-eeab-e703a2b04e0f"
      },
      "outputs": [],
      "source": [
        "a_b_c = 1000,000,000\n",
        "print(a_b_c)\n",
        "print(type(a_b_c))"
      ]
    },
    {
      "cell_type": "code",
      "execution_count": null,
      "metadata": {
        "colab": {
          "base_uri": "https://localhost:8080/"
        },
        "id": "v56Q72Jk29ob",
        "outputId": "ca0472ea-d28e-4430-8d90-9fa675c7a8bf"
      },
      "outputs": [],
      "source": [
        "a,b,c = 1000,2000,3000\n",
        "d,e,f = (1000,2000,3000)\n",
        "\n",
        "print(a)\n",
        "print(b)\n",
        "print(c)\n",
        "print(d)\n",
        "print(e)\n",
        "print(f)"
      ]
    },
    {
      "cell_type": "code",
      "execution_count": null,
      "metadata": {
        "colab": {
          "base_uri": "https://localhost:8080/",
          "height": 180
        },
        "id": "duyF4dIy3wxZ",
        "outputId": "ad9f80a6-7a6d-4091-b479-f0fbac286bc7"
      },
      "outputs": [],
      "source": [
        "a,b = 1,2,3\n",
        "print(a)\n",
        "print(b)"
      ]
    },
    {
      "cell_type": "code",
      "execution_count": null,
      "metadata": {
        "colab": {
          "base_uri": "https://localhost:8080/",
          "height": 198
        },
        "id": "p6LV-rfe33rL",
        "outputId": "0ca816ae-ae62-4a61-82b7-dbf74d2aae76"
      },
      "outputs": [],
      "source": [
        "a,b,c = 1,2\n",
        "print(a)\n",
        "print(b)\n",
        "print(c)"
      ]
    },
    {
      "cell_type": "code",
      "execution_count": null,
      "metadata": {
        "colab": {
          "base_uri": "https://localhost:8080/"
        },
        "id": "dAvW5ACw4Boe",
        "outputId": "a4da3607-c3bc-4334-9c29-93dfad494f6d"
      },
      "outputs": [],
      "source": [
        "a, *b = 1,2,3\n",
        "\n",
        "print(a)\n",
        "print(b)\n",
        "print(type(b))"
      ]
    },
    {
      "cell_type": "code",
      "execution_count": null,
      "metadata": {
        "colab": {
          "base_uri": "https://localhost:8080/"
        },
        "id": "m86FNAPF4Th6",
        "outputId": "f3423d40-1512-44d0-9ac9-6825461b6971"
      },
      "outputs": [],
      "source": [
        "*a, b = 1,2,3\n",
        "\n",
        "print(a)\n",
        "print(b)\n",
        "print(type(a))"
      ]
    },
    {
      "cell_type": "code",
      "execution_count": null,
      "metadata": {
        "colab": {
          "base_uri": "https://localhost:8080/",
          "height": 109
        },
        "id": "MudJD0314ZGL",
        "outputId": "59dd49ed-5318-4316-ed96-c9c9be3dbbac"
      },
      "outputs": [],
      "source": [
        "*a, *b, c = 1,2,3,4,5\n",
        "\n"
      ]
    },
    {
      "cell_type": "code",
      "execution_count": null,
      "metadata": {
        "colab": {
          "base_uri": "https://localhost:8080/"
        },
        "id": "sovtUAQS5Cfs",
        "outputId": "d066b4bc-4f97-4227-b851-a5eeba7d4443"
      },
      "outputs": [],
      "source": [
        "t1 = (23,24,25,5,6,5)\n",
        "\n",
        "t1[0]+t1.index(5)"
      ]
    },
    {
      "cell_type": "code",
      "execution_count": null,
      "metadata": {
        "colab": {
          "base_uri": "https://localhost:8080/"
        },
        "id": "LGdU0DTb6NNs",
        "outputId": "d2e9c362-e28f-40af-e815-eb11659c474f"
      },
      "outputs": [],
      "source": [
        "t1.index(5)"
      ]
    },
    {
      "cell_type": "code",
      "execution_count": null,
      "metadata": {
        "colab": {
          "base_uri": "https://localhost:8080/"
        },
        "id": "XhzDZZY06W7X",
        "outputId": "2b663ac4-1f0e-4913-9733-2f5517122104"
      },
      "outputs": [],
      "source": [
        "l = [23,24,25,5,6,5]\n",
        "l.index(5)"
      ]
    },
    {
      "cell_type": "code",
      "execution_count": null,
      "metadata": {
        "id": "xdcuS05i6nuy"
      },
      "outputs": [],
      "source": [
        "s = \"venky125345\""
      ]
    },
    {
      "cell_type": "code",
      "execution_count": null,
      "metadata": {
        "colab": {
          "base_uri": "https://localhost:8080/"
        },
        "id": "r0NLRBPa6gps",
        "outputId": "bd2d2848-64cd-46df-e287-959d954c4555"
      },
      "outputs": [],
      "source": [
        "s.index(\"5\")"
      ]
    },
    {
      "cell_type": "code",
      "execution_count": null,
      "metadata": {
        "colab": {
          "base_uri": "https://localhost:8080/",
          "height": 144
        },
        "id": "T-5j3sak6SwW",
        "outputId": "a5df4cf8-5502-4b64-abe4-8132f2c114af"
      },
      "outputs": [],
      "source": [
        "t1[0]+t1.rindex(5)"
      ]
    }
  ],
  "metadata": {
    "colab": {
      "provenance": []
    },
    "kernelspec": {
      "display_name": "Python 3",
      "name": "python3"
    },
    "language_info": {
      "name": "python",
      "version": "3.12.4"
    }
  },
  "nbformat": 4,
  "nbformat_minor": 0
}
