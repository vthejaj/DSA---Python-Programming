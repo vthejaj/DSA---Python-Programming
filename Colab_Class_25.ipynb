{
  "nbformat": 4,
  "nbformat_minor": 0,
  "metadata": {
    "colab": {
      "provenance": []
    },
    "kernelspec": {
      "name": "python3",
      "display_name": "Python 3"
    },
    "language_info": {
      "name": "python"
    }
  },
  "cells": [
    {
      "cell_type": "code",
      "execution_count": null,
      "metadata": {
        "id": "u4biKYfs4J5d"
      },
      "outputs": [],
      "source": [
        "# GATE 2024\n",
        "\n",
        "def f(x: int, y:int):\n",
        "  for i in range(y):\n",
        "    x = x+x+y\n",
        "  return x"
      ]
    },
    {
      "cell_type": "code",
      "source": [
        "# GATE 2018\n",
        "\n",
        "def fun(n: int):\n",
        "  i = n\n",
        "  j = 0\n",
        "  sum = 0\n",
        "\n",
        "  while i>1:\n",
        "    j+=1\n",
        "    i//=2\n",
        "  while j>1:\n",
        "    j//=2\n",
        "    sum+=1\n",
        "\n",
        "  return sum"
      ],
      "metadata": {
        "id": "HAsad61p-4as"
      },
      "execution_count": null,
      "outputs": []
    },
    {
      "cell_type": "code",
      "source": [
        "def rq(x, y):\n",
        "  r = x\n",
        "  q = 0\n",
        "  while (r>=y):\n",
        "    r = r-y\n",
        "    q = q+1\n",
        "\n",
        "  return q, r\n",
        "\n",
        "rq(45, 7)"
      ],
      "metadata": {
        "colab": {
          "base_uri": "https://localhost:8080/"
        },
        "id": "K8zmG5zHAmzD",
        "outputId": "f92b1773-7089-4b80-9e01-ef90d67bcc66"
      },
      "execution_count": 1,
      "outputs": [
        {
          "output_type": "execute_result",
          "data": {
            "text/plain": [
              "(6, 3)"
            ]
          },
          "metadata": {},
          "execution_count": 1
        }
      ]
    },
    {
      "cell_type": "code",
      "source": [
        "# GATE 2003\n",
        "\n",
        "def findFunc(x, y):\n",
        "  p = 1\n",
        "  s = 1\n",
        "  for i in range(1,y):\n",
        "    p*=(x/i)\n",
        "    s+=p\n",
        "  return s"
      ],
      "metadata": {
        "id": "qISRF51JEIuT"
      },
      "execution_count": null,
      "outputs": []
    },
    {
      "cell_type": "code",
      "source": [
        "# GATE 2021\n",
        "\n",
        "def inc():\n",
        "  global i\n",
        "  i += 1\n",
        "  return i\n",
        "\n",
        "count = 0\n",
        "i = 0\n",
        "for j in range(-3, 4):\n",
        "  if ((j>=0) and inc()):\n",
        "    count += j\n",
        "count += i\n",
        "print(count)"
      ],
      "metadata": {
        "colab": {
          "base_uri": "https://localhost:8080/"
        },
        "id": "Soq8Da_PF-U6",
        "outputId": "7b7023a9-96a3-4f2b-aa1e-823c3a171981"
      },
      "execution_count": 2,
      "outputs": [
        {
          "output_type": "stream",
          "name": "stdout",
          "text": [
            "10\n"
          ]
        }
      ]
    },
    {
      "cell_type": "code",
      "source": [
        "def exp(X: int, Y: int):\n",
        "  res = 1\n",
        "  a = X\n",
        "  b = Y\n",
        "  while b!=0:\n",
        "    if b%2 ==0:\n",
        "      a = a*a\n",
        "      b = b//2\n",
        "    else:\n",
        "      res = res*a\n",
        "      b = b-1\n",
        "  return res"
      ],
      "metadata": {
        "id": "1ALuVYBhH-9J"
      },
      "execution_count": null,
      "outputs": []
    },
    {
      "cell_type": "code",
      "source": [
        "e = \"butter\"\n",
        "\n",
        "def f(a):\n",
        "  print(print(a) or e)\n",
        "\n",
        "f(\"bitter\")"
      ],
      "metadata": {
        "colab": {
          "base_uri": "https://localhost:8080/"
        },
        "id": "m8KjfA_AMc0O",
        "outputId": "fbe3b273-b390-4217-b752-9e92351dd020"
      },
      "execution_count": 3,
      "outputs": [
        {
          "output_type": "stream",
          "name": "stdout",
          "text": [
            "bitter\n",
            "butter\n"
          ]
        }
      ]
    },
    {
      "cell_type": "code",
      "source": [
        "e = \"butter\"\n",
        "\n",
        "def f(a):\n",
        "  print(print(a) and e)\n",
        "\n",
        "f(\"bitter\")"
      ],
      "metadata": {
        "colab": {
          "base_uri": "https://localhost:8080/"
        },
        "id": "icopkh-6NfMu",
        "outputId": "e03c3191-6a0a-44f0-b439-62737e83ba7f"
      },
      "execution_count": 4,
      "outputs": [
        {
          "output_type": "stream",
          "name": "stdout",
          "text": [
            "bitter\n",
            "None\n"
          ]
        }
      ]
    },
    {
      "cell_type": "code",
      "source": [
        "e = \"butter\"\n",
        "\n",
        "def f(a):\n",
        "  print(print(a)+5)\n",
        "\n",
        "f(\"bitter\")"
      ],
      "metadata": {
        "colab": {
          "base_uri": "https://localhost:8080/",
          "height": 323
        },
        "id": "f-pDdwTvNpna",
        "outputId": "cc480310-fff6-4817-bd87-74340c3a625a"
      },
      "execution_count": 5,
      "outputs": [
        {
          "output_type": "stream",
          "name": "stdout",
          "text": [
            "bitter\n"
          ]
        },
        {
          "output_type": "error",
          "ename": "TypeError",
          "evalue": "unsupported operand type(s) for +: 'NoneType' and 'int'",
          "traceback": [
            "\u001b[0;31m---------------------------------------------------------------------------\u001b[0m",
            "\u001b[0;31mTypeError\u001b[0m                                 Traceback (most recent call last)",
            "\u001b[0;32m<ipython-input-5-021373d4f8ff>\u001b[0m in \u001b[0;36m<cell line: 6>\u001b[0;34m()\u001b[0m\n\u001b[1;32m      4\u001b[0m   \u001b[0mprint\u001b[0m\u001b[0;34m(\u001b[0m\u001b[0mprint\u001b[0m\u001b[0;34m(\u001b[0m\u001b[0ma\u001b[0m\u001b[0;34m)\u001b[0m\u001b[0;34m+\u001b[0m\u001b[0;36m5\u001b[0m\u001b[0;34m)\u001b[0m\u001b[0;34m\u001b[0m\u001b[0;34m\u001b[0m\u001b[0m\n\u001b[1;32m      5\u001b[0m \u001b[0;34m\u001b[0m\u001b[0m\n\u001b[0;32m----> 6\u001b[0;31m \u001b[0mf\u001b[0m\u001b[0;34m(\u001b[0m\u001b[0;34m\"bitter\"\u001b[0m\u001b[0;34m)\u001b[0m\u001b[0;34m\u001b[0m\u001b[0;34m\u001b[0m\u001b[0m\n\u001b[0m",
            "\u001b[0;32m<ipython-input-5-021373d4f8ff>\u001b[0m in \u001b[0;36mf\u001b[0;34m(a)\u001b[0m\n\u001b[1;32m      2\u001b[0m \u001b[0;34m\u001b[0m\u001b[0m\n\u001b[1;32m      3\u001b[0m \u001b[0;32mdef\u001b[0m \u001b[0mf\u001b[0m\u001b[0;34m(\u001b[0m\u001b[0ma\u001b[0m\u001b[0;34m)\u001b[0m\u001b[0;34m:\u001b[0m\u001b[0;34m\u001b[0m\u001b[0;34m\u001b[0m\u001b[0m\n\u001b[0;32m----> 4\u001b[0;31m   \u001b[0mprint\u001b[0m\u001b[0;34m(\u001b[0m\u001b[0mprint\u001b[0m\u001b[0;34m(\u001b[0m\u001b[0ma\u001b[0m\u001b[0;34m)\u001b[0m\u001b[0;34m+\u001b[0m\u001b[0;36m5\u001b[0m\u001b[0;34m)\u001b[0m\u001b[0;34m\u001b[0m\u001b[0;34m\u001b[0m\u001b[0m\n\u001b[0m\u001b[1;32m      5\u001b[0m \u001b[0;34m\u001b[0m\u001b[0m\n\u001b[1;32m      6\u001b[0m \u001b[0mf\u001b[0m\u001b[0;34m(\u001b[0m\u001b[0;34m\"bitter\"\u001b[0m\u001b[0;34m)\u001b[0m\u001b[0;34m\u001b[0m\u001b[0;34m\u001b[0m\u001b[0m\n",
            "\u001b[0;31mTypeError\u001b[0m: unsupported operand type(s) for +: 'NoneType' and 'int'"
          ]
        }
      ]
    },
    {
      "cell_type": "code",
      "source": [
        "# ISRO 2020\n",
        "\n",
        "name = \"satellites\"\n",
        "\n",
        "l = len(name)\n",
        "s = len(set(name))\n",
        "\n",
        "val = ord(str(l)[0]) + ord(str(s))\n",
        "\n",
        "def add(a,b):\n",
        "  return a+b\n",
        "\n",
        "def sub(a,b):\n",
        "  return a-b\n",
        "\n",
        "list_1 = [[sub, 0], [sub, 6], [add, 13], [sub, 2]]\n",
        "\n",
        "for i in range(len(list_1)):\n",
        "  print(chr(list_1[i][0](val, list_1[i][1])), sep=\"-\")"
      ],
      "metadata": {
        "colab": {
          "base_uri": "https://localhost:8080/"
        },
        "id": "Y6bFmtvWN85-",
        "outputId": "caa86eb6-83d0-420d-ad40-81d452a20f2e"
      },
      "execution_count": 8,
      "outputs": [
        {
          "output_type": "stream",
          "name": "stdout",
          "text": [
            "g\n",
            "a\n",
            "t\n",
            "e\n"
          ]
        }
      ]
    },
    {
      "cell_type": "code",
      "source": [
        "def myX(E: list, size: int):\n",
        "  Y = 0\n",
        "  for i in range(size):\n",
        "    Y = Y+E[i]\n",
        "\n",
        "  for i in range(size):\n",
        "    for j in range(i, size):\n",
        "      Z = 0\n",
        "      for k in range(i, j+1):\n",
        "        Z = Z+E[k]\n",
        "      if Z>Y:\n",
        "        Y = Z\n",
        "\n",
        "  return Y"
      ],
      "metadata": {
        "id": "Jn7-ywmDPM9-"
      },
      "execution_count": null,
      "outputs": []
    }
  ]
}