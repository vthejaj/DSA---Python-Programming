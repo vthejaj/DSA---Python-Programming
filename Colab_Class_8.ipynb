{
  "cells": [
    {
      "cell_type": "markdown",
      "metadata": {
        "id": "CgCZAA29JmB9"
      },
      "source": [
        "**Loops in Python**"
      ]
    },
    {
      "cell_type": "code",
      "execution_count": null,
      "metadata": {
        "colab": {
          "base_uri": "https://localhost:8080/",
          "height": 0
        },
        "id": "ehrqQkJkLBGB",
        "outputId": "cc239d0c-ad05-4e02-b4b1-5a567cb71e6d"
      },
      "outputs": [],
      "source": [
        "n = 10\n",
        "i = 9\n",
        "j = 5\n",
        "\n",
        "while i<n:\n",
        "  print(\"value i: \", i)\n",
        "  while j<n:\n",
        "    print(\"value j: \", j)\n",
        "    j+=1\n",
        "  i+=1\n",
        "\n",
        "print(\"Came outside while loop\")"
      ]
    },
    {
      "cell_type": "code",
      "execution_count": null,
      "metadata": {
        "colab": {
          "base_uri": "https://localhost:8080/",
          "height": 0
        },
        "id": "BOAiOh99N4kL",
        "outputId": "95ef0f64-646a-44d5-b839-b7a5c5ff1ce2"
      },
      "outputs": [],
      "source": [
        "team_score = [12,23,54,26,76,31]\n",
        "\n",
        "i = 0\n",
        "n = len(team_score)\n",
        "total_score = 0\n",
        "\n",
        "while i<n:\n",
        "  print(\"iteration: \", i)\n",
        "  total_score += team_score[i]\n",
        "  print(\"total score: \", total_score)\n",
        "  if total_score>=100:\n",
        "    break\n",
        "  i+=1\n",
        "\n",
        "print(\"came out of loop\")\n"
      ]
    },
    {
      "cell_type": "code",
      "execution_count": null,
      "metadata": {
        "colab": {
          "base_uri": "https://localhost:8080/",
          "height": 0
        },
        "id": "t6ew4lqUPO6E",
        "outputId": "18137b2c-4eba-4375-992e-0ebc836409d1"
      },
      "outputs": [],
      "source": [
        "team_score = [12,23,54,26,76,31]\n",
        "\n",
        "i = 0\n",
        "n = len(team_score)\n",
        "total_score = 0\n",
        "\n",
        "for score in team_score:\n",
        "  print(\"score: -->\", score)\n",
        "  total_score += score\n",
        "  print(\"total_score: -->\", total_score)\n",
        "  if total_score >= 100:\n",
        "    break\n",
        "\n",
        "print(\"Came out of for loop\")"
      ]
    },
    {
      "cell_type": "code",
      "execution_count": null,
      "metadata": {
        "colab": {
          "base_uri": "https://localhost:8080/",
          "height": 0
        },
        "id": "t-ATcpTyP1Rj",
        "outputId": "3d387d7f-1732-4c6c-d10f-99be0c8016d0"
      },
      "outputs": [],
      "source": [
        "team_score = [12,23,54,26,76,31]\n",
        "\n",
        "i = 0\n",
        "n = len(team_score)\n",
        "total_score = 0\n",
        "\n",
        "for score in team_score:\n",
        "  print(\"score: -->\", score)\n",
        "  total_score += score\n",
        "  print(\"total_score: -->\", total_score)\n",
        "  if total_score>=100:\n",
        "    break\n"
      ]
    },
    {
      "cell_type": "code",
      "execution_count": null,
      "metadata": {
        "colab": {
          "base_uri": "https://localhost:8080/",
          "height": 0
        },
        "id": "bLNqG_cgQTjt",
        "outputId": "a664fa1d-84ec-4b04-8adc-41265f3c8490"
      },
      "outputs": [],
      "source": [
        "team_scores = [[12,23,54,26,76,31], [12,34,54,23,53,23,53], [1,2,4,52,5]]\n",
        "\n",
        "for curr_team_score in team_scores:\n",
        "  total_score = 0\n",
        "  print(\"curr team score: -->\", curr_team_score)\n",
        "  for score in curr_team_score:\n",
        "    print(\"score: \", score)\n",
        "    total_score += score\n",
        "    print(\"total_score : -->\", total_score)\n",
        "    if total_score >= 100:\n",
        "      break\n",
        "  if len(curr_team_score) > 4:\n",
        "    break\n",
        "\n",
        "print(\"came out of for loop\")"
      ]
    },
    {
      "cell_type": "markdown",
      "metadata": {
        "id": "EANLtynRR7KQ"
      },
      "source": [
        "### **Continue**"
      ]
    },
    {
      "cell_type": "code",
      "execution_count": null,
      "metadata": {
        "colab": {
          "base_uri": "https://localhost:8080/",
          "height": 0
        },
        "id": "PWzG12MeN-V4",
        "outputId": "a97e871f-735f-40dc-d18b-44cc3e31924b"
      },
      "outputs": [],
      "source": [
        "l = [12,32,0,-10,-5,200,100]\n",
        "\n",
        "non_negative_value = 0\n",
        "\n",
        "for value in l:\n",
        "  print(\"value: \", value)\n",
        "  if value<0:\n",
        "    continue\n",
        "  non_negative_value += value\n",
        "  print(\"curr non negative value: \", non_negative_value)\n",
        "\n",
        "print(\"final non_negative_value outside for loop: \",non_negative_value)"
      ]
    },
    {
      "cell_type": "code",
      "execution_count": null,
      "metadata": {
        "colab": {
          "base_uri": "https://localhost:8080/",
          "height": 0
        },
        "id": "PQMRppmsUyl8",
        "outputId": "754785fe-704c-464b-8857-5d65413595fe"
      },
      "outputs": [],
      "source": [
        "l = [1,2,3,4,5,6,5,4,2]\n",
        "\n",
        "for value in l:\n",
        "  print(\"value: -->\",value)\n",
        "  if value==5:\n",
        "    continue\n",
        "  print(\"VENKY\")\n",
        "  print(\"Python\")\n",
        "  print(\"ANy value\")"
      ]
    },
    {
      "cell_type": "markdown",
      "metadata": {
        "id": "QRgzjhVFVjgN"
      },
      "source": [
        "### **Pass**"
      ]
    },
    {
      "cell_type": "code",
      "execution_count": null,
      "metadata": {
        "colab": {
          "base_uri": "https://localhost:8080/",
          "height": 0
        },
        "id": "5d1px2sWVnHt",
        "outputId": "8e3913cd-4fad-4082-81b8-85512480c042"
      },
      "outputs": [],
      "source": [
        "l = [[9.5,8.2,7.3,5], [5.6,9.8,10,7.1,6], [6.2,7.5,9.3]]\n",
        "\n",
        "for cgpa_list in l:\n",
        "  for curr_cgpa in cgpa_list:\n",
        "    print(\"curr_cgpa: \", curr_cgpa)\n",
        "    if curr_cgpa>9:\n",
        "      pass\n",
        "  print(\"Award Ceremony\")\n",
        "  print(\"Parties in college\")"
      ]
    },
    {
      "cell_type": "code",
      "execution_count": null,
      "metadata": {
        "colab": {
          "base_uri": "https://localhost:8080/",
          "height": 0
        },
        "id": "jOR-p27ZXaWG",
        "outputId": "95a3b42a-097b-464f-b36b-128a38ad7487"
      },
      "outputs": [],
      "source": [
        "l = [10,20,30,40]\n",
        "\n",
        "for value in l:\n",
        "  if value>20:\n",
        "    continue\n",
        "  print(\"Value: \", value)"
      ]
    },
    {
      "cell_type": "code",
      "execution_count": null,
      "metadata": {
        "colab": {
          "base_uri": "https://localhost:8080/",
          "height": 0
        },
        "id": "dm8JS0s2XxoX",
        "outputId": "bc779ff4-1a33-46c5-baa9-949c03094836"
      },
      "outputs": [],
      "source": [
        "l = [10,20,30,40]\n",
        "\n",
        "for value in l:\n",
        "  if value>20:\n",
        "    pass\n",
        "  print(\"Value: \", value)"
      ]
    },
    {
      "cell_type": "code",
      "execution_count": null,
      "metadata": {
        "colab": {
          "base_uri": "https://localhost:8080/",
          "height": 109
        },
        "id": "dmQ-1_utYk7k",
        "outputId": "b3c8f70e-adc4-4af4-ed19-c1d236a0c09c"
      },
      "outputs": [],
      "source": [
        "l = [10,20,30,40]\n",
        "\n",
        "for value in l:\n",
        "  if value>20:\n",
        "    # adding a line single comment\n",
        "  print(\"Value: \", value)"
      ]
    },
    {
      "cell_type": "markdown",
      "metadata": {
        "id": "kFz4C9afYxyt"
      },
      "source": [
        "### **Else in Loops**"
      ]
    },
    {
      "cell_type": "code",
      "execution_count": null,
      "metadata": {
        "colab": {
          "base_uri": "https://localhost:8080/",
          "height": 0
        },
        "id": "Roe42WeaYxD1",
        "outputId": "06ece50a-49c8-4ede-bd1b-eb073581d1d1"
      },
      "outputs": [],
      "source": [
        "# IF ELSE\n",
        "\n",
        "value = 5\n",
        "\n",
        "if value>6:\n",
        "  print(\"Value more than 6: \", value)\n",
        "else:\n",
        "  print(\"Value less than 6: \", value)"
      ]
    },
    {
      "cell_type": "code",
      "execution_count": null,
      "metadata": {
        "colab": {
          "base_uri": "https://localhost:8080/",
          "height": 0
        },
        "id": "r0LGGEohbBuk",
        "outputId": "0cbcd17b-7056-4377-ef77-e5e425ea8e67"
      },
      "outputs": [],
      "source": [
        "# else in for loops\n",
        "\n",
        "l = [10,20,30,40,50,60]\n",
        "\n",
        "total_value = 0\n",
        "for value in l:\n",
        "  total_value += value\n",
        "  print(\"curr_total_value: \", total_value)\n",
        "else:\n",
        "  print(\"In Else Block of for loop\")\n",
        "\n",
        "print(\"Outside For loop\")"
      ]
    },
    {
      "cell_type": "code",
      "execution_count": null,
      "metadata": {
        "colab": {
          "base_uri": "https://localhost:8080/",
          "height": 0
        },
        "id": "BTD5sRkqbuko",
        "outputId": "031d9154-7bd7-4721-c1fc-b03f67e4f5ac"
      },
      "outputs": [],
      "source": [
        "l = [10,20,30,40,50,60]\n",
        "\n",
        "for value in l:\n",
        "  print(\"curr_value: \", value)\n",
        "  if value == 45:\n",
        "    break\n",
        "else:\n",
        "  print(\"In Else Block of for loop\")\n",
        "\n",
        "print(\"Outside For loop\")"
      ]
    },
    {
      "cell_type": "code",
      "execution_count": null,
      "metadata": {
        "colab": {
          "base_uri": "https://localhost:8080/",
          "height": 0
        },
        "id": "LRMcprzUcBdX",
        "outputId": "825a41c6-0bfa-4981-b263-2c8058903971"
      },
      "outputs": [],
      "source": [
        "l = [10,20,30,45,50,60]\n",
        "\n",
        "for value in l:\n",
        "  print(\"curr_value: \", value)\n",
        "  if value == 45:\n",
        "    break\n",
        "else:\n",
        "  print(\"In Else Block of for loop\")\n",
        "\n",
        "print(\"Outside For loop\")"
      ]
    },
    {
      "cell_type": "code",
      "execution_count": null,
      "metadata": {
        "colab": {
          "base_uri": "https://localhost:8080/",
          "height": 0
        },
        "id": "OuPZEt1AcaLJ",
        "outputId": "41f0b4f6-2e7f-4fcd-ad8c-c84b25973235"
      },
      "outputs": [],
      "source": [
        "l = [10,20,30,45,50,60]\n",
        "\n",
        "for value in l:\n",
        "  print(\"curr_value: \", value)\n",
        "  if value == 60:\n",
        "    break\n",
        "else:\n",
        "  print(\"In Else Block of for loop\")\n",
        "\n",
        "print(\"Outside For loop\")"
      ]
    },
    {
      "cell_type": "markdown",
      "metadata": {
        "id": "XafJ2Jz9dQXD"
      },
      "source": [
        "**Understanding else in for loop**\n",
        "\n",
        "1. if there is a break in a for loop, then else block of for loop will not be executed.\n",
        "\n",
        "2. if there is no break in a for loop, then else block of for loop will be executed."
      ]
    },
    {
      "cell_type": "code",
      "execution_count": null,
      "metadata": {
        "colab": {
          "base_uri": "https://localhost:8080/",
          "height": 0
        },
        "id": "eTtt20mOcsZ-",
        "outputId": "461173b7-0e58-48ba-f50d-57ee12aa4558"
      },
      "outputs": [],
      "source": [
        "rcb_main_5 = [\"virat\", \"faf\", \"maxi\", \"dhoni\", \"rohit\"]\n",
        "\n",
        "for player in rcb_main_5:\n",
        "  print(\"curr_player: \", player)\n",
        "  if player == \"abd\":\n",
        "    break\n",
        "else:\n",
        "  print(\"In Else Block of for loop\")\n",
        "print(\"Outside For loop\")"
      ]
    },
    {
      "cell_type": "code",
      "execution_count": null,
      "metadata": {
        "colab": {
          "base_uri": "https://localhost:8080/",
          "height": 0
        },
        "id": "nn71_Zpedi5q",
        "outputId": "d8861df5-3863-4a7f-fee7-77c32513bbf0"
      },
      "outputs": [],
      "source": [
        "rcb_main_5 = [\"virat\", \"faf\", \"maxi\", \"dhoni\", \"rohit\"]\n",
        "\n",
        "for player in rcb_main_5:\n",
        "  print(\"curr_player: \",player)\n",
        "  if player == \"faf\":\n",
        "    print(\"inside break\")\n",
        "    break\n",
        "else:\n",
        "  print(\"In Else Block of for loop\")\n",
        "print(\"Outside For loop\")"
      ]
    },
    {
      "cell_type": "code",
      "execution_count": null,
      "metadata": {
        "colab": {
          "base_uri": "https://localhost:8080/",
          "height": 0
        },
        "id": "5nPfWkUweRz0",
        "outputId": "860dcf92-ec8d-4807-f4f2-4cff66a7a05f"
      },
      "outputs": [],
      "source": [
        "l = [[1,2,3,4], [6,7,9,11]]\n",
        "\n",
        "for curr_list in l:\n",
        "  for value in curr_list:\n",
        "    if value == 5:\n",
        "      break\n",
        "  else:\n",
        "    print(\"In else block of inner for loop\")\n",
        "else:\n",
        "  print(\"In else block of outer for loop\")\n",
        "print(\"Outside complete for loop\")"
      ]
    },
    {
      "cell_type": "markdown",
      "metadata": {
        "id": "f9WoQvKNfpd3"
      },
      "source": [
        "### **While loop - else**"
      ]
    },
    {
      "cell_type": "code",
      "execution_count": null,
      "metadata": {
        "colab": {
          "base_uri": "https://localhost:8080/",
          "height": 0
        },
        "id": "_9U9TrDNfo14",
        "outputId": "ba8d58c6-4050-43e3-d08d-09d8ef527d5f"
      },
      "outputs": [],
      "source": [
        "i = 0\n",
        "n = 10\n",
        "\n",
        "while i<n:\n",
        "  print(\"value i : \", i)\n",
        "  if i==7:\n",
        "    break\n",
        "  i+=1\n",
        "else:\n",
        "  print(\"This is while loop else\")\n",
        "print(\"Outside while loop\")"
      ]
    },
    {
      "cell_type": "code",
      "execution_count": null,
      "metadata": {
        "colab": {
          "base_uri": "https://localhost:8080/",
          "height": 0
        },
        "id": "xIrGI-4jf9G-",
        "outputId": "6c985c73-bb79-41ee-d549-f692df0c6d9c"
      },
      "outputs": [],
      "source": [
        "i = 0\n",
        "n = 10\n",
        "\n",
        "while i<n:\n",
        "  print(\"value i : \", i)\n",
        "  if i==7:\n",
        "    print(\"Venky\")\n",
        "  i+=1\n",
        "else:\n",
        "  print(\"This is while loop else\")\n",
        "print(\"Outside while loop\")"
      ]
    },
    {
      "cell_type": "code",
      "execution_count": null,
      "metadata": {
        "id": "d9TAoQpLg6dB"
      },
      "outputs": [],
      "source": []
    }
  ],
  "metadata": {
    "colab": {
      "provenance": []
    },
    "kernelspec": {
      "display_name": "Python 3",
      "name": "python3"
    },
    "language_info": {
      "name": "python",
      "version": "3.12.4"
    }
  },
  "nbformat": 4,
  "nbformat_minor": 0
}
