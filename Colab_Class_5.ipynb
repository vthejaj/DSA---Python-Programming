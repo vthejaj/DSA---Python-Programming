{
  "cells": [
    {
      "cell_type": "markdown",
      "metadata": {
        "id": "Cab8XhKCxBM0"
      },
      "source": [
        "**Operators**"
      ]
    },
    {
      "cell_type": "markdown",
      "metadata": {
        "id": "FGu78gpz1NgZ"
      },
      "source": [
        "**Assignment Operators**"
      ]
    },
    {
      "cell_type": "code",
      "execution_count": null,
      "metadata": {
        "colab": {
          "base_uri": "https://localhost:8080/"
        },
        "id": "nNGkVak5xrJ7",
        "outputId": "ce6de5fe-4440-46a8-fb40-c8d435cfb673"
      },
      "outputs": [],
      "source": [
        "a = 10\n",
        "\n",
        "print(a)"
      ]
    },
    {
      "cell_type": "code",
      "execution_count": null,
      "metadata": {
        "colab": {
          "base_uri": "https://localhost:8080/"
        },
        "id": "ryTOfb881UAF",
        "outputId": "edadc4f1-69f4-4159-bee3-899dcd8d62ce"
      },
      "outputs": [],
      "source": [
        "b = 5\n",
        "\n",
        "a = b\n",
        "\n",
        "print(a)"
      ]
    },
    {
      "cell_type": "code",
      "execution_count": null,
      "metadata": {
        "colab": {
          "base_uri": "https://localhost:8080/"
        },
        "id": "dOPIuu_w1b18",
        "outputId": "fb8709bf-c4c5-42c8-fd2e-d85ed349f80a"
      },
      "outputs": [],
      "source": [
        "c = 10\n",
        "\n",
        "c += 12 # c = c+12\n",
        "\n",
        "print(c)"
      ]
    },
    {
      "cell_type": "code",
      "execution_count": null,
      "metadata": {
        "colab": {
          "base_uri": "https://localhost:8080/"
        },
        "id": "25OPJTDv1mET",
        "outputId": "ddc669e0-9d50-41de-cd2c-1dfeb969a8f3"
      },
      "outputs": [],
      "source": [
        "d = 20\n",
        "\n",
        "d -= 7 # d = d-7\n",
        "\n",
        "print(d)"
      ]
    },
    {
      "cell_type": "code",
      "execution_count": null,
      "metadata": {
        "colab": {
          "base_uri": "https://localhost:8080/"
        },
        "id": "kugQjGa-1vYL",
        "outputId": "cee6de78-fc4c-4bd8-a998-ffefb9ddfe6a"
      },
      "outputs": [],
      "source": [
        "e = 100\n",
        "\n",
        "e *= 2 # e = e*2 , 100*2 = 200\n",
        "print(e)\n",
        "\n",
        "e /= 5 # e = e/5, 200/5 = 40.0\n",
        "\n",
        "print(e)"
      ]
    },
    {
      "cell_type": "code",
      "execution_count": null,
      "metadata": {
        "colab": {
          "base_uri": "https://localhost:8080/"
        },
        "id": "jTy1tmpk2AnO",
        "outputId": "189fbd6a-9527-49ce-f172-fe0a8b74c77e"
      },
      "outputs": [],
      "source": [
        "f = 14\n",
        "\n",
        "f %= 5 # f = f%5\n",
        "\n",
        "print(f)"
      ]
    },
    {
      "cell_type": "code",
      "execution_count": null,
      "metadata": {
        "colab": {
          "base_uri": "https://localhost:8080/"
        },
        "id": "vHkO_zhV2Kzr",
        "outputId": "7cdb1ee7-799f-4b46-b4b5-f6713d480d68"
      },
      "outputs": [],
      "source": [
        "g = 12\n",
        "g //= 5\n",
        "\n",
        "print(g)"
      ]
    },
    {
      "cell_type": "markdown",
      "metadata": {
        "id": "NE949lAY4kBP"
      },
      "source": [
        "**Bitwise Operators**"
      ]
    },
    {
      "cell_type": "code",
      "execution_count": null,
      "metadata": {
        "colab": {
          "base_uri": "https://localhost:8080/"
        },
        "id": "zNlEA9ij4mOJ",
        "outputId": "c4911735-3113-41c3-ce51-7682e771be59"
      },
      "outputs": [],
      "source": [
        "14 & 21"
      ]
    },
    {
      "cell_type": "code",
      "execution_count": null,
      "metadata": {
        "colab": {
          "base_uri": "https://localhost:8080/",
          "height": 36
        },
        "id": "sUXRoCTJ4wTZ",
        "outputId": "15015010-4ef9-498e-f4ca-078ed8b10efc"
      },
      "outputs": [],
      "source": [
        "bin(14)"
      ]
    },
    {
      "cell_type": "code",
      "execution_count": null,
      "metadata": {
        "colab": {
          "base_uri": "https://localhost:8080/",
          "height": 36
        },
        "id": "3FRQmeek4xog",
        "outputId": "fe4d0dd3-8bc9-4990-dca7-3e2ed9e780a5"
      },
      "outputs": [],
      "source": [
        "bin(21)"
      ]
    },
    {
      "cell_type": "code",
      "execution_count": null,
      "metadata": {
        "colab": {
          "base_uri": "https://localhost:8080/"
        },
        "id": "uQYics6c5xgW",
        "outputId": "b702eab9-bc58-45af-f291-20e74fd3e188"
      },
      "outputs": [],
      "source": [
        "14 | 21"
      ]
    },
    {
      "cell_type": "code",
      "execution_count": null,
      "metadata": {
        "colab": {
          "base_uri": "https://localhost:8080/"
        },
        "id": "45e6HAgJ6m4L",
        "outputId": "d3696f96-fc60-456f-e38a-caedb9bb2dd1"
      },
      "outputs": [],
      "source": [
        "14 ^ 21"
      ]
    },
    {
      "cell_type": "code",
      "execution_count": null,
      "metadata": {
        "colab": {
          "base_uri": "https://localhost:8080/"
        },
        "id": "5ZVKX5PS7YoG",
        "outputId": "e0fa7d8e-de87-4226-c411-6738af9361e9"
      },
      "outputs": [],
      "source": [
        "~13"
      ]
    },
    {
      "cell_type": "code",
      "execution_count": null,
      "metadata": {
        "colab": {
          "base_uri": "https://localhost:8080/"
        },
        "id": "m-LnNPW69lGE",
        "outputId": "5f18bf4b-47bc-4b86-e245-f5a730cf4644"
      },
      "outputs": [],
      "source": [
        "~105"
      ]
    },
    {
      "cell_type": "code",
      "execution_count": null,
      "metadata": {
        "colab": {
          "base_uri": "https://localhost:8080/"
        },
        "id": "QkthdtZf95OT",
        "outputId": "44640e06-8afa-4add-ce05-7952089bce81"
      },
      "outputs": [],
      "source": [
        "~-14"
      ]
    },
    {
      "cell_type": "code",
      "execution_count": null,
      "metadata": {
        "colab": {
          "base_uri": "https://localhost:8080/"
        },
        "id": "nZ2dkHtx974F",
        "outputId": "46c3f3ef-9803-4bce-896e-34621524bae4"
      },
      "outputs": [],
      "source": [
        "~-1156"
      ]
    },
    {
      "cell_type": "code",
      "execution_count": null,
      "metadata": {
        "colab": {
          "base_uri": "https://localhost:8080/"
        },
        "id": "pSqsEa2t-7Ph",
        "outputId": "a1e25aa2-3bee-45fc-e853-305f3ff064b6"
      },
      "outputs": [],
      "source": [
        "~0"
      ]
    },
    {
      "cell_type": "markdown",
      "metadata": {
        "id": "Qu41To09Bk4c"
      },
      "source": [
        "**Left Shift (<<)** & **Right Shift(>>)**"
      ]
    },
    {
      "cell_type": "code",
      "execution_count": null,
      "metadata": {
        "colab": {
          "base_uri": "https://localhost:8080/"
        },
        "id": "7JMQ_ep3BtAY",
        "outputId": "2f736308-e29f-444b-aedf-f19dc6f385a9"
      },
      "outputs": [],
      "source": [
        "print(10<<2)\n",
        "print(10>>2)"
      ]
    },
    {
      "cell_type": "code",
      "execution_count": null,
      "metadata": {
        "colab": {
          "base_uri": "https://localhost:8080/"
        },
        "id": "MvcW16lbC57v",
        "outputId": "68c01a9c-69e6-4925-919a-6a9d372df039"
      },
      "outputs": [],
      "source": [
        "print(120<<1)\n",
        "print(120<<2)\n",
        "print(120<<3)\n",
        "print(120<<4)"
      ]
    },
    {
      "cell_type": "code",
      "execution_count": null,
      "metadata": {
        "colab": {
          "base_uri": "https://localhost:8080/"
        },
        "id": "bqkdVDuqFr5G",
        "outputId": "841291af-27f8-40bf-c951-3a6bbe7bc912"
      },
      "outputs": [],
      "source": [
        "print(-120<<1)\n",
        "print(-120<<2)\n",
        "print(-120<<3)\n",
        "print(-120<<4)"
      ]
    },
    {
      "cell_type": "code",
      "execution_count": null,
      "metadata": {
        "colab": {
          "base_uri": "https://localhost:8080/"
        },
        "id": "V_QNaq48DY8i",
        "outputId": "a060fac4-4999-47b8-d454-07628fd37210"
      },
      "outputs": [],
      "source": [
        "print(120>>1)\n",
        "print(120>>2)\n",
        "print(120>>3)\n",
        "print(120>>4)"
      ]
    },
    {
      "cell_type": "code",
      "execution_count": null,
      "metadata": {
        "colab": {
          "base_uri": "https://localhost:8080/"
        },
        "id": "2NUUswOpFdWB",
        "outputId": "d6dd1a6b-bbe5-4ba4-9e49-1e9dc87c94e6"
      },
      "outputs": [],
      "source": [
        "print(-120>>1)\n",
        "print(-120>>2)\n",
        "print(-120>>3)\n",
        "print(-120>>4)"
      ]
    },
    {
      "cell_type": "code",
      "execution_count": null,
      "metadata": {
        "colab": {
          "base_uri": "https://localhost:8080/"
        },
        "id": "eJ1XVL0CDlqZ",
        "outputId": "f9349582-33f0-4374-f73f-414d8265d186"
      },
      "outputs": [],
      "source": [
        "120//(2**4)"
      ]
    },
    {
      "cell_type": "markdown",
      "metadata": {
        "id": "nK5_Ez-QF5Id"
      },
      "source": [
        "**Membership Operators**\n",
        "\n",
        "\"in\" & \"not in\""
      ]
    },
    {
      "cell_type": "code",
      "execution_count": null,
      "metadata": {
        "colab": {
          "base_uri": "https://localhost:8080/"
        },
        "id": "5GyjZIvbGC-Y",
        "outputId": "ce13f654-9d96-4e75-b478-83c2da559491"
      },
      "outputs": [],
      "source": [
        "players = [\"Kohli\", \"Ponting\", \"Clarke\"]\n",
        "\n",
        "print(\"Kohli\" in players)\n",
        "print(\"kohli\" in players)"
      ]
    },
    {
      "cell_type": "code",
      "execution_count": null,
      "metadata": {
        "colab": {
          "base_uri": "https://localhost:8080/"
        },
        "id": "HqWcCTm6GYEL",
        "outputId": "90b510ef-6545-4737-c619-ec5430b3f58a"
      },
      "outputs": [],
      "source": [
        "\"Rohit\" not in players"
      ]
    },
    {
      "cell_type": "code",
      "execution_count": null,
      "metadata": {
        "colab": {
          "base_uri": "https://localhost:8080/"
        },
        "id": "n-ZAeXKcGhmA",
        "outputId": "7513d23b-b9a7-4d10-c746-556e03a29ab9"
      },
      "outputs": [],
      "source": [
        "\"Kohli\" not in players"
      ]
    },
    {
      "cell_type": "code",
      "execution_count": null,
      "metadata": {
        "colab": {
          "base_uri": "https://localhost:8080/"
        },
        "id": "8Y9PlgrsGqr3",
        "outputId": "52cc8993-1876-4c97-8e24-30603239fd48"
      },
      "outputs": [],
      "source": [
        "k = set((6,2,3,5))\n",
        "print(k)\n",
        "2 in k"
      ]
    },
    {
      "cell_type": "code",
      "execution_count": null,
      "metadata": {
        "colab": {
          "base_uri": "https://localhost:8080/"
        },
        "id": "-_BC-Zz1Gwtq",
        "outputId": "3242d341-d544-42b6-a79e-3da2ee4d0dc0"
      },
      "outputs": [],
      "source": [
        "\"2\" in k"
      ]
    },
    {
      "cell_type": "code",
      "execution_count": null,
      "metadata": {
        "colab": {
          "base_uri": "https://localhost:8080/"
        },
        "id": "Zb1aP-VcG2TY",
        "outputId": "8fcef86f-d05f-486c-e80a-73d922d3e987"
      },
      "outputs": [],
      "source": [
        "2.0 in k"
      ]
    },
    {
      "cell_type": "code",
      "execution_count": null,
      "metadata": {
        "colab": {
          "base_uri": "https://localhost:8080/"
        },
        "id": "VyYJ4L9pG8j-",
        "outputId": "63d0e23b-f9da-4a28-c11d-a4b8e55a8521"
      },
      "outputs": [],
      "source": [
        "True in k"
      ]
    },
    {
      "cell_type": "code",
      "execution_count": null,
      "metadata": {
        "colab": {
          "base_uri": "https://localhost:8080/"
        },
        "id": "IZ0Gqk4pHQKq",
        "outputId": "f568e75e-dd17-4bf2-f4f9-c1878df3d6d2"
      },
      "outputs": [],
      "source": [
        "k = set()\n",
        "\n",
        "True in k"
      ]
    },
    {
      "cell_type": "code",
      "execution_count": null,
      "metadata": {
        "colab": {
          "base_uri": "https://localhost:8080/"
        },
        "id": "gkLDn7b6HbMm",
        "outputId": "4983b085-753e-445a-88b8-92279bead340"
      },
      "outputs": [],
      "source": [
        "statement = \"Virat is best ODI    player in this era\"\n",
        "\n",
        "\"   player\" in statement"
      ]
    },
    {
      "cell_type": "markdown",
      "metadata": {
        "id": "gPmQkqfZH-Vj"
      },
      "source": [
        "**Identity Operators**\n",
        "\n",
        "\"is\" & \"is not\""
      ]
    },
    {
      "cell_type": "code",
      "execution_count": null,
      "metadata": {
        "colab": {
          "base_uri": "https://localhost:8080/"
        },
        "id": "-oObyFtjH9pq",
        "outputId": "9c55e619-af2a-45b6-a709-41c94509c4b4"
      },
      "outputs": [],
      "source": [
        "l1 = [1,2,3,4,5]\n",
        "l2 = [1,2,3,4,5]\n",
        "\n",
        "print(id(l1))\n",
        "print(id(l2))\n",
        "\n",
        "l3 = l1\n",
        "print(id(l3))\n",
        "\n",
        "print(l2 is l1)\n",
        "print(l3 is l1)\n",
        "print(l1 is l3)\n",
        "print(l2 is not l1)\n",
        "print(l1 is not l2)"
      ]
    },
    {
      "cell_type": "code",
      "execution_count": null,
      "metadata": {
        "colab": {
          "base_uri": "https://localhost:8080/"
        },
        "id": "LtVC9mI1JcYH",
        "outputId": "9f2db138-40fa-4831-e6da-acc096a751f3"
      },
      "outputs": [],
      "source": [
        "l1 = (1,2,3,4,5)\n",
        "l2 = (1,2,3,4,5)\n",
        "\n",
        "print(id(l1))\n",
        "print(id(l2))\n",
        "\n",
        "l3 = l1\n",
        "print(id(l3))\n",
        "\n",
        "print(l2 is l1)\n",
        "print(l3 is l1)\n",
        "print(l1 is l3)\n",
        "print(l2 is not l1)\n",
        "print(l1 is not l2)"
      ]
    },
    {
      "cell_type": "code",
      "execution_count": null,
      "metadata": {
        "colab": {
          "base_uri": "https://localhost:8080/"
        },
        "id": "2sB-nutYIwEt",
        "outputId": "d333a1fa-3d4a-4a44-b911-39dd1b8c260f"
      },
      "outputs": [],
      "source": [
        "print(l1 is not l3)"
      ]
    },
    {
      "cell_type": "code",
      "execution_count": null,
      "metadata": {
        "colab": {
          "base_uri": "https://localhost:8080/"
        },
        "id": "5o7qKuxEI1FF",
        "outputId": "50cb6dfb-5e78-48d6-d1a7-92394dbb596b"
      },
      "outputs": [],
      "source": [
        "a = 1200\n",
        "b = 1200\n",
        "print(id(a))\n",
        "print(id(b))\n",
        "print(a is b)\n",
        "print(b is a)"
      ]
    },
    {
      "cell_type": "markdown",
      "metadata": {
        "id": "l6bGpVQNJpPt"
      },
      "source": [
        "**Operator Precedence**"
      ]
    },
    {
      "cell_type": "code",
      "execution_count": null,
      "metadata": {
        "colab": {
          "base_uri": "https://localhost:8080/"
        },
        "id": "a7zwlXgnJodU",
        "outputId": "cfd97de7-9461-453d-d054-cb4fe7860dd1"
      },
      "outputs": [],
      "source": [
        "5+12*7/2-10"
      ]
    },
    {
      "cell_type": "code",
      "execution_count": null,
      "metadata": {
        "id": "RID_-lmnL4JP"
      },
      "outputs": [],
      "source": [
        "~-2"
      ]
    }
  ],
  "metadata": {
    "colab": {
      "provenance": []
    },
    "kernelspec": {
      "display_name": "Python 3",
      "name": "python3"
    },
    "language_info": {
      "name": "python",
      "version": "3.12.4"
    }
  },
  "nbformat": 4,
  "nbformat_minor": 0
}
