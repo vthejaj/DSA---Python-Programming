{
  "cells": [
    {
      "cell_type": "markdown",
      "metadata": {
        "id": "mIxYtvK9enOr"
      },
      "source": [
        "### **Datatypes**"
      ]
    },
    {
      "cell_type": "markdown",
      "metadata": {
        "id": "QTzDhO7heqXn"
      },
      "source": [
        "**Range**"
      ]
    },
    {
      "cell_type": "code",
      "execution_count": null,
      "metadata": {
        "colab": {
          "base_uri": "https://localhost:8080/"
        },
        "id": "v2yNeo3ofF31",
        "outputId": "210b4c93-7a9d-40be-9972-a9d6943c89f8"
      },
      "outputs": [],
      "source": [
        "range_val = range(5)\n",
        "print(range_val)\n",
        "print(type(range_val))\n",
        "print(id(range_val))"
      ]
    },
    {
      "cell_type": "code",
      "execution_count": null,
      "metadata": {
        "colab": {
          "base_uri": "https://localhost:8080/"
        },
        "id": "gkHQ-HCGiQbD",
        "outputId": "7070c53f-73fb-490c-f6f5-33091a29fdc1"
      },
      "outputs": [],
      "source": [
        "list(range_val)"
      ]
    },
    {
      "cell_type": "code",
      "execution_count": null,
      "metadata": {
        "colab": {
          "base_uri": "https://localhost:8080/"
        },
        "id": "2bqOL7mAih9G",
        "outputId": "f14e49c7-b6a6-44e6-8e9e-e9ca07d1b1e0"
      },
      "outputs": [],
      "source": [
        "range_val2 = range(10,15)\n",
        "print(list(range_val2))"
      ]
    },
    {
      "cell_type": "code",
      "execution_count": null,
      "metadata": {
        "colab": {
          "base_uri": "https://localhost:8080/"
        },
        "id": "HhDvS8kWipUJ",
        "outputId": "19cf48f4-d7ef-46ba-98d6-01137062596b"
      },
      "outputs": [],
      "source": [
        "range_val3 = range(10,29,3)\n",
        "print(list(range_val3))\n"
      ]
    },
    {
      "cell_type": "code",
      "execution_count": null,
      "metadata": {
        "colab": {
          "base_uri": "https://localhost:8080/"
        },
        "id": "J757NawDjeS-",
        "outputId": "4c4e9690-a5ea-4cd8-ef41-4050bd4943ab"
      },
      "outputs": [],
      "source": [
        "range_val4 = range(-5)\n",
        "print(list(range_val4))"
      ]
    },
    {
      "cell_type": "code",
      "execution_count": null,
      "metadata": {
        "colab": {
          "base_uri": "https://localhost:8080/"
        },
        "id": "g_DqsLDYj7_r",
        "outputId": "061b1af4-99bd-48e2-a5a6-3e5a5bf877ec"
      },
      "outputs": [],
      "source": [
        "range_val5 = range(-5,0)\n",
        "print(list(range_val5))"
      ]
    },
    {
      "cell_type": "code",
      "execution_count": null,
      "metadata": {
        "colab": {
          "base_uri": "https://localhost:8080/"
        },
        "id": "1rJZ_Hjmkfka",
        "outputId": "8bfc1cca-8a3c-4f09-d12b-bae46ccae1ed"
      },
      "outputs": [],
      "source": [
        "range_val6 = range(0,-5,-1)\n",
        "print(list(range_val6))"
      ]
    },
    {
      "cell_type": "code",
      "execution_count": null,
      "metadata": {
        "colab": {
          "base_uri": "https://localhost:8080/",
          "height": 162
        },
        "id": "sqq7L7zQkq4T",
        "outputId": "031fa79e-87ee-4252-bdb0-b355bbc1ad76"
      },
      "outputs": [],
      "source": [
        "range_val7 = range(0,5,2.5)\n",
        "print(list(range_val7))"
      ]
    },
    {
      "cell_type": "markdown",
      "metadata": {
        "id": "OBDs2DoalHYu"
      },
      "source": [
        "**Sets**"
      ]
    },
    {
      "cell_type": "code",
      "execution_count": null,
      "metadata": {
        "colab": {
          "base_uri": "https://localhost:8080/"
        },
        "id": "w4VAkiKKlJdS",
        "outputId": "481bbfaa-b9eb-4af4-ead3-946197f906a5"
      },
      "outputs": [],
      "source": [
        "set_1 = {1,2,3,4,5}\n",
        "print(set_1)\n",
        "print(type(set_1))"
      ]
    },
    {
      "cell_type": "code",
      "execution_count": null,
      "metadata": {
        "colab": {
          "base_uri": "https://localhost:8080/"
        },
        "id": "uT75MNzUl7JV",
        "outputId": "ad6b5c7a-6ad4-4ca9-95e4-c44f878482a6"
      },
      "outputs": [],
      "source": [
        "set_2 = set((1,2,3,4,5))\n",
        "print(set_2)\n",
        "print(type(set_2))"
      ]
    },
    {
      "cell_type": "code",
      "execution_count": null,
      "metadata": {
        "colab": {
          "base_uri": "https://localhost:8080/"
        },
        "id": "Ubu2MljkmHnl",
        "outputId": "5128dca1-8f7b-4795-99d8-0e09b8b93625"
      },
      "outputs": [],
      "source": [
        "# set is unordered, so indexing is not applicable\n",
        "set_3 = {1,4,2,2.0,2.5,3.7,3,\"Virat\", \"Rajini\", \"RBR\"}\n",
        "print(set_3)"
      ]
    },
    {
      "cell_type": "code",
      "execution_count": null,
      "metadata": {
        "colab": {
          "base_uri": "https://localhost:8080/"
        },
        "id": "0BP2sLRVm5zd",
        "outputId": "36587789-2524-4816-dac3-0528442f3980"
      },
      "outputs": [],
      "source": [
        "2==2.0"
      ]
    },
    {
      "cell_type": "code",
      "execution_count": null,
      "metadata": {
        "colab": {
          "base_uri": "https://localhost:8080/"
        },
        "id": "3PTpDglGnC_S",
        "outputId": "0815e5ef-c0cb-447d-dd73-c0c557543fa3"
      },
      "outputs": [],
      "source": [
        "# set will contain unique values only\n",
        "\n",
        "set_3.add(\"Rohit\")\n",
        "print(set_3)"
      ]
    },
    {
      "cell_type": "code",
      "execution_count": null,
      "metadata": {
        "colab": {
          "base_uri": "https://localhost:8080/"
        },
        "id": "1sEgqpHznwxb",
        "outputId": "d9d5fa47-f20a-46bf-8509-8a2bb9dc79e7"
      },
      "outputs": [],
      "source": [
        "set_3.add(\"RBR\")\n",
        "print(set_3)"
      ]
    },
    {
      "cell_type": "code",
      "execution_count": null,
      "metadata": {
        "colab": {
          "base_uri": "https://localhost:8080/",
          "height": 144
        },
        "id": "4ioRRmC3mnQ2",
        "outputId": "4890c152-465e-4044-fa69-d8394f7b1b94"
      },
      "outputs": [],
      "source": [
        "# cannot use indexing\n",
        "set_3[0]"
      ]
    },
    {
      "cell_type": "code",
      "execution_count": null,
      "metadata": {
        "colab": {
          "base_uri": "https://localhost:8080/"
        },
        "id": "pTEuEtHEnZJ_",
        "outputId": "f979c211-7443-40d7-bbe5-a14e71b230d4"
      },
      "outputs": [],
      "source": [
        "# set is unordered, so indexing is not applicable\n",
        "set_4 = {1,4,2.0,2,2.5,3.7,3,\"Virat\", \"Rajini\", \"RBR\"}\n",
        "print(set_4)"
      ]
    },
    {
      "cell_type": "code",
      "execution_count": null,
      "metadata": {
        "id": "RNCidAC2m2nI"
      },
      "outputs": [],
      "source": []
    },
    {
      "cell_type": "code",
      "execution_count": null,
      "metadata": {
        "colab": {
          "base_uri": "https://localhost:8080/"
        },
        "id": "RMAHzIZwmaI0",
        "outputId": "02c6cd9d-6ad2-4ec4-a19c-ee62d8b363a0"
      },
      "outputs": [],
      "source": [
        "l = [1,4,2,2.0,2.5,3.7,3,\"Virat\", \"Rajini\", \"RBR\"]\n",
        "l"
      ]
    },
    {
      "cell_type": "code",
      "execution_count": null,
      "metadata": {
        "colab": {
          "base_uri": "https://localhost:8080/",
          "height": 36
        },
        "id": "QD1DCvYpmn4m",
        "outputId": "12b7e102-fdd2-42bc-a331-14732c98d733"
      },
      "outputs": [],
      "source": [
        "l[-1]"
      ]
    },
    {
      "cell_type": "code",
      "execution_count": null,
      "metadata": {
        "colab": {
          "base_uri": "https://localhost:8080/",
          "height": 144
        },
        "id": "Pe3S_tiGn8KN",
        "outputId": "f0134ebf-80ad-4c1f-9f37-f4d0be18cee3"
      },
      "outputs": [],
      "source": [
        "a = false"
      ]
    },
    {
      "cell_type": "code",
      "execution_count": null,
      "metadata": {
        "colab": {
          "base_uri": "https://localhost:8080/"
        },
        "id": "uuHWHhPKoDya",
        "outputId": "abbf08eb-c5b7-475f-dc05-1aa6c179365e"
      },
      "outputs": [],
      "source": [
        "a = False\n",
        "print(type(a))\n",
        "print(a)"
      ]
    },
    {
      "cell_type": "code",
      "execution_count": null,
      "metadata": {
        "id": "1OpCDNwfoNWa"
      },
      "outputs": [],
      "source": []
    },
    {
      "cell_type": "code",
      "execution_count": null,
      "metadata": {
        "colab": {
          "base_uri": "https://localhost:8080/"
        },
        "id": "9F0cxOrYoJve",
        "outputId": "a1a1db10-659b-493a-ad4f-ce1c40d43b35"
      },
      "outputs": [],
      "source": [
        "False==0"
      ]
    },
    {
      "cell_type": "code",
      "execution_count": null,
      "metadata": {
        "colab": {
          "base_uri": "https://localhost:8080/"
        },
        "id": "zgrAwkLToPoM",
        "outputId": "f224de03-600b-4841-cfc3-225cd0dc2544"
      },
      "outputs": [],
      "source": [
        "True==1"
      ]
    },
    {
      "cell_type": "code",
      "execution_count": null,
      "metadata": {
        "colab": {
          "base_uri": "https://localhost:8080/"
        },
        "id": "urQ6I4wJoRoZ",
        "outputId": "8d78e5ec-b39a-4dda-ce8d-ae841ae8f149"
      },
      "outputs": [],
      "source": [
        "set_5 = {\"Virat\", \"123\", True,12,1.2,1.0, False, 0.5}\n",
        "print(set_5)"
      ]
    },
    {
      "cell_type": "code",
      "execution_count": null,
      "metadata": {
        "colab": {
          "base_uri": "https://localhost:8080/"
        },
        "id": "Xbu5noKlo8HU",
        "outputId": "da925ebe-8f97-4edf-c642-ecc22a47681e"
      },
      "outputs": [],
      "source": [
        "set_5.add(0)\n",
        "print(set_5)"
      ]
    },
    {
      "cell_type": "code",
      "execution_count": null,
      "metadata": {
        "colab": {
          "base_uri": "https://localhost:8080/"
        },
        "id": "LW8HN4f6pbNH",
        "outputId": "17dc057f-3a37-4e3c-b1c0-bb56b1be97b5"
      },
      "outputs": [],
      "source": [
        "l = ['A','B','VIRAT','ROHIT','RAJINI']\n",
        "l[2] = 'KOHLI'\n",
        "l"
      ]
    },
    {
      "cell_type": "code",
      "execution_count": null,
      "metadata": {
        "colab": {
          "base_uri": "https://localhost:8080/",
          "height": 180
        },
        "id": "cislWa3spxyd",
        "outputId": "a49eb2a2-1e09-4d43-99f6-440d753665d8"
      },
      "outputs": [],
      "source": [
        "s = {'A','B','VIRAT','ROHIT','RAJINI'}\n",
        "s[2] = 'KOHLI'\n",
        "s"
      ]
    },
    {
      "cell_type": "code",
      "execution_count": null,
      "metadata": {
        "colab": {
          "base_uri": "https://localhost:8080/"
        },
        "id": "VKHjoTGcppQ_",
        "outputId": "e1398a0e-3e66-4386-db99-606c66bc1aa3"
      },
      "outputs": [],
      "source": [
        "# Mutability of a set - Set is Mutable\n",
        "\n",
        "set_a = {1,2,5,9,10.2,\"Kamal\",\"Gayle\"}\n",
        "print(id(set_a))"
      ]
    },
    {
      "cell_type": "code",
      "execution_count": null,
      "metadata": {
        "colab": {
          "base_uri": "https://localhost:8080/"
        },
        "id": "5LE_3qkdqIP6",
        "outputId": "b142d04b-5c52-4d01-cd99-8d4275d8fb41"
      },
      "outputs": [],
      "source": [
        "set_a.add(\"Sachin\")\n",
        "print(set_a)\n",
        "print(id(set_a))"
      ]
    },
    {
      "cell_type": "code",
      "execution_count": null,
      "metadata": {
        "colab": {
          "base_uri": "https://localhost:8080/"
        },
        "id": "p6dKG4AarLjV",
        "outputId": "a9a56f4c-699a-426d-828e-6d892d3779c4"
      },
      "outputs": [],
      "source": [
        "set_b = {\"1\",\"2\",1,2}\n",
        "print(set_b)"
      ]
    },
    {
      "cell_type": "code",
      "execution_count": null,
      "metadata": {
        "colab": {
          "base_uri": "https://localhost:8080/",
          "height": 144
        },
        "id": "HJmKo07OrmlN",
        "outputId": "ea5a6d86-b68c-4f78-f339-ce00906a02c4"
      },
      "outputs": [],
      "source": [
        "set_b.add([\"A\",\"B\"])"
      ]
    },
    {
      "cell_type": "code",
      "execution_count": null,
      "metadata": {
        "colab": {
          "base_uri": "https://localhost:8080/"
        },
        "id": "vr2hZiyJr10S",
        "outputId": "5fdc18df-acc4-49e2-dbae-449edf7aaaf3"
      },
      "outputs": [],
      "source": [
        "set_b.add((\"A\",\"B\"))\n",
        "print(set_b)"
      ]
    },
    {
      "cell_type": "code",
      "execution_count": null,
      "metadata": {
        "colab": {
          "base_uri": "https://localhost:8080/",
          "height": 162
        },
        "id": "CZOqNJgZs-nG",
        "outputId": "b3980c78-62c7-4908-b895-6f8139b91946"
      },
      "outputs": [],
      "source": [
        "set_c = {1,2,('A','B'),{1,2,3}}\n",
        "print(set_c)"
      ]
    },
    {
      "cell_type": "code",
      "execution_count": null,
      "metadata": {
        "colab": {
          "base_uri": "https://localhost:8080/"
        },
        "id": "nhiV4pkUtSFl",
        "outputId": "13b211a8-686b-49a9-f50f-ab30f861e9b9"
      },
      "outputs": [],
      "source": [
        "l = [('A','B'),{1,2,3},[1,2],\"2\",1,1.0]\n",
        "print(l)"
      ]
    },
    {
      "cell_type": "markdown",
      "metadata": {
        "id": "oUH6X0y9vtpe"
      },
      "source": [
        "**Frozen Sets**"
      ]
    },
    {
      "cell_type": "code",
      "execution_count": null,
      "metadata": {
        "colab": {
          "base_uri": "https://localhost:8080/"
        },
        "id": "DIqybnJSvXCu",
        "outputId": "5f7aa7b3-4fb3-4396-bec3-bf4aaba7edd8"
      },
      "outputs": [],
      "source": [
        "f_set_1 = frozenset((1,2,1.0,\"KKR\",\"CSK\",\"MI\"))\n",
        "print(f_set_1)\n",
        "print(type(f_set_1))"
      ]
    },
    {
      "cell_type": "markdown",
      "metadata": {
        "id": "mgMZXYIPw8BX"
      },
      "source": [
        "**Dictionary**"
      ]
    },
    {
      "cell_type": "code",
      "execution_count": null,
      "metadata": {
        "colab": {
          "base_uri": "https://localhost:8080/"
        },
        "id": "wopojl_ow9-X",
        "outputId": "0303869c-10d9-4b9d-ce51-6aec257dead9"
      },
      "outputs": [],
      "source": [
        "rcb_batter_scores = {\"Virat\":55, \"Faf\":25, \"Green\":20, \"Maxi\":0, 7:12}\n",
        "print(rcb_batter_scores)\n",
        "print(type(rcb_batter_scores))\n",
        "print(id(rcb_batter_scores))"
      ]
    },
    {
      "cell_type": "code",
      "execution_count": null,
      "metadata": {
        "colab": {
          "base_uri": "https://localhost:8080/"
        },
        "id": "6zb9_J1Sx4IP",
        "outputId": "e9a2ede3-c337-4337-eae6-e6d16e73ae7b"
      },
      "outputs": [],
      "source": [
        "rcb_batter_scores.update({\"DK\":35})\n",
        "print(rcb_batter_scores)\n",
        "print(id(rcb_batter_scores))"
      ]
    },
    {
      "cell_type": "code",
      "execution_count": null,
      "metadata": {
        "colab": {
          "base_uri": "https://localhost:8080/",
          "height": 144
        },
        "id": "v1itH97vyw5A",
        "outputId": "e224287d-d33b-46d7-d7bb-5c13c5699499"
      },
      "outputs": [],
      "source": [
        "rcb_batter_scores['Lomrror']"
      ]
    },
    {
      "cell_type": "code",
      "execution_count": null,
      "metadata": {
        "colab": {
          "base_uri": "https://localhost:8080/"
        },
        "id": "LcdwueGlzDPS",
        "outputId": "4a1d31e4-742a-442e-adec-596a1ec47e17"
      },
      "outputs": [],
      "source": [
        "rcb_batter_scores.update({\"Virat\":100})\n",
        "print(rcb_batter_scores)\n",
        "print(id(rcb_batter_scores))"
      ]
    },
    {
      "cell_type": "code",
      "execution_count": null,
      "metadata": {
        "colab": {
          "base_uri": "https://localhost:8080/"
        },
        "id": "1qqTpLh3zX63",
        "outputId": "c926032d-83ac-4c34-f046-9b9c9ba4464c"
      },
      "outputs": [],
      "source": [
        "aus_batter_scores = {\"Warner\": 75, \"Head\": 100, \"Maxi\": 120, \"David\": 20, \"Maxi\": 70}\n",
        "print(aus_batter_scores)\n",
        "print(id(aus_batter_scores))"
      ]
    },
    {
      "cell_type": "code",
      "execution_count": null,
      "metadata": {
        "colab": {
          "base_uri": "https://localhost:8080/"
        },
        "id": "PV6ivkrx0IEr",
        "outputId": "b80ff6d4-1d02-450b-b37a-4284e26c2989"
      },
      "outputs": [],
      "source": [
        "dict_a = {\"Virat\":[56,25,26,100,85], \"Rohit\":[12,4,50,100,2]}\n",
        "print(dict_a)"
      ]
    },
    {
      "cell_type": "code",
      "execution_count": null,
      "metadata": {
        "colab": {
          "base_uri": "https://localhost:8080/"
        },
        "id": "cGOzzWe70X9u",
        "outputId": "7707411b-15f8-494e-eca1-779487ad39cc"
      },
      "outputs": [],
      "source": [
        "dict_b = {\"Virat\":(56,25,26,100,85), \"Rohit\":(12,4,50,100,2)}\n",
        "print(dict_b)"
      ]
    },
    {
      "cell_type": "code",
      "execution_count": null,
      "metadata": {
        "colab": {
          "base_uri": "https://localhost:8080/",
          "height": 162
        },
        "id": "8fZ0cElg0ixk",
        "outputId": "25fd1e83-665b-4803-b7f3-79e5a2091728"
      },
      "outputs": [],
      "source": [
        "dict_c = {{1,2}:\"str\",2:4}\n",
        "print(dict_c)"
      ]
    },
    {
      "cell_type": "code",
      "execution_count": null,
      "metadata": {
        "colab": {
          "base_uri": "https://localhost:8080/"
        },
        "id": "h7LpcjMc1MFy",
        "outputId": "f567d9d6-6dae-4ace-a509-3503389e183f"
      },
      "outputs": [],
      "source": [
        "dict_d = {(1,2):\"str\",2:4}\n",
        "print(dict_d)"
      ]
    },
    {
      "cell_type": "code",
      "execution_count": null,
      "metadata": {
        "colab": {
          "base_uri": "https://localhost:8080/",
          "height": 180
        },
        "id": "J7QkZQY61ejI",
        "outputId": "0788c2a3-85fb-4735-ce6f-10cd01a1f699"
      },
      "outputs": [],
      "source": [
        "# dictionary as a key\n",
        "dict_e = {{\"Virat\":12, \"rohit\":12}:\"Indian Players\"}\n",
        "dict_e"
      ]
    },
    {
      "cell_type": "code",
      "execution_count": null,
      "metadata": {
        "colab": {
          "base_uri": "https://localhost:8080/"
        },
        "id": "Dn5pnv-W1tNO",
        "outputId": "151b0b43-f7d4-4e05-d7be-8474d00ce68c"
      },
      "outputs": [],
      "source": [
        "# dictionary as a value\n",
        "dict_e = {\"Indian Players\": {\"Virat\":12, \"rohit\":12}}\n",
        "dict_e"
      ]
    },
    {
      "cell_type": "code",
      "execution_count": null,
      "metadata": {
        "colab": {
          "base_uri": "https://localhost:8080/"
        },
        "id": "80FTx7M410NQ",
        "outputId": "43fcc681-44fa-46b1-b9d3-d57c557f467e"
      },
      "outputs": [],
      "source": [
        "dict_e['Indian Players']"
      ]
    },
    {
      "cell_type": "code",
      "execution_count": null,
      "metadata": {
        "colab": {
          "base_uri": "https://localhost:8080/"
        },
        "id": "_NBYelDO18sl",
        "outputId": "c96c161b-35cc-4181-9dc6-d2b5b660047a"
      },
      "outputs": [],
      "source": [
        "dict_f = {frozenset((1,2)):\"Check Frozen\"}\n",
        "print(dict_f)"
      ]
    },
    {
      "cell_type": "markdown",
      "metadata": {
        "id": "DiYSFkKB2ZPc"
      },
      "source": [
        "**Boolean**"
      ]
    },
    {
      "cell_type": "code",
      "execution_count": null,
      "metadata": {
        "colab": {
          "base_uri": "https://localhost:8080/"
        },
        "id": "d3c5pSNB2a0-",
        "outputId": "264be5ca-6cb3-41de-9e55-c030e2a446c7"
      },
      "outputs": [],
      "source": [
        "print(bool(False))\n",
        "print(bool(0))\n",
        "print(bool(0.0))\n",
        "print(bool(None))"
      ]
    },
    {
      "cell_type": "code",
      "execution_count": null,
      "metadata": {
        "colab": {
          "base_uri": "https://localhost:8080/"
        },
        "id": "dOu1nf_s2qdk",
        "outputId": "a07c1d4a-5cf0-423f-e998-751bb3aebab7"
      },
      "outputs": [],
      "source": [
        "print(bool(True))\n",
        "print(bool(1))\n",
        "print(bool(1.0))\n",
        "print(bool(\"STRING1\"))\n",
        "print(bool([1,2]))\n",
        "print(bool((1,2)))"
      ]
    },
    {
      "cell_type": "code",
      "execution_count": null,
      "metadata": {
        "colab": {
          "base_uri": "https://localhost:8080/"
        },
        "id": "lgciLciM22EE",
        "outputId": "87b37b6f-ad28-4ce3-b674-652e880f622b"
      },
      "outputs": [],
      "source": [
        "bool('0')"
      ]
    },
    {
      "cell_type": "code",
      "execution_count": null,
      "metadata": {
        "colab": {
          "base_uri": "https://localhost:8080/"
        },
        "id": "mxFSJYQa27rG",
        "outputId": "e0def636-8b8d-41a4-cf33-8382d111052c"
      },
      "outputs": [],
      "source": [
        "print(bool([]))\n",
        "print(bool(()))\n",
        "print(bool({}))\n",
        "print(bool(\"\"))\n"
      ]
    },
    {
      "cell_type": "code",
      "execution_count": null,
      "metadata": {
        "colab": {
          "base_uri": "https://localhost:8080/"
        },
        "id": "wUvXCAVb3GhU",
        "outputId": "edbc7750-f85d-409f-e1c4-3c1685d31327"
      },
      "outputs": [],
      "source": [
        "print(bool(\" \"))\n",
        "print(bool(0.00000000000000000000000000000000000000000000001))"
      ]
    },
    {
      "cell_type": "code",
      "execution_count": null,
      "metadata": {
        "colab": {
          "base_uri": "https://localhost:8080/"
        },
        "id": "sYnr7Abo4GPW",
        "outputId": "e98e61d9-5383-4583-e798-2a8822b451f6"
      },
      "outputs": [],
      "source": [
        "bool(complex(0.0,0.0001))"
      ]
    },
    {
      "cell_type": "code",
      "execution_count": null,
      "metadata": {
        "colab": {
          "base_uri": "https://localhost:8080/"
        },
        "id": "paoQWKXH3axY",
        "outputId": "15ad79de-9f22-4067-854f-216c761ea146"
      },
      "outputs": [],
      "source": [
        "a = bool(False)\n",
        "b = bool(0)\n",
        "c = bool(0.0)\n",
        "d = bool([])\n",
        "e = bool(())\n",
        "\n",
        "print(id(a))\n",
        "print(id(b))\n",
        "print(id(c))\n",
        "print(id(d))\n",
        "print(id(e))"
      ]
    },
    {
      "cell_type": "markdown",
      "metadata": {
        "id": "fxwR_zry3XZ_"
      },
      "source": [
        "**None**"
      ]
    },
    {
      "cell_type": "code",
      "execution_count": null,
      "metadata": {
        "colab": {
          "base_uri": "https://localhost:8080/"
        },
        "id": "hHQw9xbD3Whq",
        "outputId": "feef67af-ba71-4fef-dee4-220b9cac3431"
      },
      "outputs": [],
      "source": [
        "a = None\n",
        "print(type(a))"
      ]
    },
    {
      "cell_type": "markdown",
      "metadata": {
        "id": "_Xgt-qSa4hm1"
      },
      "source": [
        "**User Input**"
      ]
    },
    {
      "cell_type": "code",
      "execution_count": null,
      "metadata": {
        "colab": {
          "base_uri": "https://localhost:8080/"
        },
        "id": "3nsTWrl94i89",
        "outputId": "b179e176-312b-493c-8589-cf1dc2dd2c8a"
      },
      "outputs": [],
      "source": [
        "name = input(\"Enter your name: \")\n",
        "print(name)\n",
        "print(type(name))"
      ]
    },
    {
      "cell_type": "code",
      "execution_count": null,
      "metadata": {
        "colab": {
          "base_uri": "https://localhost:8080/"
        },
        "id": "dD-8Da5842WI",
        "outputId": "ddf96898-eafa-4030-f137-d1a69aed57d7"
      },
      "outputs": [],
      "source": [
        "marks = int(input(\"Enter Your Marks: \"))\n",
        "print(marks)\n",
        "print(type(marks))"
      ]
    },
    {
      "cell_type": "code",
      "execution_count": null,
      "metadata": {
        "colab": {
          "base_uri": "https://localhost:8080/"
        },
        "id": "5xeJvW0H5B0l",
        "outputId": "5c1f6e0f-76de-431d-9464-6c69411d056a"
      },
      "outputs": [],
      "source": [
        "type(marks)"
      ]
    }
  ],
  "metadata": {
    "colab": {
      "provenance": []
    },
    "kernelspec": {
      "display_name": "Python 3",
      "name": "python3"
    },
    "language_info": {
      "name": "python",
      "version": "3.12.4"
    }
  },
  "nbformat": 4,
  "nbformat_minor": 0
}
