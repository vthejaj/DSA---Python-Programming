{
  "cells": [
    {
      "cell_type": "markdown",
      "metadata": {
        "id": "mHBRDj6xJSI6"
      },
      "source": [
        "### **Print Statement**"
      ]
    },
    {
      "cell_type": "code",
      "execution_count": null,
      "metadata": {
        "colab": {
          "base_uri": "https://localhost:8080/"
        },
        "id": "6wCRakHTJ6vw",
        "outputId": "d9c6533e-380c-4c3d-e0b1-63c07b06ab45"
      },
      "outputs": [],
      "source": [
        "print(\"Hello World\")\n",
        "print(\"Venky\")"
      ]
    },
    {
      "cell_type": "markdown",
      "metadata": {
        "id": "D5pEuk9ddv6L"
      },
      "source": [
        "Hello World Venky"
      ]
    },
    {
      "cell_type": "code",
      "execution_count": null,
      "metadata": {
        "colab": {
          "base_uri": "https://localhost:8080/"
        },
        "id": "-V8kCeJRdqdC",
        "outputId": "a4406600-1c3a-4a26-8934-2cd7c12132a5"
      },
      "outputs": [],
      "source": [
        "# use case of end\n",
        "\n",
        "print(\"Hello World\", end=\"\\n\")\n",
        "print(\"Venky\")"
      ]
    },
    {
      "cell_type": "code",
      "execution_count": null,
      "metadata": {
        "colab": {
          "base_uri": "https://localhost:8080/"
        },
        "id": "oIS5d95qfG0v",
        "outputId": "7e3aaac0-1a4d-425b-cf70-fb6081341171"
      },
      "outputs": [],
      "source": [
        "print(\"Hello World\\n\")\n",
        "print(\"Venky\")"
      ]
    },
    {
      "cell_type": "code",
      "execution_count": null,
      "metadata": {
        "colab": {
          "base_uri": "https://localhost:8080/"
        },
        "id": "iV1Lu9jfeoNk",
        "outputId": "03a262c8-45d5-408e-8e6f-f5166995203d"
      },
      "outputs": [],
      "source": [
        "# use case of sep\n",
        "\n",
        "print(\"Hello\", \"Venky\", \"Gate\", sep=\" \")"
      ]
    },
    {
      "cell_type": "code",
      "execution_count": null,
      "metadata": {
        "colab": {
          "base_uri": "https://localhost:8080/"
        },
        "id": "jY4p8Jm9fdLR",
        "outputId": "dbd0dcb3-7477-47fe-a085-d8ee5b10825f"
      },
      "outputs": [],
      "source": [
        "#print(\"Hello\", \"Venky\", \"Gate\", sep=\"\")\n",
        "#print(\"Hello\", \"Venky\", \"Gate\", sep=\"---\")\n",
        "print(\"Hello\", \"Venky\", \"Gate\", sep=\"\\n\")"
      ]
    },
    {
      "cell_type": "code",
      "execution_count": null,
      "metadata": {
        "colab": {
          "base_uri": "https://localhost:8080/"
        },
        "id": "aJ3Qd7Kaf8jM",
        "outputId": "cf9d059d-2879-4951-9aa8-068e944e9e0c"
      },
      "outputs": [],
      "source": [
        "print(\"Welcome to RBR Course\", \"This is Venky\", sep=\"++\", end=\"***\")\n",
        "print(\"Checkout to this course\", end=\"\\n\\n\")\n",
        "print(\"Python programming\")"
      ]
    },
    {
      "cell_type": "markdown",
      "metadata": {
        "id": "8A4bk99thRf3"
      },
      "source": [
        "## **Variables**"
      ]
    },
    {
      "cell_type": "code",
      "execution_count": null,
      "metadata": {
        "colab": {
          "base_uri": "https://localhost:8080/"
        },
        "id": "BYgQzBw8hUkA",
        "outputId": "c5821cc5-4223-46c3-adce-86f35aceabbe"
      },
      "outputs": [],
      "source": [
        "2+3"
      ]
    },
    {
      "cell_type": "code",
      "execution_count": null,
      "metadata": {
        "colab": {
          "base_uri": "https://localhost:8080/"
        },
        "id": "SU-z8Fn4hX_1",
        "outputId": "c0e2c341-5579-4d9f-dffc-cfd82631e9f3"
      },
      "outputs": [],
      "source": [
        "4+5"
      ]
    },
    {
      "cell_type": "code",
      "execution_count": null,
      "metadata": {
        "id": "FTl56YGwhZ1V"
      },
      "outputs": [],
      "source": [
        "# you are given a salary and u need to calculate the savings\n",
        "\n",
        "v = 100000\n",
        "\n",
        "expenditure = 10000 + 12000 + 30000\n",
        "\n",
        "\n",
        "\n"
      ]
    },
    {
      "cell_type": "code",
      "execution_count": null,
      "metadata": {
        "colab": {
          "base_uri": "https://localhost:8080/"
        },
        "id": "OmTxuPF-h5vp",
        "outputId": "1aac4c79-28d1-4347-d149-1deca71192fe"
      },
      "outputs": [],
      "source": [
        "v - 10000"
      ]
    },
    {
      "cell_type": "code",
      "execution_count": null,
      "metadata": {
        "colab": {
          "base_uri": "https://localhost:8080/"
        },
        "id": "2GBF9h9Xh71q",
        "outputId": "f45fa761-67b3-4073-fed6-e03fa194ce47"
      },
      "outputs": [],
      "source": [
        "v+12000"
      ]
    },
    {
      "cell_type": "code",
      "execution_count": null,
      "metadata": {
        "colab": {
          "base_uri": "https://localhost:8080/"
        },
        "id": "JwV0r9uIjJEK",
        "outputId": "f5776f62-7690-4f25-dac6-dd58842a2e59"
      },
      "outputs": [],
      "source": [
        "value = 100\n",
        "\n",
        "id(value)"
      ]
    },
    {
      "cell_type": "code",
      "execution_count": null,
      "metadata": {
        "colab": {
          "base_uri": "https://localhost:8080/"
        },
        "id": "77QCfehujXj8",
        "outputId": "fbed3d0f-6edf-40fd-a669-4158976d98df"
      },
      "outputs": [],
      "source": [
        "type(value)"
      ]
    },
    {
      "cell_type": "code",
      "execution_count": null,
      "metadata": {
        "colab": {
          "base_uri": "https://localhost:8080/"
        },
        "id": "vhCUxQ0jj4a4",
        "outputId": "cd17cad0-c59f-4165-adc0-458f85ac6c0b"
      },
      "outputs": [],
      "source": [
        "a = 100\n",
        "\n",
        "id(a)"
      ]
    },
    {
      "cell_type": "code",
      "execution_count": null,
      "metadata": {
        "colab": {
          "base_uri": "https://localhost:8080/"
        },
        "id": "x02D7coIkty0",
        "outputId": "6f48c6d9-45b2-4f11-920c-3a441cb931a2"
      },
      "outputs": [],
      "source": [
        "a = 100\n",
        "b = 100\n",
        "print(id(a))\n",
        "print(id(b))\n",
        "print(\"After Changing\")\n",
        "b = b+20\n",
        "print(\"b:\", b)\n",
        "print(id(a))\n",
        "print(id(b))\n",
        "a = 120\n",
        "print(id(a))"
      ]
    },
    {
      "cell_type": "code",
      "execution_count": null,
      "metadata": {
        "id": "INDu83mYlOP3"
      },
      "outputs": [],
      "source": [
        "del a"
      ]
    },
    {
      "cell_type": "code",
      "execution_count": null,
      "metadata": {
        "colab": {
          "base_uri": "https://localhost:8080/"
        },
        "id": "SrGc8PEslQ2m",
        "outputId": "118be861-501c-4baf-a691-3d72cade5f4b"
      },
      "outputs": [],
      "source": [
        "print(b)\n",
        "print(id(b))"
      ]
    },
    {
      "cell_type": "code",
      "execution_count": null,
      "metadata": {
        "colab": {
          "base_uri": "https://localhost:8080/"
        },
        "id": "MEywHlmMlsk4",
        "outputId": "ab6ed01b-0a6b-41a7-d68b-fbcf65e6cc00"
      },
      "outputs": [],
      "source": [
        "f = 12.5\n",
        "print(f)\n",
        "print(type(f))\n",
        "print(id(f))"
      ]
    },
    {
      "cell_type": "code",
      "execution_count": null,
      "metadata": {
        "id": "qdSabupimmD4"
      },
      "outputs": [],
      "source": [
        "# valid variable names\n",
        "name = \"venky\"\n",
        "age = 26\n",
        "_salary = 12000"
      ]
    },
    {
      "cell_type": "code",
      "execution_count": null,
      "metadata": {
        "id": "ELsSxWh-myPQ"
      },
      "outputs": [],
      "source": [
        "n8ame = \"venky\""
      ]
    },
    {
      "cell_type": "code",
      "execution_count": null,
      "metadata": {
        "colab": {
          "base_uri": "https://localhost:8080/"
        },
        "id": "UJ5nzh9_nOQ9",
        "outputId": "16b85d8e-0e9e-474c-fdcc-197dac125ade"
      },
      "outputs": [],
      "source": [
        "name = \"Venky\"\n",
        "Name = \"RBR\"\n",
        "NAME = \"Jay Bansal\"\n",
        "\n",
        "NAME_2 = \"Venky\"\n",
        "print(name)\n",
        "print(id(name))\n",
        "print(Name)\n",
        "print(id(Name))\n",
        "print(NAME)\n",
        "print(id(NAME))\n",
        "print(id(NAME_2))"
      ]
    },
    {
      "cell_type": "code",
      "execution_count": null,
      "metadata": {
        "colab": {
          "base_uri": "https://localhost:8080/"
        },
        "id": "_MlvmFuxoWWG",
        "outputId": "cc6393bf-81c8-4f3a-fa2d-05f5ad6ca15e"
      },
      "outputs": [],
      "source": [
        "name = \"Venky\"\n",
        "name_2 = \"VENKY\"\n",
        "\n",
        "print(id(name))\n",
        "print(id(name_2))"
      ]
    },
    {
      "cell_type": "code",
      "execution_count": null,
      "metadata": {
        "colab": {
          "base_uri": "https://localhost:8080/",
          "height": 35
        },
        "id": "bArzAQpfWE-1",
        "outputId": "7ced1076-89e4-4cc7-850c-deaaba7f01cc"
      },
      "outputs": [],
      "source": [
        "name = \"Venky\"\n",
        "\n",
        "name.removeprefix(\"Ven\")"
      ]
    },
    {
      "cell_type": "code",
      "execution_count": null,
      "metadata": {
        "colab": {
          "base_uri": "https://localhost:8080/"
        },
        "id": "GAILrGAtZdlP",
        "outputId": "a12fff28-9be4-47f4-9994-3d41499b603a"
      },
      "outputs": [],
      "source": [
        "k = 4/2\n",
        "i = 2.0\n",
        "i == k"
      ]
    },
    {
      "cell_type": "code",
      "execution_count": null,
      "metadata": {
        "colab": {
          "base_uri": "https://localhost:8080/"
        },
        "id": "MHlWeaCkaY6E",
        "outputId": "b60b8c4d-6d52-4b09-ab5f-20e842004bc1"
      },
      "outputs": [],
      "source": [
        "id(i)"
      ]
    },
    {
      "cell_type": "code",
      "execution_count": null,
      "metadata": {
        "colab": {
          "base_uri": "https://localhost:8080/"
        },
        "id": "CQ-QaA1_aaHw",
        "outputId": "25c3cede-61b4-4a5a-f0f4-cc1df4c0310f"
      },
      "outputs": [],
      "source": [
        "id(k)"
      ]
    },
    {
      "cell_type": "code",
      "execution_count": null,
      "metadata": {
        "colab": {
          "base_uri": "https://localhost:8080/"
        },
        "id": "FrhTQKhvadY8",
        "outputId": "4920fe24-7294-463e-ac49-fbbbcec7bc69"
      },
      "outputs": [],
      "source": [
        "k"
      ]
    },
    {
      "cell_type": "code",
      "execution_count": null,
      "metadata": {
        "colab": {
          "base_uri": "https://localhost:8080/"
        },
        "id": "ZuKgjt7Eaemx",
        "outputId": "cf5aa19f-a393-4776-ffd3-c90aeeabc49e"
      },
      "outputs": [],
      "source": [
        "i"
      ]
    },
    {
      "cell_type": "code",
      "execution_count": null,
      "metadata": {
        "colab": {
          "base_uri": "https://localhost:8080/"
        },
        "id": "SmKWMfG5ah5B",
        "outputId": "7bfe5a6d-3e34-4c68-b5bc-1450ef9a1c6a"
      },
      "outputs": [],
      "source": [
        "k = 4//2\n",
        "i = 2\n",
        "id(k)"
      ]
    },
    {
      "cell_type": "code",
      "execution_count": null,
      "metadata": {
        "colab": {
          "base_uri": "https://localhost:8080/"
        },
        "id": "2p9Td38WalMj",
        "outputId": "58633a77-d950-411a-c678-df164320e638"
      },
      "outputs": [],
      "source": [
        "id(i)"
      ]
    },
    {
      "cell_type": "code",
      "execution_count": null,
      "metadata": {
        "colab": {
          "base_uri": "https://localhost:8080/"
        },
        "id": "ERfc897nbuJl",
        "outputId": "e6dabe26-343f-4ec1-c180-26aef1418a78"
      },
      "outputs": [],
      "source": [
        "k = 12345\n",
        "m = 12345\n",
        "\n",
        "id(k)"
      ]
    },
    {
      "cell_type": "code",
      "execution_count": null,
      "metadata": {
        "colab": {
          "base_uri": "https://localhost:8080/"
        },
        "id": "4UZ7AaUtisMX",
        "outputId": "61ae1b53-addd-4810-f709-309f0c9836f9"
      },
      "outputs": [],
      "source": [
        "id(12)"
      ]
    },
    {
      "cell_type": "code",
      "execution_count": null,
      "metadata": {
        "colab": {
          "base_uri": "https://localhost:8080/"
        },
        "id": "MXVSpOsfi0Gg",
        "outputId": "a98ae499-08d6-4d52-8b1b-7d54f4f67fd9"
      },
      "outputs": [],
      "source": [
        "136009076605520-136009076605456"
      ]
    },
    {
      "cell_type": "code",
      "execution_count": null,
      "metadata": {
        "colab": {
          "base_uri": "https://localhost:8080/"
        },
        "id": "YPik-I9ZiumG",
        "outputId": "12e046a3-0255-4e8c-d760-89822cb69061"
      },
      "outputs": [],
      "source": [
        "id(10)"
      ]
    },
    {
      "cell_type": "code",
      "execution_count": null,
      "metadata": {
        "colab": {
          "base_uri": "https://localhost:8080/"
        },
        "id": "aCscNP2cbx5g",
        "outputId": "a361d3cf-ef9c-4fc2-ca6b-0b97af24060b"
      },
      "outputs": [],
      "source": [
        "from decimal import Decimal\n",
        "Decimal(0.1+0.2)"
      ]
    },
    {
      "cell_type": "code",
      "execution_count": null,
      "metadata": {
        "colab": {
          "base_uri": "https://localhost:8080/"
        },
        "id": "YcMFznkmrFBT",
        "outputId": "a4dc9360-6460-4fff-fdcc-d9e979ff282c"
      },
      "outputs": [],
      "source": [
        "vn  = Decimal(0.1)+Decimal(0.2)\n",
        "vn"
      ]
    },
    {
      "cell_type": "code",
      "execution_count": null,
      "metadata": {
        "colab": {
          "base_uri": "https://localhost:8080/"
        },
        "id": "XVIQh0I9uX31",
        "outputId": "8789fe1d-7f1e-484e-af0e-59a0f0264df9"
      },
      "outputs": [],
      "source": [
        "v = 0.5\n",
        "n = 0.5\n",
        "\n",
        "id(v)"
      ]
    },
    {
      "cell_type": "code",
      "execution_count": null,
      "metadata": {
        "colab": {
          "base_uri": "https://localhost:8080/"
        },
        "id": "s_0poE4Rub3Z",
        "outputId": "1ab66421-6e35-4dbb-f755-901b3576b1f9"
      },
      "outputs": [],
      "source": [
        "id(n)"
      ]
    },
    {
      "cell_type": "code",
      "execution_count": null,
      "metadata": {
        "colab": {
          "base_uri": "https://localhost:8080/"
        },
        "id": "9XuAxhVPuwOD",
        "outputId": "b93ec221-56ad-48a4-aa14-e23bb292827c"
      },
      "outputs": [],
      "source": [
        "v = n\n",
        "id(v)"
      ]
    },
    {
      "cell_type": "code",
      "execution_count": null,
      "metadata": {
        "colab": {
          "base_uri": "https://localhost:8080/"
        },
        "id": "vgpYFRejuzFv",
        "outputId": "b2394b91-e574-43d6-9734-e7ae9b26016b"
      },
      "outputs": [],
      "source": [
        "id(n)"
      ]
    },
    {
      "cell_type": "code",
      "execution_count": null,
      "metadata": {
        "colab": {
          "base_uri": "https://localhost:8080/"
        },
        "id": "242fsP7Su6go",
        "outputId": "ec53beeb-0bf9-451a-fbd9-6686e15b93eb"
      },
      "outputs": [],
      "source": [
        "v = 1\n",
        "n = 1\n",
        "id(v)"
      ]
    },
    {
      "cell_type": "code",
      "execution_count": null,
      "metadata": {
        "colab": {
          "base_uri": "https://localhost:8080/",
          "height": 176
        },
        "id": "jqcXepml22eJ",
        "outputId": "276c871a-8a4f-4479-fdbb-64c06df19c28"
      },
      "outputs": [],
      "source": [
        "import decimal\n",
        "\n",
        "a = decimal.Decimal('1.1')\n",
        "b = decimal.Decimal('2.2')\n",
        "\n",
        "c = a+b\n",
        "print(c)"
      ]
    },
    {
      "cell_type": "code",
      "execution_count": null,
      "metadata": {
        "colab": {
          "base_uri": "https://localhost:8080/"
        },
        "id": "hJtXUgb8y1N_",
        "outputId": "cc62f1d7-1c75-4adf-a1d8-0736734041c3"
      },
      "outputs": [],
      "source": [
        "id(n)"
      ]
    },
    {
      "cell_type": "code",
      "execution_count": null,
      "metadata": {
        "colab": {
          "base_uri": "https://localhost:8080/"
        },
        "id": "Tb6N0zb1wiLw",
        "outputId": "e1e96add-07b4-47a4-d7ad-54b1cf429bee"
      },
      "outputs": [],
      "source": [
        "id(n)"
      ]
    },
    {
      "cell_type": "code",
      "execution_count": null,
      "metadata": {
        "colab": {
          "base_uri": "https://localhost:8080/"
        },
        "id": "4uE5xod_ufQL",
        "outputId": "c83eaf9d-d1b5-4073-99ff-75ed4c79b6a6"
      },
      "outputs": [],
      "source": [
        "Decimal(0.5)"
      ]
    },
    {
      "cell_type": "code",
      "execution_count": null,
      "metadata": {
        "colab": {
          "base_uri": "https://localhost:8080/"
        },
        "id": "DTUR9Ioh6qSe",
        "outputId": "03ba9f22-85fd-4ecb-8f1d-65ccbb392f10"
      },
      "outputs": [],
      "source": [
        "import keyword\n",
        "keyword.kwlist"
      ]
    },
    {
      "cell_type": "code",
      "execution_count": null,
      "metadata": {
        "colab": {
          "background_save": true,
          "base_uri": "https://localhost:8080/"
        },
        "id": "4idTBNW67JCm",
        "outputId": "5614b39b-c0be-4836-81c1-5590be7c4f7a"
      },
      "outputs": [],
      "source": [
        "a = None\n",
        "b = None\n",
        "\n",
        "a==b"
      ]
    },
    {
      "cell_type": "code",
      "execution_count": null,
      "metadata": {
        "colab": {
          "base_uri": "https://localhost:8080/"
        },
        "id": "P2s5rk1Q7RLn",
        "outputId": "bf8674fb-7305-47cd-ae4e-3a3cff9f7ce9"
      },
      "outputs": [],
      "source": [
        "print(type(a))\n",
        "print(type(b))"
      ]
    },
    {
      "cell_type": "code",
      "execution_count": null,
      "metadata": {
        "colab": {
          "base_uri": "https://localhost:8080/"
        },
        "id": "aRQcS7SSq3iH",
        "outputId": "d908a6bd-f0ac-401b-8297-096ac3bed4a3"
      },
      "outputs": [],
      "source": [
        "0.1"
      ]
    }
  ],
  "metadata": {
    "colab": {
      "provenance": []
    },
    "kernelspec": {
      "display_name": "Python 3",
      "name": "python3"
    },
    "language_info": {
      "name": "python",
      "version": "3.12.4"
    }
  },
  "nbformat": 4,
  "nbformat_minor": 0
}
