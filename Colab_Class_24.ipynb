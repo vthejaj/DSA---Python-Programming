{
  "nbformat": 4,
  "nbformat_minor": 0,
  "metadata": {
    "colab": {
      "provenance": []
    },
    "kernelspec": {
      "name": "python3",
      "display_name": "Python 3"
    },
    "language_info": {
      "name": "python"
    }
  },
  "cells": [
    {
      "cell_type": "markdown",
      "source": [
        "### **GATE PYQs - II**"
      ],
      "metadata": {
        "id": "YUhS2T3Dtjdx"
      }
    },
    {
      "cell_type": "code",
      "source": [
        "# GATE 2016\n",
        "\n",
        "def f(p: list, n: int)->int:\n",
        "  if n<=1:\n",
        "    return 0\n",
        "  else:\n",
        "    return max(f(p[1:], n-1), p[0]-p[1])\n",
        "\n",
        "a = [3,5,2,6,4]\n",
        "print(f(a,5))"
      ],
      "metadata": {
        "id": "RxDCdUlPwbJl"
      },
      "execution_count": null,
      "outputs": []
    },
    {
      "cell_type": "code",
      "execution_count": 1,
      "metadata": {
        "colab": {
          "base_uri": "https://localhost:8080/"
        },
        "id": "JD0snFgrtcd3",
        "outputId": "2be578de-4676-49b3-fbcb-2083bcfc1957"
      },
      "outputs": [
        {
          "output_type": "stream",
          "name": "stdout",
          "text": [
            "10000\n"
          ]
        }
      ],
      "source": [
        "a = 1000\n",
        "\n",
        "def f(x=a):\n",
        "  z = 10\n",
        "  y = x*z\n",
        "  print(y)\n",
        "\n",
        "a = 5\n",
        "\n",
        "f()"
      ]
    },
    {
      "cell_type": "code",
      "source": [
        "# GATE 2015\n",
        "\n",
        "x = 10\n",
        "\n",
        "def f1():\n",
        "  x = 25\n",
        "  x += 1\n",
        "  return x\n",
        "\n",
        "def f2():\n",
        "  x = 50\n",
        "  def inner_f2():\n",
        "    nonlocal x\n",
        "    x += 1\n",
        "    return x\n",
        "  return inner_f2\n",
        "\n",
        "def f3(y=x):\n",
        "  z = y*10\n",
        "  return z\n",
        "\n",
        "x = 1\n",
        "call_f2 = f2()\n",
        "\n",
        "x += (f1()+call_f2()+f3()+call_f2())\n",
        "print(x)"
      ],
      "metadata": {
        "colab": {
          "base_uri": "https://localhost:8080/"
        },
        "id": "BoUn5W352DnW",
        "outputId": "3fac5b3f-97ff-4750-db83-6248d89c4eb3"
      },
      "execution_count": 2,
      "outputs": [
        {
          "output_type": "stream",
          "name": "stdout",
          "text": [
            "230\n"
          ]
        }
      ]
    },
    {
      "cell_type": "code",
      "source": [
        "count = 0\n",
        "\n",
        "def get(n: int)->None:\n",
        "  global count\n",
        "  count += 1\n",
        "  if n<1:\n",
        "    return\n",
        "  get(n-1)\n",
        "  get(n-3)\n",
        "\n",
        "get(6)\n",
        "print(count)"
      ],
      "metadata": {
        "colab": {
          "base_uri": "https://localhost:8080/"
        },
        "id": "pLkEUuri3of1",
        "outputId": "a3b04d44-9ba6-46bb-f106-d74ec5529751"
      },
      "execution_count": 3,
      "outputs": [
        {
          "output_type": "stream",
          "name": "stdout",
          "text": [
            "25\n"
          ]
        }
      ]
    },
    {
      "cell_type": "code",
      "source": [
        "def fun(n: int):\n",
        "  x = 1\n",
        "  if n==1:\n",
        "    return x\n",
        "  for k in range(1,n):\n",
        "    x = x+fun(k)*fun(n-k)\n",
        "  return x\n",
        "\n",
        "fun(5)"
      ],
      "metadata": {
        "colab": {
          "base_uri": "https://localhost:8080/"
        },
        "id": "NDZF6uK96HyJ",
        "outputId": "33b94529-d0bf-4cc4-b58c-898a20af86dd"
      },
      "execution_count": 4,
      "outputs": [
        {
          "output_type": "execute_result",
          "data": {
            "text/plain": [
              "51"
            ]
          },
          "metadata": {},
          "execution_count": 4
        }
      ]
    },
    {
      "cell_type": "code",
      "source": [
        "a = \"P\"\n",
        "b = \"x\"\n",
        "\n",
        "c = ord(a and b) + ord(\"*\")\n",
        "d = ord(a or b) + ord(\"-\")\n",
        "e = ord(a)^ord(b)+ord(\"+\")\n",
        "\n",
        "print(c,d,e)"
      ],
      "metadata": {
        "colab": {
          "base_uri": "https://localhost:8080/"
        },
        "id": "gpm5WkzKHm1B",
        "outputId": "83a8af2d-2840-474a-b42b-986b386dca98"
      },
      "execution_count": 11,
      "outputs": [
        {
          "output_type": "stream",
          "name": "stdout",
          "text": [
            "162 125 243\n"
          ]
        }
      ]
    },
    {
      "cell_type": "code",
      "source": [
        "\"P\" and \"x\""
      ],
      "metadata": {
        "colab": {
          "base_uri": "https://localhost:8080/",
          "height": 36
        },
        "id": "wNfwt8P9IT-_",
        "outputId": "a94529b2-f119-4686-d46f-9ccbefc138ca"
      },
      "execution_count": 6,
      "outputs": [
        {
          "output_type": "execute_result",
          "data": {
            "text/plain": [
              "'x'"
            ],
            "application/vnd.google.colaboratory.intrinsic+json": {
              "type": "string"
            }
          },
          "metadata": {},
          "execution_count": 6
        }
      ]
    },
    {
      "cell_type": "code",
      "source": [
        "\"P\" or \"x\""
      ],
      "metadata": {
        "colab": {
          "base_uri": "https://localhost:8080/",
          "height": 36
        },
        "id": "vTzDbEgUI-3Z",
        "outputId": "f4426eb4-bbeb-4542-ff87-15a909c6ff0f"
      },
      "execution_count": 8,
      "outputs": [
        {
          "output_type": "execute_result",
          "data": {
            "text/plain": [
              "'P'"
            ],
            "application/vnd.google.colaboratory.intrinsic+json": {
              "type": "string"
            }
          },
          "metadata": {},
          "execution_count": 8
        }
      ]
    },
    {
      "cell_type": "code",
      "source": [
        "80^120"
      ],
      "metadata": {
        "colab": {
          "base_uri": "https://localhost:8080/"
        },
        "id": "G0DFo7F4JyMe",
        "outputId": "a68424e6-222d-46b5-e7cc-6ca31784e54c"
      },
      "execution_count": 9,
      "outputs": [
        {
          "output_type": "execute_result",
          "data": {
            "text/plain": [
              "40"
            ]
          },
          "metadata": {},
          "execution_count": 9
        }
      ]
    },
    {
      "cell_type": "code",
      "source": [
        "40+43"
      ],
      "metadata": {
        "colab": {
          "base_uri": "https://localhost:8080/"
        },
        "id": "0O2_PgnhJ0yw",
        "outputId": "3b86b303-6b5a-4224-f277-cadbe666ef8c"
      },
      "execution_count": 10,
      "outputs": [
        {
          "output_type": "execute_result",
          "data": {
            "text/plain": [
              "83"
            ]
          },
          "metadata": {},
          "execution_count": 10
        }
      ]
    }
  ]
}