{
  "cells": [
    {
      "cell_type": "code",
      "execution_count": null,
      "metadata": {
        "id": "5uR7yZBOmERd"
      },
      "outputs": [],
      "source": [
        "# you can have more than 1 function calls in a recursive function\n",
        "\n",
        "# 1, 1, 2, 3, 5 , 8, 13, 21\n",
        "# 1  2  3  4   5  6  7   8\n",
        "\n",
        "# f(n) = f(n-1)+f(n-2)\n",
        "\n",
        "def getFibonacciNum(n):\n",
        "  print(\"Function call n: -->\", n)\n",
        "  if n==1 or n==2:\n",
        "    return 1\n",
        "  return getFibonacciNum(n-1)+getFibonacciNum(n-2) # getFibonacciNum(7) + getFibonacciNum(6)"
      ]
    },
    {
      "cell_type": "code",
      "execution_count": null,
      "metadata": {
        "colab": {
          "base_uri": "https://localhost:8080/"
        },
        "id": "ucgmvMcPuHeR",
        "outputId": "fe0c39e8-0932-4618-9414-4de5382f436f"
      },
      "outputs": [],
      "source": [
        "getFibonacciNum(5)"
      ]
    },
    {
      "cell_type": "code",
      "execution_count": null,
      "metadata": {
        "colab": {
          "base_uri": "https://localhost:8080/"
        },
        "id": "URitr_hnvuXq",
        "outputId": "2ee16c11-f9be-44a5-fa5c-6cce74d96107"
      },
      "outputs": [],
      "source": [
        "# GATE DA\n",
        "\n",
        "def count(child_dict, i):\n",
        " if i not in child_dict.keys():\n",
        "  return 1\n",
        " ans = 1\n",
        " for j in child_dict[i]:\n",
        "  ans += count(child_dict, j)\n",
        " return ans\n",
        "child_dict = dict()\n",
        "child_dict[0] = [1,2]\n",
        "child_dict[1] = [3,4,5]\n",
        "child_dict[2] = [6,7,8]\n",
        "print(count(child_dict,0))\n",
        "\n",
        "# Which ONE of the following is the output of this code?"
      ]
    },
    {
      "cell_type": "code",
      "execution_count": null,
      "metadata": {
        "colab": {
          "base_uri": "https://localhost:8080/"
        },
        "id": "WPM1rX6T1ByX",
        "outputId": "9af800dc-3e8b-4ce6-c653-a8d09baa2426"
      },
      "outputs": [],
      "source": [
        "# Consider the following Python function:\n",
        "def fun(D, s1, s2):\n",
        " if s1 < s2:\n",
        "  D[s1], D[s2] = D[s2], D[s1]\n",
        "  fun(D, s1+1, s2-1)\n",
        "\n",
        "d = [100,200,5,6,1000,1,10000,12,500]\n",
        "print(d)\n",
        "#     0   1  2  3 4    5  6    7  8\n",
        "fun(d, 2,5)\n",
        "print(d)\n",
        "# What does this Python function fun() do? Select the ONE appropriate option below."
      ]
    },
    {
      "cell_type": "code",
      "execution_count": null,
      "metadata": {
        "colab": {
          "base_uri": "https://localhost:8080/"
        },
        "id": "4olsjkUS1bEw",
        "outputId": "bd74f154-f5d6-405f-9a44-e39dc69cc41d"
      },
      "outputs": [],
      "source": [
        "def myFun(n, sum):\n",
        "  k = j = 0\n",
        "  if n>0:\n",
        "    k = n%10\n",
        "    j = n//10\n",
        "    sum = sum+k\n",
        "    myFun(j, sum)\n",
        "    print(k)\n",
        "\n",
        "a = 2048\n",
        "sum = 0\n",
        "myFun(a, sum)\n",
        "print(sum)"
      ]
    },
    {
      "cell_type": "code",
      "execution_count": null,
      "metadata": {
        "id": "tkVgxnyAB8uB"
      },
      "outputs": [],
      "source": []
    }
  ],
  "metadata": {
    "colab": {
      "provenance": []
    },
    "kernelspec": {
      "display_name": "Python 3",
      "name": "python3"
    },
    "language_info": {
      "name": "python",
      "version": "3.12.4"
    }
  },
  "nbformat": 4,
  "nbformat_minor": 0
}
