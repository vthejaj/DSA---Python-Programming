{
  "nbformat": 4,
  "nbformat_minor": 0,
  "metadata": {
    "colab": {
      "provenance": []
    },
    "kernelspec": {
      "name": "python3",
      "display_name": "Python 3"
    },
    "language_info": {
      "name": "python"
    }
  },
  "cells": [
    {
      "cell_type": "markdown",
      "source": [
        "### **GATE PROBLEMS**"
      ],
      "metadata": {
        "id": "SogiUjfhzpDS"
      }
    },
    {
      "cell_type": "code",
      "execution_count": 19,
      "metadata": {
        "id": "UZbAWqmAvt1W"
      },
      "outputs": [],
      "source": [
        "def func_gate(a: int, b: str, l: list)->int:\n",
        "  print(a)\n",
        "  print(b)\n",
        "  print(l)\n",
        "  return l"
      ]
    },
    {
      "cell_type": "code",
      "source": [
        "func_gate.__annotations__"
      ],
      "metadata": {
        "colab": {
          "base_uri": "https://localhost:8080/"
        },
        "id": "c5kPSMwI0Cai",
        "outputId": "59bb852c-5c0b-41ae-c231-f3eb30f528a7"
      },
      "execution_count": 13,
      "outputs": [
        {
          "output_type": "execute_result",
          "data": {
            "text/plain": [
              "{'a': int, 'b': str, 'l': list, 'return': None}"
            ]
          },
          "metadata": {},
          "execution_count": 13
        }
      ]
    },
    {
      "cell_type": "code",
      "source": [
        "b = 100\n",
        "c = func_gate(b)\n",
        "print(c)"
      ],
      "metadata": {
        "colab": {
          "base_uri": "https://localhost:8080/"
        },
        "id": "yiO_GdBwzyHL",
        "outputId": "37bfbbeb-ad78-4254-8cd5-3a6002a1c1bd"
      },
      "execution_count": 4,
      "outputs": [
        {
          "output_type": "stream",
          "name": "stdout",
          "text": [
            "100\n",
            "100\n"
          ]
        }
      ]
    },
    {
      "cell_type": "code",
      "source": [
        "x = \"Virat\"\n",
        "y = [\"Rohit\", \"Pandya\"]\n",
        "z = ('India', 'Wins')\n",
        "\n",
        "func_gate(x, y, z)"
      ],
      "metadata": {
        "colab": {
          "base_uri": "https://localhost:8080/"
        },
        "id": "3YGgeHkS0wil",
        "outputId": "330bf2bf-15b5-45c2-f113-097f441d54e4"
      },
      "execution_count": 20,
      "outputs": [
        {
          "output_type": "stream",
          "name": "stdout",
          "text": [
            "Virat\n",
            "['Rohit', 'Pandya']\n",
            "('India', 'Wins')\n"
          ]
        },
        {
          "output_type": "execute_result",
          "data": {
            "text/plain": [
              "('India', 'Wins')"
            ]
          },
          "metadata": {},
          "execution_count": 20
        }
      ]
    },
    {
      "cell_type": "code",
      "source": [
        "# GATE 2023\n",
        "\n",
        "def f1():\n",
        "  return 1\n",
        "\n",
        "def f3():\n",
        "  return 5\n",
        "\n",
        "def f2(X):\n",
        "  f3()\n",
        "  if X==1:\n",
        "    return f1()\n",
        "  else:\n",
        "    return X*f2(X-1)\n",
        "\n",
        "f1()\n",
        "f2(2)\n",
        "f3()"
      ],
      "metadata": {
        "id": "qrjKL1696oVs"
      },
      "execution_count": null,
      "outputs": []
    },
    {
      "cell_type": "code",
      "source": [
        "# GATE 2021\n",
        "\n",
        "def foo(x: int, y: int, q: int)->int:\n",
        "  if ((x<=0) and (y<=0)):\n",
        "    return q\n",
        "  if x<=0:\n",
        "    return foo(x, y-q, q)\n",
        "  if y<=0:\n",
        "    return foo(x-q, y, q)\n",
        "  return foo(x, y-q, q)+foo(x-q, y, q)\n",
        "\n",
        "r = foo(15, 15, 10)\n",
        "print(r)"
      ],
      "metadata": {
        "id": "csSR9m3V8ALE"
      },
      "execution_count": null,
      "outputs": []
    },
    {
      "cell_type": "code",
      "source": [
        "def simpleFunction(Y: list, n: int, x: int)->int:\n",
        "  total = Y[0]\n",
        "  print(\"Total Initially: \", total)\n",
        "  for loopIndex in range(1,n):\n",
        "    total = x*total+Y[loopIndex]\n",
        "    print(\"Loop ID:{}, total: {}\".format(loopIndex, total))\n",
        "  return total\n",
        "\n",
        "Z = [1]*10\n",
        "print(Z)\n",
        "simpleFunction(Z, 10, 2)"
      ],
      "metadata": {
        "colab": {
          "base_uri": "https://localhost:8080/"
        },
        "id": "YihtrNHQAY3Z",
        "outputId": "77b0dbe1-e73d-4d9f-e3bf-8b4122cf1cec"
      },
      "execution_count": 24,
      "outputs": [
        {
          "output_type": "stream",
          "name": "stdout",
          "text": [
            "[1, 1, 1, 1, 1, 1, 1, 1, 1, 1]\n",
            "Total Initially:  1\n",
            "Loop ID:1, total: 3\n",
            "Loop ID:2, total: 7\n",
            "Loop ID:3, total: 15\n",
            "Loop ID:4, total: 31\n",
            "Loop ID:5, total: 63\n",
            "Loop ID:6, total: 127\n",
            "Loop ID:7, total: 255\n",
            "Loop ID:8, total: 511\n",
            "Loop ID:9, total: 1023\n"
          ]
        },
        {
          "output_type": "execute_result",
          "data": {
            "text/plain": [
              "1023"
            ]
          },
          "metadata": {},
          "execution_count": 24
        }
      ]
    },
    {
      "cell_type": "code",
      "source": [
        "# GATE 2020\n",
        "\n",
        "def tob(b: int, arr: list)->int:\n",
        "  i = 0\n",
        "  while b>0:\n",
        "    if b%2: # if 0\n",
        "      arr[i] = 1\n",
        "    else:\n",
        "      arr[i] = 0\n",
        "    b//=2\n",
        "    i+=1\n",
        "  return i\n",
        "\n",
        "def pp(a: int, b: int)->int:\n",
        "  arr = [None]*20\n",
        "  print(\"Arr in pp initially: \", arr)\n",
        "  ex = a\n",
        "  tot = 1\n",
        "  l = tob(b, arr)\n",
        "  print(\"Arr in pp after function call of tob: \", arr)\n",
        "  for i in range(l):\n",
        "    if (arr[i]==1):\n",
        "      tot = tot*ex\n",
        "    ex = ex*ex\n",
        "    print(\"iteration {}, ex: {}, tot: {}\".format(i, ex, tot))\n",
        "  return tot\n",
        "\n",
        "pp(3,4)"
      ],
      "metadata": {
        "colab": {
          "base_uri": "https://localhost:8080/"
        },
        "id": "LajNLX92DfyM",
        "outputId": "ca254ddd-2bcf-4c4b-a261-fee4e2811356"
      },
      "execution_count": 26,
      "outputs": [
        {
          "output_type": "stream",
          "name": "stdout",
          "text": [
            "Arr in pp initially:  [None, None, None, None, None, None, None, None, None, None, None, None, None, None, None, None, None, None, None, None]\n",
            "Arr in pp after function call of tob:  [0, 0, 1, None, None, None, None, None, None, None, None, None, None, None, None, None, None, None, None, None]\n",
            "iteration 0, ex: 9, tot: 1\n",
            "iteration 1, ex: 81, tot: 1\n",
            "iteration 2, ex: 6561, tot: 81\n"
          ]
        },
        {
          "output_type": "execute_result",
          "data": {
            "text/plain": [
              "81"
            ]
          },
          "metadata": {},
          "execution_count": 26
        }
      ]
    },
    {
      "cell_type": "code",
      "source": [
        "b = 4\n",
        "\n",
        "if b%2: # 4%2 ==0\n",
        "  print(\"ABCD\")\n",
        "else:\n",
        "  print(\"XYZ\")"
      ],
      "metadata": {
        "colab": {
          "base_uri": "https://localhost:8080/"
        },
        "id": "APwD589rJw56",
        "outputId": "be3c3bed-39a7-491c-ac5a-8d60b230a245"
      },
      "execution_count": 27,
      "outputs": [
        {
          "output_type": "stream",
          "name": "stdout",
          "text": [
            "XYZ\n"
          ]
        }
      ]
    },
    {
      "cell_type": "code",
      "source": [
        "v = 0\n",
        "\n",
        "if v:\n",
        "  print(\"VIRAT\")\n",
        "else:\n",
        "  print(\"ROHIT\")"
      ],
      "metadata": {
        "id": "tMArZ9EuKC_R"
      },
      "execution_count": null,
      "outputs": []
    },
    {
      "cell_type": "code",
      "source": [
        "# GATE 2023\n",
        "\n",
        "def funcp():\n",
        "  x = 1\n",
        "  def innerFunCp():\n",
        "    nonlocal x\n",
        "    x += 1\n",
        "    return x\n",
        "  return innerFunCp\n",
        "\n",
        "f = funcp()\n",
        "x = f()\n",
        "print(\"x : \", x)\n",
        "y = f()+x\n",
        "print(\"y : \", y)\n",
        "\n",
        "print(\"ans: \", x+y)"
      ],
      "metadata": {
        "colab": {
          "base_uri": "https://localhost:8080/"
        },
        "id": "LmNMdVSkKWni",
        "outputId": "3be95dbe-d314-450d-f005-47a374340a61"
      },
      "execution_count": 37,
      "outputs": [
        {
          "output_type": "stream",
          "name": "stdout",
          "text": [
            "x :  2\n",
            "y :  5\n",
            "ans:  7\n"
          ]
        }
      ]
    },
    {
      "cell_type": "code",
      "source": [
        "def funcp():\n",
        "  x = 1\n",
        "  def innerFunCp():\n",
        "    nonlocal x\n",
        "    x += 1\n",
        "    return x\n",
        "  return innerFunCp\n",
        "\n",
        "f = funcp()\n",
        "print(f)\n",
        "print(type(f))"
      ],
      "metadata": {
        "colab": {
          "base_uri": "https://localhost:8080/"
        },
        "id": "NloGSwcXLKUU",
        "outputId": "f504edf6-82c0-49f7-8c62-8ebba71e1de1"
      },
      "execution_count": 31,
      "outputs": [
        {
          "output_type": "stream",
          "name": "stdout",
          "text": [
            "<function funcp.<locals>.innerFunCp at 0x7f88a55804c0>\n",
            "<class 'function'>\n"
          ]
        }
      ]
    },
    {
      "cell_type": "code",
      "source": [
        "def funcp():\n",
        "  x = 1\n",
        "  def innerFunCp():\n",
        "    nonlocal x\n",
        "    x += 1\n",
        "    return x\n",
        "  return innerFunCp()\n",
        "\n",
        "f = funcp()\n",
        "print(f)\n",
        "print(type(f))"
      ],
      "metadata": {
        "colab": {
          "base_uri": "https://localhost:8080/"
        },
        "id": "HHoXuX4QLq6d",
        "outputId": "137513e0-6be9-437b-a57a-f94ce77aebf9"
      },
      "execution_count": 32,
      "outputs": [
        {
          "output_type": "stream",
          "name": "stdout",
          "text": [
            "2\n",
            "<class 'int'>\n"
          ]
        }
      ]
    },
    {
      "cell_type": "code",
      "source": [
        "def funcp():\n",
        "  x = 1\n",
        "  def innerFunCp():\n",
        "    nonlocal x\n",
        "    x += 1\n",
        "    return x\n",
        "  return innerFunCp\n",
        "\n",
        "f = funcp()\n",
        "f()"
      ],
      "metadata": {
        "colab": {
          "base_uri": "https://localhost:8080/"
        },
        "id": "mUFJQ7a8Lyia",
        "outputId": "1d20cf83-b90e-4437-a794-6c349f87302b"
      },
      "execution_count": 33,
      "outputs": [
        {
          "output_type": "execute_result",
          "data": {
            "text/plain": [
              "2"
            ]
          },
          "metadata": {},
          "execution_count": 33
        }
      ]
    },
    {
      "cell_type": "code",
      "source": [
        "f()"
      ],
      "metadata": {
        "colab": {
          "base_uri": "https://localhost:8080/"
        },
        "id": "W-hd-jKGL50Y",
        "outputId": "52d53cfb-c84d-4c43-fc34-0994166adc87"
      },
      "execution_count": 34,
      "outputs": [
        {
          "output_type": "execute_result",
          "data": {
            "text/plain": [
              "3"
            ]
          },
          "metadata": {},
          "execution_count": 34
        }
      ]
    },
    {
      "cell_type": "code",
      "source": [
        "f()"
      ],
      "metadata": {
        "colab": {
          "base_uri": "https://localhost:8080/"
        },
        "id": "HkiWhaYkMBZI",
        "outputId": "a003b00b-b02b-4e5b-f514-8a9c57b35713"
      },
      "execution_count": 35,
      "outputs": [
        {
          "output_type": "execute_result",
          "data": {
            "text/plain": [
              "4"
            ]
          },
          "metadata": {},
          "execution_count": 35
        }
      ]
    },
    {
      "cell_type": "code",
      "source": [
        "fun2 = funcp()\n",
        "\n",
        "fun2()"
      ],
      "metadata": {
        "colab": {
          "base_uri": "https://localhost:8080/"
        },
        "id": "t-UckoG3MD3d",
        "outputId": "7ee6b1f4-7568-4406-edf0-505a9055699c"
      },
      "execution_count": 36,
      "outputs": [
        {
          "output_type": "execute_result",
          "data": {
            "text/plain": [
              "2"
            ]
          },
          "metadata": {},
          "execution_count": 36
        }
      ]
    },
    {
      "cell_type": "code",
      "source": [
        "# ISRO 2020\n",
        "\n",
        "def rer(n: int, r: int)->int:\n",
        "  if n>0:\n",
        "    return (n%r+rer(n//r, r))\n",
        "  else:\n",
        "    return 0\n",
        "\n",
        "rer(513, 2)"
      ],
      "metadata": {
        "id": "QXZLi7PkND9w"
      },
      "execution_count": null,
      "outputs": []
    },
    {
      "cell_type": "code",
      "source": [
        "# GATE 2019\n",
        "\n",
        "def convert(n: int)->None:\n",
        "  if n<0:\n",
        "    print(n)\n",
        "  else:\n",
        "    convert(n//2)\n",
        "    print(n)\n",
        "\n"
      ],
      "metadata": {
        "id": "LwSrEPprOzp4"
      },
      "execution_count": null,
      "outputs": []
    },
    {
      "cell_type": "code",
      "source": [
        "# GATE 2019\n",
        "\n",
        "def jumble(x: int, y: int):\n",
        "  x = 2*x*y\n",
        "  return x\n",
        "\n",
        "x = 2\n",
        "y = 5\n",
        "y = jumble(y, x)\n",
        "x = jumble(y, x)\n",
        "print(x)"
      ],
      "metadata": {
        "id": "ynhCVAoFQJ6H"
      },
      "execution_count": null,
      "outputs": []
    },
    {
      "cell_type": "code",
      "source": [
        "# GATE 2018\n",
        "\n",
        "def Count(x, y):\n",
        "  if y!=1:\n",
        "    if x!=1:\n",
        "      print(\"*\")\n",
        "      Count(x//2, y)\n",
        "    else:\n",
        "      y -= 1\n",
        "      Count(1024, y)\n",
        "\n",
        "Count(1024, 1024) # 10230"
      ],
      "metadata": {
        "id": "zTiNdb4IRWwe"
      },
      "execution_count": null,
      "outputs": []
    },
    {
      "cell_type": "code",
      "source": [
        "# GATE 2017\n",
        "\n",
        "def foo(val: int)->int:\n",
        "  x = 0\n",
        "  while val>0:\n",
        "    x = x+foo(val)\n",
        "    val -= 1\n",
        "  return val\n",
        "\n",
        "def bar(val: int)->int:\n",
        "  x = 0\n",
        "  while val>0:\n",
        "    x = x+bar(val-1)\n",
        "  return val\n",
        "\n"
      ],
      "metadata": {
        "id": "4aAdpPkKUutA"
      },
      "execution_count": 38,
      "outputs": []
    },
    {
      "cell_type": "code",
      "source": [
        "foo(3)"
      ],
      "metadata": {
        "colab": {
          "base_uri": "https://localhost:8080/",
          "height": 329
        },
        "id": "ei21xN_sXbfq",
        "outputId": "cbde83e7-e9b3-4206-d2e0-b3d869affb76"
      },
      "execution_count": 39,
      "outputs": [
        {
          "output_type": "error",
          "ename": "RecursionError",
          "evalue": "maximum recursion depth exceeded in comparison",
          "traceback": [
            "\u001b[0;31m---------------------------------------------------------------------------\u001b[0m",
            "\u001b[0;31mRecursionError\u001b[0m                            Traceback (most recent call last)",
            "\u001b[0;32m<ipython-input-39-bb81d0344e3d>\u001b[0m in \u001b[0;36m<cell line: 1>\u001b[0;34m()\u001b[0m\n\u001b[0;32m----> 1\u001b[0;31m \u001b[0mfoo\u001b[0m\u001b[0;34m(\u001b[0m\u001b[0;36m3\u001b[0m\u001b[0;34m)\u001b[0m\u001b[0;34m\u001b[0m\u001b[0;34m\u001b[0m\u001b[0m\n\u001b[0m",
            "\u001b[0;32m<ipython-input-38-045b8026bde1>\u001b[0m in \u001b[0;36mfoo\u001b[0;34m(val)\u001b[0m\n\u001b[1;32m      4\u001b[0m   \u001b[0mx\u001b[0m \u001b[0;34m=\u001b[0m \u001b[0;36m0\u001b[0m\u001b[0;34m\u001b[0m\u001b[0;34m\u001b[0m\u001b[0m\n\u001b[1;32m      5\u001b[0m   \u001b[0;32mwhile\u001b[0m \u001b[0mval\u001b[0m\u001b[0;34m>\u001b[0m\u001b[0;36m0\u001b[0m\u001b[0;34m:\u001b[0m\u001b[0;34m\u001b[0m\u001b[0;34m\u001b[0m\u001b[0m\n\u001b[0;32m----> 6\u001b[0;31m     \u001b[0mx\u001b[0m \u001b[0;34m=\u001b[0m \u001b[0mx\u001b[0m\u001b[0;34m+\u001b[0m\u001b[0mfoo\u001b[0m\u001b[0;34m(\u001b[0m\u001b[0mval\u001b[0m\u001b[0;34m)\u001b[0m\u001b[0;34m\u001b[0m\u001b[0;34m\u001b[0m\u001b[0m\n\u001b[0m\u001b[1;32m      7\u001b[0m     \u001b[0mval\u001b[0m \u001b[0;34m-=\u001b[0m \u001b[0;36m1\u001b[0m\u001b[0;34m\u001b[0m\u001b[0;34m\u001b[0m\u001b[0m\n\u001b[1;32m      8\u001b[0m   \u001b[0;32mreturn\u001b[0m \u001b[0mval\u001b[0m\u001b[0;34m\u001b[0m\u001b[0;34m\u001b[0m\u001b[0m\n",
            "... last 1 frames repeated, from the frame below ...\n",
            "\u001b[0;32m<ipython-input-38-045b8026bde1>\u001b[0m in \u001b[0;36mfoo\u001b[0;34m(val)\u001b[0m\n\u001b[1;32m      4\u001b[0m   \u001b[0mx\u001b[0m \u001b[0;34m=\u001b[0m \u001b[0;36m0\u001b[0m\u001b[0;34m\u001b[0m\u001b[0;34m\u001b[0m\u001b[0m\n\u001b[1;32m      5\u001b[0m   \u001b[0;32mwhile\u001b[0m \u001b[0mval\u001b[0m\u001b[0;34m>\u001b[0m\u001b[0;36m0\u001b[0m\u001b[0;34m:\u001b[0m\u001b[0;34m\u001b[0m\u001b[0;34m\u001b[0m\u001b[0m\n\u001b[0;32m----> 6\u001b[0;31m     \u001b[0mx\u001b[0m \u001b[0;34m=\u001b[0m \u001b[0mx\u001b[0m\u001b[0;34m+\u001b[0m\u001b[0mfoo\u001b[0m\u001b[0;34m(\u001b[0m\u001b[0mval\u001b[0m\u001b[0;34m)\u001b[0m\u001b[0;34m\u001b[0m\u001b[0;34m\u001b[0m\u001b[0m\n\u001b[0m\u001b[1;32m      7\u001b[0m     \u001b[0mval\u001b[0m \u001b[0;34m-=\u001b[0m \u001b[0;36m1\u001b[0m\u001b[0;34m\u001b[0m\u001b[0;34m\u001b[0m\u001b[0m\n\u001b[1;32m      8\u001b[0m   \u001b[0;32mreturn\u001b[0m \u001b[0mval\u001b[0m\u001b[0;34m\u001b[0m\u001b[0;34m\u001b[0m\u001b[0m\n",
            "\u001b[0;31mRecursionError\u001b[0m: maximum recursion depth exceeded in comparison"
          ]
        }
      ]
    },
    {
      "cell_type": "code",
      "source": [
        "bar(3)"
      ],
      "metadata": {
        "colab": {
          "base_uri": "https://localhost:8080/",
          "height": 294
        },
        "id": "_vxgZOuLXg98",
        "outputId": "66df0645-8f6f-4982-9a5d-f0201de9a638"
      },
      "execution_count": 40,
      "outputs": [
        {
          "output_type": "error",
          "ename": "KeyboardInterrupt",
          "evalue": "",
          "traceback": [
            "\u001b[0;31m---------------------------------------------------------------------------\u001b[0m",
            "\u001b[0;31mKeyboardInterrupt\u001b[0m                         Traceback (most recent call last)",
            "\u001b[0;32m<ipython-input-40-0befa6eea504>\u001b[0m in \u001b[0;36m<cell line: 1>\u001b[0;34m()\u001b[0m\n\u001b[0;32m----> 1\u001b[0;31m \u001b[0mbar\u001b[0m\u001b[0;34m(\u001b[0m\u001b[0;36m3\u001b[0m\u001b[0;34m)\u001b[0m\u001b[0;34m\u001b[0m\u001b[0;34m\u001b[0m\u001b[0m\n\u001b[0m",
            "\u001b[0;32m<ipython-input-38-045b8026bde1>\u001b[0m in \u001b[0;36mbar\u001b[0;34m(val)\u001b[0m\n\u001b[1;32m     11\u001b[0m   \u001b[0mx\u001b[0m \u001b[0;34m=\u001b[0m \u001b[0;36m0\u001b[0m\u001b[0;34m\u001b[0m\u001b[0;34m\u001b[0m\u001b[0m\n\u001b[1;32m     12\u001b[0m   \u001b[0;32mwhile\u001b[0m \u001b[0mval\u001b[0m\u001b[0;34m>\u001b[0m\u001b[0;36m0\u001b[0m\u001b[0;34m:\u001b[0m\u001b[0;34m\u001b[0m\u001b[0;34m\u001b[0m\u001b[0m\n\u001b[0;32m---> 13\u001b[0;31m     \u001b[0mx\u001b[0m \u001b[0;34m=\u001b[0m \u001b[0mx\u001b[0m\u001b[0;34m+\u001b[0m\u001b[0mbar\u001b[0m\u001b[0;34m(\u001b[0m\u001b[0mval\u001b[0m\u001b[0;34m-\u001b[0m\u001b[0;36m1\u001b[0m\u001b[0;34m)\u001b[0m\u001b[0;34m\u001b[0m\u001b[0;34m\u001b[0m\u001b[0m\n\u001b[0m\u001b[1;32m     14\u001b[0m   \u001b[0;32mreturn\u001b[0m \u001b[0mval\u001b[0m\u001b[0;34m\u001b[0m\u001b[0;34m\u001b[0m\u001b[0m\n\u001b[1;32m     15\u001b[0m \u001b[0;34m\u001b[0m\u001b[0m\n",
            "\u001b[0;32m<ipython-input-38-045b8026bde1>\u001b[0m in \u001b[0;36mbar\u001b[0;34m(val)\u001b[0m\n\u001b[1;32m     11\u001b[0m   \u001b[0mx\u001b[0m \u001b[0;34m=\u001b[0m \u001b[0;36m0\u001b[0m\u001b[0;34m\u001b[0m\u001b[0;34m\u001b[0m\u001b[0m\n\u001b[1;32m     12\u001b[0m   \u001b[0;32mwhile\u001b[0m \u001b[0mval\u001b[0m\u001b[0;34m>\u001b[0m\u001b[0;36m0\u001b[0m\u001b[0;34m:\u001b[0m\u001b[0;34m\u001b[0m\u001b[0;34m\u001b[0m\u001b[0m\n\u001b[0;32m---> 13\u001b[0;31m     \u001b[0mx\u001b[0m \u001b[0;34m=\u001b[0m \u001b[0mx\u001b[0m\u001b[0;34m+\u001b[0m\u001b[0mbar\u001b[0m\u001b[0;34m(\u001b[0m\u001b[0mval\u001b[0m\u001b[0;34m-\u001b[0m\u001b[0;36m1\u001b[0m\u001b[0;34m)\u001b[0m\u001b[0;34m\u001b[0m\u001b[0;34m\u001b[0m\u001b[0m\n\u001b[0m\u001b[1;32m     14\u001b[0m   \u001b[0;32mreturn\u001b[0m \u001b[0mval\u001b[0m\u001b[0;34m\u001b[0m\u001b[0;34m\u001b[0m\u001b[0m\n\u001b[1;32m     15\u001b[0m \u001b[0;34m\u001b[0m\u001b[0m\n",
            "\u001b[0;32m<ipython-input-38-045b8026bde1>\u001b[0m in \u001b[0;36mbar\u001b[0;34m(val)\u001b[0m\n\u001b[1;32m     11\u001b[0m   \u001b[0mx\u001b[0m \u001b[0;34m=\u001b[0m \u001b[0;36m0\u001b[0m\u001b[0;34m\u001b[0m\u001b[0;34m\u001b[0m\u001b[0m\n\u001b[1;32m     12\u001b[0m   \u001b[0;32mwhile\u001b[0m \u001b[0mval\u001b[0m\u001b[0;34m>\u001b[0m\u001b[0;36m0\u001b[0m\u001b[0;34m:\u001b[0m\u001b[0;34m\u001b[0m\u001b[0;34m\u001b[0m\u001b[0m\n\u001b[0;32m---> 13\u001b[0;31m     \u001b[0mx\u001b[0m \u001b[0;34m=\u001b[0m \u001b[0mx\u001b[0m\u001b[0;34m+\u001b[0m\u001b[0mbar\u001b[0m\u001b[0;34m(\u001b[0m\u001b[0mval\u001b[0m\u001b[0;34m-\u001b[0m\u001b[0;36m1\u001b[0m\u001b[0;34m)\u001b[0m\u001b[0;34m\u001b[0m\u001b[0;34m\u001b[0m\u001b[0m\n\u001b[0m\u001b[1;32m     14\u001b[0m   \u001b[0;32mreturn\u001b[0m \u001b[0mval\u001b[0m\u001b[0;34m\u001b[0m\u001b[0;34m\u001b[0m\u001b[0m\n\u001b[1;32m     15\u001b[0m \u001b[0;34m\u001b[0m\u001b[0m\n",
            "\u001b[0;32m<ipython-input-38-045b8026bde1>\u001b[0m in \u001b[0;36mbar\u001b[0;34m(val)\u001b[0m\n\u001b[1;32m      8\u001b[0m   \u001b[0;32mreturn\u001b[0m \u001b[0mval\u001b[0m\u001b[0;34m\u001b[0m\u001b[0;34m\u001b[0m\u001b[0m\n\u001b[1;32m      9\u001b[0m \u001b[0;34m\u001b[0m\u001b[0m\n\u001b[0;32m---> 10\u001b[0;31m \u001b[0;32mdef\u001b[0m \u001b[0mbar\u001b[0m\u001b[0;34m(\u001b[0m\u001b[0mval\u001b[0m\u001b[0;34m:\u001b[0m \u001b[0mint\u001b[0m\u001b[0;34m)\u001b[0m\u001b[0;34m->\u001b[0m\u001b[0mint\u001b[0m\u001b[0;34m:\u001b[0m\u001b[0;34m\u001b[0m\u001b[0;34m\u001b[0m\u001b[0m\n\u001b[0m\u001b[1;32m     11\u001b[0m   \u001b[0mx\u001b[0m \u001b[0;34m=\u001b[0m \u001b[0;36m0\u001b[0m\u001b[0;34m\u001b[0m\u001b[0;34m\u001b[0m\u001b[0m\n\u001b[1;32m     12\u001b[0m   \u001b[0;32mwhile\u001b[0m \u001b[0mval\u001b[0m\u001b[0;34m>\u001b[0m\u001b[0;36m0\u001b[0m\u001b[0;34m:\u001b[0m\u001b[0;34m\u001b[0m\u001b[0;34m\u001b[0m\u001b[0m\n",
            "\u001b[0;31mKeyboardInterrupt\u001b[0m: "
          ]
        }
      ]
    },
    {
      "cell_type": "code",
      "source": [
        "def fun1(n: int)->None:\n",
        "  if n==0:\n",
        "    return\n",
        "  print(n)\n",
        "  fun2(n-2)\n",
        "  print(n)\n",
        "\n",
        "def fun2(n: int)->None:\n",
        "  if n==0:\n",
        "    return\n",
        "  print(n)\n",
        "  n+=1\n",
        "  fun1(n)\n",
        "  print(n)"
      ],
      "metadata": {
        "id": "JDACD1ULYTXu"
      },
      "execution_count": null,
      "outputs": []
    }
  ]
}