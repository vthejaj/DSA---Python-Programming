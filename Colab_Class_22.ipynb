{
  "cells": [
    {
      "cell_type": "markdown",
      "metadata": {
        "id": "SogiUjfhzpDS"
      },
      "source": [
        "### **GATE PROBLEMS**"
      ]
    },
    {
      "cell_type": "code",
      "execution_count": null,
      "metadata": {
        "id": "UZbAWqmAvt1W"
      },
      "outputs": [],
      "source": [
        "def func_gate(a: int, b: str, l: list)->int:\n",
        "  print(a)\n",
        "  print(b)\n",
        "  print(l)\n",
        "  return l"
      ]
    },
    {
      "cell_type": "code",
      "execution_count": null,
      "metadata": {
        "colab": {
          "base_uri": "https://localhost:8080/"
        },
        "id": "c5kPSMwI0Cai",
        "outputId": "59bb852c-5c0b-41ae-c231-f3eb30f528a7"
      },
      "outputs": [],
      "source": [
        "func_gate.__annotations__"
      ]
    },
    {
      "cell_type": "code",
      "execution_count": null,
      "metadata": {
        "colab": {
          "base_uri": "https://localhost:8080/"
        },
        "id": "yiO_GdBwzyHL",
        "outputId": "37bfbbeb-ad78-4254-8cd5-3a6002a1c1bd"
      },
      "outputs": [],
      "source": [
        "b = 100\n",
        "c = func_gate(b)\n",
        "print(c)"
      ]
    },
    {
      "cell_type": "code",
      "execution_count": null,
      "metadata": {
        "colab": {
          "base_uri": "https://localhost:8080/"
        },
        "id": "3YGgeHkS0wil",
        "outputId": "330bf2bf-15b5-45c2-f113-097f441d54e4"
      },
      "outputs": [],
      "source": [
        "x = \"Virat\"\n",
        "y = [\"Rohit\", \"Pandya\"]\n",
        "z = ('India', 'Wins')\n",
        "\n",
        "func_gate(x, y, z)"
      ]
    },
    {
      "cell_type": "code",
      "execution_count": null,
      "metadata": {
        "id": "qrjKL1696oVs"
      },
      "outputs": [],
      "source": [
        "# GATE 2023\n",
        "\n",
        "def f1():\n",
        "  return 1\n",
        "\n",
        "def f3():\n",
        "  return 5\n",
        "\n",
        "def f2(X):\n",
        "  f3()\n",
        "  if X==1:\n",
        "    return f1()\n",
        "  else:\n",
        "    return X*f2(X-1)\n",
        "\n",
        "f1()\n",
        "f2(2)\n",
        "f3()"
      ]
    },
    {
      "cell_type": "code",
      "execution_count": null,
      "metadata": {
        "id": "csSR9m3V8ALE"
      },
      "outputs": [],
      "source": [
        "# GATE 2021\n",
        "\n",
        "def foo(x: int, y: int, q: int)->int:\n",
        "  if ((x<=0) and (y<=0)):\n",
        "    return q\n",
        "  if x<=0:\n",
        "    return foo(x, y-q, q)\n",
        "  if y<=0:\n",
        "    return foo(x-q, y, q)\n",
        "  return foo(x, y-q, q)+foo(x-q, y, q)\n",
        "\n",
        "r = foo(15, 15, 10)\n",
        "print(r)"
      ]
    },
    {
      "cell_type": "code",
      "execution_count": null,
      "metadata": {
        "colab": {
          "base_uri": "https://localhost:8080/"
        },
        "id": "YihtrNHQAY3Z",
        "outputId": "77b0dbe1-e73d-4d9f-e3bf-8b4122cf1cec"
      },
      "outputs": [],
      "source": [
        "def simpleFunction(Y: list, n: int, x: int)->int:\n",
        "  total = Y[0]\n",
        "  print(\"Total Initially: \", total)\n",
        "  for loopIndex in range(1,n):\n",
        "    total = x*total+Y[loopIndex]\n",
        "    print(\"Loop ID:{}, total: {}\".format(loopIndex, total))\n",
        "  return total\n",
        "\n",
        "Z = [1]*10\n",
        "print(Z)\n",
        "simpleFunction(Z, 10, 2)"
      ]
    },
    {
      "cell_type": "code",
      "execution_count": null,
      "metadata": {
        "colab": {
          "base_uri": "https://localhost:8080/"
        },
        "id": "LajNLX92DfyM",
        "outputId": "ca254ddd-2bcf-4c4b-a261-fee4e2811356"
      },
      "outputs": [],
      "source": [
        "# GATE 2020\n",
        "\n",
        "def tob(b: int, arr: list)->int:\n",
        "  i = 0\n",
        "  while b>0:\n",
        "    if b%2: # if 0\n",
        "      arr[i] = 1\n",
        "    else:\n",
        "      arr[i] = 0\n",
        "    b//=2\n",
        "    i+=1\n",
        "  return i\n",
        "\n",
        "def pp(a: int, b: int)->int:\n",
        "  arr = [None]*20\n",
        "  print(\"Arr in pp initially: \", arr)\n",
        "  ex = a\n",
        "  tot = 1\n",
        "  l = tob(b, arr)\n",
        "  print(\"Arr in pp after function call of tob: \", arr)\n",
        "  for i in range(l):\n",
        "    if (arr[i]==1):\n",
        "      tot = tot*ex\n",
        "    ex = ex*ex\n",
        "    print(\"iteration {}, ex: {}, tot: {}\".format(i, ex, tot))\n",
        "  return tot\n",
        "\n",
        "pp(3,4)"
      ]
    },
    {
      "cell_type": "code",
      "execution_count": null,
      "metadata": {
        "colab": {
          "base_uri": "https://localhost:8080/"
        },
        "id": "APwD589rJw56",
        "outputId": "be3c3bed-39a7-491c-ac5a-8d60b230a245"
      },
      "outputs": [],
      "source": [
        "b = 4\n",
        "\n",
        "if b%2: # 4%2 ==0\n",
        "  print(\"ABCD\")\n",
        "else:\n",
        "  print(\"XYZ\")"
      ]
    },
    {
      "cell_type": "code",
      "execution_count": null,
      "metadata": {
        "id": "tMArZ9EuKC_R"
      },
      "outputs": [],
      "source": [
        "v = 0\n",
        "\n",
        "if v:\n",
        "  print(\"VIRAT\")\n",
        "else:\n",
        "  print(\"ROHIT\")"
      ]
    },
    {
      "cell_type": "code",
      "execution_count": null,
      "metadata": {
        "colab": {
          "base_uri": "https://localhost:8080/"
        },
        "id": "LmNMdVSkKWni",
        "outputId": "3be95dbe-d314-450d-f005-47a374340a61"
      },
      "outputs": [],
      "source": [
        "# GATE 2023\n",
        "\n",
        "def funcp():\n",
        "  x = 1\n",
        "  def innerFunCp():\n",
        "    nonlocal x\n",
        "    x += 1\n",
        "    return x\n",
        "  return innerFunCp\n",
        "\n",
        "f = funcp()\n",
        "x = f()\n",
        "print(\"x : \", x)\n",
        "y = f()+x\n",
        "print(\"y : \", y)\n",
        "\n",
        "print(\"ans: \", x+y)"
      ]
    },
    {
      "cell_type": "code",
      "execution_count": null,
      "metadata": {
        "colab": {
          "base_uri": "https://localhost:8080/"
        },
        "id": "NloGSwcXLKUU",
        "outputId": "f504edf6-82c0-49f7-8c62-8ebba71e1de1"
      },
      "outputs": [],
      "source": [
        "def funcp():\n",
        "  x = 1\n",
        "  def innerFunCp():\n",
        "    nonlocal x\n",
        "    x += 1\n",
        "    return x\n",
        "  return innerFunCp\n",
        "\n",
        "f = funcp()\n",
        "print(f)\n",
        "print(type(f))"
      ]
    },
    {
      "cell_type": "code",
      "execution_count": null,
      "metadata": {
        "colab": {
          "base_uri": "https://localhost:8080/"
        },
        "id": "HHoXuX4QLq6d",
        "outputId": "137513e0-6be9-437b-a57a-f94ce77aebf9"
      },
      "outputs": [],
      "source": [
        "def funcp():\n",
        "  x = 1\n",
        "  def innerFunCp():\n",
        "    nonlocal x\n",
        "    x += 1\n",
        "    return x\n",
        "  return innerFunCp()\n",
        "\n",
        "f = funcp()\n",
        "print(f)\n",
        "print(type(f))"
      ]
    },
    {
      "cell_type": "code",
      "execution_count": null,
      "metadata": {
        "colab": {
          "base_uri": "https://localhost:8080/"
        },
        "id": "mUFJQ7a8Lyia",
        "outputId": "1d20cf83-b90e-4437-a794-6c349f87302b"
      },
      "outputs": [],
      "source": [
        "def funcp():\n",
        "  x = 1\n",
        "  def innerFunCp():\n",
        "    nonlocal x\n",
        "    x += 1\n",
        "    return x\n",
        "  return innerFunCp\n",
        "\n",
        "f = funcp()\n",
        "f()"
      ]
    },
    {
      "cell_type": "code",
      "execution_count": null,
      "metadata": {
        "colab": {
          "base_uri": "https://localhost:8080/"
        },
        "id": "W-hd-jKGL50Y",
        "outputId": "52d53cfb-c84d-4c43-fc34-0994166adc87"
      },
      "outputs": [],
      "source": [
        "f()"
      ]
    },
    {
      "cell_type": "code",
      "execution_count": null,
      "metadata": {
        "colab": {
          "base_uri": "https://localhost:8080/"
        },
        "id": "HkiWhaYkMBZI",
        "outputId": "a003b00b-b02b-4e5b-f514-8a9c57b35713"
      },
      "outputs": [],
      "source": [
        "f()"
      ]
    },
    {
      "cell_type": "code",
      "execution_count": null,
      "metadata": {
        "colab": {
          "base_uri": "https://localhost:8080/"
        },
        "id": "t-UckoG3MD3d",
        "outputId": "7ee6b1f4-7568-4406-edf0-505a9055699c"
      },
      "outputs": [],
      "source": [
        "fun2 = funcp()\n",
        "\n",
        "fun2()"
      ]
    },
    {
      "cell_type": "code",
      "execution_count": null,
      "metadata": {
        "id": "QXZLi7PkND9w"
      },
      "outputs": [],
      "source": [
        "# ISRO 2020\n",
        "\n",
        "def rer(n: int, r: int)->int:\n",
        "  if n>0:\n",
        "    return (n%r+rer(n//r, r))\n",
        "  else:\n",
        "    return 0\n",
        "\n",
        "rer(513, 2)"
      ]
    },
    {
      "cell_type": "code",
      "execution_count": null,
      "metadata": {
        "id": "LwSrEPprOzp4"
      },
      "outputs": [],
      "source": [
        "# GATE 2019\n",
        "\n",
        "def convert(n: int)->None:\n",
        "  if n<0:\n",
        "    print(n)\n",
        "  else:\n",
        "    convert(n//2)\n",
        "    print(n)\n",
        "\n"
      ]
    },
    {
      "cell_type": "code",
      "execution_count": null,
      "metadata": {
        "id": "ynhCVAoFQJ6H"
      },
      "outputs": [],
      "source": [
        "# GATE 2019\n",
        "\n",
        "def jumble(x: int, y: int):\n",
        "  x = 2*x*y\n",
        "  return x\n",
        "\n",
        "x = 2\n",
        "y = 5\n",
        "y = jumble(y, x)\n",
        "x = jumble(y, x)\n",
        "print(x)"
      ]
    },
    {
      "cell_type": "code",
      "execution_count": null,
      "metadata": {
        "id": "zTiNdb4IRWwe"
      },
      "outputs": [],
      "source": [
        "# GATE 2018\n",
        "\n",
        "def Count(x, y):\n",
        "  if y!=1:\n",
        "    if x!=1:\n",
        "      print(\"*\")\n",
        "      Count(x//2, y)\n",
        "    else:\n",
        "      y -= 1\n",
        "      Count(1024, y)\n",
        "\n",
        "Count(1024, 1024) # 10230"
      ]
    },
    {
      "cell_type": "code",
      "execution_count": null,
      "metadata": {
        "id": "4aAdpPkKUutA"
      },
      "outputs": [],
      "source": [
        "# GATE 2017\n",
        "\n",
        "def foo(val: int)->int:\n",
        "  x = 0\n",
        "  while val>0:\n",
        "    x = x+foo(val)\n",
        "    val -= 1\n",
        "  return val\n",
        "\n",
        "def bar(val: int)->int:\n",
        "  x = 0\n",
        "  while val>0:\n",
        "    x = x+bar(val-1)\n",
        "  return val\n",
        "\n"
      ]
    },
    {
      "cell_type": "code",
      "execution_count": null,
      "metadata": {
        "colab": {
          "base_uri": "https://localhost:8080/",
          "height": 329
        },
        "id": "ei21xN_sXbfq",
        "outputId": "cbde83e7-e9b3-4206-d2e0-b3d869affb76"
      },
      "outputs": [],
      "source": [
        "foo(3)"
      ]
    },
    {
      "cell_type": "code",
      "execution_count": null,
      "metadata": {
        "colab": {
          "base_uri": "https://localhost:8080/",
          "height": 294
        },
        "id": "_vxgZOuLXg98",
        "outputId": "66df0645-8f6f-4982-9a5d-f0201de9a638"
      },
      "outputs": [],
      "source": [
        "bar(3)"
      ]
    },
    {
      "cell_type": "code",
      "execution_count": null,
      "metadata": {
        "id": "JDACD1ULYTXu"
      },
      "outputs": [],
      "source": [
        "def fun1(n: int)->None:\n",
        "  if n==0:\n",
        "    return\n",
        "  print(n)\n",
        "  fun2(n-2)\n",
        "  print(n)\n",
        "\n",
        "def fun2(n: int)->None:\n",
        "  if n==0:\n",
        "    return\n",
        "  print(n)\n",
        "  n+=1\n",
        "  fun1(n)\n",
        "  print(n)"
      ]
    }
  ],
  "metadata": {
    "colab": {
      "provenance": []
    },
    "kernelspec": {
      "display_name": "Python 3",
      "name": "python3"
    },
    "language_info": {
      "name": "python",
      "version": "3.12.4"
    }
  },
  "nbformat": 4,
  "nbformat_minor": 0
}
