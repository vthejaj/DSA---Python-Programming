{
  "cells": [
    {
      "cell_type": "markdown",
      "metadata": {
        "id": "H9moZNDHDcxW"
      },
      "source": [
        "#### **String Methods in Python**\n",
        "\n",
        "1. strip\n",
        "2. lstrip\n",
        "3. rstrip\n",
        "4. split\n",
        "5. rsplit\n",
        "6. join\n",
        "7. replace\n",
        "8. upper\n",
        "9. lower\n",
        "10. isupper\n",
        "11. islower\n",
        "12. capitalize\n",
        "13. isalpha\n",
        "14. isnumeric\n",
        "15. isalnum\n",
        "16. count\n",
        "17. find\n",
        "18. rfind\n",
        "19. index\n",
        "20. rindex"
      ]
    },
    {
      "cell_type": "code",
      "execution_count": null,
      "metadata": {
        "colab": {
          "base_uri": "https://localhost:8080/",
          "height": 36
        },
        "id": "1VcykEhEcmhk",
        "outputId": "d2b2af34-fe3c-43e6-a150-b2d1b7f3b0c1"
      },
      "outputs": [],
      "source": [
        "# strip\n",
        "\n",
        "name = \"Rohit Sharma\"\n",
        "\n",
        "name.strip()"
      ]
    },
    {
      "cell_type": "code",
      "execution_count": null,
      "metadata": {
        "colab": {
          "base_uri": "https://localhost:8080/",
          "height": 36
        },
        "id": "kAppDqy9f6F4",
        "outputId": "a490af9e-0d45-4d13-bc2a-6c9e74b595f1"
      },
      "outputs": [],
      "source": [
        "name = \"  Rohit Sharma\"\n",
        "\n",
        "name.strip()\n"
      ]
    },
    {
      "cell_type": "code",
      "execution_count": null,
      "metadata": {
        "colab": {
          "base_uri": "https://localhost:8080/",
          "height": 36
        },
        "id": "xgzZzi7GgExU",
        "outputId": "fafb485a-8bd1-4aba-c091-bbbe2ca33ddb"
      },
      "outputs": [],
      "source": [
        "name = \"  Rohit Sharma   \"\n",
        "\n",
        "name.strip()"
      ]
    },
    {
      "cell_type": "code",
      "execution_count": null,
      "metadata": {
        "colab": {
          "base_uri": "https://localhost:8080/",
          "height": 36
        },
        "id": "Oawr_zKzgHo8",
        "outputId": "5f0315e3-f6a3-496a-d316-4307482611eb"
      },
      "outputs": [],
      "source": [
        "name = \".a..Rohit Sharma..b.\"\n",
        "\n",
        "name.strip(\".\")"
      ]
    },
    {
      "cell_type": "code",
      "execution_count": null,
      "metadata": {
        "colab": {
          "base_uri": "https://localhost:8080/",
          "height": 36
        },
        "id": "fV4Eg774gwKf",
        "outputId": "5f4f884e-e6dc-4fa6-c6c4-7f899f1a8d86"
      },
      "outputs": [],
      "source": [
        "name = \".a..Rohit Sharma..b.\"\n",
        "\n",
        "name.strip(\".Ra\")"
      ]
    },
    {
      "cell_type": "code",
      "execution_count": null,
      "metadata": {
        "colab": {
          "base_uri": "https://localhost:8080/",
          "height": 36
        },
        "id": "pthRCVFshZFR",
        "outputId": "dbfd091b-0931-445d-8e2e-f4397e9a2bb2"
      },
      "outputs": [],
      "source": [
        "name = \".a..Rohit Sharma..b.\"\n",
        "\n",
        "name.strip(\".rabm\")"
      ]
    },
    {
      "cell_type": "code",
      "execution_count": null,
      "metadata": {
        "colab": {
          "base_uri": "https://localhost:8080/",
          "height": 36
        },
        "id": "DQyer2QwiIi6",
        "outputId": "97aad91d-e6d7-4860-b31f-e2f14a50beb1"
      },
      "outputs": [],
      "source": [
        "# lstrip\n",
        "\n",
        "name = \".a..Rohit Sharma..b.\"\n",
        "\n",
        "name.lstrip(\".Rabm\")"
      ]
    },
    {
      "cell_type": "code",
      "execution_count": null,
      "metadata": {
        "colab": {
          "base_uri": "https://localhost:8080/",
          "height": 36
        },
        "id": "Ip9dXpPVirXC",
        "outputId": "315c4940-1194-481a-84fc-fd5c46ab541d"
      },
      "outputs": [],
      "source": [
        "# lstrip\n",
        "\n",
        "name = \" .a..Rohit Sharma..b. \"\n",
        "\n",
        "name.lstrip()"
      ]
    },
    {
      "cell_type": "code",
      "execution_count": null,
      "metadata": {
        "colab": {
          "base_uri": "https://localhost:8080/",
          "height": 36
        },
        "id": "CQERt0xSiWBo",
        "outputId": "a116fd46-9fdc-497d-aa25-cecc5517c91c"
      },
      "outputs": [],
      "source": [
        "# rstrip\n",
        "\n",
        "name = \".a..Rohit Sharma..b.\"\n",
        "\n",
        "name.rstrip(\".rabm\")"
      ]
    },
    {
      "cell_type": "code",
      "execution_count": null,
      "metadata": {
        "colab": {
          "base_uri": "https://localhost:8080/",
          "height": 36
        },
        "id": "mSSI_fA8ilh8",
        "outputId": "279d5a84-7d2c-4c07-980d-136ac1a6e498"
      },
      "outputs": [],
      "source": [
        "# rstrip\n",
        "\n",
        "name = \" .a..Rohit Sharma..b. \"\n",
        "\n",
        "name.rstrip()"
      ]
    },
    {
      "cell_type": "code",
      "execution_count": null,
      "metadata": {
        "colab": {
          "base_uri": "https://localhost:8080/"
        },
        "id": "y9yWvTmHjKdx",
        "outputId": "03573993-92c9-4acc-e8a5-f8ae6a07d6a7"
      },
      "outputs": [],
      "source": [
        "# split\n",
        "\n",
        "message = \"All the best for your GATE 2025 Exams\"\n",
        "\n",
        "message.split()"
      ]
    },
    {
      "cell_type": "code",
      "execution_count": null,
      "metadata": {
        "colab": {
          "base_uri": "https://localhost:8080/"
        },
        "id": "bc4EH59Cj9uh",
        "outputId": "4f5d70e5-d571-493b-8a86-cbc43dd98027"
      },
      "outputs": [],
      "source": [
        "# split\n",
        "\n",
        "message = \"Rohit, Virat, Pant, and Surya were the India's best batters\"\n",
        "\n",
        "message.split()"
      ]
    },
    {
      "cell_type": "code",
      "execution_count": null,
      "metadata": {
        "colab": {
          "base_uri": "https://localhost:8080/"
        },
        "id": "ts6zx0fmls96",
        "outputId": "41f8c9cc-3854-4c40-ae68-9b403e576aa6"
      },
      "outputs": [],
      "source": [
        "\n",
        "message = \"Rohit, Virat, Pant, and Surya were the India's best batters\"\n",
        "\n",
        "m = message.split(\"Virat\")\n",
        "for l in m:\n",
        "  print(l)"
      ]
    },
    {
      "cell_type": "code",
      "execution_count": null,
      "metadata": {
        "colab": {
          "base_uri": "https://localhost:8080/"
        },
        "id": "6NL5AmDYkNhO",
        "outputId": "0e8fc0a7-1386-406b-da8c-da1639fa7367"
      },
      "outputs": [],
      "source": [
        "message = \"Rohit, Virat, Pant, and Surya were the India's best batters\"\n",
        "\n",
        "message.split(', ')"
      ]
    },
    {
      "cell_type": "code",
      "execution_count": null,
      "metadata": {
        "colab": {
          "base_uri": "https://localhost:8080/"
        },
        "id": "JZlerwLjlBES",
        "outputId": "0a38af0d-fc55-4e57-82f3-2b0bab806067"
      },
      "outputs": [],
      "source": [
        "message = \"All the best for your GATE 2025 Exams\"\n",
        "\n",
        "message.split(\" \", maxsplit = 3)"
      ]
    },
    {
      "cell_type": "code",
      "execution_count": null,
      "metadata": {
        "colab": {
          "base_uri": "https://localhost:8080/"
        },
        "id": "fs4THZUxmElv",
        "outputId": "3d36b77e-0269-4be0-91bf-dfbbe0163cd3"
      },
      "outputs": [],
      "source": [
        "message = \"All the best for your GATE 2025 Exams\"\n",
        "\n",
        "message.rsplit()"
      ]
    },
    {
      "cell_type": "code",
      "execution_count": null,
      "metadata": {
        "colab": {
          "base_uri": "https://localhost:8080/"
        },
        "id": "rfiZGle1mZ2f",
        "outputId": "07e19eda-f74f-41a5-ec6c-f36781166b7d"
      },
      "outputs": [],
      "source": [
        "message = \"All the best for your GATE 2025 Exams\"\n",
        "\n",
        "message.rsplit(\" \", maxsplit=2)"
      ]
    },
    {
      "cell_type": "code",
      "execution_count": null,
      "metadata": {
        "colab": {
          "base_uri": "https://localhost:8080/"
        },
        "id": "qAvRs1fUmzcQ",
        "outputId": "ec19d5eb-8d2c-413e-9580-793448e0df8a"
      },
      "outputs": [],
      "source": [
        "message = \"Rohit, Virat, Pant, and Surya were the India's best batters\"\n",
        "\n",
        "m = message.rsplit(\"Virat\")\n",
        "for l in m:\n",
        "  print(l)"
      ]
    },
    {
      "cell_type": "code",
      "execution_count": null,
      "metadata": {
        "colab": {
          "base_uri": "https://localhost:8080/"
        },
        "id": "1tzWdH6Qm6kM",
        "outputId": "cd940c71-1737-4cec-e612-b91831980498"
      },
      "outputs": [],
      "source": [
        "message = \"All the best for your GATE 2025 Exams\"\n",
        "print(message.split(maxsplit=2))\n",
        "print(message.rsplit(maxsplit=2))"
      ]
    },
    {
      "cell_type": "code",
      "execution_count": null,
      "metadata": {
        "colab": {
          "base_uri": "https://localhost:8080/",
          "height": 36
        },
        "id": "otCJla8QnQ-z",
        "outputId": "6ca42375-c04d-40c0-91c5-a0b5a63764ec"
      },
      "outputs": [],
      "source": [
        "gate_instructors = \"RBR JayBansal Hari Venkatesh\"\n",
        "\n",
        "\"-\".join(gate_instructors)"
      ]
    },
    {
      "cell_type": "code",
      "execution_count": null,
      "metadata": {
        "colab": {
          "base_uri": "https://localhost:8080/",
          "height": 36
        },
        "id": "sxD78WXtpLCO",
        "outputId": "642d0579-a5ff-4940-e608-c048c9a8c2e0"
      },
      "outputs": [],
      "source": [
        "match_day = \"India-Pakistan\"\n",
        "\n",
        "\"vs\".join(match_day)"
      ]
    },
    {
      "cell_type": "code",
      "execution_count": null,
      "metadata": {
        "colab": {
          "base_uri": "https://localhost:8080/",
          "height": 53
        },
        "id": "ob717xqRpmbX",
        "outputId": "189e2bc3-ec78-4333-f906-08de71319259"
      },
      "outputs": [],
      "source": [
        "match_day = \"India-Pakistan\"\n",
        "\n",
        "\"IndiaWin\".join(match_day)"
      ]
    },
    {
      "cell_type": "code",
      "execution_count": null,
      "metadata": {
        "colab": {
          "base_uri": "https://localhost:8080/"
        },
        "id": "UvjDDCChni7b",
        "outputId": "337fae0e-5987-4dff-f353-ae99ec5dd190"
      },
      "outputs": [],
      "source": [
        "l = [\"Python\", \"is\", \"going\", \"good\"]\n",
        "s = \"-\".join(l) # Python is going good\n",
        "print(s)"
      ]
    },
    {
      "cell_type": "code",
      "execution_count": null,
      "metadata": {
        "colab": {
          "base_uri": "https://localhost:8080/",
          "height": 162
        },
        "id": "aJlBDiXOoQ37",
        "outputId": "9584ac84-1bc9-4c4c-b643-322cf33d68c4"
      },
      "outputs": [],
      "source": [
        "l = [1,2,3]\n",
        "\" \".join(l)"
      ]
    },
    {
      "cell_type": "code",
      "execution_count": null,
      "metadata": {
        "colab": {
          "base_uri": "https://localhost:8080/",
          "height": 162
        },
        "id": "0S9Xxc_nofYY",
        "outputId": "bad7e511-3c44-4764-db36-35cdc5e4be4b"
      },
      "outputs": [],
      "source": [
        "l = [1,2,3]\n",
        "\" \".join()"
      ]
    },
    {
      "cell_type": "code",
      "execution_count": null,
      "metadata": {
        "colab": {
          "base_uri": "https://localhost:8080/"
        },
        "id": "F7CcTOCJqXnE",
        "outputId": "3fc4d313-1d1f-441f-ea4e-56acf2a006bc"
      },
      "outputs": [],
      "source": [
        "len(dir(str))"
      ]
    },
    {
      "cell_type": "code",
      "execution_count": null,
      "metadata": {
        "colab": {
          "base_uri": "https://localhost:8080/",
          "height": 36
        },
        "id": "pd6KkhRHqjZO",
        "outputId": "adea9da6-f72d-48e7-db2f-f9f40a138ce6"
      },
      "outputs": [],
      "source": [
        "# replace\n",
        "\n",
        "ind_players = \"Virat, Rohit, Sky, Pant, Dube, Hardik, Jadeja, Bumrah\"\n",
        "\n",
        "ind_players.replace('Dube', \"Rinku\")"
      ]
    },
    {
      "cell_type": "code",
      "execution_count": null,
      "metadata": {
        "colab": {
          "base_uri": "https://localhost:8080/",
          "height": 36
        },
        "id": "3GVDwxBkrF4P",
        "outputId": "eff5771e-0aa3-43cd-df3b-808e27dfd1a4"
      },
      "outputs": [],
      "source": [
        "ind_players = \"Virat, Rohit, Sky, Pant, Shivam Dube, Hardik, Jadeja, Bumrah, Shubham Dube\"\n",
        "\n",
        "ind_players.replace('Dube', \"Rinku\")"
      ]
    },
    {
      "cell_type": "code",
      "execution_count": null,
      "metadata": {
        "colab": {
          "base_uri": "https://localhost:8080/",
          "height": 36
        },
        "id": "y0SGzBhKrRHM",
        "outputId": "3fed050f-5472-4602-e5a1-ddb716d5b3d1"
      },
      "outputs": [],
      "source": [
        "ind_players = \"Virat, Rohit, Sky, Pant, Dube, Hardik, Jadeja, Bumrah, Dube\"\n",
        "\n",
        "ind_players.replace('Dube', \"XYZ\")"
      ]
    },
    {
      "cell_type": "code",
      "execution_count": null,
      "metadata": {
        "colab": {
          "base_uri": "https://localhost:8080/",
          "height": 36
        },
        "id": "pnH03qgxr2jI",
        "outputId": "7c86b507-ac82-4b14-adbb-0b9617dcd674"
      },
      "outputs": [],
      "source": [
        "ind_players = \"Virat, Rohit, Sky, Pant, Shivam Dube, Dube, Dube, Dube, Hardik, Jadeja, Bumrah, Shubham Dube\"\n",
        "\n",
        "ind_players.replace('Dube', \"Rinku\", 2)"
      ]
    },
    {
      "cell_type": "code",
      "execution_count": null,
      "metadata": {
        "colab": {
          "base_uri": "https://localhost:8080/",
          "height": 36
        },
        "id": "dZOuKWNVsa7e",
        "outputId": "68e5d59b-ccba-41da-98ba-28d73046de12"
      },
      "outputs": [],
      "source": [
        "ind_players = \"Virat, Rohit, Sky, Pant, Shivam Dube, Dube, Dube, Dube, Hardik, Jadeja, Bumrah, Shubham Dube\"\n",
        "\n",
        "ind_players.replace('a', \"***\", 3)"
      ]
    },
    {
      "cell_type": "code",
      "execution_count": null,
      "metadata": {
        "colab": {
          "base_uri": "https://localhost:8080/",
          "height": 36
        },
        "id": "vHIlbS10sjsH",
        "outputId": "b8277d85-abfd-40f7-b66a-8955cea87f9a"
      },
      "outputs": [],
      "source": [
        "# upper\n",
        "\n",
        "name = \"Venkatesh\"\n",
        "\n",
        "name.upper()"
      ]
    },
    {
      "cell_type": "code",
      "execution_count": null,
      "metadata": {
        "colab": {
          "base_uri": "https://localhost:8080/",
          "height": 36
        },
        "id": "pInBIcwWssjV",
        "outputId": "230e77c4-e4e8-44a9-e195-8394864f2d11"
      },
      "outputs": [],
      "source": [
        "name = \"venkatesh\"\n",
        "\n",
        "name.upper()"
      ]
    },
    {
      "cell_type": "code",
      "execution_count": null,
      "metadata": {
        "colab": {
          "base_uri": "https://localhost:8080/",
          "height": 36
        },
        "id": "APVAncqVsuza",
        "outputId": "dbd90df3-4e81-4c70-969c-e5351218bbe9"
      },
      "outputs": [],
      "source": [
        "name = \"v298enkate@$%sh\"\n",
        "\n",
        "name.upper()"
      ]
    },
    {
      "cell_type": "code",
      "execution_count": null,
      "metadata": {
        "colab": {
          "base_uri": "https://localhost:8080/",
          "height": 36
        },
        "id": "zoDbUMT-s2F5",
        "outputId": "51fc6968-c1e8-440d-fe5d-958006247783"
      },
      "outputs": [],
      "source": [
        "# lower\n",
        "name = \"Venkatesh\"\n",
        "\n",
        "name.lower()"
      ]
    },
    {
      "cell_type": "code",
      "execution_count": null,
      "metadata": {
        "colab": {
          "base_uri": "https://localhost:8080/",
          "height": 36
        },
        "id": "MnGnuIBXs8GN",
        "outputId": "a8768061-4bd4-4f96-c57b-c3d3fdb963f0"
      },
      "outputs": [],
      "source": [
        "# lower\n",
        "name = \"VENKATESH\"\n",
        "\n",
        "name.lower()"
      ]
    },
    {
      "cell_type": "code",
      "execution_count": null,
      "metadata": {
        "colab": {
          "base_uri": "https://localhost:8080/",
          "height": 36
        },
        "id": "JMqlRzOMs_-U",
        "outputId": "1309868b-fc0a-4c7f-eff6-73ebe0dbe835"
      },
      "outputs": [],
      "source": [
        "stri = \"V298ENKATE@$%SH\"\n",
        "stri.lower()"
      ]
    },
    {
      "cell_type": "code",
      "execution_count": null,
      "metadata": {
        "colab": {
          "base_uri": "https://localhost:8080/"
        },
        "id": "0_TdVRDNtHQM",
        "outputId": "65589805-a746-49c4-87a7-e89a14883c47"
      },
      "outputs": [],
      "source": [
        "name = \"VENKATESH\"\n",
        "\n",
        "name.islower()"
      ]
    },
    {
      "cell_type": "code",
      "execution_count": null,
      "metadata": {
        "colab": {
          "base_uri": "https://localhost:8080/"
        },
        "id": "NBlHPCQktNoM",
        "outputId": "0461574d-ea90-4a62-fd33-8e333adc0675"
      },
      "outputs": [],
      "source": [
        "name = \"venkatesH\"\n",
        "\n",
        "name.islower()"
      ]
    },
    {
      "cell_type": "code",
      "execution_count": null,
      "metadata": {
        "colab": {
          "base_uri": "https://localhost:8080/"
        },
        "id": "_LEyx9_mtV7Y",
        "outputId": "f43002b5-7a4b-4486-c45c-af88df7776a1"
      },
      "outputs": [],
      "source": [
        "name = \"venkatesh\"\n",
        "\n",
        "name.islower()"
      ]
    },
    {
      "cell_type": "code",
      "execution_count": null,
      "metadata": {
        "colab": {
          "base_uri": "https://localhost:8080/"
        },
        "id": "emn6uKHvtZBr",
        "outputId": "98ccc8a7-5881-46c9-a423-b2da73616c7b"
      },
      "outputs": [],
      "source": [
        "name = \"venk0320120%^@atesh\"\n",
        "\n",
        "name.islower()"
      ]
    },
    {
      "cell_type": "code",
      "execution_count": null,
      "metadata": {
        "colab": {
          "base_uri": "https://localhost:8080/"
        },
        "id": "QYIqhXxWte-d",
        "outputId": "721ade5e-3ea4-404e-b192-5a6d99f04dfd"
      },
      "outputs": [],
      "source": [
        "name = \"venk0320120%^@ateHh\"\n",
        "\n",
        "name.islower()"
      ]
    },
    {
      "cell_type": "code",
      "execution_count": null,
      "metadata": {
        "id": "8hjSiMLQtiLi"
      },
      "outputs": [],
      "source": [
        "# upper\n",
        "\n",
        "name.isupper()"
      ]
    },
    {
      "cell_type": "code",
      "execution_count": null,
      "metadata": {
        "colab": {
          "base_uri": "https://localhost:8080/",
          "height": 36
        },
        "id": "gZRMkWNjv1Ai",
        "outputId": "17fc631f-f1e5-4e6f-a3c1-dd1261cdd972"
      },
      "outputs": [],
      "source": [
        "name = \"anushka Sharma\"\n",
        "\n",
        "name.capitalize()"
      ]
    },
    {
      "cell_type": "code",
      "execution_count": null,
      "metadata": {
        "colab": {
          "base_uri": "https://localhost:8080/",
          "height": 36
        },
        "id": "WZGt9vOSwCl9",
        "outputId": "5fffc1ca-3582-4bee-e50d-e24ac91c1619"
      },
      "outputs": [],
      "source": [
        "name = \"AnUshkA ShaRma\"\n",
        "\n",
        "name.capitalize()"
      ]
    },
    {
      "cell_type": "code",
      "execution_count": null,
      "metadata": {
        "colab": {
          "base_uri": "https://localhost:8080/",
          "height": 36
        },
        "id": "gVBy0ACxwKhx",
        "outputId": "8de92ef6-e290-4ccb-9b6c-7a1bd50fae59"
      },
      "outputs": [],
      "source": [
        "name = \"2136976$%Lokesh Parab\"\n",
        "\n",
        "name.capitalize()"
      ]
    },
    {
      "cell_type": "code",
      "execution_count": null,
      "metadata": {
        "colab": {
          "base_uri": "https://localhost:8080/",
          "height": 36
        },
        "id": "Db2irKsjwkYd",
        "outputId": "ada86b2f-01f5-482d-94cd-bc996e6aa6e3"
      },
      "outputs": [],
      "source": [
        "name = \"PyThon ProGramming - by VirAt KOHli\"\n",
        "\n",
        "name.swapcase() # lower to upper and upper to lower"
      ]
    },
    {
      "cell_type": "code",
      "execution_count": null,
      "metadata": {
        "colab": {
          "base_uri": "https://localhost:8080/"
        },
        "id": "YJveTefIw5P-",
        "outputId": "b13d3e54-1286-4f00-f401-8397bfe4fe4d"
      },
      "outputs": [],
      "source": [
        "code = \"Code Red\"\n",
        "\n",
        "code.isalpha()"
      ]
    },
    {
      "cell_type": "code",
      "execution_count": null,
      "metadata": {
        "colab": {
          "base_uri": "https://localhost:8080/"
        },
        "id": "-V7SqrpSxGjv",
        "outputId": "4e764a9b-8952-4b2e-e7af-d6cdfee21ec7"
      },
      "outputs": [],
      "source": [
        "code = \"CodeRed\"\n",
        "\n",
        "code.isalpha()"
      ]
    },
    {
      "cell_type": "code",
      "execution_count": null,
      "metadata": {
        "colab": {
          "base_uri": "https://localhost:8080/"
        },
        "id": "9D7mxGthxJQP",
        "outputId": "2c48c107-2301-4aa7-a6de-aa7e7f78d525"
      },
      "outputs": [],
      "source": [
        "code = \"Code+Red\"\n",
        "\n",
        "code.isalpha() # a to z or A to Z , if u have spaces, numbers, or other operators then it will return false"
      ]
    },
    {
      "cell_type": "code",
      "execution_count": null,
      "metadata": {
        "colab": {
          "base_uri": "https://localhost:8080/"
        },
        "id": "Fgn07xZaxToR",
        "outputId": "f2baaf55-5ad5-48d7-bbd2-23aaab4c49ee"
      },
      "outputs": [],
      "source": [
        "code = \"CodeRed43\"\n",
        "\n",
        "code.isalpha()"
      ]
    },
    {
      "cell_type": "code",
      "execution_count": null,
      "metadata": {
        "colab": {
          "base_uri": "https://localhost:8080/"
        },
        "id": "NpsB8VI9xYKW",
        "outputId": "737b44bf-d1c1-4ff7-b293-24d729dc5ee5"
      },
      "outputs": [],
      "source": [
        "cricket_score = \"234\"\n",
        "cricket_score.isnumeric()"
      ]
    },
    {
      "cell_type": "code",
      "execution_count": null,
      "metadata": {
        "colab": {
          "base_uri": "https://localhost:8080/"
        },
        "id": "MvDQAnUCxp3q",
        "outputId": "19367269-5a56-4355-9e51-36942e8e127c"
      },
      "outputs": [],
      "source": [
        "cricket_score = \"234.0\"\n",
        "cricket_score.isnumeric()"
      ]
    },
    {
      "cell_type": "code",
      "execution_count": null,
      "metadata": {
        "colab": {
          "base_uri": "https://localhost:8080/"
        },
        "id": "R4jfvui_xxvu",
        "outputId": "4bb0ba0a-b83b-40b7-c948-9003b0760010"
      },
      "outputs": [],
      "source": [
        "cricket_score = \"-2340\"\n",
        "cricket_score.isnumeric()"
      ]
    },
    {
      "cell_type": "code",
      "execution_count": null,
      "metadata": {
        "colab": {
          "base_uri": "https://localhost:8080/"
        },
        "id": "0Ww0zsSzx5I7",
        "outputId": "ba33234b-b2e4-4794-9b37-dae31bbb21e2"
      },
      "outputs": [],
      "source": [
        "cricket_score = \"\\123\"\n",
        "cricket_score.isnumeric()"
      ]
    },
    {
      "cell_type": "code",
      "execution_count": null,
      "metadata": {
        "colab": {
          "base_uri": "https://localhost:8080/"
        },
        "id": "8XF4y1E4yAPx",
        "outputId": "dbf690f6-637a-4bfc-eace-bd0890e1ebe6"
      },
      "outputs": [],
      "source": [
        "# isalnum\n",
        "\n",
        "s = \"Virat18\"\n",
        "\n",
        "s.isalnum()"
      ]
    },
    {
      "cell_type": "code",
      "execution_count": null,
      "metadata": {
        "colab": {
          "base_uri": "https://localhost:8080/"
        },
        "id": "dCZcyT63yMbc",
        "outputId": "739114fa-2d4b-40c3-fdeb-e3874fedcd42"
      },
      "outputs": [],
      "source": [
        "s = \"Virat scored 183\"\n",
        "\n",
        "s.isalnum()"
      ]
    },
    {
      "cell_type": "code",
      "execution_count": null,
      "metadata": {
        "colab": {
          "base_uri": "https://localhost:8080/"
        },
        "id": "ZrEMU3W1ySx7",
        "outputId": "47eda84c-c562-4db2-a636-4dd726cb1d84"
      },
      "outputs": [],
      "source": [
        "s = \"PersonAscored-10inExamduetonegativemarking\"\n",
        "\n",
        "s.isalnum()"
      ]
    },
    {
      "cell_type": "code",
      "execution_count": null,
      "metadata": {
        "colab": {
          "base_uri": "https://localhost:8080/"
        },
        "id": "wQylNWRayS1l",
        "outputId": "e50d08f7-ffba-4c82-f622-d6ca20dad270"
      },
      "outputs": [],
      "source": [
        "# count\n",
        "\n",
        "statement = \"Virat is the best player of our generation and Virat scored 50 centuries in ODI. Virat is 35 years old now.\"\n",
        "\n",
        "statement.count(\"Virat\")"
      ]
    },
    {
      "cell_type": "code",
      "execution_count": null,
      "metadata": {
        "colab": {
          "base_uri": "https://localhost:8080/"
        },
        "id": "Xs_jEeIby0mP",
        "outputId": "083dfa78-10ff-4ee8-e60c-90c6add700df"
      },
      "outputs": [],
      "source": [
        "statement = \"Virat is the best player of our generation and Virat scored 50 centuries in ODI. Virat is 35 years old now.\"\n",
        "\n",
        "statement.count(\"i\")"
      ]
    },
    {
      "cell_type": "code",
      "execution_count": null,
      "metadata": {
        "colab": {
          "base_uri": "https://localhost:8080/"
        },
        "id": "ALLtYik0y9ph",
        "outputId": "cb70f81b-259d-4426-f7b9-803697b3fe78"
      },
      "outputs": [],
      "source": [
        "statement = \"Virat is the best player of our generation and Virat scored 50 centuries in ODI. Virat is 35 years old now.\"\n",
        "\n",
        "statement.count(\"Virat\", 2, 30)"
      ]
    },
    {
      "cell_type": "code",
      "execution_count": null,
      "metadata": {
        "colab": {
          "base_uri": "https://localhost:8080/"
        },
        "id": "aM1WEUcxziGt",
        "outputId": "9f6aba50-3eee-4941-dd1a-f1ee9b7112a6"
      },
      "outputs": [],
      "source": [
        "name = \"Virat Kohli\"\n",
        "\n",
        "name.count(\"i\",1,10)"
      ]
    },
    {
      "cell_type": "code",
      "execution_count": null,
      "metadata": {
        "colab": {
          "base_uri": "https://localhost:8080/"
        },
        "id": "D90uC11uz5yo",
        "outputId": "728f4b98-3c07-4438-b145-dfb7745e97bb"
      },
      "outputs": [],
      "source": [
        "# find\n",
        "\n",
        "statement = \"Python Course - Python\"\n",
        "\n",
        "statement.find(\"ho\")"
      ]
    },
    {
      "cell_type": "code",
      "execution_count": null,
      "metadata": {
        "colab": {
          "base_uri": "https://localhost:8080/"
        },
        "id": "WWhfrm3x0xbP",
        "outputId": "7d9301e1-5e32-4efd-a4f3-849a5504f419"
      },
      "outputs": [],
      "source": [
        "# find\n",
        "\n",
        "statement = \"Python Course - Python\"\n",
        "\n",
        "statement.find(\"oh\")"
      ]
    },
    {
      "cell_type": "code",
      "execution_count": null,
      "metadata": {
        "colab": {
          "base_uri": "https://localhost:8080/"
        },
        "id": "CuZn5bG71AHV",
        "outputId": "b6124434-53ac-4c9b-e595-33388066390f"
      },
      "outputs": [],
      "source": [
        "# rfind\n",
        "\n",
        "statement = \"Python Course - Python\"\n",
        "\n",
        "statement.rfind(\"ho\")"
      ]
    },
    {
      "cell_type": "code",
      "execution_count": null,
      "metadata": {
        "colab": {
          "base_uri": "https://localhost:8080/"
        },
        "id": "ViyfDln31cys",
        "outputId": "72882f3b-d3ba-4b49-a7ed-eb35d9e11026"
      },
      "outputs": [],
      "source": [
        "# rfind\n",
        "\n",
        "statement = \"Python Course\"\n",
        "print(statement.find(\"ho\"))\n",
        "print(statement.rfind(\"ho\"))"
      ]
    },
    {
      "cell_type": "code",
      "execution_count": null,
      "metadata": {
        "colab": {
          "base_uri": "https://localhost:8080/"
        },
        "id": "VRiL2WA31naO",
        "outputId": "df78197f-99e0-44cd-9cd9-0ca99a1dafb2"
      },
      "outputs": [],
      "source": [
        "# rfind\n",
        "\n",
        "statement = \"Python Course - Python\"\n",
        "\n",
        "statement.rfind(\"oh\")"
      ]
    },
    {
      "cell_type": "code",
      "execution_count": null,
      "metadata": {
        "colab": {
          "base_uri": "https://localhost:8080/"
        },
        "id": "VYRgB13y1wRw",
        "outputId": "a6719948-f570-4f5e-d2de-2e9e80d93e6a"
      },
      "outputs": [],
      "source": [
        "# index\n",
        "\n",
        "statement = \"Python Course - Python\"\n",
        "\n",
        "statement.index(\"ho\")"
      ]
    },
    {
      "cell_type": "code",
      "execution_count": null,
      "metadata": {
        "colab": {
          "base_uri": "https://localhost:8080/",
          "height": 180
        },
        "id": "2eSQ3IzP148F",
        "outputId": "619d5607-bacf-4b95-fa6c-0c24dce2cbda"
      },
      "outputs": [],
      "source": [
        "# index\n",
        "\n",
        "statement = \"Python Course - Python\"\n",
        "\n",
        "statement.index(\"oh\")"
      ]
    },
    {
      "cell_type": "code",
      "execution_count": null,
      "metadata": {
        "colab": {
          "base_uri": "https://localhost:8080/"
        },
        "id": "KrWnLHC010N0",
        "outputId": "8e86cb3d-2eb8-4b69-873c-9a799fe1a052"
      },
      "outputs": [],
      "source": [
        "# rindex\n",
        "\n",
        "statement = \"Python Course - Python\"\n",
        "\n",
        "statement.rindex(\"ho\")"
      ]
    },
    {
      "cell_type": "code",
      "execution_count": null,
      "metadata": {
        "colab": {
          "base_uri": "https://localhost:8080/",
          "height": 180
        },
        "id": "r2zQgLs31_fS",
        "outputId": "f83a1611-96ed-4689-d409-c2991789b391"
      },
      "outputs": [],
      "source": [
        "# index\n",
        "\n",
        "statement = \"Python Course - Python\"\n",
        "\n",
        "statement.rindex(\"oh\")"
      ]
    },
    {
      "cell_type": "code",
      "execution_count": null,
      "metadata": {
        "id": "VFd7qZzF2OCP"
      },
      "outputs": [],
      "source": [
        "# https://www.w3schools.com/python/python_ref_string.asp\n",
        "\n",
        "# https://www.geeksforgeeks.org/python-string-methods/"
      ]
    }
  ],
  "metadata": {
    "colab": {
      "provenance": []
    },
    "kernelspec": {
      "display_name": "Python 3",
      "name": "python3"
    },
    "language_info": {
      "name": "python",
      "version": "3.12.4"
    }
  },
  "nbformat": 4,
  "nbformat_minor": 0
}
