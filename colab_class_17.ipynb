{
  "cells": [
    {
      "cell_type": "markdown",
      "metadata": {
        "id": "KkmxGCnrhUde"
      },
      "source": [
        "### **Functions**"
      ]
    },
    {
      "cell_type": "code",
      "execution_count": null,
      "metadata": {
        "id": "elccD5gsiu4y"
      },
      "outputs": [],
      "source": [
        "def condition_checker(f):\n",
        "  if f%2 == 0:\n",
        "    print(\"abc\")\n",
        "    print(123)\n",
        "    print(1+2+3)\n",
        "    print(\"ab\"+\"bc\"+\"ca\")\n",
        "  else:\n",
        "    print(\"cba\")\n",
        "    print(321)\n",
        "    print(3-2-1)\n",
        "    print(\"ab\"*5)"
      ]
    },
    {
      "cell_type": "code",
      "execution_count": null,
      "metadata": {
        "colab": {
          "base_uri": "https://localhost:8080/"
        },
        "id": "yiQi1AjXhWCp",
        "outputId": "2006ab4b-dfa0-4146-81d2-4ce8bae780ed"
      },
      "outputs": [],
      "source": [
        "condition_checker(10)"
      ]
    },
    {
      "cell_type": "code",
      "execution_count": null,
      "metadata": {
        "colab": {
          "base_uri": "https://localhost:8080/"
        },
        "id": "Bx6t20gJiL3f",
        "outputId": "c9248ecc-7ae7-40ee-ea4e-116cfd8490d8"
      },
      "outputs": [],
      "source": [
        "condition_checker(15)"
      ]
    },
    {
      "cell_type": "code",
      "execution_count": null,
      "metadata": {
        "id": "DwqoBoZDjui2"
      },
      "outputs": [],
      "source": [
        "def intro_to_python():\n",
        "  pass\n",
        "\n",
        "def teach_datatypes():\n",
        "  pass\n",
        "\n",
        "def teach_functions():\n",
        "  pass\n",
        "\n",
        "def teach_python():\n",
        "  a = intro_to_python()\n",
        "  b = teach_datatypes()\n",
        "  c = teach_functions()"
      ]
    },
    {
      "cell_type": "code",
      "execution_count": null,
      "metadata": {
        "colab": {
          "base_uri": "https://localhost:8080/"
        },
        "id": "I37ZNcPgli_x",
        "outputId": "176316ba-542a-43c5-f70c-b73eb8010648"
      },
      "outputs": [],
      "source": [
        "# defining a function\n",
        "\n",
        "def python_function():\n",
        "  print(\"Welcome to Functions class\")\n",
        "  l = [100,200,300,400]\n",
        "  return l\n",
        "\n",
        "# calling a function\n",
        "\n",
        "func_return = python_function()\n",
        "print(func_return)\n",
        "print(type(func_return))"
      ]
    },
    {
      "cell_type": "code",
      "execution_count": null,
      "metadata": {
        "colab": {
          "base_uri": "https://localhost:8080/"
        },
        "id": "Xn8JK0xMm4Mg",
        "outputId": "15626251-ee7c-43a7-9141-56386a08e3c2"
      },
      "outputs": [],
      "source": [
        "# passing the arguments to the functions\n",
        "\n",
        "def f_name(name):\n",
        "  print(\"Entered Name : {}\".format(name))\n",
        "  return name*2\n",
        "\n",
        "ret_val = f_name(\"Virat\")\n",
        "print(ret_val)\n",
        "print(type(ret_val))"
      ]
    },
    {
      "cell_type": "code",
      "execution_count": null,
      "metadata": {
        "colab": {
          "base_uri": "https://localhost:8080/"
        },
        "id": "mCaMBoaUnqpx",
        "outputId": "63699180-c350-4475-d718-a5b09c17d90f"
      },
      "outputs": [],
      "source": [
        "def f_name(name):\n",
        "  print(\"Entered Name : {}\".format(name))\n",
        "  return name*2\n",
        "\n",
        "ret_val = f_name(10)\n",
        "print(ret_val)\n",
        "print(type(ret_val))"
      ]
    },
    {
      "cell_type": "code",
      "execution_count": null,
      "metadata": {
        "colab": {
          "base_uri": "https://localhost:8080/"
        },
        "id": "wCN6Zmyjn6Ai",
        "outputId": "adf2f373-1c69-4e7e-a042-bdaf1fb01702"
      },
      "outputs": [],
      "source": [
        "def f_name(name):\n",
        "  print(\"Entered Name : {}\".format(name))\n",
        "  return name*2\n",
        "\n",
        "ret_val = f_name([1,2,3])\n",
        "print(ret_val)\n",
        "print(type(ret_val))"
      ]
    },
    {
      "cell_type": "code",
      "execution_count": null,
      "metadata": {
        "colab": {
          "base_uri": "https://localhost:8080/",
          "height": 413
        },
        "id": "nqnT6uL2oDtD",
        "outputId": "5382aa83-d6b6-4d00-90ca-d130e37ebd9a"
      },
      "outputs": [],
      "source": [
        "def sub_calculator(num):\n",
        "  print(\"Entered Num : {}\".format(num))\n",
        "  a = 100\n",
        "  print(\"abc\")\n",
        "  print(num*5)\n",
        "  print(num+\"5\")\n",
        "  return a-num\n",
        "\n",
        "ret_val = sub_calculator(\"50\")\n",
        "print(ret_val)\n",
        "print(type(ret_val))"
      ]
    },
    {
      "cell_type": "code",
      "execution_count": null,
      "metadata": {
        "colab": {
          "base_uri": "https://localhost:8080/",
          "height": 216
        },
        "id": "PzcWbR1CpN6Z",
        "outputId": "d160304b-abbb-4d5c-f012-992f46976b8c"
      },
      "outputs": [],
      "source": [
        "def f_name(name):\n",
        "  print(\"Entered Name : {}\".format(name))\n",
        "  return name*2\n",
        "\n",
        "ret_val = f_name()\n",
        "print(ret_val)\n",
        "print(type(ret_val))"
      ]
    },
    {
      "cell_type": "code",
      "execution_count": null,
      "metadata": {
        "colab": {
          "base_uri": "https://localhost:8080/"
        },
        "id": "vPNdGWvcphuw",
        "outputId": "66dea72a-0cb0-420a-8a3a-687b0e167041"
      },
      "outputs": [],
      "source": [
        "def info_data(name, age, occupation):\n",
        "  print(\"Name: {}\".format(name))\n",
        "  print(\"Age: {}\".format(age))\n",
        "  print(\"Occupation: {}\".format(occupation))\n",
        "\n",
        "ret_val = info_data(\"Venky\", 26, \"ML Engineer\")\n",
        "print(ret_val)\n",
        "print(type(ret_val))"
      ]
    },
    {
      "cell_type": "code",
      "execution_count": null,
      "metadata": {
        "colab": {
          "base_uri": "https://localhost:8080/"
        },
        "id": "SnHvKf3pp-FN",
        "outputId": "70ebd964-a23b-47f3-f94a-eed49a752b2e"
      },
      "outputs": [],
      "source": [
        "def info_data(name, age, occupation):\n",
        "  print(\"Name: {}\".format(name))\n",
        "  print(\"Age: {}\".format(age))\n",
        "  print(\"Occupation: {}\".format(occupation))\n",
        "\n",
        "ret_val = info_data(26, \"ML Engineer\", [12,23])\n",
        "print(ret_val)\n",
        "print(type(ret_val))"
      ]
    },
    {
      "cell_type": "code",
      "execution_count": null,
      "metadata": {
        "colab": {
          "base_uri": "https://localhost:8080/"
        },
        "id": "o7oN244Hpe7_",
        "outputId": "94a2713f-a3b7-4e3a-a01c-36165e0f6496"
      },
      "outputs": [],
      "source": [
        "# to pass any number of arguments, number of arguments is unknown\n",
        "\n",
        "def string_concatenation(*s):\n",
        "  print(s)\n",
        "  print(type(s))\n",
        "\n",
        "string_concatenation(\"a\", \"b\", \"c\")"
      ]
    },
    {
      "cell_type": "code",
      "execution_count": null,
      "metadata": {
        "colab": {
          "base_uri": "https://localhost:8080/"
        },
        "id": "W2TioYK4rd68",
        "outputId": "691fad0f-d2bb-4a94-d4dd-8f6eee45cd34"
      },
      "outputs": [],
      "source": [
        "def string_concatenation(*s):\n",
        "  print(s)\n",
        "  print(type(s))\n",
        "\n",
        "string_concatenation(\"a\")"
      ]
    },
    {
      "cell_type": "code",
      "execution_count": null,
      "metadata": {
        "colab": {
          "base_uri": "https://localhost:8080/"
        },
        "id": "xzLdz5IsrhNn",
        "outputId": "805965e3-5b1c-4475-912d-7cdbc1c3984f"
      },
      "outputs": [],
      "source": [
        "def string_concatenation(*s):\n",
        "  print(s)\n",
        "  print(type(s))\n",
        "\n",
        "string_concatenation()"
      ]
    },
    {
      "cell_type": "code",
      "execution_count": null,
      "metadata": {
        "colab": {
          "base_uri": "https://localhost:8080/"
        },
        "id": "uwW7Fa7Grl4-",
        "outputId": "bdf7df75-254d-4e59-c5aa-814d443be8a1"
      },
      "outputs": [],
      "source": [
        "def string_concatenation(*s):\n",
        "  print(s)\n",
        "  print(type(s))\n",
        "  for i in s:\n",
        "    print(len(i))\n",
        "string_concatenation(\"\")"
      ]
    },
    {
      "cell_type": "code",
      "execution_count": null,
      "metadata": {
        "colab": {
          "base_uri": "https://localhost:8080/"
        },
        "id": "6NZ93642sFRw",
        "outputId": "7ff0122e-8333-4f24-d985-83fecbda0c41"
      },
      "outputs": [],
      "source": [
        "def string_concatenation(*s): # *args , *name\n",
        "  print(s)\n",
        "  print(type(s))\n",
        "\n",
        "string_concatenation(\"a\", \"b\", \"c\", 12,12.5,False, [1,2,3], (2,3,4), {2,3,4}, {1:2,2:3})"
      ]
    },
    {
      "cell_type": "code",
      "execution_count": null,
      "metadata": {
        "colab": {
          "base_uri": "https://localhost:8080/"
        },
        "id": "8jq2SfK1sULZ",
        "outputId": "df088408-a143-4cc1-9b25-f0ec68972e08"
      },
      "outputs": [],
      "source": [
        "# keyword arguments\n",
        "\n",
        "def info_data(name, age, occupation):\n",
        "  print(\"Name: {}\".format(name))\n",
        "  print(\"Age: {}\".format(age))\n",
        "  print(\"Occupation: {}\".format(occupation))\n",
        "\n",
        "ret_val = info_data(occupation = \"ML Engineer\", name = \"Venky\", age = 26)"
      ]
    },
    {
      "cell_type": "code",
      "execution_count": null,
      "metadata": {
        "colab": {
          "base_uri": "https://localhost:8080/",
          "height": 180
        },
        "id": "qZ-yQLcotwTv",
        "outputId": "9d9e64a7-7268-42b1-e0c1-11e0ea1241bd"
      },
      "outputs": [],
      "source": [
        "\n",
        "def info_data(name, age, occupation):\n",
        "  print(\"Name: {}\".format(name))\n",
        "  print(\"Age: {}\".format(age))\n",
        "  print(\"Occupation: {}\".format(occupation))\n",
        "\n",
        "ret_val = info_data(occupation = \"ML Engineer\", name_2 = \"Venky\", age = 26)"
      ]
    },
    {
      "cell_type": "code",
      "execution_count": null,
      "metadata": {
        "colab": {
          "base_uri": "https://localhost:8080/"
        },
        "id": "fia08RUkt5Tt",
        "outputId": "60ac9c0a-f5b0-4e4a-b851-af5248ebc970"
      },
      "outputs": [],
      "source": [
        "# let say we don't know how many keyword arguments were there, i.e keyword arguments is unknown\n",
        "\n",
        "def info_data(**k): # **kwargs, **knames\n",
        "  print(k)\n",
        "  print(type(k))\n",
        "\n",
        "info_data(name = \"Venky\", occupation = \"ML Engineer\", age = 26)"
      ]
    },
    {
      "cell_type": "code",
      "execution_count": null,
      "metadata": {
        "colab": {
          "base_uri": "https://localhost:8080/"
        },
        "id": "LAMyJh_Zu3OE",
        "outputId": "069baeac-6a2d-48cb-cd41-62e4e4015100"
      },
      "outputs": [],
      "source": [
        "def info_data(**k):\n",
        "  print(k)\n",
        "  print(type(k))\n",
        "\n",
        "info_data(name = \"Venky\", occupation = \"ML Engineer\", age = 26, teaching_subjects = ['Calculus', 'Python', 'Aptitude'])\n"
      ]
    },
    {
      "cell_type": "code",
      "execution_count": null,
      "metadata": {
        "colab": {
          "base_uri": "https://localhost:8080/",
          "height": 144
        },
        "id": "IrQuwyD1vDu-",
        "outputId": "3843217f-0a11-4a93-b997-2b6f3248ca91"
      },
      "outputs": [],
      "source": [
        "info_data(\"Venky\", \"ML Engineer\", 26,['Calculus', 'Python', 'Aptitude'])"
      ]
    },
    {
      "cell_type": "code",
      "execution_count": null,
      "metadata": {
        "colab": {
          "base_uri": "https://localhost:8080/"
        },
        "id": "c9rJmdakvgGm",
        "outputId": "5fa32aca-a217-41f6-8642-f8b5785f1a12"
      },
      "outputs": [],
      "source": [
        "# default parameter value\n",
        "\n",
        "def my_info(country=\"India\"):\n",
        "  print(\"I'm from {}\".format(country))\n",
        "  return 10\n",
        "\n",
        "print(my_info())\n",
        "print(my_info(\"Russia\"))"
      ]
    },
    {
      "cell_type": "code",
      "execution_count": null,
      "metadata": {
        "colab": {
          "base_uri": "https://localhost:8080/"
        },
        "id": "zB4Aa29twrX_",
        "outputId": "671d1585-a675-45ec-a6f5-7a9e0de24a8e"
      },
      "outputs": [],
      "source": [
        "print(my_info())"
      ]
    },
    {
      "cell_type": "code",
      "execution_count": null,
      "metadata": {
        "colab": {
          "base_uri": "https://localhost:8080/"
        },
        "id": "e0A74ErGwb22",
        "outputId": "84974859-cfcb-4851-ce30-7d00d6b1a25d"
      },
      "outputs": [],
      "source": [
        "def my_info(country=\"India\", name = \"viky\"):\n",
        "  print(\"I'm {} and I'm from {}\".format(name, country))\n",
        "\n",
        "my_info(\"venky\", \"us\")"
      ]
    },
    {
      "cell_type": "code",
      "execution_count": null,
      "metadata": {
        "colab": {
          "base_uri": "https://localhost:8080/"
        },
        "id": "tCD-FuP2vPZz",
        "outputId": "a9dfbb63-797d-41db-c78a-541b14072ba9"
      },
      "outputs": [],
      "source": [
        "my_info(name = \"US\", country = \"Venky\")"
      ]
    },
    {
      "cell_type": "code",
      "execution_count": null,
      "metadata": {
        "id": "DHrYwGmN1AkO"
      },
      "outputs": [],
      "source": [
        "# pass statements\n",
        "\n",
        "def simple_function(*s):\n",
        "  pass\n",
        "\n",
        "simple_function()"
      ]
    },
    {
      "cell_type": "markdown",
      "metadata": {
        "id": "AaM_4AHp1PRI"
      },
      "source": [
        "### **Positional - Only Arguments**"
      ]
    },
    {
      "cell_type": "code",
      "execution_count": null,
      "metadata": {
        "colab": {
          "base_uri": "https://localhost:8080/"
        },
        "id": "BoShGJaI1JKJ",
        "outputId": "1be78713-dae6-43ca-c7ac-5d616e36fbb7"
      },
      "outputs": [],
      "source": [
        "def my_func(a):\n",
        "  print(a)\n",
        "\n",
        "my_func(3)"
      ]
    },
    {
      "cell_type": "code",
      "execution_count": null,
      "metadata": {
        "colab": {
          "base_uri": "https://localhost:8080/"
        },
        "id": "kN2iXd-k1fds",
        "outputId": "6d9d2388-329f-4c45-a907-308709e69403"
      },
      "outputs": [],
      "source": [
        "my_func(a = 3)"
      ]
    },
    {
      "cell_type": "code",
      "execution_count": null,
      "metadata": {
        "colab": {
          "base_uri": "https://localhost:8080/"
        },
        "id": "WWUCK4rj1k-P",
        "outputId": "b6f0895a-9699-4f1f-921f-e70b3eefd759"
      },
      "outputs": [],
      "source": [
        "# add \",/\" after the positional arguments to indicate the function takes only positional arguments\n",
        "\n",
        "def my_func(a,/):\n",
        "  print(a)\n",
        "\n",
        "my_func(3)"
      ]
    },
    {
      "cell_type": "code",
      "execution_count": null,
      "metadata": {
        "colab": {
          "base_uri": "https://localhost:8080/",
          "height": 144
        },
        "id": "jPSQ_tXH10nv",
        "outputId": "0aa083fd-7389-43ab-fbde-388877570db5"
      },
      "outputs": [],
      "source": [
        "my_func(a = 3)"
      ]
    },
    {
      "cell_type": "code",
      "execution_count": null,
      "metadata": {
        "id": "-sln4nEG2R9W"
      },
      "outputs": [],
      "source": [
        "# keyword only arguments\n",
        "\n",
        "def my_keyfunc(*,x):\n",
        "  print(x)"
      ]
    },
    {
      "cell_type": "code",
      "execution_count": null,
      "metadata": {
        "colab": {
          "base_uri": "https://localhost:8080/",
          "height": 144
        },
        "id": "GVPXXW2T2gy6",
        "outputId": "d3fccfd9-7c4e-4d1e-e59b-63557c7a8778"
      },
      "outputs": [],
      "source": [
        "my_keyfunc(4)"
      ]
    },
    {
      "cell_type": "code",
      "execution_count": null,
      "metadata": {
        "colab": {
          "base_uri": "https://localhost:8080/"
        },
        "id": "_qHb6qel2oik",
        "outputId": "83bc2156-9e0e-4a48-a15e-326a3b7352ae"
      },
      "outputs": [],
      "source": [
        "my_keyfunc(x = 4)"
      ]
    },
    {
      "cell_type": "code",
      "execution_count": null,
      "metadata": {
        "colab": {
          "base_uri": "https://localhost:8080/"
        },
        "id": "UOXmT1BI2wF-",
        "outputId": "8791a845-4674-4d74-cd60-aa478054e773"
      },
      "outputs": [],
      "source": [
        "\n",
        "def my_keyfunc(x):\n",
        "  print(x)\n",
        "\n",
        "my_keyfunc(3)"
      ]
    },
    {
      "cell_type": "code",
      "execution_count": null,
      "metadata": {
        "id": "WNRzEiCQ3kvL"
      },
      "outputs": [],
      "source": [
        "# combining positional only arguments and keyword only arguments\n",
        "\n",
        "def posKeyFunc(a,b,/,*,c,d):\n",
        "  print(\"Values of a {} b {} c {} d {}\".format(a,b,c,d))"
      ]
    },
    {
      "cell_type": "code",
      "execution_count": null,
      "metadata": {
        "colab": {
          "base_uri": "https://localhost:8080/",
          "height": 144
        },
        "id": "uRD_PfSv4CLu",
        "outputId": "8062b632-4456-48ea-904c-194f386d8775"
      },
      "outputs": [],
      "source": [
        "posKeyFunc(10,5,12,14)"
      ]
    },
    {
      "cell_type": "code",
      "execution_count": null,
      "metadata": {
        "colab": {
          "base_uri": "https://localhost:8080/",
          "height": 144
        },
        "id": "cXv8h6bn4RPp",
        "outputId": "86f0e8e2-e94e-4036-8c53-5f12851cab11"
      },
      "outputs": [],
      "source": [
        "posKeyFunc(10,5)"
      ]
    },
    {
      "cell_type": "code",
      "execution_count": null,
      "metadata": {
        "colab": {
          "base_uri": "https://localhost:8080/"
        },
        "id": "Y_-XxhzE4X6D",
        "outputId": "3aaeb0cc-f189-4ac8-8c54-848163993736"
      },
      "outputs": [],
      "source": [
        "posKeyFunc(10,5, c = 12, d=10)"
      ]
    },
    {
      "cell_type": "code",
      "execution_count": null,
      "metadata": {
        "colab": {
          "base_uri": "https://localhost:8080/"
        },
        "id": "Y1J_SCfy4gNX",
        "outputId": "0fafa6cd-8ce8-4929-b0c1-04fcdc56bf26"
      },
      "outputs": [],
      "source": [
        "posKeyFunc(10,5, d = 12, c=10)"
      ]
    },
    {
      "cell_type": "code",
      "execution_count": null,
      "metadata": {
        "colab": {
          "base_uri": "https://localhost:8080/",
          "height": 109
        },
        "id": "9KZIOeyR4lko",
        "outputId": "6536fd7b-7723-4c55-a349-69da286816d1"
      },
      "outputs": [],
      "source": [
        "posKeyFunc(d = 12, c=10, 5, 10)"
      ]
    },
    {
      "cell_type": "code",
      "execution_count": null,
      "metadata": {
        "id": "Ap4r27bd5MFj"
      },
      "outputs": [],
      "source": [
        "def myFunc(*s, **k):\n",
        "  print(s)\n",
        "  print(type(s))\n",
        "  print(k)\n",
        "  print(type(k))"
      ]
    },
    {
      "cell_type": "code",
      "execution_count": null,
      "metadata": {
        "colab": {
          "base_uri": "https://localhost:8080/"
        },
        "id": "MWTd08fC5X-G",
        "outputId": "c111574c-28b9-4d76-f03f-65a958acd622"
      },
      "outputs": [],
      "source": [
        "myFunc(1.5,1,True, [1,2,3],(1,2,3),{1,2,3}, name = \"Venky\", age = 26, occupation = \"Teaching\")"
      ]
    },
    {
      "cell_type": "code",
      "execution_count": null,
      "metadata": {
        "colab": {
          "base_uri": "https://localhost:8080/"
        },
        "id": "P9UjjppZ6S2d",
        "outputId": "0e8ab1b5-8eca-4195-85e6-76f7e4a53129"
      },
      "outputs": [],
      "source": [
        "def posKeyFunc(a,b,c,d):\n",
        "  print(\"Values of a {} b {} c {} d {}\".format(a,b,c,d))\n",
        "\n",
        "posKeyFunc(10,5, 100, d=12)"
      ]
    },
    {
      "cell_type": "code",
      "execution_count": null,
      "metadata": {
        "id": "w2ibb_ZZ7A91"
      },
      "outputs": [],
      "source": [
        "# docstring\n",
        "\n",
        "def pythonOperators(a,b):\n",
        "  \"\"\"\n",
        "  Description: This function prints basic python operations like addtion, sub, mul and remainder operators\n",
        "  Inputs: a, b\n",
        "  Returns: None\n",
        "  \"\"\"\n",
        "  print(\"Addition: {}\".format(a+b))\n",
        "  print(\"Sub: {}\".format(a-b))\n",
        "  print(\"Mul: {}\".format(a*b))\n",
        "  print(\"Remainder: {}\".format(a%b))\n",
        "  \"\"\"\n",
        "  print statements were done\n",
        "  \"\"\"\n",
        "  print(\"Div: {}\".format(a/b))"
      ]
    },
    {
      "cell_type": "code",
      "execution_count": null,
      "metadata": {
        "colab": {
          "base_uri": "https://localhost:8080/"
        },
        "id": "QfxulgF47y5p",
        "outputId": "084672e3-431d-41b6-f7d8-988d09265e75"
      },
      "outputs": [],
      "source": [
        "pythonOperators(15,5)"
      ]
    },
    {
      "cell_type": "markdown",
      "metadata": {
        "id": "nlh_6LEP64Ow"
      },
      "source": [
        "### **Passing Variables to the function**"
      ]
    },
    {
      "cell_type": "code",
      "execution_count": null,
      "metadata": {
        "colab": {
          "base_uri": "https://localhost:8080/"
        },
        "id": "x4b7zAGQ9LC2",
        "outputId": "a786bd30-3325-4bf5-c27c-0c2024232689"
      },
      "outputs": [],
      "source": [
        "def myFunc(a): # a = b\n",
        "  print(\"Inside Function\")\n",
        "  print(a)\n",
        "  print(type(a))\n",
        "  print(id(a))\n",
        "  print(\"Returning From Function\")\n",
        "  return a\n",
        "\n",
        "b = 100\n",
        "print(b)\n",
        "print(id(b))\n",
        "c = myFunc(b) # c = a\n",
        "print(c)\n",
        "print(id(c))"
      ]
    },
    {
      "cell_type": "code",
      "execution_count": null,
      "metadata": {
        "colab": {
          "base_uri": "https://localhost:8080/"
        },
        "id": "MOZTwhn198UN",
        "outputId": "1d82f0b5-eaa7-4788-a41b-6d1987b17b54"
      },
      "outputs": [],
      "source": [
        "def myFunc(a): # a = b\n",
        "  print(\"Inside Function\")\n",
        "  print(\"a: {}, id: {}\".format(a,id(a)))\n",
        "  a += 120\n",
        "  print(\"a: {}, id: {}\".format(a,id(a)))\n",
        "  print(\"Returning From Function\")\n",
        "  return a\n",
        "\n",
        "b = 100\n",
        "print(\"b: {}, id: {}\".format(b,id(b)))\n",
        "c = myFunc(b) # c = a\n",
        "print(\"c: {}, id: {}\".format(c,id(c)))\n",
        "print(\"b: {}, id: {}\".format(b,id(b)))"
      ]
    },
    {
      "cell_type": "code",
      "execution_count": null,
      "metadata": {
        "colab": {
          "base_uri": "https://localhost:8080/"
        },
        "id": "2o2rYfOV-w4B",
        "outputId": "ff18a11e-9e63-4fb2-ebec-4bb17efcf335"
      },
      "outputs": [],
      "source": [
        "def myFunc(a): # a = b\n",
        "  print(\"Inside Function\")\n",
        "  print(\"a: {}, id: {}\".format(a,id(a)))\n",
        "  a[2] = 2000000\n",
        "  print(\"a: {}, id: {}\".format(a,id(a)))\n",
        "  print(\"Returning From Function\")\n",
        "  return a\n",
        "\n",
        "b = [10,20,30,40]\n",
        "print(\"b: {}, id: {}\".format(b,id(b)))\n",
        "c = myFunc(b) # c = a\n",
        "print(\"c: {}, id: {}\".format(c,id(c)))\n",
        "print(\"b: {}, id: {}\".format(b,id(b)))"
      ]
    },
    {
      "cell_type": "code",
      "execution_count": null,
      "metadata": {
        "colab": {
          "base_uri": "https://localhost:8080/"
        },
        "id": "jaKV1AHd-9E-",
        "outputId": "e7913398-8681-484f-8c43-4ad5d7e6b69f"
      },
      "outputs": [],
      "source": [
        "a = 100\n",
        "print(a)\n",
        "print(id(a))\n",
        "\n",
        "a += 50\n",
        "print(a)\n",
        "print(id(a))"
      ]
    },
    {
      "cell_type": "code",
      "execution_count": null,
      "metadata": {
        "colab": {
          "base_uri": "https://localhost:8080/"
        },
        "id": "5gUhpSWgASnK",
        "outputId": "117967db-8d54-458f-8029-0b1eb677f782"
      },
      "outputs": [],
      "source": [
        "def myfun(a):\n",
        "  print(\"Before variable update in function: {}\".format(a))\n",
        "  a = 100\n",
        "  print(\"Inside Function: {}\".format(a))\n",
        "\n",
        "a = 200\n",
        "print(\"Before calling function: {}\".format(a))\n",
        "myfun(a)\n",
        "print(\"After calling function, Outside the function: {}\".format(a))"
      ]
    },
    {
      "cell_type": "code",
      "execution_count": null,
      "metadata": {
        "colab": {
          "base_uri": "https://localhost:8080/",
          "height": 234
        },
        "id": "oRLY5JkrBBLD",
        "outputId": "4f79c37d-ca5c-409c-a0b1-10d1df3178d2"
      },
      "outputs": [],
      "source": [
        "def myfun(_c):\n",
        "  print(\"Before variable update in function: {}\".format(_c))\n",
        "  _c = 100\n",
        "  print(\"Inside Function: {}\".format(_c))\n",
        "\n",
        "b = 200\n",
        "print(\"Before calling function: {}\".format(b))\n",
        "myfun(b)\n",
        "print(\"After calling function, Outside the function: {}\".format(_c))"
      ]
    },
    {
      "cell_type": "code",
      "execution_count": null,
      "metadata": {
        "colab": {
          "base_uri": "https://localhost:8080/"
        },
        "id": "9IOgaRE8C-Nc",
        "outputId": "b0baecc1-3ea5-4070-9f34-1426540e4d98"
      },
      "outputs": [],
      "source": [
        "def myfunc(a):\n",
        "  print(id(a))\n",
        "  a = 2457\n",
        "  print(\"ID Inside function: {}\".format(id(a)))\n",
        "\n",
        "a = 2457\n",
        "myfunc(a)\n",
        "print(\"ID Outside function: {}\".format(id(a)))"
      ]
    },
    {
      "cell_type": "code",
      "execution_count": null,
      "metadata": {
        "colab": {
          "base_uri": "https://localhost:8080/"
        },
        "id": "k80YuBoOEoOX",
        "outputId": "8a227cba-e525-41c6-ef3c-74be99b5ca9e"
      },
      "outputs": [],
      "source": [
        "a = 2457\n",
        "b = 2457\n",
        "\n",
        "print(id(a))\n",
        "print(id(b))"
      ]
    },
    {
      "cell_type": "code",
      "execution_count": null,
      "metadata": {
        "colab": {
          "base_uri": "https://localhost:8080/"
        },
        "id": "9Y1Kk1qQEvJq",
        "outputId": "8073c4e2-3ef7-46f0-8b81-76b9a6ba9c67"
      },
      "outputs": [],
      "source": [
        "def func():\n",
        "  a = 248900000\n",
        "  b = 248900000\n",
        "  print(id(a))\n",
        "  print(id(b))\n",
        "\n",
        "func()"
      ]
    },
    {
      "cell_type": "code",
      "execution_count": null,
      "metadata": {
        "colab": {
          "base_uri": "https://localhost:8080/"
        },
        "id": "QsYSs5qiFbtq",
        "outputId": "8ab5fea1-066e-4937-c7f6-799b4dd9335b"
      },
      "outputs": [],
      "source": [
        "def func(a):\n",
        "  a = list(a)\n",
        "  a[0] = 100  # scope of this variable a is limited to this particular function, outside the function if you call this variable, u will get error\n",
        "  return tuple(a)\n",
        "\n",
        "b = (10,20,30)\n",
        "c = func(b)\n",
        "print(b)\n",
        "print(c)"
      ]
    },
    {
      "cell_type": "code",
      "execution_count": null,
      "metadata": {
        "colab": {
          "base_uri": "https://localhost:8080/"
        },
        "id": "Zgi_Y5W8IIWN",
        "outputId": "669bd6da-560d-4b3d-98f4-5abf0a6c40a7"
      },
      "outputs": [],
      "source": [
        "def myfunc():\n",
        "  a = [1,2,3]\n",
        "  b = a\n",
        "  print(id(a))\n",
        "  print(id(b))\n",
        "  b[0] = 100\n",
        "  print(b)\n",
        "  print(a)\n",
        "\n",
        "myfunc()"
      ]
    },
    {
      "cell_type": "code",
      "execution_count": null,
      "metadata": {
        "colab": {
          "base_uri": "https://localhost:8080/"
        },
        "id": "FW1kp0ZgIbwV",
        "outputId": "dc14597c-bdc5-4fe8-f792-7c5c2367637c"
      },
      "outputs": [],
      "source": [
        "a = [1,2,3]\n",
        "b = [1,2,3]\n",
        "b[0]= 100\n",
        "\n",
        "print(b)\n",
        "print(a)"
      ]
    },
    {
      "cell_type": "code",
      "execution_count": null,
      "metadata": {
        "colab": {
          "base_uri": "https://localhost:8080/"
        },
        "id": "IBCfb0ZfIiX2",
        "outputId": "e8d32e33-ce11-4b4b-cba7-336f19b9caae"
      },
      "outputs": [],
      "source": [
        "a = [1,2,3,4]\n",
        "b = a\n",
        "\n",
        "b[0] = 100\n",
        "\n",
        "print(a)\n",
        "print(b)"
      ]
    }
  ],
  "metadata": {
    "colab": {
      "provenance": []
    },
    "kernelspec": {
      "display_name": "Python 3",
      "name": "python3"
    },
    "language_info": {
      "name": "python",
      "version": "3.12.4"
    }
  },
  "nbformat": 4,
  "nbformat_minor": 0
}
