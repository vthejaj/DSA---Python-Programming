{
  "cells": [
    {
      "cell_type": "markdown",
      "metadata": {
        "id": "nkJjzpjoyLXi"
      },
      "source": [
        "### **Lists & Tuples**\n",
        "\n",
        "#### **Lists**\n",
        "\n",
        "1. Initializing a list\n",
        "2. Accessing elements of a list & Slicing a list\n",
        "3. Adding elements to the list\n",
        "   *  append\n",
        "   *  insert\n",
        "   *  extend\n",
        "4. user input - lists\n",
        "5. Updating list items (single/multiple items)\n",
        "6. Remove, Del, Clear, Pop\n",
        "7. List Comprehensions\n",
        "\n",
        "\n",
        "\n",
        "\n",
        "\n",
        "\n",
        "\n",
        "\n"
      ]
    },
    {
      "cell_type": "code",
      "execution_count": null,
      "metadata": {
        "colab": {
          "base_uri": "https://localhost:8080/"
        },
        "id": "It7jrLf6RnCV",
        "outputId": "a96a82e8-97f8-4f07-fc1c-b6a0f4dbcaf1"
      },
      "outputs": [],
      "source": [
        "# initializing a list\n",
        "\n",
        "l = []\n",
        "print(l)"
      ]
    },
    {
      "cell_type": "code",
      "execution_count": null,
      "metadata": {
        "colab": {
          "base_uri": "https://localhost:8080/"
        },
        "id": "rLgO7SDKVbv3",
        "outputId": "996b991c-8ee6-4873-da39-96343d91604e"
      },
      "outputs": [],
      "source": [
        "l = list()\n",
        "print(l)"
      ]
    },
    {
      "cell_type": "code",
      "execution_count": null,
      "metadata": {
        "colab": {
          "base_uri": "https://localhost:8080/"
        },
        "id": "mqPhYii4W3je",
        "outputId": "d0364a9c-00ed-46a2-eec6-e69ddc4cc7b8"
      },
      "outputs": [],
      "source": [
        "l = list(\" \")\n",
        "print(l)\n",
        "print(l[0])"
      ]
    },
    {
      "cell_type": "code",
      "execution_count": null,
      "metadata": {
        "colab": {
          "base_uri": "https://localhost:8080/"
        },
        "id": "tI_AdXXyW-FD",
        "outputId": "3d39e345-36b1-45b7-cdd1-64059e70d869"
      },
      "outputs": [],
      "source": [
        "l = list(\"\")\n",
        "print(l)"
      ]
    },
    {
      "cell_type": "code",
      "execution_count": null,
      "metadata": {
        "colab": {
          "base_uri": "https://localhost:8080/"
        },
        "id": "dOP9p1xTVeh6",
        "outputId": "cf5bedb4-5f49-4808-b78c-df45b0526f29"
      },
      "outputs": [],
      "source": [
        "t = tuple()\n",
        "l = list(t)\n",
        "print(l)"
      ]
    },
    {
      "cell_type": "code",
      "execution_count": null,
      "metadata": {
        "colab": {
          "base_uri": "https://localhost:8080/"
        },
        "id": "MDZ66aY2VlJv",
        "outputId": "48cf461f-41dc-4106-9917-5558166f2098"
      },
      "outputs": [],
      "source": [
        "name = \"Virat Kohli\"\n",
        "\n",
        "l = list(name)\n",
        "print(l)"
      ]
    },
    {
      "cell_type": "code",
      "execution_count": null,
      "metadata": {
        "colab": {
          "base_uri": "https://localhost:8080/"
        },
        "id": "pZUVKw3gV8e3",
        "outputId": "140a8bbc-69e4-48b3-ae10-843f265c90cd"
      },
      "outputs": [],
      "source": [
        "# accessing a list\n",
        "\n",
        "l = [1,2,3,\"a\",\"b\",\"c\",\"rcb\",\"gate\",\"da\"]\n",
        "\n",
        "print(l[4])\n",
        "print(l[-4])"
      ]
    },
    {
      "cell_type": "code",
      "execution_count": null,
      "metadata": {
        "colab": {
          "base_uri": "https://localhost:8080/"
        },
        "id": "7YGJbrSCXaZe",
        "outputId": "b3b37219-5198-42b3-eb35-346aab102e27"
      },
      "outputs": [],
      "source": [
        "l = [[1,2,3,[4,5]],[23,[12,34],9],30,21]\n",
        "\n",
        "print(len(l))"
      ]
    },
    {
      "cell_type": "code",
      "execution_count": null,
      "metadata": {
        "colab": {
          "base_uri": "https://localhost:8080/"
        },
        "id": "2Hn7QCMUYge_",
        "outputId": "d45e8e44-75c3-4235-f2d4-6782d5828bb0"
      },
      "outputs": [],
      "source": [
        "l = [[1,2,3,[4,5]],[23,[12,34],9],30,21]\n",
        "print(l[0][3][0])\n",
        "print(l[0][3][-2])"
      ]
    },
    {
      "cell_type": "code",
      "execution_count": null,
      "metadata": {
        "colab": {
          "base_uri": "https://localhost:8080/"
        },
        "id": "JLH8W_h4ZSgE",
        "outputId": "f42bfdb7-c0fc-41b0-ead0-fb2afb7bd6bc"
      },
      "outputs": [],
      "source": [
        "print(l[0])\n",
        "print(l[-4])\n",
        "print(l[0][3])\n",
        "print(l[-4][3])\n",
        "print(l[0][-1])\n",
        "print(l[-4][-1])"
      ]
    },
    {
      "cell_type": "code",
      "execution_count": null,
      "metadata": {
        "colab": {
          "base_uri": "https://localhost:8080/"
        },
        "id": "36y1UBbgW2Ud",
        "outputId": "d11c3278-161f-4b8f-8163-38f14ea9140a"
      },
      "outputs": [],
      "source": [
        "# slicing a list\n",
        "\n",
        "l = [\"sachin\", \"sehwag\", \"gauti\", \"virat\", \"yuvi\", \"raina\",\"dhoni\", \"yousuf\", \"zaheer\", \"bumrah\"]\n",
        "\n",
        "print(len(l))"
      ]
    },
    {
      "cell_type": "code",
      "execution_count": null,
      "metadata": {
        "id": "63puN3I8dMVu"
      },
      "outputs": [],
      "source": [
        "l[-4:2]"
      ]
    },
    {
      "cell_type": "code",
      "execution_count": null,
      "metadata": {
        "colab": {
          "base_uri": "https://localhost:8080/"
        },
        "id": "vkd9uY5Edg_g",
        "outputId": "6f6d9410-565c-4f2a-a9c1-e05b18036aeb"
      },
      "outputs": [],
      "source": [
        "alpha = ['a', 'b','c','d','e','f','g','h','i','j']\n",
        "\n",
        "print(alpha[-4:8])\n",
        "print(alpha[-4:-8])"
      ]
    },
    {
      "cell_type": "code",
      "execution_count": null,
      "metadata": {
        "colab": {
          "base_uri": "https://localhost:8080/"
        },
        "id": "0uY9jWg9b6Gq",
        "outputId": "eeb207dd-01a7-469d-bdb9-89fa14dc8213"
      },
      "outputs": [],
      "source": [
        "l[6:1:-3]"
      ]
    },
    {
      "cell_type": "code",
      "execution_count": null,
      "metadata": {
        "colab": {
          "base_uri": "https://localhost:8080/"
        },
        "id": "yCIZMIWebYF1",
        "outputId": "3af2df0d-2e92-40b1-c10d-0cb16cb58b84"
      },
      "outputs": [],
      "source": [
        "l[6:2:-1]"
      ]
    },
    {
      "cell_type": "code",
      "execution_count": null,
      "metadata": {
        "colab": {
          "base_uri": "https://localhost:8080/"
        },
        "id": "-wdf9Su7bxW7",
        "outputId": "fee7afeb-ab38-4739-ae5c-73d98b7d775a"
      },
      "outputs": [],
      "source": [
        "l[::-1]"
      ]
    },
    {
      "cell_type": "code",
      "execution_count": null,
      "metadata": {
        "colab": {
          "base_uri": "https://localhost:8080/"
        },
        "id": "3bxUPd8BbQEc",
        "outputId": "afc10341-f390-4caa-bc01-cfc2821248e9"
      },
      "outputs": [],
      "source": [
        "l[::]"
      ]
    },
    {
      "cell_type": "code",
      "execution_count": null,
      "metadata": {
        "colab": {
          "base_uri": "https://localhost:8080/"
        },
        "id": "bjotPXFhRnHd",
        "outputId": "3925056c-3fc5-4f39-911f-6f6b1baf72ae"
      },
      "outputs": [],
      "source": [
        "l[1:7]"
      ]
    },
    {
      "cell_type": "code",
      "execution_count": null,
      "metadata": {
        "colab": {
          "base_uri": "https://localhost:8080/"
        },
        "id": "zY0pZoX8bEDF",
        "outputId": "51941c9a-42ae-43f7-faf1-f5cc81952b86"
      },
      "outputs": [],
      "source": [
        "l[1:8:2]"
      ]
    },
    {
      "cell_type": "code",
      "execution_count": null,
      "metadata": {
        "id": "yKKsrldea0Gx"
      },
      "outputs": [],
      "source": [
        "l[1:7]"
      ]
    },
    {
      "cell_type": "code",
      "execution_count": null,
      "metadata": {
        "colab": {
          "base_uri": "https://localhost:8080/"
        },
        "id": "vkCFAT2NebZb",
        "outputId": "72bf255f-9309-4ced-a9b4-1fb62c95f5e5"
      },
      "outputs": [],
      "source": [
        "# adding elements to the list\n",
        "\n",
        "csk = [\"Hayden\", \"Vijay\", \"Raina\"]\n",
        "print(csk)"
      ]
    },
    {
      "cell_type": "code",
      "execution_count": null,
      "metadata": {
        "colab": {
          "base_uri": "https://localhost:8080/"
        },
        "id": "I0DpQuP7ejyq",
        "outputId": "4b52b420-8b4d-467e-a48d-c36e4911a5d4"
      },
      "outputs": [],
      "source": [
        "# add dhoni\n",
        "print(csk)\n",
        "csk.append(\"Dhoni\")\n",
        "print(csk)"
      ]
    },
    {
      "cell_type": "code",
      "execution_count": null,
      "metadata": {
        "colab": {
          "base_uri": "https://localhost:8080/"
        },
        "id": "QfVXTu3veu-Q",
        "outputId": "0e249ff8-984a-49f9-d533-10ff12cc1c20"
      },
      "outputs": [],
      "source": [
        "print(csk)\n",
        "csk.append(\"Jadeja\")\n",
        "print(csk)"
      ]
    },
    {
      "cell_type": "code",
      "execution_count": null,
      "metadata": {
        "colab": {
          "base_uri": "https://localhost:8080/"
        },
        "id": "I7M4lWsUe2dw",
        "outputId": "c2e41325-a7c5-4e56-dc67-4e0e9fb429da"
      },
      "outputs": [],
      "source": [
        "l = [1,2,3,4]\n",
        "print(l)\n",
        "print(id(l))\n",
        "l.append(5)\n",
        "print(l)\n",
        "print(id(l))\n",
        "l.append(\"Venky\")\n",
        "print(l)\n",
        "print(id(l))"
      ]
    },
    {
      "cell_type": "code",
      "execution_count": null,
      "metadata": {
        "colab": {
          "base_uri": "https://localhost:8080/"
        },
        "id": "nWoP2DyyfXLF",
        "outputId": "e8c4f027-0491-4677-fc84-338f734ab22b"
      },
      "outputs": [],
      "source": [
        "print(l)"
      ]
    },
    {
      "cell_type": "code",
      "execution_count": null,
      "metadata": {
        "colab": {
          "base_uri": "https://localhost:8080/",
          "height": 144
        },
        "id": "4yAi6TohfZiN",
        "outputId": "d266c047-5e28-4251-f011-598f0555ec67"
      },
      "outputs": [],
      "source": [
        "l.append(\"rbr\", \"jay\")"
      ]
    },
    {
      "cell_type": "code",
      "execution_count": null,
      "metadata": {
        "colab": {
          "base_uri": "https://localhost:8080/"
        },
        "id": "WZvgVWoNfhHy",
        "outputId": "c544109c-64ff-4e17-e3c6-19263afb4159"
      },
      "outputs": [],
      "source": [
        "l.append([\"rbr\", \"jay\"])\n",
        "print(l)"
      ]
    },
    {
      "cell_type": "code",
      "execution_count": null,
      "metadata": {
        "colab": {
          "base_uri": "https://localhost:8080/"
        },
        "id": "__ZXwYk3f5no",
        "outputId": "fa9a1286-45de-426e-9bdf-e53663953128"
      },
      "outputs": [],
      "source": [
        "a = [1,2,3]\n",
        "a.append(('venky',\"ev\"))\n",
        "print(a)"
      ]
    },
    {
      "cell_type": "code",
      "execution_count": null,
      "metadata": {
        "colab": {
          "base_uri": "https://localhost:8080/"
        },
        "id": "WPUhtTqafrw_",
        "outputId": "ed95bb75-6a9f-478f-ad52-b7af5b0e7715"
      },
      "outputs": [],
      "source": [
        "l = l.append([\"Hari\", \"Sriniwas\"])\n",
        "print(l)"
      ]
    },
    {
      "cell_type": "code",
      "execution_count": null,
      "metadata": {
        "colab": {
          "base_uri": "https://localhost:8080/"
        },
        "id": "MZu4Unv3guPE",
        "outputId": "97157bdf-93e3-4441-9161-acdc95ee96e6"
      },
      "outputs": [],
      "source": [
        "numbers = [1,2,3,4,5]\n",
        "print(numbers)\n",
        "print(id(numbers))\n",
        "k = numbers.append(6)\n",
        "print(id(k))\n",
        "print(k)\n",
        "print(numbers)\n",
        "print(id(numbers))\n",
        "print(type(numbers))\n",
        "numbers = numbers.append(7)\n",
        "print(numbers)\n",
        "print(id(numbers))\n",
        "print(type(numbers))"
      ]
    },
    {
      "cell_type": "code",
      "execution_count": null,
      "metadata": {
        "colab": {
          "base_uri": "https://localhost:8080/"
        },
        "id": "QV1J8V--heYJ",
        "outputId": "28123a28-ce10-4fb0-f8dd-b5062e2e357f"
      },
      "outputs": [],
      "source": [
        "l = [1,2,3]\n",
        "l.append(4)\n",
        "print(l)"
      ]
    },
    {
      "cell_type": "code",
      "execution_count": null,
      "metadata": {
        "colab": {
          "base_uri": "https://localhost:8080/"
        },
        "id": "QfnEJIuYhqib",
        "outputId": "df8fb021-a8e3-4964-bdf7-10fce1b50d02"
      },
      "outputs": [],
      "source": [
        "l.append([5,6])\n",
        "print(l)"
      ]
    },
    {
      "cell_type": "code",
      "execution_count": null,
      "metadata": {
        "colab": {
          "base_uri": "https://localhost:8080/"
        },
        "id": "-Nu2RvUch49H",
        "outputId": "5f9684a3-3ed5-4bc0-d810-62bb28a73b66"
      },
      "outputs": [],
      "source": [
        "indian_batting = [\"Rohit\", \"Virat\", \"PANT\",\"SKY\"]\n",
        "\n",
        "indian_batting.insert(1, \"Jaiswal\")\n",
        "print(indian_batting)"
      ]
    },
    {
      "cell_type": "code",
      "execution_count": null,
      "metadata": {
        "colab": {
          "base_uri": "https://localhost:8080/"
        },
        "id": "QF9ccmwjimWK",
        "outputId": "7c479c2f-4bf3-418c-8fe4-6d73d97a1e28"
      },
      "outputs": [],
      "source": [
        "indian_batting = [\"Rohit\", \"Virat\", \"PANT\",\"SKY\"]\n",
        "\n",
        "indian_batting[1] = \"Jasiwal\"\n",
        "print(indian_batting)"
      ]
    },
    {
      "cell_type": "code",
      "execution_count": null,
      "metadata": {
        "colab": {
          "base_uri": "https://localhost:8080/"
        },
        "id": "GltnubakixKp",
        "outputId": "e7b42c5d-5cba-4fb3-9afe-f888c309144b"
      },
      "outputs": [],
      "source": [
        "indian_batting = [\"Rohit\", \"Virat\", \"PANT\",\"SKY\"]\n",
        "\n",
        "indian_batting.insert(1, \"Jaiswal\") # ro, ja, vi, pa, sky\n",
        "indian_batting.insert(2, \"Dhoni\") # ro, ja, dhoni, vi, pa, sky\n",
        "print(indian_batting)"
      ]
    },
    {
      "cell_type": "code",
      "execution_count": null,
      "metadata": {
        "colab": {
          "base_uri": "https://localhost:8080/"
        },
        "id": "B6jMMQBVjLYY",
        "outputId": "ca8721a1-2f40-4c61-e101-4261969e8409"
      },
      "outputs": [],
      "source": [
        "indian_batting = [\"Rohit\", \"Virat\", \"PANT\",\"SKY\"]\n",
        "\n",
        "ind_bat = indian_batting.insert(1, \"Jaiswal\")\n",
        "print(ind_bat)\n",
        "print(indian_batting)"
      ]
    },
    {
      "cell_type": "code",
      "execution_count": null,
      "metadata": {
        "colab": {
          "base_uri": "https://localhost:8080/"
        },
        "id": "371WjHKFj61f",
        "outputId": "e8d82945-87cf-40c5-b9cf-a3086e1487a5"
      },
      "outputs": [],
      "source": [
        "l = [1,2,3,4,5]\n",
        "print(l)\n",
        "print(id(l))\n",
        "l.insert(2,10)\n",
        "print(l)\n",
        "print(id(l))"
      ]
    },
    {
      "cell_type": "code",
      "execution_count": null,
      "metadata": {
        "colab": {
          "base_uri": "https://localhost:8080/"
        },
        "id": "DdNlarowkFGX",
        "outputId": "0cb7773e-8992-4005-a244-6313a92ab8a1"
      },
      "outputs": [],
      "source": [
        "l = [1,2,3]\n",
        "l.insert(10, 'a')\n",
        "print(l)"
      ]
    },
    {
      "cell_type": "code",
      "execution_count": null,
      "metadata": {
        "colab": {
          "base_uri": "https://localhost:8080/"
        },
        "id": "urEUZ6FdkpsY",
        "outputId": "e860210d-b335-445d-e302-580cd998d408"
      },
      "outputs": [],
      "source": [
        "l = [1,2,3,4,5,6]\n",
        "l.insert(2, \"cab\")\n",
        "print(l)"
      ]
    },
    {
      "cell_type": "code",
      "execution_count": null,
      "metadata": {
        "colab": {
          "base_uri": "https://localhost:8080/"
        },
        "id": "n31rByuGlIso",
        "outputId": "decd42d8-a9b6-4a59-8204-321965c96d92"
      },
      "outputs": [],
      "source": [
        "l = [1,2,3,4,5,6]\n",
        "l.insert(-2, 'abc')\n",
        "print(l)"
      ]
    },
    {
      "cell_type": "code",
      "execution_count": null,
      "metadata": {
        "colab": {
          "base_uri": "https://localhost:8080/"
        },
        "id": "3T3XK39QlqyU",
        "outputId": "2e936dda-4806-4038-a981-b0a1ed1ccc74"
      },
      "outputs": [],
      "source": [
        "l = [1,2,3,4,5]\n",
        "l.insert(2,'a')\n",
        "print(l)"
      ]
    },
    {
      "cell_type": "code",
      "execution_count": null,
      "metadata": {
        "colab": {
          "base_uri": "https://localhost:8080/"
        },
        "id": "4kPQW8dxluD_",
        "outputId": "626fa4ce-6e26-4591-ffbf-031b7629e14a"
      },
      "outputs": [],
      "source": [
        "l = [1,2,3,4,5]\n",
        "l.insert(-2,'a')\n",
        "print(l)"
      ]
    },
    {
      "cell_type": "code",
      "execution_count": null,
      "metadata": {
        "colab": {
          "base_uri": "https://localhost:8080/"
        },
        "id": "ObQvQ6CYl-Zj",
        "outputId": "cef3f28f-8615-4585-87c9-6909e31d6fd8"
      },
      "outputs": [],
      "source": [
        "l = [1,2,3,4,5]\n",
        "l.insert(2, [10,20,30])\n",
        "print(l)"
      ]
    },
    {
      "cell_type": "code",
      "execution_count": null,
      "metadata": {
        "colab": {
          "base_uri": "https://localhost:8080/"
        },
        "id": "5bPaKoFUmGn6",
        "outputId": "4acc8292-ae1b-4553-e2a5-a873ea3b868d"
      },
      "outputs": [],
      "source": [
        "# extend\n",
        "\n",
        "subjects = [\"Linear Algebra\", \"Calculus\", \"Python\", \"DSA\", \"ML\"]\n",
        "print(subjects)"
      ]
    },
    {
      "cell_type": "code",
      "execution_count": null,
      "metadata": {
        "colab": {
          "base_uri": "https://localhost:8080/"
        },
        "id": "eBL2cl2wmQUp",
        "outputId": "51f37c61-0885-47e3-b4b1-ad3fe556e7a8"
      },
      "outputs": [],
      "source": [
        "new_subjects = [\"Probability\", \"Statistics\", \"DBMS\"]\n",
        "subjects.append(new_subjects)\n",
        "print(subjects)"
      ]
    },
    {
      "cell_type": "code",
      "execution_count": null,
      "metadata": {
        "colab": {
          "base_uri": "https://localhost:8080/"
        },
        "id": "8utT3GtmmkOi",
        "outputId": "02146c65-0fe4-4d8c-e5e6-d44f3424f0c2"
      },
      "outputs": [],
      "source": [
        "# LA, C, P, DSA, ML, P, STS, DBMS\n",
        "\n",
        "subjects = [\"Linear Algebra\", \"Calculus\", \"Python\", \"DSA\", \"ML\"]\n",
        "print(subjects)\n",
        "new_subjects = [\"Probability\", \"Statistics\", \"DBMS\"]\n",
        "subjects.extend(new_subjects)\n",
        "print(subjects)"
      ]
    },
    {
      "cell_type": "code",
      "execution_count": null,
      "metadata": {
        "colab": {
          "base_uri": "https://localhost:8080/"
        },
        "id": "WPqX1G6fm4wP",
        "outputId": "08844c34-5166-4a70-c835-61d25a25f052"
      },
      "outputs": [],
      "source": [
        "alpha = [\"a\",\"b\",\"c\"]\n",
        "alpha.append(\"def\")\n",
        "print(alpha)\n",
        "alpha.extend(\"ghi\")\n",
        "print(alpha)"
      ]
    },
    {
      "cell_type": "code",
      "execution_count": null,
      "metadata": {
        "colab": {
          "base_uri": "https://localhost:8080/"
        },
        "id": "esELaV_4noAM",
        "outputId": "0274bc9e-d38a-4d5d-d2ad-20e620356b0d"
      },
      "outputs": [],
      "source": [
        "alpha = [\"a\",\"b\",\"c\"]\n",
        "alpha.append(\"def\")\n",
        "print(alpha)\n",
        "alpha.extend(\"ghi klm nop\")\n",
        "print(alpha)"
      ]
    },
    {
      "cell_type": "code",
      "execution_count": null,
      "metadata": {
        "colab": {
          "base_uri": "https://localhost:8080/"
        },
        "id": "Vyddc_anoHcG",
        "outputId": "1d7e4c68-32f3-4199-b007-7734061ebe24"
      },
      "outputs": [],
      "source": [
        "a=[1,2,3]\n",
        "b = [2,3,4]\n",
        "c = a.extend(b)\n",
        "print(a)\n",
        "print(b)\n",
        "print(c)"
      ]
    },
    {
      "cell_type": "code",
      "execution_count": null,
      "metadata": {
        "colab": {
          "base_uri": "https://localhost:8080/"
        },
        "id": "nkXXNRZTnWm4",
        "outputId": "9bad02c6-ea0e-49b8-d6c7-52db209a820d"
      },
      "outputs": [],
      "source": [
        "alpha = [\"a\",\"b\",\"c\"]\n",
        "alpha.append(10)\n",
        "print(alpha)\n",
        "alpha.extend((10,20,30))\n",
        "print(alpha)"
      ]
    },
    {
      "cell_type": "code",
      "execution_count": null,
      "metadata": {
        "colab": {
          "base_uri": "https://localhost:8080/"
        },
        "id": "oT253qA4nxXK",
        "outputId": "bb58a856-dd7f-478a-adef-1a6fdebd18b7"
      },
      "outputs": [],
      "source": [
        "alpha = [\"a\",\"b\",\"c\"]\n",
        "alpha.append(10)\n",
        "print(alpha)\n",
        "alpha.extend({10,20,30})\n",
        "print(alpha)"
      ]
    },
    {
      "cell_type": "code",
      "execution_count": null,
      "metadata": {
        "colab": {
          "base_uri": "https://localhost:8080/"
        },
        "id": "91Gif_Z0n1Q3",
        "outputId": "ff3e523f-9bf7-434e-e104-fea0514f1b6d"
      },
      "outputs": [],
      "source": [
        "s = {1,\"a\",2,\"c\"}\n",
        "for element in s:\n",
        "  print(element)"
      ]
    },
    {
      "cell_type": "code",
      "execution_count": null,
      "metadata": {
        "colab": {
          "base_uri": "https://localhost:8080/"
        },
        "id": "I_2CBl2Uqxsk",
        "outputId": "498f1061-e70a-4a61-e629-6b9af1c59338"
      },
      "outputs": [],
      "source": [
        "# user inputs for a list\n",
        "\n",
        "input_user = input(\"Enter the input: \").split()\n",
        "print(input_user)\n",
        "print(len(input_user))\n",
        "print(type(input_user))"
      ]
    },
    {
      "cell_type": "code",
      "execution_count": null,
      "metadata": {
        "colab": {
          "base_uri": "https://localhost:8080/"
        },
        "id": "7emd_AVNrYR8",
        "outputId": "59882c60-6210-4a5d-9e0b-0d7f4a2bb9f4"
      },
      "outputs": [],
      "source": [
        "n = int(input(\"Enter the size of the list : \"))\n",
        "new_list = []\n",
        "for i in range(n):\n",
        "  new_list.append(int(input(\"Enter the element\")))\n",
        "print(new_list)"
      ]
    },
    {
      "cell_type": "code",
      "execution_count": null,
      "metadata": {
        "colab": {
          "base_uri": "https://localhost:8080/"
        },
        "id": "4f1e78kNsEzW",
        "outputId": "1ff67320-7179-4c16-ae89-5b1322c449ab"
      },
      "outputs": [],
      "source": [
        "players = [\"Rohit\", \"Jaiswal\", \"Virat\", \"Pant\", \"Sky\", \"Dube\", \"Hardik\", \"Jaddu\"]\n",
        "print(players)\n",
        "players[5] = \"Rinku\"\n",
        "print(players)"
      ]
    },
    {
      "cell_type": "code",
      "execution_count": null,
      "metadata": {
        "colab": {
          "base_uri": "https://localhost:8080/"
        },
        "id": "hWafpDvhsjnj",
        "outputId": "96504341-bff0-4bde-eb47-0cf09000527d"
      },
      "outputs": [],
      "source": [
        "players = [\"Rohit\", \"Jaiswal\", \"Virat\", \"Pant\", \"Sky\", \"Dube\", \"Hardik\", \"Jaddu\"]\n",
        "print(players)\n",
        "players[5:] = \"Rinku\"\n",
        "print(players)"
      ]
    },
    {
      "cell_type": "code",
      "execution_count": null,
      "metadata": {
        "colab": {
          "base_uri": "https://localhost:8080/"
        },
        "id": "YJa_Xq09swh8",
        "outputId": "48b1230e-29c6-4bfd-c724-d5ac8fd5a2a0"
      },
      "outputs": [],
      "source": [
        "players = [\"Rohit\", \"Jaiswal\", \"Virat\", \"Pant\", \"Sky\", \"Dube\", \"Hardik\", \"Jaddu\"]\n",
        "print(players)\n",
        "players[5:] = [\"Rinku\"]\n",
        "print(players)"
      ]
    },
    {
      "cell_type": "code",
      "execution_count": null,
      "metadata": {
        "colab": {
          "base_uri": "https://localhost:8080/"
        },
        "id": "4w3qu9RztGTc",
        "outputId": "7630d3a5-744f-436f-c0fa-c4c3d5075480"
      },
      "outputs": [],
      "source": [
        "players = [\"Rohit\", \"Jaiswal\", \"Virat\", \"Pant\", \"Sky\", \"Dube\", \"Hardik\", \"Jaddu\"]\n",
        "print(players)\n",
        "players[5:] = [\"Rinku\", \"Tewatia\", \"Ashuthosh\", \"Shashank\"]\n",
        "print(players)"
      ]
    },
    {
      "cell_type": "code",
      "execution_count": null,
      "metadata": {
        "colab": {
          "base_uri": "https://localhost:8080/"
        },
        "id": "bKRAiJ9duFoC",
        "outputId": "037f8688-3a4d-4a5a-8edf-c26663207d84"
      },
      "outputs": [],
      "source": [
        "players = [\"Rohit\", \"Jaiswal\", \"Virat\", \"Pant\", \"Sky\", \"Dube\", \"Hardik\", \"Jaddu\"]\n",
        "print(players)\n",
        "players[5:7] = [\"Rinku\", \"Tewatia\", \"Ashuthosh\", \"Shashank\"]\n",
        "print(players)"
      ]
    },
    {
      "cell_type": "code",
      "execution_count": null,
      "metadata": {
        "colab": {
          "base_uri": "https://localhost:8080/"
        },
        "id": "kwsFYHKvtgW0",
        "outputId": "94d3ad41-5eab-4bd9-e757-c620e4bd22f9"
      },
      "outputs": [],
      "source": [
        "players = [\"Rohit\", \"Jaiswal\", \"Virat\", \"Pant\", \"Sky\", \"Dube\", \"Hardik\", \"Jaddu\"]\n",
        "print(players)\n",
        "print(players[5:2])\n",
        "players[5:2] = [\"Rinku\", \"Tewatia\"]\n",
        "print(players)"
      ]
    },
    {
      "cell_type": "code",
      "execution_count": null,
      "metadata": {
        "colab": {
          "base_uri": "https://localhost:8080/"
        },
        "id": "tiq3pD6buRps",
        "outputId": "5423aa83-48be-41f4-b04c-e122cf5cbdd8"
      },
      "outputs": [],
      "source": [
        "# remove, del, clear, pop\n",
        "\n",
        "l = [1,2,3,4,5]\n",
        "print(l)\n",
        "l.remove(3)\n",
        "print(l)"
      ]
    },
    {
      "cell_type": "code",
      "execution_count": null,
      "metadata": {
        "colab": {
          "base_uri": "https://localhost:8080/",
          "height": 216
        },
        "id": "yBCrMH0TuzkS",
        "outputId": "f9fd52d7-b275-42b7-d845-35b38ec32fd7"
      },
      "outputs": [],
      "source": [
        "# remove, del, clear, pop\n",
        "\n",
        "l = [1,2,3,4,5]\n",
        "print(l)\n",
        "l.remove(6)\n",
        "print(l)"
      ]
    },
    {
      "cell_type": "code",
      "execution_count": null,
      "metadata": {
        "colab": {
          "base_uri": "https://localhost:8080/"
        },
        "id": "cTObuzXvu8lf",
        "outputId": "76802f46-f721-4c0d-a476-adc737f68b78"
      },
      "outputs": [],
      "source": [
        "\n",
        "l = [1,2,3,6,4,3,5,3]\n",
        "print(l)\n",
        "l.remove(3)\n",
        "print(l)"
      ]
    },
    {
      "cell_type": "code",
      "execution_count": null,
      "metadata": {
        "colab": {
          "base_uri": "https://localhost:8080/"
        },
        "id": "Fq3-HkeEviJj",
        "outputId": "1d32225d-691d-414e-fed9-9e473196ddd7"
      },
      "outputs": [],
      "source": [
        "l = [1,2,3,6,4,3,5,3]\n",
        "print(l)\n",
        "a = l.remove(3)\n",
        "print(a)\n",
        "print(l)"
      ]
    },
    {
      "cell_type": "code",
      "execution_count": null,
      "metadata": {
        "colab": {
          "base_uri": "https://localhost:8080/"
        },
        "id": "PKUwICmwvqso",
        "outputId": "65e281f2-fcf0-437b-a677-70282f355dae"
      },
      "outputs": [],
      "source": [
        "# remove, del, clear, pop\n",
        "\n",
        "l = [1,2,3,4,5]\n",
        "print(l)\n",
        "del l[3]\n",
        "print(l)"
      ]
    },
    {
      "cell_type": "code",
      "execution_count": null,
      "metadata": {
        "colab": {
          "base_uri": "https://localhost:8080/"
        },
        "id": "X4TNf0T_wCdM",
        "outputId": "3ce77da5-2aa0-4d4c-b9f7-bafd62f68b96"
      },
      "outputs": [],
      "source": [
        "# remove, del, clear, pop\n",
        "\n",
        "l = [1,2,3,4,5]\n",
        "print(l)\n",
        "del l[3:]\n",
        "print(l)"
      ]
    },
    {
      "cell_type": "code",
      "execution_count": null,
      "metadata": {
        "colab": {
          "base_uri": "https://localhost:8080/"
        },
        "id": "dQgplVjGwHCi",
        "outputId": "70e063dd-036b-4c28-b604-5ec79409ea51"
      },
      "outputs": [],
      "source": [
        "# remove, del, clear, pop\n",
        "\n",
        "l = [1,2,3,4,5]\n",
        "print(l)\n",
        "del l[1:4]\n",
        "print(l)"
      ]
    },
    {
      "cell_type": "code",
      "execution_count": null,
      "metadata": {
        "colab": {
          "base_uri": "https://localhost:8080/"
        },
        "id": "OVvWMzxoxXhZ",
        "outputId": "77b22620-b428-420b-c6bf-2c244cdd5b0c"
      },
      "outputs": [],
      "source": [
        "# remove, del, clear, pop\n",
        "\n",
        "l = [1,2,3,4,5]\n",
        "print(l)\n",
        "del l[:]\n",
        "print(l)"
      ]
    },
    {
      "cell_type": "code",
      "execution_count": null,
      "metadata": {
        "colab": {
          "base_uri": "https://localhost:8080/",
          "height": 198
        },
        "id": "WqxBmo9GwbIz",
        "outputId": "7459c1e4-b46c-4292-d2cd-1ccf34ce6f9f"
      },
      "outputs": [],
      "source": [
        "# remove, del, clear, pop\n",
        "\n",
        "l = [1,2,3,4,5]\n",
        "print(l)\n",
        "del l # delete the entire list\n",
        "print(l)"
      ]
    },
    {
      "cell_type": "code",
      "execution_count": null,
      "metadata": {
        "colab": {
          "base_uri": "https://localhost:8080/"
        },
        "id": "m5ckDeJ7wy3L",
        "outputId": "d0b2fb44-e60e-4855-a891-8482ac4fdced"
      },
      "outputs": [],
      "source": [
        "l = [1,2,3,4,5]\n",
        "print(l)\n",
        "l.clear()\n",
        "print(l)"
      ]
    },
    {
      "cell_type": "code",
      "execution_count": null,
      "metadata": {
        "colab": {
          "base_uri": "https://localhost:8080/"
        },
        "id": "Ks0-nDZxx-MI",
        "outputId": "7233bfd8-8f01-472b-8c37-94da049d9da4"
      },
      "outputs": [],
      "source": [
        "# remove, del, clear, pop\n",
        "\n",
        "l = [1,2,3,4,5]\n",
        "print(l)\n",
        "a = l.pop()\n",
        "print(l)\n",
        "print(a)"
      ]
    },
    {
      "cell_type": "code",
      "execution_count": null,
      "metadata": {
        "colab": {
          "base_uri": "https://localhost:8080/"
        },
        "id": "yshUdwipzFem",
        "outputId": "28a5cab5-a17d-460b-9ed6-e99c501e6e0f"
      },
      "outputs": [],
      "source": [
        "# remove, del, clear, pop\n",
        "\n",
        "l = [1,2,3,4,5]\n",
        "print(l)\n",
        "a = l.pop(3)\n",
        "print(l)\n",
        "print(a)"
      ]
    },
    {
      "cell_type": "code",
      "execution_count": null,
      "metadata": {
        "colab": {
          "base_uri": "https://localhost:8080/",
          "height": 234
        },
        "id": "bHsVWT-szRDA",
        "outputId": "bd44b334-caf3-4644-d5cd-1707d5a23e26"
      },
      "outputs": [],
      "source": [
        "# remove, del, clear, pop\n",
        "\n",
        "l = [1,2,3,4,5]\n",
        "print(l)\n",
        "a = l.pop(10)\n",
        "print(l)\n",
        "print(a)"
      ]
    },
    {
      "cell_type": "code",
      "execution_count": null,
      "metadata": {
        "colab": {
          "base_uri": "https://localhost:8080/"
        },
        "id": "vu-8ZSchz8Qo",
        "outputId": "75dad242-f75f-48d7-950b-3f3c26d1e093"
      },
      "outputs": [],
      "source": [
        "# list comprehensions\n",
        "\n",
        "n = []\n",
        "\n",
        "for i in range(1,101):\n",
        "  n.append(i)\n",
        "\n",
        "print(n)"
      ]
    },
    {
      "cell_type": "code",
      "execution_count": null,
      "metadata": {
        "colab": {
          "base_uri": "https://localhost:8080/"
        },
        "id": "h5FActXQ0U5B",
        "outputId": "46674f12-5d3f-4d09-9dbb-43436efd3f86"
      },
      "outputs": [],
      "source": [
        "l = [i for i in range(1,101)]\n",
        "print(l)"
      ]
    },
    {
      "cell_type": "code",
      "execution_count": null,
      "metadata": {
        "colab": {
          "base_uri": "https://localhost:8080/"
        },
        "id": "dTAf9mZh02Ki",
        "outputId": "be7b940b-d3cb-478f-f416-2e0b733f46da"
      },
      "outputs": [],
      "source": [
        "l = [i*2 for i in range(1,5)]\n",
        "print(l)"
      ]
    },
    {
      "cell_type": "code",
      "execution_count": null,
      "metadata": {
        "colab": {
          "base_uri": "https://localhost:8080/"
        },
        "id": "-h_AN1yU1KCP",
        "outputId": "73e7f3a7-e572-4b7c-e633-a937e0b4b1f2"
      },
      "outputs": [],
      "source": [
        "n = []\n",
        "\n",
        "for i in range(1,11):\n",
        "  if i%2 == 0:\n",
        "    n.append(i)\n",
        "print(n)"
      ]
    },
    {
      "cell_type": "code",
      "execution_count": null,
      "metadata": {
        "colab": {
          "base_uri": "https://localhost:8080/"
        },
        "id": "AY4ifILr1Exw",
        "outputId": "9697e406-9116-4d23-a64d-27a2dac1ce6d"
      },
      "outputs": [],
      "source": [
        "l = [i for i in range(1,11) if i%2==0]\n",
        "print(l)"
      ]
    },
    {
      "cell_type": "code",
      "execution_count": null,
      "metadata": {
        "id": "TxIEFTvl1wv-"
      },
      "outputs": [],
      "source": [
        "# if even numbers add 5 to it\n",
        "# else add 10 to it\n",
        "\n",
        "[1,2,3,4,5,6]\n",
        "[11,7,13,9,15,11]"
      ]
    },
    {
      "cell_type": "code",
      "execution_count": null,
      "metadata": {
        "colab": {
          "base_uri": "https://localhost:8080/",
          "height": 109
        },
        "id": "7aaC2IC82KIy",
        "outputId": "5534eb19-4c50-43e8-d19c-a5aad33ced55"
      },
      "outputs": [],
      "source": [
        "l = [i+5 for i in range(1,7) if i%2==0 else i+10]\n",
        "\n",
        "print(l)"
      ]
    },
    {
      "cell_type": "code",
      "execution_count": null,
      "metadata": {
        "colab": {
          "base_uri": "https://localhost:8080/"
        },
        "id": "IWUkS_oJ2oRX",
        "outputId": "3f146d73-7b70-467d-e809-35ab4238df48"
      },
      "outputs": [],
      "source": [
        "l = [i+5 if i%2==0 else i+10 for i in range(1,10)]\n",
        "print(l)"
      ]
    },
    {
      "cell_type": "code",
      "execution_count": null,
      "metadata": {
        "colab": {
          "base_uri": "https://localhost:8080/"
        },
        "id": "g3REpMJA3DvM",
        "outputId": "1288acf6-4714-445f-e24d-38d2c6c05fbe"
      },
      "outputs": [],
      "source": [
        "l = [1,2,3]\n",
        "m = [2,3,4]\n",
        "n = []\n",
        "for i in l:\n",
        "  for j in m:\n",
        "    if i+j>3:\n",
        "      n.append((i,j))\n",
        "\n",
        "print(n)\n"
      ]
    },
    {
      "cell_type": "code",
      "execution_count": null,
      "metadata": {
        "id": "Vzhg5sLS4jG_"
      },
      "outputs": [],
      "source": []
    }
  ],
  "metadata": {
    "colab": {
      "provenance": []
    },
    "kernelspec": {
      "display_name": "Python 3",
      "name": "python3"
    },
    "language_info": {
      "name": "python",
      "version": "3.12.4"
    }
  },
  "nbformat": 4,
  "nbformat_minor": 0
}
