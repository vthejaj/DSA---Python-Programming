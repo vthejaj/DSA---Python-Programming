{
  "cells": [
    {
      "cell_type": "markdown",
      "metadata": {
        "id": "K9OiBxxdFXwd"
      },
      "source": [
        "**Operators**"
      ]
    },
    {
      "cell_type": "code",
      "execution_count": null,
      "metadata": {
        "colab": {
          "base_uri": "https://localhost:8080/"
        },
        "id": "J9HxoEF7FPNf",
        "outputId": "e97b658a-783c-407b-e937-7ceeed873428"
      },
      "outputs": [],
      "source": [
        "10+18*2-9/3"
      ]
    },
    {
      "cell_type": "code",
      "execution_count": null,
      "metadata": {
        "colab": {
          "base_uri": "https://localhost:8080/"
        },
        "id": "Y6skyWfeI8Aa",
        "outputId": "3abaa634-eed8-4362-fa30-5c636e4dcd56"
      },
      "outputs": [],
      "source": [
        "10//4"
      ]
    },
    {
      "cell_type": "code",
      "execution_count": null,
      "metadata": {
        "colab": {
          "base_uri": "https://localhost:8080/"
        },
        "id": "vl_wmG5VI-pX",
        "outputId": "804b3034-9d9b-4651-8d6d-b032783221d7"
      },
      "outputs": [],
      "source": [
        "10//4.0"
      ]
    },
    {
      "cell_type": "code",
      "execution_count": null,
      "metadata": {
        "colab": {
          "base_uri": "https://localhost:8080/"
        },
        "id": "mb47_BbXJJqL",
        "outputId": "6a35d596-7f32-4363-d8fb-8656d4ad0436"
      },
      "outputs": [],
      "source": [
        "10.5//4"
      ]
    },
    {
      "cell_type": "code",
      "execution_count": null,
      "metadata": {
        "colab": {
          "base_uri": "https://localhost:8080/"
        },
        "id": "sXnurzlaJO20",
        "outputId": "b852674c-0909-4270-8e32-75cba8b87a8f"
      },
      "outputs": [],
      "source": [
        "4^2<<3+48//24"
      ]
    },
    {
      "cell_type": "code",
      "execution_count": null,
      "metadata": {
        "id": "2ec4NA1bK7o1"
      },
      "outputs": [],
      "source": [
        "-5//2//2"
      ]
    },
    {
      "cell_type": "code",
      "execution_count": null,
      "metadata": {
        "colab": {
          "base_uri": "https://localhost:8080/"
        },
        "id": "ZTmXNyaJLyxw",
        "outputId": "66aec7de-978f-4fbf-ac62-532d46863313"
      },
      "outputs": [],
      "source": [
        "10>7==7<12"
      ]
    },
    {
      "cell_type": "code",
      "execution_count": null,
      "metadata": {
        "colab": {
          "base_uri": "https://localhost:8080/"
        },
        "id": "hm1WYUHVMOhA",
        "outputId": "ec9a02b9-caa3-4f6b-a49c-06612a594bb7"
      },
      "outputs": [],
      "source": [
        "10>7==8<12"
      ]
    },
    {
      "cell_type": "code",
      "execution_count": null,
      "metadata": {
        "colab": {
          "base_uri": "https://localhost:8080/"
        },
        "id": "Dm7yXRE1NRe7",
        "outputId": "272ba758-b076-466e-9d4e-8f0f3bbb0a0e"
      },
      "outputs": [],
      "source": [
        "(10>7)==(8<12)"
      ]
    },
    {
      "cell_type": "code",
      "execution_count": null,
      "metadata": {
        "colab": {
          "base_uri": "https://localhost:8080/"
        },
        "id": "wGRjPD39Nwod",
        "outputId": "caafa701-b1c8-4079-f97c-6c748a744b1e"
      },
      "outputs": [],
      "source": [
        "(10>7)==8<12"
      ]
    },
    {
      "cell_type": "code",
      "execution_count": null,
      "metadata": {
        "colab": {
          "base_uri": "https://localhost:8080/"
        },
        "id": "vGbM8VIoPCsX",
        "outputId": "37dd2d5e-fbfb-4773-b9dd-27597dfe0e56"
      },
      "outputs": [],
      "source": [
        "10>(7==8)<12"
      ]
    },
    {
      "cell_type": "code",
      "execution_count": null,
      "metadata": {
        "colab": {
          "base_uri": "https://localhost:8080/"
        },
        "id": "uM9U1ECdPY0K",
        "outputId": "591a1ab6-492e-4494-aaaf-43edd2fd2cfa"
      },
      "outputs": [],
      "source": [
        "10>(7==8)<-1"
      ]
    },
    {
      "cell_type": "code",
      "execution_count": null,
      "metadata": {
        "colab": {
          "base_uri": "https://localhost:8080/"
        },
        "id": "Nxmm1dQnNz6Y",
        "outputId": "cd2f30f3-05b8-4c77-c110-78530dbd4798"
      },
      "outputs": [],
      "source": [
        "10>7==(8<12)"
      ]
    },
    {
      "cell_type": "code",
      "execution_count": null,
      "metadata": {
        "colab": {
          "base_uri": "https://localhost:8080/"
        },
        "id": "SuNMumgZOZBD",
        "outputId": "02c772db-75a8-4e5c-e613-317a7145d875"
      },
      "outputs": [],
      "source": [
        "10>1==(8<12)"
      ]
    },
    {
      "cell_type": "code",
      "execution_count": null,
      "metadata": {
        "colab": {
          "base_uri": "https://localhost:8080/"
        },
        "id": "vuW8jB7XOv-d",
        "outputId": "3c156b1b-d5a9-422f-afe4-db3bb608fa3a"
      },
      "outputs": [],
      "source": [
        "bool(8)"
      ]
    },
    {
      "cell_type": "code",
      "execution_count": null,
      "metadata": {
        "colab": {
          "base_uri": "https://localhost:8080/"
        },
        "id": "NUOAjHvCOx91",
        "outputId": "015c7053-6d3f-42ce-9bb5-3090d0b58829"
      },
      "outputs": [],
      "source": [
        "8==True"
      ]
    },
    {
      "cell_type": "markdown",
      "metadata": {
        "id": "lndRW17-Rq97"
      },
      "source": [
        "**Unicode Representation**"
      ]
    },
    {
      "cell_type": "code",
      "execution_count": null,
      "metadata": {
        "colab": {
          "base_uri": "https://localhost:8080/"
        },
        "id": "JRyUi-FsRs_k",
        "outputId": "882fee8d-45a4-47b6-df43-b00ae828e882"
      },
      "outputs": [],
      "source": [
        "alphaNumeric_string = \"abcdefghxyzABCDEFGHXYZ0123456789\"\n",
        "\n",
        "for c in alphaNumeric_string:\n",
        "  print(\"character: \", c)\n",
        "  print(\"unicode value: \", ord(c))"
      ]
    },
    {
      "cell_type": "code",
      "execution_count": null,
      "metadata": {
        "colab": {
          "base_uri": "https://localhost:8080/"
        },
        "id": "PiavFHpDTKkf",
        "outputId": "83feb82c-1373-4f78-a7f2-a9936f36ff1a"
      },
      "outputs": [],
      "source": [
        "english = \"VIRAT KOHLI\"\n",
        "\n",
        "tamil = \"விராட் கோலி\"\n",
        "\n",
        "hindi = \"विराट कोहली\"\n",
        "\n",
        "chinese = \"维拉·科利\"\n",
        "\n",
        "print(\"English Unicode\")\n",
        "for c in english:\n",
        "  print(\"Character: \", c)\n",
        "  print(\"Unicode: \", ord(c))\n",
        "\n",
        "print(\"Tamil Unicode\")\n",
        "for c in tamil:\n",
        "  print(\"Character: \", c)\n",
        "  print(\"Unicode: \", ord(c))\n",
        "\n",
        "print(\"Hindi Unicode\")\n",
        "for c in hindi:\n",
        "  print(\"Character: \", c)\n",
        "  print(\"Unicode: \", ord(c))\n",
        "\n",
        "\n",
        "print(\"Chinese Unicode\")\n",
        "for c in chinese:\n",
        "  print(\"Character: \", c)\n",
        "  print(\"Unicode: \", ord(c))"
      ]
    },
    {
      "cell_type": "code",
      "execution_count": null,
      "metadata": {
        "colab": {
          "base_uri": "https://localhost:8080/"
        },
        "id": "izuK3rLcUcaA",
        "outputId": "09f946fb-e44f-4251-9cf7-0d102d0edf2c"
      },
      "outputs": [],
      "source": [
        "name = \"Venky\"\n",
        "\n",
        "for c in name:\n",
        "  print(\"character: \",c)\n",
        "  print(\"unicode value: \", ord(c))\n",
        "  print(\"hex value: \",hex(ord(c)))"
      ]
    },
    {
      "cell_type": "code",
      "execution_count": null,
      "metadata": {
        "colab": {
          "base_uri": "https://localhost:8080/",
          "height": 144
        },
        "id": "iAL8LLPoVzhd",
        "outputId": "b153f23a-8eeb-4c04-a29f-de6c9815b72a"
      },
      "outputs": [],
      "source": [
        "print(int('\\x61'))"
      ]
    },
    {
      "cell_type": "code",
      "execution_count": null,
      "metadata": {
        "colab": {
          "base_uri": "https://localhost:8080/"
        },
        "id": "jVtblndKV5kd",
        "outputId": "d61f7399-1527-4018-a7c4-c74d0e9da0db"
      },
      "outputs": [],
      "source": [
        "print('\\x65')"
      ]
    },
    {
      "cell_type": "markdown",
      "metadata": {
        "id": "xJkLQYs3Y05B"
      },
      "source": [
        "### **Conditional Statements**\n",
        "\n",
        "**if**\n",
        "\n",
        "**elif**\n",
        "\n",
        "**else**"
      ]
    },
    {
      "cell_type": "code",
      "execution_count": null,
      "metadata": {
        "id": "a1kMcBGQY9Ky"
      },
      "outputs": [],
      "source": [
        "if <condition>:\n",
        "  # code if the condition is satisfied\n"
      ]
    },
    {
      "cell_type": "code",
      "execution_count": null,
      "metadata": {
        "colab": {
          "base_uri": "https://localhost:8080/"
        },
        "id": "t42DosKLZsaw",
        "outputId": "31e85c16-399e-4636-dbd3-58462ae09f30"
      },
      "outputs": [],
      "source": [
        "rupees = int(input(\"Money from father: \"))\n",
        "\n",
        "if rupees>=80:\n",
        "  print(\"Buy Diary Milk Silk\")\n",
        "  print(\"Buy Milk for remaining rupees\")\n",
        "\n",
        "print(\"Condition is failed, comes out if statement\")"
      ]
    },
    {
      "cell_type": "code",
      "execution_count": null,
      "metadata": {
        "colab": {
          "base_uri": "https://localhost:8080/"
        },
        "id": "404VOQbfbLFf",
        "outputId": "1cee456b-5a54-4886-da2f-b57524bb5d36"
      },
      "outputs": [],
      "source": [
        "gate_score = int(input(\"Enter your gate marks: \"))\n",
        "\n",
        "if gate_score>=40:\n",
        "  print(\"You have cleared the GATE Exam\")\n",
        "else:\n",
        "  print(\"Its Unfortunate this year, better luck next time\")\n",
        "\n",
        "print(\"comes out of if and else\")\n"
      ]
    },
    {
      "cell_type": "code",
      "execution_count": null,
      "metadata": {
        "colab": {
          "base_uri": "https://localhost:8080/"
        },
        "id": "gj6v3sjmb2Qb",
        "outputId": "6f05fdfb-47d8-4955-e22f-45f0d19e07ee"
      },
      "outputs": [],
      "source": [
        "gate_score = int(input(\"Enter your gate marks: \"))\n",
        "\n",
        "if gate_score>=40:\n",
        "  print(\"You have cleared the GATE Exam\")\n",
        "else:\n",
        "  print(\"Its Unfortunate this year, better luck next time\")\n",
        "\n",
        "print(\"comes out of if and else\")"
      ]
    },
    {
      "cell_type": "code",
      "execution_count": null,
      "metadata": {
        "colab": {
          "base_uri": "https://localhost:8080/"
        },
        "id": "kqhD_xA4cCqR",
        "outputId": "348516e5-7c2b-45b7-a2b3-02191b3f0999"
      },
      "outputs": [],
      "source": [
        "marks = 92\n",
        "\n",
        "if marks>=90:\n",
        "  print(\"Grade S\")\n",
        "elif 80<=marks<90:\n",
        "  print(\"Grade A\")\n",
        "elif 70<=marks<80:\n",
        "  print(\"Grade B\")\n",
        "else:\n",
        "  print(\"Grade D\")"
      ]
    },
    {
      "cell_type": "code",
      "execution_count": null,
      "metadata": {
        "colab": {
          "base_uri": "https://localhost:8080/"
        },
        "id": "w2nY-zwuc-jd",
        "outputId": "210ca785-306c-459b-ef65-de3494e7f933"
      },
      "outputs": [],
      "source": [
        "marks = 86\n",
        "\n",
        "if marks>=90:\n",
        "  print(\"Grade S\")\n",
        "elif 80<=marks<90:\n",
        "  print(\"Grade A\")\n",
        "elif 70<=marks<80:\n",
        "  print(\"Grade B\")\n",
        "else:\n",
        "  print(\"Grade D\")"
      ]
    },
    {
      "cell_type": "code",
      "execution_count": null,
      "metadata": {
        "colab": {
          "base_uri": "https://localhost:8080/"
        },
        "id": "fojjmrfKdJCt",
        "outputId": "4e0c3a86-d3bd-4405-a33d-d1d8f8860fdd"
      },
      "outputs": [],
      "source": [
        "marks = 72\n",
        "\n",
        "if marks>=90:\n",
        "  print(\"Grade S\")\n",
        "elif 80<=marks<90:\n",
        "  print(\"Grade A\")\n",
        "elif 70<=marks<80:\n",
        "  print(\"Grade B\")\n",
        "else:\n",
        "  print(\"Grade D\")"
      ]
    },
    {
      "cell_type": "code",
      "execution_count": null,
      "metadata": {
        "colab": {
          "base_uri": "https://localhost:8080/"
        },
        "id": "F3wh19I1dM_T",
        "outputId": "6399c9aa-16b4-425f-cc36-da4d1843fe1f"
      },
      "outputs": [],
      "source": [
        "marks = 24\n",
        "\n",
        "if marks>=90:\n",
        "  print(\"Grade S\")\n",
        "elif 80<=marks<90:\n",
        "  print(\"Grade A\")\n",
        "elif 70<=marks<80:\n",
        "  print(\"Grade B\")\n",
        "else:\n",
        "  print(\"Grade D\")"
      ]
    },
    {
      "cell_type": "code",
      "execution_count": null,
      "metadata": {
        "colab": {
          "base_uri": "https://localhost:8080/"
        },
        "id": "FTsbVTIadRmG",
        "outputId": "50a8f446-ff3f-409e-b0bf-327230b532d0"
      },
      "outputs": [],
      "source": [
        "marks = 60\n",
        "\n",
        "if marks>=90:\n",
        "  print(\"Grade S\")\n",
        "elif marks>=80:\n",
        "  print(\"Grade A\")\n",
        "  print('1')\n",
        "  print('2')\n",
        "elif marks>=60:\n",
        "  print(\"Grade B\")\n",
        "else:\n",
        "  print(\"Grade D\")\n",
        "\n",
        "print(\"came out of conditional statement\")"
      ]
    },
    {
      "cell_type": "markdown",
      "metadata": {
        "id": "LwZj0JiXfD7G"
      },
      "source": [
        "**Nested if**"
      ]
    },
    {
      "cell_type": "code",
      "execution_count": null,
      "metadata": {
        "colab": {
          "background_save": true
        },
        "id": "h_Gk-bNIfFq_",
        "outputId": "2d41567c-5e97-4d80-ef00-a99c28be0eea"
      },
      "outputs": [],
      "source": [
        "scores = int(input(\"Enter your batting score: \"))\n",
        "\n",
        "if scores>=90:\n",
        "  if scores>100:\n",
        "    print(\"Wow, thats a fabulous performance\")\n",
        "    print(\"Man of the match to u\")\n",
        "  else:\n",
        "    print(\"Unfortunate, you missed a century\")\n",
        "else:\n",
        "  print(\"Score less than 90\")\n"
      ]
    }
  ],
  "metadata": {
    "colab": {
      "provenance": []
    },
    "kernelspec": {
      "display_name": "Python 3",
      "name": "python3"
    },
    "language_info": {
      "name": "python",
      "version": "3.12.4"
    }
  },
  "nbformat": 4,
  "nbformat_minor": 0
}
