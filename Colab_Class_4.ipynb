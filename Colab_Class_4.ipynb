{
  "cells": [
    {
      "cell_type": "markdown",
      "metadata": {
        "id": "tiQUAfeCrQc5"
      },
      "source": [
        "### **Type-Casting**"
      ]
    },
    {
      "cell_type": "code",
      "execution_count": null,
      "metadata": {
        "colab": {
          "base_uri": "https://localhost:8080/"
        },
        "id": "jR1Y56DWrTTt",
        "outputId": "e2389804-0c71-4bba-c9ce-7dc7593bc4b2"
      },
      "outputs": [],
      "source": [
        "# implicit type conversion\n",
        "a = 7\n",
        "print(type(a))\n",
        "b = 3.0\n",
        "print(type(b))\n",
        "c = a+b\n",
        "print(c)\n",
        "print(type(c))\n"
      ]
    },
    {
      "cell_type": "code",
      "execution_count": null,
      "metadata": {
        "colab": {
          "base_uri": "https://localhost:8080/"
        },
        "id": "IAGvoDZfruxD",
        "outputId": "9305b7d4-34b6-42a5-be0b-c88599c81fca"
      },
      "outputs": [],
      "source": [
        "# explicit type conversion\n",
        "\n",
        "a = 7\n",
        "b = 3.5\n",
        "c = int(a+b)\n",
        "print(type(a))\n",
        "print(type(b))\n",
        "print(c)\n",
        "print(type(c))\n"
      ]
    },
    {
      "cell_type": "code",
      "execution_count": null,
      "metadata": {
        "colab": {
          "base_uri": "https://localhost:8080/",
          "height": 287
        },
        "id": "u9kIGzuHssaq",
        "outputId": "157f6b93-2fc6-42f8-c486-f92015b28f5b"
      },
      "outputs": [],
      "source": [
        "# int()\n",
        "\n",
        "a = 8.5\n",
        "i_1 = int(a)\n",
        "print(i_1)\n",
        "print(type(i_1))\n",
        "#b = \"1.5\"\n",
        "#i_2 = int(b)\n",
        "#print(type(i_2))  # --- this will throw an error\n",
        "c = \"10\"\n",
        "i_3 = int(c)\n",
        "print(i_3)\n",
        "print(type(i_3))\n",
        "d = \"abc\"\n",
        "i_4 = int(d)\n",
        "print(type(i_4))"
      ]
    },
    {
      "cell_type": "code",
      "execution_count": null,
      "metadata": {
        "colab": {
          "base_uri": "https://localhost:8080/",
          "height": 305
        },
        "id": "mQ3h0LxFtt-0",
        "outputId": "d90bde9a-cd97-41e0-c1b5-f5fbe8277dde"
      },
      "outputs": [],
      "source": [
        "# float()\n",
        "\n",
        "a = 8\n",
        "f_1 = float(a)\n",
        "print(f_1)\n",
        "print(type(f_1))\n",
        "b = \"10.5\"\n",
        "f_2 = float(b)\n",
        "print(f_2)\n",
        "print(type(f_2))\n",
        "c = \"10\"\n",
        "f_3 = float(c)\n",
        "print(f_3)\n",
        "print(type(f_3))\n",
        "d = \"abc\"\n",
        "f_4 = float(d)\n",
        "print(type(f_4))"
      ]
    },
    {
      "cell_type": "code",
      "execution_count": null,
      "metadata": {
        "colab": {
          "base_uri": "https://localhost:8080/"
        },
        "id": "xXDZp89qutqF",
        "outputId": "cc84e84a-6e97-417b-c381-e473865f56b4"
      },
      "outputs": [],
      "source": [
        "# str()\n",
        "\n",
        "a = 8\n",
        "print(type(a))\n",
        "s_1 = str(a)\n",
        "print(s_1)\n",
        "print(type(s_1))\n",
        "b = 10.5\n",
        "print(type(b))\n",
        "s_2 = str(b)\n",
        "print(s_2)\n",
        "print(type(s_2))"
      ]
    },
    {
      "cell_type": "markdown",
      "metadata": {
        "id": "GYopP21JnnIM"
      },
      "source": [
        "### **Operators**"
      ]
    },
    {
      "cell_type": "markdown",
      "metadata": {
        "id": "27Qyckb1z_ZL"
      },
      "source": [
        "**Arithmetic Operators**"
      ]
    },
    {
      "cell_type": "code",
      "execution_count": null,
      "metadata": {
        "colab": {
          "base_uri": "https://localhost:8080/"
        },
        "id": "MU7mi6yVorzR",
        "outputId": "109d543c-e99b-4639-f216-163748cc877e"
      },
      "outputs": [],
      "source": [
        "a = 8\n",
        "b = 5\n",
        "\n",
        "print(\"+\", a+b)\n",
        "print(\"-\", a-b)\n",
        "print(\"*\", a*b)\n",
        "print(\"/\", a/b)\n",
        "print(\"//\", a//b)\n",
        "print(\"%\", a%b)\n",
        "print(\"**\", a**b)\n",
        "print(type(a%b))"
      ]
    },
    {
      "cell_type": "code",
      "execution_count": null,
      "metadata": {
        "colab": {
          "base_uri": "https://localhost:8080/"
        },
        "id": "lamtP_9U00v2",
        "outputId": "fbccfe04-22a0-4a86-9d45-00ff77c7da63"
      },
      "outputs": [],
      "source": [
        "2**5"
      ]
    },
    {
      "cell_type": "code",
      "execution_count": null,
      "metadata": {
        "colab": {
          "base_uri": "https://localhost:8080/"
        },
        "id": "IGKeUQAL03VD",
        "outputId": "c4dbc0d9-9a90-4eb4-fac8-690be1292d1d"
      },
      "outputs": [],
      "source": [
        "7//2"
      ]
    },
    {
      "cell_type": "code",
      "execution_count": null,
      "metadata": {
        "colab": {
          "base_uri": "https://localhost:8080/"
        },
        "id": "oA5XUD_q08Q5",
        "outputId": "8028bcb4-d83f-4218-da21-040122edf9af"
      },
      "outputs": [],
      "source": [
        "-7//2"
      ]
    },
    {
      "cell_type": "code",
      "execution_count": null,
      "metadata": {
        "colab": {
          "base_uri": "https://localhost:8080/"
        },
        "id": "bIHx5CE86khJ",
        "outputId": "dd712fe6-0644-46e8-fe4e-e8063cfeae2e"
      },
      "outputs": [],
      "source": [
        "12.5%7.5"
      ]
    },
    {
      "cell_type": "code",
      "execution_count": null,
      "metadata": {
        "colab": {
          "base_uri": "https://localhost:8080/"
        },
        "id": "TcHHAKeO6oWU",
        "outputId": "d57617b0-cc76-46ea-cb51-8ec6fe9181ff"
      },
      "outputs": [],
      "source": [
        "20.5%7.5"
      ]
    },
    {
      "cell_type": "code",
      "execution_count": null,
      "metadata": {
        "colab": {
          "base_uri": "https://localhost:8080/"
        },
        "id": "NlTawkmU6-xk",
        "outputId": "c3ac78dd-ac2a-40f3-f9ff-b1355a3b99e5"
      },
      "outputs": [],
      "source": [
        "-7%5"
      ]
    },
    {
      "cell_type": "code",
      "execution_count": null,
      "metadata": {
        "colab": {
          "base_uri": "https://localhost:8080/"
        },
        "id": "TbnY7bZv7iVU",
        "outputId": "68f17d47-b8cc-405d-d383-d4f20052fb8a"
      },
      "outputs": [],
      "source": [
        "-21%8"
      ]
    },
    {
      "cell_type": "code",
      "execution_count": null,
      "metadata": {
        "colab": {
          "base_uri": "https://localhost:8080/"
        },
        "id": "zS56b0Id7kVN",
        "outputId": "3f5c12ea-43dd-488c-ad13-7333bbd21346"
      },
      "outputs": [],
      "source": [
        "-27%7"
      ]
    },
    {
      "cell_type": "code",
      "execution_count": null,
      "metadata": {
        "colab": {
          "base_uri": "https://localhost:8080/"
        },
        "id": "1BO3J8jo1yw2",
        "outputId": "9d649686-1dd0-45db-f288-a4ea7280ee11"
      },
      "outputs": [],
      "source": [
        "a = 2.5\n",
        "b = 5.2\n",
        "\n",
        "print(\"+\", a+b)\n",
        "print(\"-\", a-b)\n",
        "print(\"*\", a*b)\n",
        "print(\"/\", a/b)\n",
        "print(\"//\", a//b)\n",
        "print(\"%\", a%b)\n",
        "print(\"**\", a**b)"
      ]
    },
    {
      "cell_type": "markdown",
      "metadata": {
        "id": "jGP4mVQq2HFd"
      },
      "source": [
        "**Comparison Operator**"
      ]
    },
    {
      "cell_type": "code",
      "execution_count": null,
      "metadata": {
        "colab": {
          "base_uri": "https://localhost:8080/"
        },
        "id": "xAjj09py2JtJ",
        "outputId": "a00ecc6f-1ac0-4c04-9a33-f4fb5ee1e6a9"
      },
      "outputs": [],
      "source": [
        "a = 8\n",
        "b = 5\n",
        "\n",
        "print(\"==\", a==b)\n",
        "print(\"!=\", a!=b)\n",
        "print(\">=\", a>=b)\n",
        "print(\"<=\", a<=b)\n",
        "print(\">\", a>b)\n",
        "print(\"<\", a<b)\n",
        "print(type(a<b))"
      ]
    },
    {
      "cell_type": "code",
      "execution_count": null,
      "metadata": {
        "colab": {
          "base_uri": "https://localhost:8080/"
        },
        "id": "pNV8_Sc13Raq",
        "outputId": "bce5ebb7-108b-432d-d1a3-97c73f1718cd"
      },
      "outputs": [],
      "source": [
        "a = 5\n",
        "b = 5\n",
        "\n",
        "print(\"==\", a==b)\n",
        "print(\"!=\", a!=b)\n",
        "print(\">=\", a>=b)\n",
        "print(\"<=\", a<=b)\n",
        "print(\">\", a>b)\n",
        "print(\"<\", a<b)\n",
        "print(type(a<b))"
      ]
    },
    {
      "cell_type": "code",
      "execution_count": null,
      "metadata": {
        "colab": {
          "base_uri": "https://localhost:8080/"
        },
        "id": "W2OUEZBK8Ds7",
        "outputId": "48c59456-a4b1-4412-9afd-d2343559097f"
      },
      "outputs": [],
      "source": [
        "print(0==0.0)\n",
        "print(1==1.0)\n",
        "print(True==1)\n",
        "print(True==1.0)\n",
        "print(False==0)\n",
        "print(False==0.0)"
      ]
    },
    {
      "cell_type": "markdown",
      "metadata": {
        "id": "qT27EtXJ8XiD"
      },
      "source": [
        "**Logical Operators**"
      ]
    },
    {
      "cell_type": "code",
      "execution_count": null,
      "metadata": {
        "colab": {
          "base_uri": "https://localhost:8080/"
        },
        "id": "68PgGAwr8cqz",
        "outputId": "f995f5e7-548c-45ec-f48d-6a6878aeddd8"
      },
      "outputs": [],
      "source": [
        "# and, or, not\n",
        "\n",
        "x = 5\n",
        "y = 10\n",
        "\n",
        "print(x>4 and y<12)\n",
        "print(x>4 and y<10)\n",
        "print(x>6 and y<10)\n",
        "print(x>6 and y<12)\n",
        "print(x>4 or y<12)\n",
        "print(x>4 or y<10)\n",
        "print(x>6 or y<10)\n",
        "print(x>6 or y<12)"
      ]
    },
    {
      "cell_type": "code",
      "execution_count": null,
      "metadata": {
        "colab": {
          "base_uri": "https://localhost:8080/"
        },
        "id": "CNwI3L6m-HR4",
        "outputId": "da1f1b39-d572-4149-c1a0-9f4fdb8670ee"
      },
      "outputs": [],
      "source": [
        "a = 8\n",
        "b = 5\n",
        "c = 12\n",
        "\n",
        "print(a and b and c)"
      ]
    },
    {
      "cell_type": "code",
      "execution_count": null,
      "metadata": {
        "colab": {
          "base_uri": "https://localhost:8080/"
        },
        "id": "Eixhyvsj_b1U",
        "outputId": "d1d15dcb-8de1-48cc-ffbb-065bf26f4fcf"
      },
      "outputs": [],
      "source": [
        "a = 8\n",
        "b = 5\n",
        "c = 0\n",
        "\n",
        "print(a and b and c)"
      ]
    },
    {
      "cell_type": "code",
      "execution_count": null,
      "metadata": {
        "colab": {
          "base_uri": "https://localhost:8080/"
        },
        "id": "OiC2cGOe9-yY",
        "outputId": "5a55318a-8b16-454d-f755-f24a31e1e00c"
      },
      "outputs": [],
      "source": [
        "a = 8\n",
        "b = 0\n",
        "c = 12\n",
        "\n",
        "print(a and b and c)"
      ]
    },
    {
      "cell_type": "code",
      "execution_count": null,
      "metadata": {
        "colab": {
          "base_uri": "https://localhost:8080/"
        },
        "id": "w-XdHbrHBlZ5",
        "outputId": "22968825-38a6-4cdb-908d-53cecc71bc12"
      },
      "outputs": [],
      "source": [
        "a = 0\n",
        "b = 5\n",
        "c = 12\n",
        "\n",
        "print(a and b and c)"
      ]
    },
    {
      "cell_type": "code",
      "execution_count": null,
      "metadata": {
        "colab": {
          "base_uri": "https://localhost:8080/"
        },
        "id": "_byk9Z3pBoxC",
        "outputId": "b23f0492-2d06-4fa0-f8fb-4683f94ce9a8"
      },
      "outputs": [],
      "source": [
        "a = 8\n",
        "b = 5\n",
        "c = 12\n",
        "\n",
        "print(a or b or c)"
      ]
    },
    {
      "cell_type": "code",
      "execution_count": null,
      "metadata": {
        "colab": {
          "base_uri": "https://localhost:8080/"
        },
        "id": "SVXgx6v3BwU5",
        "outputId": "d76d1f5a-8667-4869-8a26-d0e33b18aa67"
      },
      "outputs": [],
      "source": [
        "a = 0\n",
        "b = 5\n",
        "c = 12\n",
        "\n",
        "print(a or b or c)"
      ]
    },
    {
      "cell_type": "code",
      "execution_count": null,
      "metadata": {
        "colab": {
          "base_uri": "https://localhost:8080/"
        },
        "id": "8liX5v-dBzYy",
        "outputId": "7eb2e656-7656-4a01-bb67-f2e79aea8701"
      },
      "outputs": [],
      "source": [
        "a = 0\n",
        "b = 0\n",
        "c = 12\n",
        "\n",
        "print(a or b or c)"
      ]
    },
    {
      "cell_type": "code",
      "execution_count": null,
      "metadata": {
        "colab": {
          "base_uri": "https://localhost:8080/"
        },
        "id": "1xW6-dcvB2CG",
        "outputId": "334677bc-6df4-44f7-9db8-a757b1784cda"
      },
      "outputs": [],
      "source": [
        "a = 0\n",
        "b = 0\n",
        "c = 0\n",
        "\n",
        "print(a or b or c)"
      ]
    },
    {
      "cell_type": "code",
      "execution_count": null,
      "metadata": {
        "colab": {
          "base_uri": "https://localhost:8080/"
        },
        "id": "m5YrYFMLB44H",
        "outputId": "ac5674e0-0916-4067-c242-f3677d3a70be"
      },
      "outputs": [],
      "source": [
        "a = -1\n",
        "b = -2\n",
        "c = -3\n",
        "\n",
        "print(a or b or c)\n",
        "print(a and b and c)"
      ]
    },
    {
      "cell_type": "code",
      "execution_count": null,
      "metadata": {
        "colab": {
          "base_uri": "https://localhost:8080/"
        },
        "id": "m2uHvzwUCN45",
        "outputId": "2d373a76-3836-4d8a-c15f-1273e3359c35"
      },
      "outputs": [],
      "source": [
        "not(a or b or c)"
      ]
    },
    {
      "cell_type": "code",
      "execution_count": null,
      "metadata": {
        "colab": {
          "base_uri": "https://localhost:8080/"
        },
        "id": "TNTROhBaCciE",
        "outputId": "69059ed6-7d03-4fbd-a67a-48b37addf1a6"
      },
      "outputs": [],
      "source": [
        "a = 10\n",
        "b = 5\n",
        "c = 12\n",
        "d = 0\n",
        "\n",
        "print(a and c and b) # q1\n",
        "print(d or a or c) # q2\n",
        "print(not(a and d and b)) # q3\n",
        "print(not(d or d or a)) # q4"
      ]
    },
    {
      "cell_type": "markdown",
      "metadata": {
        "id": "LIJ-6BZXDWRu"
      },
      "source": [
        "**Membership Operator**"
      ]
    },
    {
      "cell_type": "code",
      "execution_count": null,
      "metadata": {
        "id": "tKOpAGG0DZS8"
      },
      "outputs": [],
      "source": []
    }
  ],
  "metadata": {
    "colab": {
      "provenance": []
    },
    "kernelspec": {
      "display_name": "Python 3",
      "name": "python3"
    },
    "language_info": {
      "name": "python",
      "version": "3.12.4"
    }
  },
  "nbformat": 4,
  "nbformat_minor": 0
}
