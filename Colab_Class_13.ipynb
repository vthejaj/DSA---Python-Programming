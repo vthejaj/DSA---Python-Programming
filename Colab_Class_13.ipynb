{
  "cells": [
    {
      "cell_type": "markdown",
      "metadata": {
        "id": "Hx9d4Dmam8Fa"
      },
      "source": [
        "### **Dictionary**\n",
        "\n",
        "1. Initialize a dictionary\n",
        "2. Create a dictionary with items\n",
        "3. dict.fromkeys\n",
        "4. Dictionary is mutable (keys & values - what can be added?)\n",
        "5. keys, values, items\n",
        "6. Accessing Items in Dictionary (get method)\n",
        "7. Modifying a dictionary\n",
        "8. update method\n",
        "9. deleting items in dictionary\n",
        "10. clear\n",
        "11. pop\n",
        "12. popitem\n",
        "13. Looping through dictionary\n"
      ]
    },
    {
      "cell_type": "code",
      "execution_count": null,
      "metadata": {
        "colab": {
          "base_uri": "https://localhost:8080/"
        },
        "id": "XuImjtXWm6CG",
        "outputId": "54e9531d-97f7-411e-c726-536c521ee46e"
      },
      "outputs": [],
      "source": [
        "# initialize a dictionary\n",
        "\n",
        "d = {}\n",
        "\n",
        "print(d)\n",
        "print(type(d))"
      ]
    },
    {
      "cell_type": "code",
      "execution_count": null,
      "metadata": {
        "colab": {
          "base_uri": "https://localhost:8080/"
        },
        "id": "16FWxWOXFK4S",
        "outputId": "65e27499-4074-4fb4-b2fd-007d5e5afedd"
      },
      "outputs": [],
      "source": [
        "d = {1,2,3}\n",
        "print(type(d))\n",
        "print(d)"
      ]
    },
    {
      "cell_type": "code",
      "execution_count": null,
      "metadata": {
        "colab": {
          "base_uri": "https://localhost:8080/"
        },
        "id": "jhjbZw8dFQhR",
        "outputId": "696833c0-535a-466e-e50b-9afaeb051369"
      },
      "outputs": [],
      "source": [
        "d = {'A':2, 'B': 3} # key-value format\n",
        "print(d)\n",
        "print(type(d))"
      ]
    },
    {
      "cell_type": "code",
      "execution_count": null,
      "metadata": {
        "colab": {
          "base_uri": "https://localhost:8080/"
        },
        "id": "tdroLYudFf5G",
        "outputId": "bfbc47b1-7e4d-488b-b1a1-89892cfda626"
      },
      "outputs": [],
      "source": [
        "d1 = dict()\n",
        "print(d1)\n",
        "print(type(d1))"
      ]
    },
    {
      "cell_type": "code",
      "execution_count": null,
      "metadata": {
        "colab": {
          "base_uri": "https://localhost:8080/"
        },
        "id": "kL06mC2sFrY4",
        "outputId": "35162923-7da5-41ad-83ec-0a929eab5e04"
      },
      "outputs": [],
      "source": [
        "d2 = dict([])\n",
        "print(d2)\n",
        "print(type(d2))"
      ]
    },
    {
      "cell_type": "code",
      "execution_count": null,
      "metadata": {
        "colab": {
          "base_uri": "https://localhost:8080/"
        },
        "id": "ezCirepuF1sH",
        "outputId": "a3171a07-9dd8-4bf8-c783-729a915d265e"
      },
      "outputs": [],
      "source": [
        "# dictionary is ordered\n",
        "\n",
        "d = {\"A\": 1, \"B\": 2, \"C\": 3}\n",
        "d2 = {1: [1,2,3], \"ABC\": 20, 2: 12, \"a\": (12,20)}\n",
        "print(d)\n",
        "print(d2)"
      ]
    },
    {
      "cell_type": "code",
      "execution_count": null,
      "metadata": {
        "colab": {
          "base_uri": "https://localhost:8080/"
        },
        "id": "usyCiRUXGY1S",
        "outputId": "bf2fb5b2-6ddd-44c4-8649-6405864a2a4d"
      },
      "outputs": [],
      "source": [
        "d = {\"A\": 1, \"B\": 2, \"C\": 3}\n",
        "\n",
        "for k in d:\n",
        "  print(\"Keys: \", k)\n",
        "  print(\"Values: \", d[k])"
      ]
    },
    {
      "cell_type": "code",
      "execution_count": null,
      "metadata": {
        "colab": {
          "base_uri": "https://localhost:8080/"
        },
        "id": "TqPYVuiqHVe-",
        "outputId": "8b0d9543-59e7-480f-f134-faf1cbb0e565"
      },
      "outputs": [],
      "source": [
        "print(d['A'])"
      ]
    },
    {
      "cell_type": "code",
      "execution_count": null,
      "metadata": {
        "colab": {
          "base_uri": "https://localhost:8080/",
          "height": 144
        },
        "id": "TIB1jbITHZXR",
        "outputId": "46478425-1358-4bd2-a42e-deee3c5964af"
      },
      "outputs": [],
      "source": [
        "print(d[0])"
      ]
    },
    {
      "cell_type": "code",
      "execution_count": null,
      "metadata": {
        "colab": {
          "base_uri": "https://localhost:8080/"
        },
        "id": "avNpe4YWHf6D",
        "outputId": "92d8396e-9df3-4e9b-a93d-ca43a4305001"
      },
      "outputs": [],
      "source": [
        "# to access an element in a dictionary\n",
        "\n",
        "# dictionary_name[key]\n",
        "\n",
        "d['B']"
      ]
    },
    {
      "cell_type": "code",
      "execution_count": null,
      "metadata": {
        "colab": {
          "base_uri": "https://localhost:8080/"
        },
        "id": "-K5KYvmGGAol",
        "outputId": "498c5fd3-f6fb-47f1-cdb4-4d6da0220ea2"
      },
      "outputs": [],
      "source": [
        "s = {1,1.5,\"abc\",2,2.4,\"bca\",False}\n",
        "print(s)"
      ]
    },
    {
      "cell_type": "code",
      "execution_count": null,
      "metadata": {
        "colab": {
          "base_uri": "https://localhost:8080/"
        },
        "id": "hCCJSuoaHyPv",
        "outputId": "cd5ebd13-4ca5-46ab-ad98-56f0d059def4"
      },
      "outputs": [],
      "source": [
        "# duplicates are not allowed\n",
        "\n",
        "# 1,1.0,True are treated same\n",
        "# 0,0.0, False are treated same\n",
        "d = {1: 'A', 1.0: \"F\", True: 'B', 0: 'Z', 0.0: 'FZ', False: 'BZ'}\n",
        "print(d)"
      ]
    },
    {
      "cell_type": "code",
      "execution_count": null,
      "metadata": {
        "colab": {
          "base_uri": "https://localhost:8080/"
        },
        "id": "WaY3pTe5JDkT",
        "outputId": "d536654e-fea4-4f0f-9c8f-af016fc976bf"
      },
      "outputs": [],
      "source": [
        "d = {\"1\": \"A\", 1.0: \"BZ\", True: \"B\"}\n",
        "print(d)"
      ]
    },
    {
      "cell_type": "code",
      "execution_count": null,
      "metadata": {
        "colab": {
          "base_uri": "https://localhost:8080/"
        },
        "id": "OpNgsZrtKRVG",
        "outputId": "cf2dd552-c08d-49e4-cc8a-a0c9819bdb2b"
      },
      "outputs": [],
      "source": [
        "a = \"Venky\"\n",
        "\n",
        "d = {a: 12}\n",
        "print(d)\n",
        "\n",
        "a = \"RBR\"\n",
        "\n",
        "print(d)"
      ]
    },
    {
      "cell_type": "code",
      "execution_count": null,
      "metadata": {
        "colab": {
          "base_uri": "https://localhost:8080/"
        },
        "id": "Fj08rcW7JsHj",
        "outputId": "a5c49bfd-f772-4d78-82ce-09804d7cdbb3"
      },
      "outputs": [],
      "source": [
        "# duplicate values are allowed\n",
        "\n",
        "d = {'A': 12, 'B': 12, 'C': 12}\n",
        "print(d)"
      ]
    },
    {
      "cell_type": "code",
      "execution_count": null,
      "metadata": {
        "colab": {
          "base_uri": "https://localhost:8080/"
        },
        "id": "CmGCB_LeISAj",
        "outputId": "0296b65e-6e73-4d85-ca24-0a481464eba4"
      },
      "outputs": [],
      "source": [
        "1==1.0"
      ]
    },
    {
      "cell_type": "code",
      "execution_count": null,
      "metadata": {
        "colab": {
          "base_uri": "https://localhost:8080/"
        },
        "id": "waIDKYWLHof6",
        "outputId": "1454ed11-7605-46f6-83c2-2cb4105b3a4d"
      },
      "outputs": [],
      "source": [
        "# dict method\n",
        "\n",
        "d1 = dict(a=10, b=12, c=50, d=[12,30])\n",
        "print(d1)\n",
        "print(type(d1))"
      ]
    },
    {
      "cell_type": "code",
      "execution_count": null,
      "metadata": {
        "colab": {
          "base_uri": "https://localhost:8080/",
          "height": 162
        },
        "id": "7Fb-8HMXLVXB",
        "outputId": "9a047c7c-9f89-4dd7-bc50-54130b70de68"
      },
      "outputs": [],
      "source": [
        "d1 = dict(10,12,50,[12,24])\n",
        "print(d1)"
      ]
    },
    {
      "cell_type": "code",
      "execution_count": null,
      "metadata": {
        "colab": {
          "base_uri": "https://localhost:8080/"
        },
        "id": "MYUq3Y7WLl9T",
        "outputId": "f9b26ca0-b091-41fa-be4f-ff1e0afff25c"
      },
      "outputs": [],
      "source": [
        "# copy a dictionary\n",
        "\n",
        "d1 = {'A': 12, 'B': 20, 'C': 30}\n",
        "\n",
        "d2 = d1 # dictionary is mutable\n",
        "\n",
        "print(id(d2))\n",
        "print(id(d1))"
      ]
    },
    {
      "cell_type": "code",
      "execution_count": null,
      "metadata": {
        "colab": {
          "base_uri": "https://localhost:8080/"
        },
        "id": "sEsSQGpoLykO",
        "outputId": "2b55e360-c12b-47f3-b1a5-7fd217450618"
      },
      "outputs": [],
      "source": [
        "print(d1)\n",
        "d1['A'] = 100\n",
        "print(d2)\n",
        "print(d1)\n"
      ]
    },
    {
      "cell_type": "code",
      "execution_count": null,
      "metadata": {
        "colab": {
          "base_uri": "https://localhost:8080/"
        },
        "id": "5GQ2n8ROMCws",
        "outputId": "79124933-33be-44fe-955f-942923ad2b3f"
      },
      "outputs": [],
      "source": [
        "print(d1)\n",
        "d3 = d1.copy()\n",
        "\n",
        "d1['A'] = 1000\n",
        "print(d1)\n",
        "print(d3)"
      ]
    },
    {
      "cell_type": "code",
      "execution_count": null,
      "metadata": {
        "colab": {
          "base_uri": "https://localhost:8080/"
        },
        "id": "bWEnzW7SMSg5",
        "outputId": "91037be1-2ca5-448d-b8de-8381a7a864d5"
      },
      "outputs": [],
      "source": [
        "d1 = {'A': [10,20,30], 'B': 20, 'C': 30}\n",
        "\n",
        "d2 = d1.copy()\n",
        "\n",
        "print(d1)\n",
        "print(d2)\n",
        "\n",
        "d1['A'][1] = 100\n",
        "\n",
        "print(d1)\n",
        "print(d2)\n",
        "\n",
        "# to overcome this, u go to deepcopy"
      ]
    },
    {
      "cell_type": "code",
      "execution_count": null,
      "metadata": {
        "colab": {
          "base_uri": "https://localhost:8080/"
        },
        "id": "ic24lUGHMv5L",
        "outputId": "11b05b53-f441-4134-9c6e-1920c38b986a"
      },
      "outputs": [],
      "source": [
        "import copy\n",
        "\n",
        "d1 = {'A': [10,20,30], 'B': 20, 'C': 30}\n",
        "\n",
        "d2 = copy.deepcopy(d1)\n",
        "\n",
        "print(d1)\n",
        "print(d2)\n",
        "\n",
        "d1['A'][1] = 100\n",
        "\n",
        "print(d1)\n",
        "print(d2)"
      ]
    },
    {
      "cell_type": "code",
      "execution_count": null,
      "metadata": {
        "colab": {
          "base_uri": "https://localhost:8080/"
        },
        "id": "4mhMmVejM-qH",
        "outputId": "e9ced0b4-8aa7-4321-d677-d59411c02612"
      },
      "outputs": [],
      "source": [
        "d = {'a': 10, 'b': 20, 'c': 30}\n",
        "\n",
        "d_2 = dict(d)\n",
        "\n",
        "print(d)\n",
        "print(d_2)\n",
        "\n",
        "d['a'] = 100\n",
        "print(d)\n",
        "print(d_2)"
      ]
    },
    {
      "cell_type": "code",
      "execution_count": null,
      "metadata": {
        "colab": {
          "base_uri": "https://localhost:8080/"
        },
        "id": "1MZMNm5fNmba",
        "outputId": "faa6b34e-6578-4664-dfa8-5264d4316097"
      },
      "outputs": [],
      "source": [
        "d = {'a': [100,200,300], 'b': 20, 'c': 30}\n",
        "\n",
        "d_2 = dict(d) # similar to d.copy() method\n",
        "\n",
        "\n",
        "print(d)\n",
        "print(d_2)\n",
        "\n",
        "d['a'][1] = 1000\n",
        "print(d)\n",
        "print(d_2)"
      ]
    },
    {
      "cell_type": "code",
      "execution_count": null,
      "metadata": {
        "colab": {
          "base_uri": "https://localhost:8080/"
        },
        "id": "qDgHALM9N9sz",
        "outputId": "9d1b7cef-4960-4126-d2bf-85b72fe38919"
      },
      "outputs": [],
      "source": [
        "d = {\"a\": 1, \"b\": 2}\n",
        "print(\"d\")\n",
        "print(d)\n",
        "print(id(d))\n",
        "d2 = d\n",
        "print(\"d2\")\n",
        "print(d2)\n",
        "print(id(d2))\n",
        "d3 = d.copy()\n",
        "print(\"d3\")\n",
        "print(d3)\n",
        "print(id(d3))\n",
        "d4 = dict(d)\n",
        "print(\"d4\")\n",
        "print(d4)\n",
        "print(id(d4))"
      ]
    },
    {
      "cell_type": "code",
      "execution_count": null,
      "metadata": {
        "colab": {
          "base_uri": "https://localhost:8080/"
        },
        "id": "4soDDEu6OnHy",
        "outputId": "ec9ef831-a5da-47f6-b6e0-e09b490fe346"
      },
      "outputs": [],
      "source": [
        "print(d)\n",
        "d['b'] = 1000\n",
        "\n",
        "print(d)\n",
        "print(d2)\n",
        "print(d3)\n",
        "print(d4)\n",
        "\n",
        "# copy.deepcopy"
      ]
    },
    {
      "cell_type": "code",
      "execution_count": null,
      "metadata": {
        "colab": {
          "base_uri": "https://localhost:8080/"
        },
        "id": "81WP4VmmPGqE",
        "outputId": "8528c8ce-58e3-4118-9754-c7bd6e4ff5ea"
      },
      "outputs": [],
      "source": [
        "# creating dictionary using iterables - list, tuples\n",
        "\n",
        "d = dict([(\"a\",2), (\"b\", 4), (\"c\", 10)])\n",
        "print(d)"
      ]
    },
    {
      "cell_type": "code",
      "execution_count": null,
      "metadata": {
        "colab": {
          "base_uri": "https://localhost:8080/",
          "height": 162
        },
        "id": "QcK3nl6dPoiP",
        "outputId": "e3c8be75-0fa1-4cab-d8bc-4be9bfbb3742"
      },
      "outputs": [],
      "source": [
        "d = dict([(\"a\",2), (\"b\", 4), (\"c\", 10), (\"d\", 100, 2)])\n",
        "print(d)"
      ]
    },
    {
      "cell_type": "code",
      "execution_count": null,
      "metadata": {
        "colab": {
          "base_uri": "https://localhost:8080/"
        },
        "id": "w0LdQ855PwD8",
        "outputId": "23134927-fbc6-4ef4-984e-0184cac91e07"
      },
      "outputs": [],
      "source": [
        "d = dict([(\"a\",2), (\"b\", 4), (\"c\", 10), (100,\"d\")])\n",
        "print(d)"
      ]
    },
    {
      "cell_type": "code",
      "execution_count": null,
      "metadata": {
        "colab": {
          "base_uri": "https://localhost:8080/"
        },
        "id": "4vGE292uP2TH",
        "outputId": "7866e25c-f17d-4ef3-df73-607ef8011251"
      },
      "outputs": [],
      "source": [
        "d = dict(((\"a\",2), (\"b\", 4), (\"c\", 10), (100,\"d\")))\n",
        "print(d)"
      ]
    },
    {
      "cell_type": "code",
      "execution_count": null,
      "metadata": {
        "colab": {
          "base_uri": "https://localhost:8080/",
          "height": 162
        },
        "id": "QT9HdxV7P6oc",
        "outputId": "ebb96e6d-e332-465d-bc5b-443f6fd02d4d"
      },
      "outputs": [],
      "source": [
        "d = dict((\"a\",2), (\"b\", 4), (\"c\", 10), (100,\"d\"))\n",
        "print(d)"
      ]
    },
    {
      "cell_type": "code",
      "execution_count": null,
      "metadata": {
        "colab": {
          "base_uri": "https://localhost:8080/"
        },
        "id": "X9rSfQrZQD7G",
        "outputId": "22216b9f-8e03-4bef-b144-f740eaf3e89c"
      },
      "outputs": [],
      "source": [
        "d = dict([(\"a\",[1,2,3]), (\"b\", 4), (\"c\", 10), (100,\"d\")])\n",
        "print(d)"
      ]
    },
    {
      "cell_type": "code",
      "execution_count": null,
      "metadata": {
        "colab": {
          "base_uri": "https://localhost:8080/"
        },
        "id": "a2HAAbOtQNKi",
        "outputId": "02a17ee5-44fd-471d-fa55-bfef0c43f238"
      },
      "outputs": [],
      "source": [
        "d = dict([(\"a\",[1,2,3]), (\"b\", 4), (\"c\", 10), (100,\"d\")], virat=120)\n",
        "print(d)"
      ]
    },
    {
      "cell_type": "code",
      "execution_count": null,
      "metadata": {
        "colab": {
          "base_uri": "https://localhost:8080/"
        },
        "id": "aY26vaZAQoLL",
        "outputId": "7995c3ed-301c-4b87-c2f4-bf7b3ac606bf"
      },
      "outputs": [],
      "source": [
        "virat = \"ABC\"\n",
        "d = dict([(virat, 120)])\n",
        "print(d)\n",
        "\n",
        "d2 = dict([(120, virat)])\n",
        "print(d2)"
      ]
    },
    {
      "cell_type": "code",
      "execution_count": null,
      "metadata": {
        "colab": {
          "base_uri": "https://localhost:8080/"
        },
        "id": "Vn0s4GTMQf-s",
        "outputId": "b2f1f820-b1c7-4cd6-b34b-851d0877e37b"
      },
      "outputs": [],
      "source": [
        "d = dict([(\"a\",[1,2,3]), (\"b\", 4), (\"c\", 10), (100,\"d\")], virat=120, rohit=100)\n",
        "print(d)"
      ]
    },
    {
      "cell_type": "code",
      "execution_count": null,
      "metadata": {
        "colab": {
          "base_uri": "https://localhost:8080/",
          "height": 36
        },
        "id": "WToD7ZGZRNNT",
        "outputId": "cce840c9-0da1-44ff-ff61-3c006777fb23"
      },
      "outputs": [],
      "source": [
        "virat"
      ]
    },
    {
      "cell_type": "markdown",
      "metadata": {
        "id": "Umhipb1sTpPn"
      },
      "source": [
        "**Creating dictionary fromkeys method**"
      ]
    },
    {
      "cell_type": "code",
      "execution_count": null,
      "metadata": {
        "colab": {
          "base_uri": "https://localhost:8080/"
        },
        "id": "fujvNAfFTaF-",
        "outputId": "61ac1a0f-13ae-4f21-e5e6-0665ebb9a531"
      },
      "outputs": [],
      "source": [
        "students = ['venky', 'viky', 'abi', 'sai', 'vasanth']\n",
        "\n",
        "d = dict.fromkeys(students) # default value is None\n",
        "\n",
        "print(d)"
      ]
    },
    {
      "cell_type": "code",
      "execution_count": null,
      "metadata": {
        "colab": {
          "base_uri": "https://localhost:8080/"
        },
        "id": "TPqB6m4XUGd4",
        "outputId": "37f95595-6e98-4bd5-aeab-75cfb918843a"
      },
      "outputs": [],
      "source": [
        "students = ['venky', 'viky', 'abi', 'sai', 'vasanth']\n",
        "\n",
        "d = dict.fromkeys(students, 0)\n",
        "\n",
        "print(d)"
      ]
    },
    {
      "cell_type": "code",
      "execution_count": null,
      "metadata": {
        "colab": {
          "base_uri": "https://localhost:8080/"
        },
        "id": "IYua6KRYUQ6d",
        "outputId": "7a2c4b3b-f067-4ef2-fc2a-c9d98db8eb1d"
      },
      "outputs": [],
      "source": [
        "students = ('venky', 'viky', 'abi', 'sai', 'vasanth')\n",
        "\n",
        "d = dict.fromkeys(students, 0)\n",
        "\n",
        "print(d)"
      ]
    },
    {
      "cell_type": "code",
      "execution_count": null,
      "metadata": {
        "colab": {
          "base_uri": "https://localhost:8080/"
        },
        "id": "ZaanO5PEUUnP",
        "outputId": "143c387f-86a0-44c8-f56a-b8c119ce523b"
      },
      "outputs": [],
      "source": [
        "students = ('venky', 'viky', 'abi', 'sai', 'vasanth')\n",
        "\n",
        "d = dict.fromkeys(students, [1,2,3])\n",
        "\n",
        "print(d)"
      ]
    },
    {
      "cell_type": "code",
      "execution_count": null,
      "metadata": {
        "colab": {
          "base_uri": "https://localhost:8080/"
        },
        "id": "JxG4GT04UfEU",
        "outputId": "2257df39-c438-499a-d9f0-d2c8106cd91b"
      },
      "outputs": [],
      "source": [
        "# keys and values in dictionary\n",
        "\n",
        "d = {'a': [12,20,30], 'b': (20,30,40), 'c': {12,30,40}, 'd': {10:20,20:30,30:40}} # dictionary inside dictionary is possible as a value\n",
        "\n",
        "print(d)"
      ]
    },
    {
      "cell_type": "code",
      "execution_count": null,
      "metadata": {
        "colab": {
          "base_uri": "https://localhost:8080/"
        },
        "id": "9Gft34LiU4W3",
        "outputId": "a72adec8-034f-4049-fc99-4de11791107b"
      },
      "outputs": [],
      "source": [
        "d = {(12,30,40): 'b'} # tuple as a key\n",
        "print(d)"
      ]
    },
    {
      "cell_type": "code",
      "execution_count": null,
      "metadata": {
        "colab": {
          "base_uri": "https://localhost:8080/",
          "height": 162
        },
        "id": "KAyGqbBUVTVO",
        "outputId": "0dd110a4-e7bd-4e04-e61a-fb5a0b08536d"
      },
      "outputs": [],
      "source": [
        "d = {(12,30,40): 'b', [12,30,40]: 'c'} # list as a key is not possible\n",
        "print(d)"
      ]
    },
    {
      "cell_type": "code",
      "execution_count": null,
      "metadata": {
        "colab": {
          "base_uri": "https://localhost:8080/",
          "height": 198
        },
        "id": "pEIrtCcCV2mJ",
        "outputId": "1edaf96a-1101-4221-dea8-471d53c814ea"
      },
      "outputs": [],
      "source": [
        "# list, set, dictionaries - are mutable (so it cannot be passed as a key to a dictionary)\n",
        "\n",
        "d = {(12,30,[12,30]): \"A\"}\n",
        "print(d)"
      ]
    },
    {
      "cell_type": "code",
      "execution_count": null,
      "metadata": {
        "colab": {
          "base_uri": "https://localhost:8080/"
        },
        "id": "_HEnlEevWmVz",
        "outputId": "d09ce854-3355-48ba-a695-9c04cd94489c"
      },
      "outputs": [],
      "source": [
        "d = {\"a\": 12, \"b\": 13, \"c\": 100}\n",
        "print(len(d))"
      ]
    },
    {
      "cell_type": "code",
      "execution_count": null,
      "metadata": {
        "colab": {
          "base_uri": "https://localhost:8080/"
        },
        "id": "fsFIsCOfVvfq",
        "outputId": "6fea4550-7b79-4f71-8e2f-941b7f61839a"
      },
      "outputs": [],
      "source": [
        "d = {\"a\": 12, \"b\": 13, \"c\": 100, 1:\"A\", \"1\": \"ABC\", 1.0:\"2\", False: \"True\"}\n",
        "print(d)\n",
        "print(len(d))"
      ]
    },
    {
      "cell_type": "code",
      "execution_count": null,
      "metadata": {
        "colab": {
          "base_uri": "https://localhost:8080/"
        },
        "id": "IEmhmGtAXYP3",
        "outputId": "72c53aa2-274c-42b6-f21c-d4aaa40498a3"
      },
      "outputs": [],
      "source": [
        "# keys, values, items\n",
        "\n",
        "d = {\"Virat\": 55.4, \"Rohit\": 46.9, \"Sachin\": 60.9}\n",
        "\n",
        "print(d.keys())\n",
        "print(d.values())\n",
        "print(d.items())"
      ]
    },
    {
      "cell_type": "code",
      "execution_count": null,
      "metadata": {
        "colab": {
          "base_uri": "https://localhost:8080/"
        },
        "id": "2JWTgQkCX4W6",
        "outputId": "9f567989-799b-4a8e-d969-13864a9d5d13"
      },
      "outputs": [],
      "source": [
        "for k in d.keys():\n",
        "  print(\"Keys: -->\", k)"
      ]
    },
    {
      "cell_type": "code",
      "execution_count": null,
      "metadata": {
        "colab": {
          "base_uri": "https://localhost:8080/"
        },
        "id": "Mr6x3SP5X-s2",
        "outputId": "a45aff15-7a31-4edb-b427-391b27d08dbf"
      },
      "outputs": [],
      "source": [
        "for k in d.values():\n",
        "  print(\"Values: -->\", k)"
      ]
    },
    {
      "cell_type": "code",
      "execution_count": null,
      "metadata": {
        "colab": {
          "base_uri": "https://localhost:8080/"
        },
        "id": "b9j4ZcMjYDtj",
        "outputId": "7800cb46-9d0e-41c9-b84d-a25b98b01fd5"
      },
      "outputs": [],
      "source": [
        "for k in d.items():\n",
        "  print(\"Items: -->\", k)"
      ]
    },
    {
      "cell_type": "code",
      "execution_count": null,
      "metadata": {
        "colab": {
          "base_uri": "https://localhost:8080/"
        },
        "id": "MbHiN-n7YK4u",
        "outputId": "d82da80e-75a6-4bc5-c0b2-1a8c5834ccdf"
      },
      "outputs": [],
      "source": [
        "for k, v in d.items():\n",
        "  print(\"Key: -->\", k, \"; Values-->\", v)"
      ]
    },
    {
      "cell_type": "markdown",
      "metadata": {
        "id": "WnBjxjrLYnL2"
      },
      "source": [
        "### **Accessing in a dictionary**"
      ]
    },
    {
      "cell_type": "code",
      "execution_count": null,
      "metadata": {
        "colab": {
          "base_uri": "https://localhost:8080/"
        },
        "id": "DdgapUwhYrZu",
        "outputId": "d2a35fe1-2496-4a43-bf81-159e78db77a3"
      },
      "outputs": [],
      "source": [
        "d = {\"Virat\": 55.4, \"Rohit\": 46.9, \"Sachin\": 60.9}\n",
        "\n",
        "d['Virat']"
      ]
    },
    {
      "cell_type": "code",
      "execution_count": null,
      "metadata": {
        "colab": {
          "base_uri": "https://localhost:8080/",
          "height": 144
        },
        "id": "16iiBTo0Yy6C",
        "outputId": "daa2819c-faea-4008-d3b5-1312dafec57a"
      },
      "outputs": [],
      "source": [
        "d['Sky']"
      ]
    },
    {
      "cell_type": "code",
      "execution_count": null,
      "metadata": {
        "colab": {
          "base_uri": "https://localhost:8080/"
        },
        "id": "aWFThjj5Y5re",
        "outputId": "11332cec-51f9-4d91-d081-707f344c97cb"
      },
      "outputs": [],
      "source": [
        "# get() method\n",
        "\n",
        "d = {\"Virat\": 55.4, \"Rohit\": 46.9, \"Sachin\": 60.9}\n",
        "\n",
        "d.get(\"Virat\")"
      ]
    },
    {
      "cell_type": "code",
      "execution_count": null,
      "metadata": {
        "colab": {
          "base_uri": "https://localhost:8080/"
        },
        "id": "_z7FwRN3ZFZn",
        "outputId": "94b2945c-85ec-41ac-fb47-efa382d42158"
      },
      "outputs": [],
      "source": [
        "a = d.get(\"Sky\")\n",
        "b = d.get(\"Virat\")\n",
        "print(a)\n",
        "print(b)"
      ]
    },
    {
      "cell_type": "code",
      "execution_count": null,
      "metadata": {
        "colab": {
          "base_uri": "https://localhost:8080/"
        },
        "id": "9-oSHYf3ZYK2",
        "outputId": "e52f3db6-4a16-4b8a-91c0-29df2d3f40c6"
      },
      "outputs": [],
      "source": [
        "d.get(\"Sky\", -1) # get(key, default_val)"
      ]
    },
    {
      "cell_type": "code",
      "execution_count": null,
      "metadata": {
        "colab": {
          "base_uri": "https://localhost:8080/",
          "height": 36
        },
        "id": "fqb-fb72ZhAr",
        "outputId": "0702ba20-a02a-405d-9143-1790b3c53e8b"
      },
      "outputs": [],
      "source": [
        "d.get(\"Sky\", \"Key Not Found\") # get(key, default_val)"
      ]
    },
    {
      "cell_type": "markdown",
      "metadata": {
        "id": "85dI-b_3Zt_l"
      },
      "source": [
        "### **Modifying a dictionary**"
      ]
    },
    {
      "cell_type": "code",
      "execution_count": null,
      "metadata": {
        "colab": {
          "base_uri": "https://localhost:8080/"
        },
        "id": "buMwYWn5Zw0Y",
        "outputId": "38a3cb7a-a2d6-4826-db43-066c8ae2cb40"
      },
      "outputs": [],
      "source": [
        "d = {\"Virat\": 55.4, \"Rohit\": 46.9, \"Sachin\": 60.9}\n",
        "\n",
        "d['Virat'] = [100,56,78] # keys in dictionary needs to be unique\n",
        "\n",
        "print(d)"
      ]
    },
    {
      "cell_type": "code",
      "execution_count": null,
      "metadata": {
        "colab": {
          "base_uri": "https://localhost:8080/"
        },
        "id": "vLmYwR9DaFMz",
        "outputId": "291a4561-70a9-4fbc-bee0-644fbca21775"
      },
      "outputs": [],
      "source": [
        "# in operator\n",
        "\n",
        "'Virat' in d"
      ]
    },
    {
      "cell_type": "code",
      "execution_count": null,
      "metadata": {
        "colab": {
          "base_uri": "https://localhost:8080/"
        },
        "id": "-1lgDD5LaKxs",
        "outputId": "4e5340f0-5f97-46f4-fd2c-7dae6f6a1cb7"
      },
      "outputs": [],
      "source": [
        "'Virat' not in d"
      ]
    },
    {
      "cell_type": "code",
      "execution_count": null,
      "metadata": {
        "colab": {
          "base_uri": "https://localhost:8080/"
        },
        "id": "6H66D0lqaNPn",
        "outputId": "2f162373-89c0-4753-baff-953ddd2321f9"
      },
      "outputs": [],
      "source": [
        "'Sky' not in d"
      ]
    },
    {
      "cell_type": "code",
      "execution_count": null,
      "metadata": {
        "colab": {
          "base_uri": "https://localhost:8080/"
        },
        "id": "m44KL8zoaQGI",
        "outputId": "71be863a-2162-4938-e406-0c8182ab2553"
      },
      "outputs": [],
      "source": [
        "d = {\"Virat\": \"Sky\", \"Rohit\": \"Pant\"}\n",
        "\n",
        "\"Sky\" in d"
      ]
    },
    {
      "cell_type": "code",
      "execution_count": null,
      "metadata": {
        "colab": {
          "base_uri": "https://localhost:8080/"
        },
        "id": "GBFV0et3adpj",
        "outputId": "864b62c0-b2c0-435f-9837-943e6452111f"
      },
      "outputs": [],
      "source": [
        "\"Sky\" in d.values()"
      ]
    },
    {
      "cell_type": "markdown",
      "metadata": {
        "id": "igUiJqX7ataV"
      },
      "source": [
        "### **Update Method**"
      ]
    },
    {
      "cell_type": "code",
      "execution_count": null,
      "metadata": {
        "colab": {
          "base_uri": "https://localhost:8080/"
        },
        "id": "hmd7Mt1Vardn",
        "outputId": "6f788b9d-3d46-416a-cf35-8efb15026267"
      },
      "outputs": [],
      "source": [
        "my_dict = {\"name\": \"Venky\", \"age\": 26, \"profession\": \"teaching\"}\n",
        "\n",
        "print(my_dict)"
      ]
    },
    {
      "cell_type": "code",
      "execution_count": null,
      "metadata": {
        "colab": {
          "base_uri": "https://localhost:8080/"
        },
        "id": "uolfjZ5ha9B1",
        "outputId": "f0301226-8e9c-4c30-e857-2ae5b951cd7c"
      },
      "outputs": [],
      "source": [
        "my_dict.update(name = \"Viky\", age = 30)\n",
        "\n",
        "print(my_dict)"
      ]
    },
    {
      "cell_type": "code",
      "execution_count": null,
      "metadata": {
        "id": "ZNy3zAX1bWyX"
      },
      "outputs": [],
      "source": [
        "my_dict = {\"name\": \"Venky\", \"age\": 26, \"profession\": \"teaching\"}\n",
        "\n",
        "other_dict = {\"salary\": 1000, \"education\": \"Mtech\"}\n",
        "\n",
        "my_dict.update(other_dict)"
      ]
    },
    {
      "cell_type": "code",
      "execution_count": null,
      "metadata": {
        "colab": {
          "base_uri": "https://localhost:8080/"
        },
        "id": "_Xed-40Pb81V",
        "outputId": "d2dc032a-8321-4f40-8ec1-2c9e5c19b857"
      },
      "outputs": [],
      "source": [
        "d = {\"a\": [12]}\n",
        "d[\"a\"].append(20)\n",
        "print(d)"
      ]
    },
    {
      "cell_type": "code",
      "execution_count": null,
      "metadata": {
        "colab": {
          "base_uri": "https://localhost:8080/"
        },
        "id": "0CVUGlyZcFRh",
        "outputId": "ea524a0f-1d88-4a10-a1dc-9183cc82d046"
      },
      "outputs": [],
      "source": [
        "d = {\"a\": 1, \"a\": 2}\n",
        "print(d)"
      ]
    },
    {
      "cell_type": "code",
      "execution_count": null,
      "metadata": {
        "colab": {
          "base_uri": "https://localhost:8080/"
        },
        "id": "H45vPL5-bicP",
        "outputId": "57fec41e-0fd6-4284-e546-dc6ff025e8fd"
      },
      "outputs": [],
      "source": [
        "my_dict"
      ]
    },
    {
      "cell_type": "code",
      "execution_count": null,
      "metadata": {
        "id": "3yJjLgVBcUGz"
      },
      "outputs": [],
      "source": [
        "my_dict = {\"name\": \"Viky\", \"age\": 30, \"profession\": \"teaching\"}\n",
        "\n",
        "other_dict = [\"salary\", 10000], [\"education\", \"btech\"]\n",
        "\n",
        "my_dict.update(other_dict)"
      ]
    },
    {
      "cell_type": "code",
      "execution_count": null,
      "metadata": {
        "colab": {
          "base_uri": "https://localhost:8080/"
        },
        "id": "WyBZ8mnGc4Ak",
        "outputId": "d79cc4fa-a59c-4b9b-bc56-b8cf60bea2c0"
      },
      "outputs": [],
      "source": [
        "type(other_dict)"
      ]
    },
    {
      "cell_type": "code",
      "execution_count": null,
      "metadata": {
        "colab": {
          "base_uri": "https://localhost:8080/"
        },
        "id": "rj01ByzHccCb",
        "outputId": "abe83ef6-9f18-4d78-a011-59ef59694ff1"
      },
      "outputs": [],
      "source": [
        "my_dict"
      ]
    },
    {
      "cell_type": "code",
      "execution_count": null,
      "metadata": {
        "colab": {
          "base_uri": "https://localhost:8080/"
        },
        "id": "zUBxtfxNc9he",
        "outputId": "7e1dd3cf-214d-4d48-a016-ea92409bd7c5"
      },
      "outputs": [],
      "source": [
        "my_dict"
      ]
    },
    {
      "cell_type": "code",
      "execution_count": null,
      "metadata": {
        "id": "gfY0vNlzc_Zv"
      },
      "outputs": [],
      "source": [
        "del my_dict['salary']"
      ]
    },
    {
      "cell_type": "code",
      "execution_count": null,
      "metadata": {
        "colab": {
          "base_uri": "https://localhost:8080/"
        },
        "id": "pVKnCYcPdB-f",
        "outputId": "8eb598ed-8b98-47ee-b1cd-97d2294da50e"
      },
      "outputs": [],
      "source": [
        "my_dict"
      ]
    },
    {
      "cell_type": "code",
      "execution_count": null,
      "metadata": {
        "id": "LVcONos8dURO"
      },
      "outputs": [],
      "source": [
        "del my_dict"
      ]
    },
    {
      "cell_type": "code",
      "execution_count": null,
      "metadata": {
        "colab": {
          "base_uri": "https://localhost:8080/",
          "height": 144
        },
        "id": "yx4DVIpTdWC4",
        "outputId": "3420f1a7-9b88-4b50-e6d4-868da118cc1d"
      },
      "outputs": [],
      "source": [
        "my_dict"
      ]
    },
    {
      "cell_type": "code",
      "execution_count": null,
      "metadata": {
        "colab": {
          "base_uri": "https://localhost:8080/"
        },
        "id": "z_u3ORNqdaF6",
        "outputId": "0c84f2f5-ae41-44ab-fb3a-9c706cfd10ff"
      },
      "outputs": [],
      "source": [
        "my_dict = {\"name\": \"Viky\", \"age\": 30, \"profession\": \"teaching\"}\n",
        "\n",
        "other_dict = [\"salary\", 10000], [\"education\", \"btech\"]\n",
        "\n",
        "my_dict.update(other_dict)\n",
        "print(my_dict)"
      ]
    },
    {
      "cell_type": "code",
      "execution_count": null,
      "metadata": {
        "id": "rUypi7Dpdf3R"
      },
      "outputs": [],
      "source": [
        "my_dict.clear()"
      ]
    },
    {
      "cell_type": "code",
      "execution_count": null,
      "metadata": {
        "colab": {
          "base_uri": "https://localhost:8080/"
        },
        "id": "4ZrNFr3wdip9",
        "outputId": "4dae1cea-138e-40e0-eae7-04937615b7e1"
      },
      "outputs": [],
      "source": [
        "my_dict"
      ]
    }
  ],
  "metadata": {
    "colab": {
      "provenance": []
    },
    "kernelspec": {
      "display_name": "Python 3",
      "name": "python3"
    },
    "language_info": {
      "name": "python",
      "version": "3.12.4"
    }
  },
  "nbformat": 4,
  "nbformat_minor": 0
}
