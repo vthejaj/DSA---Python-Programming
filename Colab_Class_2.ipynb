{
  "cells": [
    {
      "cell_type": "markdown",
      "metadata": {
        "id": "WKcEpGbMSMM6"
      },
      "source": [
        "### **Variables**"
      ]
    },
    {
      "cell_type": "code",
      "execution_count": null,
      "metadata": {
        "colab": {
          "base_uri": "https://localhost:8080/"
        },
        "id": "SWbGqpbWSfvF",
        "outputId": "4f5dbcbf-0d04-4de4-d3c3-9a9f3a74f46c"
      },
      "outputs": [],
      "source": [
        "print(\"abc\")\n",
        "print(\"venky\")"
      ]
    },
    {
      "cell_type": "code",
      "execution_count": null,
      "metadata": {
        "colab": {
          "base_uri": "https://localhost:8080/"
        },
        "id": "0tAaazDGXgLS",
        "outputId": "0a67cdfd-2b46-4cf8-cba0-b56e6d24fe14"
      },
      "outputs": [],
      "source": [
        "# using semicolons\n",
        "\n",
        "print(\"abc\");\n",
        "print(\"venky\")"
      ]
    },
    {
      "cell_type": "code",
      "execution_count": null,
      "metadata": {
        "colab": {
          "base_uri": "https://localhost:8080/",
          "height": 109
        },
        "id": "K9ddjdwmXqLj",
        "outputId": "6157ca7f-9546-46e7-af29-aa944ed86456"
      },
      "outputs": [],
      "source": [
        "print(\"abc\") print(\"venky\")"
      ]
    },
    {
      "cell_type": "code",
      "execution_count": null,
      "metadata": {
        "colab": {
          "base_uri": "https://localhost:8080/"
        },
        "id": "oIgPfSbCYF8_",
        "outputId": "af2d22ff-9b98-4ec9-da87-1efb12eeb380"
      },
      "outputs": [],
      "source": [
        "print(\"abc\"); print(\"venky\"); a = 10; print(a)"
      ]
    },
    {
      "cell_type": "code",
      "execution_count": null,
      "metadata": {
        "colab": {
          "base_uri": "https://localhost:8080/",
          "height": 109
        },
        "id": "cGcDBPrUYRkp",
        "outputId": "957f7f05-c024-4e7e-d9cc-6db8dcd0cbdd"
      },
      "outputs": [],
      "source": [
        "# Indentation\n",
        "\n",
        "print(\"abc\")\n",
        " print(\"venky\")\n"
      ]
    },
    {
      "cell_type": "code",
      "execution_count": null,
      "metadata": {
        "colab": {
          "base_uri": "https://localhost:8080/"
        },
        "id": "UvDGp6POYloa",
        "outputId": "558e7820-cee0-4d8d-b911-0fdd8997602f"
      },
      "outputs": [],
      "source": [
        "welcome_message = \"Welcome to Python class\"\n",
        "print(welcome_message)"
      ]
    },
    {
      "cell_type": "code",
      "execution_count": null,
      "metadata": {
        "colab": {
          "base_uri": "https://localhost:8080/",
          "height": 109
        },
        "id": "swtjEQxRZRvE",
        "outputId": "9623bce0-4ccc-4f5b-b6c2-0079e73417ba"
      },
      "outputs": [],
      "source": [
        "# space not allowed while declaring\n",
        "\n",
        "welcome message = \"Welcome to Python Class\"\n",
        "print(welcome message)"
      ]
    },
    {
      "cell_type": "code",
      "execution_count": null,
      "metadata": {
        "colab": {
          "base_uri": "https://localhost:8080/",
          "height": 109
        },
        "id": "4v8DrlOhZhrg",
        "outputId": "9953ff93-ba3e-4553-a6ec-1fff900116e6"
      },
      "outputs": [],
      "source": [
        "_abc = 9\n",
        "print(_abc)\n",
        "9abc = 10\n",
        "print(9abc)"
      ]
    },
    {
      "cell_type": "code",
      "execution_count": null,
      "metadata": {
        "colab": {
          "base_uri": "https://localhost:8080/"
        },
        "id": "50cr0r-WZs4o",
        "outputId": "64044aa1-59f3-4354-f941-a2586e3db539"
      },
      "outputs": [],
      "source": [
        "_ = 100\n",
        "print(_)"
      ]
    },
    {
      "cell_type": "code",
      "execution_count": null,
      "metadata": {
        "colab": {
          "base_uri": "https://localhost:8080/"
        },
        "id": "Vu4cxICJZ3hs",
        "outputId": "e5e35187-568a-42a6-e3b5-6900548ff7c7"
      },
      "outputs": [],
      "source": [
        "import keyword\n",
        "keyword.kwlist"
      ]
    },
    {
      "cell_type": "code",
      "execution_count": null,
      "metadata": {
        "colab": {
          "base_uri": "https://localhost:8080/"
        },
        "id": "OdIFeee6aeBT",
        "outputId": "b8e52bfa-7864-4c1d-8d74-6979753afcc0"
      },
      "outputs": [],
      "source": [
        "len(keyword.kwlist) # 35 keywords in python"
      ]
    },
    {
      "cell_type": "code",
      "execution_count": null,
      "metadata": {
        "colab": {
          "base_uri": "https://localhost:8080/",
          "height": 109
        },
        "id": "K-bvtSr2aOi5",
        "outputId": "cdc24671-221b-4238-e70d-73a8e3d77c81"
      },
      "outputs": [],
      "source": [
        "False = 10\n",
        "print(False)"
      ]
    },
    {
      "cell_type": "code",
      "execution_count": null,
      "metadata": {
        "colab": {
          "base_uri": "https://localhost:8080/"
        },
        "id": "CtVqf9jFakrJ",
        "outputId": "549baf9b-6520-4b1f-fa14-9b5c278c5c5c"
      },
      "outputs": [],
      "source": [
        "print(\"ABC\")"
      ]
    },
    {
      "cell_type": "code",
      "execution_count": null,
      "metadata": {
        "id": "rDO9VJaSaxLW"
      },
      "outputs": [],
      "source": [
        "print = 10"
      ]
    },
    {
      "cell_type": "code",
      "execution_count": null,
      "metadata": {
        "colab": {
          "base_uri": "https://localhost:8080/"
        },
        "id": "lCB4fcLza0O5",
        "outputId": "39eb6f52-4f53-48f2-c358-02c766252383"
      },
      "outputs": [],
      "source": [
        "# assign a name of the person\n",
        "\n",
        "n = \"Venky\"\n",
        "\n",
        "print(n)"
      ]
    },
    {
      "cell_type": "code",
      "execution_count": null,
      "metadata": {
        "id": "Zfy5HVdra_tq"
      },
      "outputs": [],
      "source": [
        "name = \"Venky\"\n",
        "s_n = \"abi\"\n",
        "student_name = \"abi\"\n"
      ]
    },
    {
      "cell_type": "code",
      "execution_count": null,
      "metadata": {
        "colab": {
          "base_uri": "https://localhost:8080/"
        },
        "id": "QHcAos3JbRpd",
        "outputId": "7067b9e9-5469-4693-8587-129d32f2ae2f"
      },
      "outputs": [],
      "source": [
        "length_of_person_name = len(name)\n",
        "name_length = len(name)"
      ]
    },
    {
      "cell_type": "code",
      "execution_count": null,
      "metadata": {
        "colab": {
          "base_uri": "https://localhost:8080/"
        },
        "id": "BJEMSUfCbwJg",
        "outputId": "b980ebcb-285f-4d0f-cc89-77443d262da6"
      },
      "outputs": [],
      "source": [
        "# try to avoid using Capital letters while assigning variables\n",
        "\n",
        "NUM = 10\n",
        "num = 10\n",
        "print(NUM)\n",
        "print(num)"
      ]
    },
    {
      "cell_type": "markdown",
      "metadata": {
        "id": "trj9ABVTeUSI"
      },
      "source": [
        "### **Comments**"
      ]
    },
    {
      "cell_type": "code",
      "execution_count": null,
      "metadata": {
        "colab": {
          "base_uri": "https://localhost:8080/"
        },
        "id": "XvNVMVxQeWPR",
        "outputId": "732e7349-0217-4074-9215-92251b6b0fce"
      },
      "outputs": [],
      "source": [
        "# Single Line Comment\n",
        "\n",
        "\"\"\"\n",
        "I'm explaining multiple line comments here\n",
        "in Python class\n",
        "\"\"\"\n",
        "'''\n",
        "explain\n",
        "concepts\n",
        "of\n",
        "comments\n",
        "'''\n",
        "\n",
        "# explain\n",
        "# concepts\n",
        "# of\n",
        "# comments\n",
        "print(\"comments\")"
      ]
    },
    {
      "cell_type": "markdown",
      "metadata": {
        "id": "cL7E7KhHfOfN"
      },
      "source": [
        "### **Datatypes**"
      ]
    },
    {
      "cell_type": "markdown",
      "metadata": {
        "id": "hSUMa9TmeQEB"
      },
      "source": [
        "**Strings**"
      ]
    },
    {
      "cell_type": "code",
      "execution_count": null,
      "metadata": {
        "colab": {
          "base_uri": "https://localhost:8080/"
        },
        "id": "NXq3_gKyeSH-",
        "outputId": "a5c9ea9f-33c9-4a41-b061-a8c2ba903c76"
      },
      "outputs": [],
      "source": [
        "# A string is a series of characters\n",
        "\n",
        "new_string = \"This is a string\"\n",
        "new_string_2 = 'This is a string'\n",
        "new_string_3 = 'This is a string'\n",
        "\n",
        "print(new_string)\n",
        "print(new_string_2)\n",
        "print(type(new_string))\n",
        "print(type(new_string_2))"
      ]
    },
    {
      "cell_type": "code",
      "execution_count": null,
      "metadata": {
        "colab": {
          "base_uri": "https://localhost:8080/"
        },
        "id": "DKCno7fbftKx",
        "outputId": "90fe5c00-1346-4645-d577-2e5a837f1bb1"
      },
      "outputs": [],
      "source": [
        "print(id(new_string))\n",
        "print(id(new_string_2))\n",
        "print(id(new_string_3))"
      ]
    },
    {
      "cell_type": "code",
      "execution_count": null,
      "metadata": {
        "colab": {
          "base_uri": "https://localhost:8080/"
        },
        "id": "RJZ4zIBhgpAG",
        "outputId": "080bf96d-c2fd-451d-e70b-8431b2738aed"
      },
      "outputs": [],
      "source": [
        "name = \"Venky\"\n",
        "name_2 = \"Venky\"\n",
        "\n",
        "print(id(name))\n",
        "print(id(name_2))"
      ]
    },
    {
      "cell_type": "code",
      "execution_count": null,
      "metadata": {
        "colab": {
          "base_uri": "https://localhost:8080/"
        },
        "id": "n044XHgFhUxn",
        "outputId": "774a6a54-1774-4a72-8540-8fd743bfd55a"
      },
      "outputs": [],
      "source": [
        "a = 250\n",
        "b = 250\n",
        "\n",
        "print(id(a))\n",
        "print(id(b))\n",
        "\n",
        "c = 300\n",
        "d = 300\n",
        "print(id(c))\n",
        "print(id(d))"
      ]
    },
    {
      "cell_type": "code",
      "execution_count": null,
      "metadata": {
        "colab": {
          "base_uri": "https://localhost:8080/"
        },
        "id": "J3zP0Zm6h_5L",
        "outputId": "dbd46202-f409-4a9f-8068-a013f4c9ad60"
      },
      "outputs": [],
      "source": [
        "message = 'I have watched \"Indian-2\" Audio Launch Yesterday.'\n",
        "print(message)"
      ]
    },
    {
      "cell_type": "code",
      "execution_count": null,
      "metadata": {
        "colab": {
          "base_uri": "https://localhost:8080/"
        },
        "id": "D-yGa0FjivYZ",
        "outputId": "ae69021c-cffb-451c-c64e-d70c114906c0"
      },
      "outputs": [],
      "source": [
        "string_1 = \"This is a string\"\n",
        "string_2 = \"This is a string \"\n",
        "string_1 == string_2"
      ]
    },
    {
      "cell_type": "code",
      "execution_count": null,
      "metadata": {
        "id": "cY_4zHb1jZu4"
      },
      "outputs": [],
      "source": [
        "name = \"Venky\"\n",
        "name_2 = \"Venky  \"\n",
        "name_3 = \"  Venky\"\n",
        "name_4 = \" Venky \""
      ]
    },
    {
      "cell_type": "code",
      "execution_count": null,
      "metadata": {
        "colab": {
          "base_uri": "https://localhost:8080/",
          "height": 36
        },
        "id": "Kp60a7Eqj93_",
        "outputId": "fa43691a-d7bc-44c8-c8de-cbdc2cbba186"
      },
      "outputs": [],
      "source": [
        "name_2"
      ]
    },
    {
      "cell_type": "code",
      "execution_count": null,
      "metadata": {
        "colab": {
          "base_uri": "https://localhost:8080/",
          "height": 36
        },
        "id": "6oUcEt3cj1Vg",
        "outputId": "c0598f46-5e8d-48bb-ecc4-fe6babdeb2c7"
      },
      "outputs": [],
      "source": [
        "name_2.rstrip()"
      ]
    },
    {
      "cell_type": "code",
      "execution_count": null,
      "metadata": {
        "colab": {
          "base_uri": "https://localhost:8080/",
          "height": 36
        },
        "id": "jN-QnM4-kDmm",
        "outputId": "4f40e99b-9fff-4722-f870-c124d506d2f1"
      },
      "outputs": [],
      "source": [
        "name_3"
      ]
    },
    {
      "cell_type": "code",
      "execution_count": null,
      "metadata": {
        "colab": {
          "base_uri": "https://localhost:8080/",
          "height": 36
        },
        "id": "04qRJgS4kF4w",
        "outputId": "575b4c7f-4306-4320-e995-21cb6ec62d71"
      },
      "outputs": [],
      "source": [
        "name_3.lstrip()"
      ]
    },
    {
      "cell_type": "code",
      "execution_count": null,
      "metadata": {
        "colab": {
          "base_uri": "https://localhost:8080/",
          "height": 36
        },
        "id": "3DJ2m35lkJ_a",
        "outputId": "50a30395-fce8-4092-d0ff-63cba4639475"
      },
      "outputs": [],
      "source": [
        "name_4"
      ]
    },
    {
      "cell_type": "code",
      "execution_count": null,
      "metadata": {
        "colab": {
          "base_uri": "https://localhost:8080/",
          "height": 36
        },
        "id": "WRFpdvrfkMvh",
        "outputId": "b7fcf25d-23b8-4e44-b91f-a522f2bc5fe9"
      },
      "outputs": [],
      "source": [
        "name_4.strip()"
      ]
    },
    {
      "cell_type": "code",
      "execution_count": null,
      "metadata": {
        "colab": {
          "base_uri": "https://localhost:8080/",
          "height": 36
        },
        "id": "J-D35R6wkbq9",
        "outputId": "e442f032-96ee-4703-d1cd-52aaf0456b3e"
      },
      "outputs": [],
      "source": [
        "first_name = \"Venky\"\n",
        "last_name = \"Viky\"\n",
        "\n",
        "first_name+\" \"+last_name"
      ]
    },
    {
      "cell_type": "markdown",
      "metadata": {
        "id": "UjV22UIen5o8"
      },
      "source": [
        "**Numeric**"
      ]
    },
    {
      "cell_type": "code",
      "execution_count": null,
      "metadata": {
        "colab": {
          "base_uri": "https://localhost:8080/"
        },
        "id": "duudWznMn7ZT",
        "outputId": "ae4e7b6a-144f-419e-d342-779beed44945"
      },
      "outputs": [],
      "source": [
        "value = 10\n",
        "print(type(value))"
      ]
    },
    {
      "cell_type": "code",
      "execution_count": null,
      "metadata": {
        "colab": {
          "base_uri": "https://localhost:8080/"
        },
        "id": "ZUQWJPGaoA-C",
        "outputId": "e0f3abcd-628e-4aa7-cbdb-9a84e83a67f8"
      },
      "outputs": [],
      "source": [
        "f_value = 10.2\n",
        "print(type(f_value))"
      ]
    },
    {
      "cell_type": "code",
      "execution_count": null,
      "metadata": {
        "colab": {
          "base_uri": "https://localhost:8080/"
        },
        "id": "ootEG-TuoHQy",
        "outputId": "990162ea-bee6-4a24-f230-1c12057532bd"
      },
      "outputs": [],
      "source": [
        "a = 10\n",
        "b = 12\n",
        "s = a+b\n",
        "sub = a-b\n",
        "mul = a*b\n",
        "div = a/b\n",
        "print(s)\n",
        "print(type(s))\n",
        "print(sub)\n",
        "print(type(sub))\n",
        "print(mul)\n",
        "print(type(mul))\n",
        "print(div)\n",
        "print(type(div))"
      ]
    },
    {
      "cell_type": "code",
      "execution_count": null,
      "metadata": {
        "colab": {
          "base_uri": "https://localhost:8080/"
        },
        "id": "lcR8bhbEoq2K",
        "outputId": "93382410-f536-488b-9ab4-85d532977a18"
      },
      "outputs": [],
      "source": [
        "a = 10\n",
        "b = 5\n",
        "c = a/b\n",
        "\n",
        "print(c)\n",
        "print(type(c))\n",
        "\n",
        "# floor division\n",
        "\n",
        "d = a//b\n",
        "print(d)\n",
        "print(type(d))"
      ]
    },
    {
      "cell_type": "code",
      "execution_count": null,
      "metadata": {
        "colab": {
          "base_uri": "https://localhost:8080/"
        },
        "id": "vMuNtk9DpNPo",
        "outputId": "ebfbee2b-6a10-4490-bbb3-36ebb51740a1"
      },
      "outputs": [],
      "source": [
        "a = 12\n",
        "b = 5\n",
        "\n",
        "c = a/b\n",
        "print(c)\n",
        "print(type(c))\n",
        "d = a//b\n",
        "print(d)\n",
        "print(type(d))\n",
        "\n",
        "a = 14\n",
        "b = 5\n",
        "\n",
        "c = a/b\n",
        "print(c)\n",
        "print(type(c))\n",
        "d = a//b\n",
        "print(d)\n",
        "print(type(d))"
      ]
    },
    {
      "cell_type": "code",
      "execution_count": null,
      "metadata": {
        "colab": {
          "base_uri": "https://localhost:8080/",
          "height": 180
        },
        "id": "gIWoyqtzpD2V",
        "outputId": "6029de7d-bb3e-44d6-fcab-30ac5c809827"
      },
      "outputs": [],
      "source": [
        "a = 10\n",
        "b = 0\n",
        "print(a/b)"
      ]
    },
    {
      "cell_type": "code",
      "execution_count": null,
      "metadata": {
        "colab": {
          "base_uri": "https://localhost:8080/"
        },
        "id": "oGTR7VhnqL8L",
        "outputId": "67ba300f-1d0a-4c72-d7de-4767e7af6e5c"
      },
      "outputs": [],
      "source": [
        "f_value = 12.2\n",
        "print(f_value)\n",
        "print(type(f_value))\n",
        "a = 12.2\n",
        "b = 12.0\n",
        "c = a+b\n",
        "d = a-b\n",
        "e = a*b\n",
        "f = a/b\n",
        "print(d)"
      ]
    },
    {
      "cell_type": "code",
      "execution_count": null,
      "metadata": {
        "colab": {
          "base_uri": "https://localhost:8080/"
        },
        "id": "JBDTB9zltAK-",
        "outputId": "ab544037-5202-4d2b-d56e-1edeecb90819"
      },
      "outputs": [],
      "source": [
        "from decimal import Decimal\n",
        "Decimal(0.3)"
      ]
    },
    {
      "cell_type": "code",
      "execution_count": null,
      "metadata": {
        "colab": {
          "base_uri": "https://localhost:8080/"
        },
        "id": "8zk0uZiwtYls",
        "outputId": "5f390120-1c80-40a6-ecf5-cdef161a36a8"
      },
      "outputs": [],
      "source": [
        "a = 0.1\n",
        "b = 0.2\n",
        "c = a+b\n",
        "print(c)\n",
        "print(type(c))"
      ]
    },
    {
      "cell_type": "code",
      "execution_count": null,
      "metadata": {
        "colab": {
          "base_uri": "https://localhost:8080/"
        },
        "id": "q5YITVwlthTI",
        "outputId": "b3f824cd-727e-46e7-ae9c-754154e11551"
      },
      "outputs": [],
      "source": [
        "from decimal import Decimal\n",
        "\n",
        "a = Decimal('10.4')\n",
        "b = Decimal('12.5')\n",
        "c = a+b\n",
        "print(c)\n",
        "print(type(c))"
      ]
    },
    {
      "cell_type": "code",
      "execution_count": null,
      "metadata": {
        "colab": {
          "base_uri": "https://localhost:8080/"
        },
        "id": "RxTNtG1mt-sL",
        "outputId": "50226580-747c-43a0-8897-b67086f70e09"
      },
      "outputs": [],
      "source": [
        "10.4+12.5"
      ]
    },
    {
      "cell_type": "code",
      "execution_count": null,
      "metadata": {
        "colab": {
          "base_uri": "https://localhost:8080/"
        },
        "id": "DpBDSoyjuJW0",
        "outputId": "d209ca09-3452-4f9e-bda6-c4713302fad1"
      },
      "outputs": [],
      "source": [
        "f = 12.0\n",
        "i = int(f)\n",
        "print(i)\n",
        "print(type(i))"
      ]
    },
    {
      "cell_type": "code",
      "execution_count": null,
      "metadata": {
        "colab": {
          "base_uri": "https://localhost:8080/"
        },
        "id": "BYJK76GEugMn",
        "outputId": "1c162649-4a89-41b5-adc3-98d0878de9bf"
      },
      "outputs": [],
      "source": [
        "a = 12.56442845\n",
        "round(a,2)"
      ]
    },
    {
      "cell_type": "code",
      "execution_count": null,
      "metadata": {
        "colab": {
          "base_uri": "https://localhost:8080/"
        },
        "id": "IvzkdiDPu1WQ",
        "outputId": "08764cb9-074b-45bc-d8e9-68dd15b93c1b"
      },
      "outputs": [],
      "source": [
        "Decimal(0.1)"
      ]
    },
    {
      "cell_type": "code",
      "execution_count": null,
      "metadata": {
        "colab": {
          "base_uri": "https://localhost:8080/"
        },
        "id": "RHvHY9DRvDoV",
        "outputId": "baece94e-1db2-4180-bd4d-98f508007be6"
      },
      "outputs": [],
      "source": [
        "Decimal(0.1)"
      ]
    },
    {
      "cell_type": "code",
      "execution_count": null,
      "metadata": {
        "colab": {
          "base_uri": "https://localhost:8080/"
        },
        "id": "5ccCasd5wFyv",
        "outputId": "69d7d844-b25e-45f0-b250-6bae219e8815"
      },
      "outputs": [],
      "source": [
        "a = 10\n",
        "b = 12.3\n",
        "c = a+b\n",
        "print(c)\n",
        "print(type(c))"
      ]
    },
    {
      "cell_type": "code",
      "execution_count": null,
      "metadata": {
        "colab": {
          "base_uri": "https://localhost:8080/"
        },
        "id": "cDlVTFUAwept",
        "outputId": "fbaeb160-955a-437d-c90a-69998cd2977e"
      },
      "outputs": [],
      "source": [
        "a = complex(12)\n",
        "print(a)\n",
        "print(type(a))\n",
        "b = complex(12, 2)\n",
        "print(b)\n",
        "print(type(b))\n",
        "a+b"
      ]
    },
    {
      "cell_type": "code",
      "execution_count": null,
      "metadata": {
        "colab": {
          "base_uri": "https://localhost:8080/"
        },
        "id": "cYcdoICCw9ij",
        "outputId": "133a0690-9257-4248-ba6d-d199c8949368"
      },
      "outputs": [],
      "source": [
        "a = 0.2\n",
        "b = 0.1\n",
        "c = a+b\n",
        "print(c)"
      ]
    },
    {
      "cell_type": "code",
      "execution_count": null,
      "metadata": {
        "colab": {
          "base_uri": "https://localhost:8080/"
        },
        "id": "VkVkMU9mxYTt",
        "outputId": "2dd51de8-527b-4c34-8c22-fb65cff9deb4"
      },
      "outputs": [],
      "source": [
        "a = 4\n",
        "b = 2\n",
        "\n",
        "c = a/b\n",
        "print(c)\n",
        "print(type(c))"
      ]
    },
    {
      "cell_type": "markdown",
      "metadata": {
        "id": "mtjV5ICNxmXp"
      },
      "source": [
        "**Lists**"
      ]
    },
    {
      "cell_type": "code",
      "execution_count": null,
      "metadata": {
        "id": "QquQQC1Yxo2u"
      },
      "outputs": [],
      "source": [
        "new_list = [2,4,6,10,12.4, 12.8, \"Venky\", \"Gate\", \"Python\", 128, \"IPL\", \"VIRAT\"]"
      ]
    },
    {
      "cell_type": "code",
      "execution_count": null,
      "metadata": {
        "colab": {
          "base_uri": "https://localhost:8080/"
        },
        "id": "doWA-y6JyIHi",
        "outputId": "f2b679d6-bdd0-4805-a83d-3204550b69ab"
      },
      "outputs": [],
      "source": [
        "type(new_list)"
      ]
    },
    {
      "cell_type": "code",
      "execution_count": null,
      "metadata": {
        "colab": {
          "base_uri": "https://localhost:8080/"
        },
        "id": "DFEON2U_yhLs",
        "outputId": "593bc455-6602-4b4d-a0e5-848118b39de9"
      },
      "outputs": [],
      "source": [
        "new_list[-3]"
      ]
    },
    {
      "cell_type": "code",
      "execution_count": null,
      "metadata": {
        "colab": {
          "base_uri": "https://localhost:8080/"
        },
        "id": "9X2Zr27X2H3_",
        "outputId": "1f757d31-1392-4540-a921-568a36db7951"
      },
      "outputs": [],
      "source": [
        "len(new_list)"
      ]
    },
    {
      "cell_type": "code",
      "execution_count": null,
      "metadata": {
        "colab": {
          "base_uri": "https://localhost:8080/"
        },
        "id": "L-7HCV492NAG",
        "outputId": "c90ac08d-9348-437c-a2c7-8f2b79b2d47f"
      },
      "outputs": [],
      "source": [
        "new_list[0]"
      ]
    },
    {
      "cell_type": "code",
      "execution_count": null,
      "metadata": {
        "colab": {
          "base_uri": "https://localhost:8080/"
        },
        "id": "3R4ybXA_2Y_9",
        "outputId": "617b09f9-2faa-4ade-e1d2-13edec5083f4"
      },
      "outputs": [],
      "source": [
        "new_list[-12]"
      ]
    },
    {
      "cell_type": "code",
      "execution_count": null,
      "metadata": {
        "colab": {
          "base_uri": "https://localhost:8080/"
        },
        "id": "_2UFXcSa3KoX",
        "outputId": "f2220639-5c6a-475e-e21d-4ac965c5e8b1"
      },
      "outputs": [],
      "source": [
        "print(type(new_list))\n",
        "print(id(new_list))\n",
        "\n",
        "new_list[-1] = \"Rohit\"\n",
        "print(new_list)\n",
        "print(id(new_list))"
      ]
    },
    {
      "cell_type": "code",
      "execution_count": null,
      "metadata": {
        "colab": {
          "base_uri": "https://localhost:8080/"
        },
        "id": "EwmM-ru842L_",
        "outputId": "a07cfe39-ac05-4c61-adc6-f4028ddef02a"
      },
      "outputs": [],
      "source": [
        "new_list = [1,2,3]\n",
        "print(new_list)\n",
        "print(id(new_list))\n",
        "print(id(new_list[0]))\n",
        "new_list[0] = 10\n",
        "print(\"Updated list: \", new_list)\n",
        "print(id(new_list))\n",
        "print(id(new_list[0]))"
      ]
    },
    {
      "cell_type": "code",
      "execution_count": null,
      "metadata": {
        "colab": {
          "base_uri": "https://localhost:8080/"
        },
        "id": "g5Hlk4PS5s5t",
        "outputId": "ae8e6510-14c3-4e2d-a913-9804734f7f8d"
      },
      "outputs": [],
      "source": [
        "new_list = [2,2,3]\n",
        "new_list2 = [270, 270, 300, 10000, 10000]\n",
        "print(\"First list\")\n",
        "print(id(new_list[0]))\n",
        "print(id(new_list[1]))\n",
        "print(\"Second List\")\n",
        "print(id(new_list2[0]))\n",
        "print(id(new_list2[1]))\n",
        "print(id(new_list2[-1]))\n",
        "print(id(new_list2[-2]))"
      ]
    },
    {
      "cell_type": "code",
      "execution_count": null,
      "metadata": {
        "colab": {
          "base_uri": "https://localhost:8080/"
        },
        "id": "R4PvqNx-6IJL",
        "outputId": "8efe4b2d-b5d6-4042-9198-019bbacd8484"
      },
      "outputs": [],
      "source": [
        "a = 10000\n",
        "b = 10000\n",
        "\n",
        "print(id(a))\n",
        "print(id(b))"
      ]
    },
    {
      "cell_type": "code",
      "execution_count": null,
      "metadata": {
        "colab": {
          "base_uri": "https://localhost:8080/"
        },
        "id": "BxvVlsiE31xZ",
        "outputId": "aded6995-57c4-4d42-bd78-c6faf485164b"
      },
      "outputs": [],
      "source": [
        "name = \"Venky\"\n",
        "print(name)\n",
        "print(id(name))\n",
        "\n",
        "name = \"Kenky\"\n",
        "print(name)\n",
        "print(id(name))"
      ]
    },
    {
      "cell_type": "code",
      "execution_count": null,
      "metadata": {
        "colab": {
          "base_uri": "https://localhost:8080/",
          "height": 162
        },
        "id": "8XryRfGS4N6o",
        "outputId": "2c490ab0-103e-46f4-dc7f-ae4a4bb67bea"
      },
      "outputs": [],
      "source": [
        "name[0] = \"K\"\n",
        "print(name)"
      ]
    },
    {
      "cell_type": "code",
      "execution_count": null,
      "metadata": {
        "colab": {
          "base_uri": "https://localhost:8080/"
        },
        "id": "okZHWpjN34JD",
        "outputId": "5011d36b-1802-43b3-caf2-8196b336aac3"
      },
      "outputs": [],
      "source": [
        "print(name[0])\n",
        "print(name[1])\n",
        "print(name[2])\n",
        "print(name[3])\n",
        "print(name[4])\n",
        "print(name[-1])\n",
        "print(name[-2])\n",
        "print(name[-3])\n",
        "print(name[-4])\n",
        "print(name[-5])"
      ]
    },
    {
      "cell_type": "markdown",
      "metadata": {
        "id": "YGYYanL06uaa"
      },
      "source": [
        "**Tuple**"
      ]
    },
    {
      "cell_type": "code",
      "execution_count": null,
      "metadata": {
        "colab": {
          "base_uri": "https://localhost:8080/"
        },
        "id": "43DEpiUb6tsI",
        "outputId": "d42a590c-92ae-4133-97a4-4eb88e7994a8"
      },
      "outputs": [],
      "source": [
        "new_tuple = (2,5,10,\"Venky\",12.5,2,5,10,\"Viky\")\n",
        "print(new_tuple)\n",
        "print(type(new_tuple))\n",
        "print(id(new_tuple))"
      ]
    },
    {
      "cell_type": "code",
      "execution_count": null,
      "metadata": {
        "colab": {
          "base_uri": "https://localhost:8080/",
          "height": 36
        },
        "id": "0y_q-2K16_PG",
        "outputId": "e437bb06-4000-4080-c91b-8a5917d28327"
      },
      "outputs": [],
      "source": [
        "new_tuple[-1]"
      ]
    },
    {
      "cell_type": "code",
      "execution_count": null,
      "metadata": {
        "colab": {
          "base_uri": "https://localhost:8080/"
        },
        "id": "8Uhol_rr7Wv1",
        "outputId": "8b3de7e1-8823-403e-9a42-123fd8fee07a"
      },
      "outputs": [],
      "source": [
        "new_tuple = (2,4,6,10,12.4, 12.8, \"Venky\", \"Gate\", \"Python\", 128, \"IPL\", \"VIRAT\")\n",
        "\n",
        "print(new_tuple[-1])"
      ]
    },
    {
      "cell_type": "code",
      "execution_count": null,
      "metadata": {
        "id": "irWbljAE7nmN"
      },
      "outputs": [],
      "source": [
        "new_tuple_2 = (2,4,6,(21,4),[24,2],12.5,10,22,22,257,1000,10000,10000,257)"
      ]
    },
    {
      "cell_type": "code",
      "execution_count": null,
      "metadata": {
        "id": "7xBhVdeU7ymX"
      },
      "outputs": [],
      "source": []
    },
    {
      "cell_type": "code",
      "execution_count": null,
      "metadata": {
        "colab": {
          "base_uri": "https://localhost:8080/",
          "height": 162
        },
        "id": "JvYyID147eBI",
        "outputId": "81b64076-215e-4bb4-b86a-a3082fe07bf0"
      },
      "outputs": [],
      "source": [
        "new_tuple[-1] = \"Rohit\"\n",
        "print(new_tuple)"
      ]
    },
    {
      "cell_type": "code",
      "execution_count": null,
      "metadata": {
        "colab": {
          "base_uri": "https://localhost:8080/"
        },
        "id": "UKYiZM0G8W_W",
        "outputId": "db89f87f-c526-48b2-e6b2-7d8dd9db5c4b"
      },
      "outputs": [],
      "source": [
        "new_list1 = [1,2]\n",
        "new_tuple1 = tuple(new_list1)\n",
        "print(id(new_list1))\n",
        "print(new_tuple1)\n",
        "print(type(new_tuple1))\n",
        "print(id(new_tuple1))"
      ]
    }
  ],
  "metadata": {
    "colab": {
      "provenance": []
    },
    "kernelspec": {
      "display_name": "Python 3",
      "name": "python3"
    },
    "language_info": {
      "name": "python",
      "version": "3.12.4"
    }
  },
  "nbformat": 4,
  "nbformat_minor": 0
}
