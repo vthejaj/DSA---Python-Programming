{
  "cells": [
    {
      "cell_type": "markdown",
      "metadata": {
        "id": "ehVoeb1XRWDa"
      },
      "source": [
        "### **Conditional Statements** - Examples"
      ]
    },
    {
      "cell_type": "code",
      "execution_count": null,
      "metadata": {
        "colab": {
          "base_uri": "https://localhost:8080/",
          "height": 0
        },
        "id": "eQkj3gKJdBp6",
        "outputId": "4c185e14-af39-4679-a502-1ca9038d4ffd"
      },
      "outputs": [],
      "source": [
        "ord('a')"
      ]
    },
    {
      "cell_type": "code",
      "execution_count": null,
      "metadata": {
        "colab": {
          "base_uri": "https://localhost:8080/",
          "height": 36
        },
        "id": "kWrJklf2fS6l",
        "outputId": "c13fb25b-53c8-40fd-b0c8-e8266bbdf51d"
      },
      "outputs": [],
      "source": [
        "chr(97)"
      ]
    },
    {
      "cell_type": "code",
      "execution_count": null,
      "metadata": {
        "colab": {
          "base_uri": "https://localhost:8080/",
          "height": 0
        },
        "id": "3pCf82nmfm3R",
        "outputId": "1539bc05-5169-44b0-c155-c1d6b76c7041"
      },
      "outputs": [],
      "source": [
        "a = 10\n",
        "b = 12\n",
        "c = 5\n",
        "print(a)\n",
        "print(b)\n",
        "print(c)"
      ]
    },
    {
      "cell_type": "code",
      "execution_count": null,
      "metadata": {
        "colab": {
          "base_uri": "https://localhost:8080/",
          "height": 0
        },
        "id": "H6EZNLSOftFf",
        "outputId": "b938317a-8cce-469b-f6bc-ac9f826c85f6"
      },
      "outputs": [],
      "source": [
        "# multivariable assignment in a single line\n",
        "a, b, c = 10, 12, 5\n",
        "\n",
        "print(a)\n",
        "print(b)\n",
        "print(c)"
      ]
    },
    {
      "cell_type": "code",
      "execution_count": null,
      "metadata": {
        "colab": {
          "base_uri": "https://localhost:8080/",
          "height": 0
        },
        "id": "_mXbz0g2f3VT",
        "outputId": "516258cf-f294-48eb-b785-479837fe498f"
      },
      "outputs": [],
      "source": [
        "a, b, c = 10, 12.5, [1,2,3]\n",
        "\n",
        "print(a)\n",
        "print(b)\n",
        "print(c)\n",
        "print(type(c))"
      ]
    },
    {
      "cell_type": "code",
      "execution_count": null,
      "metadata": {
        "colab": {
          "base_uri": "https://localhost:8080/",
          "height": 0
        },
        "id": "dffg61wRg5HM",
        "outputId": "0d1eb93c-d272-4547-bc49-1d66eb8c5204"
      },
      "outputs": [],
      "source": [
        "(2+3)*6"
      ]
    },
    {
      "cell_type": "markdown",
      "metadata": {
        "id": "qNS4EpQ3RtAr"
      },
      "source": [
        "**Q1:**"
      ]
    },
    {
      "cell_type": "code",
      "execution_count": null,
      "metadata": {
        "colab": {
          "base_uri": "https://localhost:8080/",
          "height": 0
        },
        "id": "BOFI-wk_RM2q",
        "outputId": "cc75d91c-93a6-4f6d-bc5b-9adc5eaef278"
      },
      "outputs": [],
      "source": [
        "# What will be the output of the following code when m = 8, n = 6, and o = 4?\n",
        "\n",
        "m, n, o = 8, 5, 3\n",
        "print(\"m: \",m)\n",
        "print(\"n: \",n)\n",
        "print(\"o: \",o)\n",
        "\n",
        "if m < 10:\n",
        "    if n == 6 and o < 5:\n",
        "        if m + n > 12:\n",
        "            print(\"1\")\n",
        "        else:\n",
        "            if n - o == 2:\n",
        "                print(\"2\")\n",
        "            else:\n",
        "                print(\"3\")\n",
        "    else:\n",
        "        if o > 3:\n",
        "            print(\"4\")\n",
        "        else:\n",
        "            print(\"5\")\n",
        "else:\n",
        "    if m > 5:\n",
        "        if n * o > 24:\n",
        "            print(\"6\")\n",
        "        else:\n",
        "            print(\"7\")\n",
        "    else:\n",
        "        print(\"8\")\n"
      ]
    },
    {
      "cell_type": "code",
      "execution_count": null,
      "metadata": {
        "colab": {
          "base_uri": "https://localhost:8080/",
          "height": 0
        },
        "id": "ziLsKLZdhsue",
        "outputId": "0bf8a715-0ccd-4d7e-b0a2-62431bebd67c"
      },
      "outputs": [],
      "source": [
        "x, y, z = 4, 5, 2\n",
        "\n",
        "if x>5:\n",
        "  x = x>>y//~z\n",
        "  if x>12:\n",
        "    print(\"X value: \", x)\n",
        "  else:\n",
        "    print(\"Z value: \", z)\n",
        "else:\n",
        "  print(\"Y value: \", y)"
      ]
    },
    {
      "cell_type": "markdown",
      "metadata": {
        "id": "EFFTOEGzSjyM"
      },
      "source": [
        "**Q2:**"
      ]
    },
    {
      "cell_type": "code",
      "execution_count": null,
      "metadata": {
        "colab": {
          "base_uri": "https://localhost:8080/",
          "height": 125
        },
        "id": "QXhFeGBDSlPf",
        "outputId": "42ec7f5d-df8a-4122-ee2f-d7e5e67334b9"
      },
      "outputs": [],
      "source": [
        "# Given the following pseudo-code, determine the output for x = 5, y = 3, and z = 4\n",
        "\n",
        "x,y,z = 5,3,4\n",
        "\"\"\"\n",
        "if x + y > 7:\n",
        "    z += 10\n",
        "    if z * 2 < 10:\n",
        "        if x - y == 2:\n",
        "            print(\"G\")\n",
        "        else:\n",
        "            if y % 2 == 0:\n",
        "                print(\"H\")\n",
        "            else:\n",
        "                print(\"I\")\n",
        "    else:\n",
        "        if z + 1 > x:\n",
        "            print(\"J\")\n",
        "        else:\n",
        "            print(\"K\")\n",
        "else:\n",
        "    if x + y < 8:\n",
        "        if z - 2 <= y:\n",
        "            print(\"L\")\n",
        "        else:\n",
        "            print(\"M\")\n",
        "    else:\n",
        "        print(\"N\")\n",
        "\"\"\""
      ]
    },
    {
      "cell_type": "markdown",
      "metadata": {
        "id": "XG7L170Ujjbv"
      },
      "source": [
        "### **Loops**"
      ]
    },
    {
      "cell_type": "code",
      "execution_count": null,
      "metadata": {
        "colab": {
          "base_uri": "https://localhost:8080/",
          "height": 0
        },
        "id": "p3QLMHY9joUT",
        "outputId": "5b2404c4-012f-4100-dca1-e6a4818b3479"
      },
      "outputs": [],
      "source": [
        "# routine = [\"wake up at 6\", \"prepare for gate\", \"have breakfast\", \"do some 9-5 work\", \"attend gate class\"]\n",
        "routine = (\"wake up at 6\", \"prepare for gate\", \"have breakfast\", \"do some 9-5 work\", \"attend gate class\")\n",
        "\n",
        "for some_work in routine:\n",
        "  print(some_work)"
      ]
    },
    {
      "cell_type": "code",
      "execution_count": null,
      "metadata": {
        "colab": {
          "base_uri": "https://localhost:8080/",
          "height": 0
        },
        "id": "BCPeI4JHlW35",
        "outputId": "a4c1d7d6-57e6-4e53-f3da-bd331ae5ef6b"
      },
      "outputs": [],
      "source": [
        "l = len(routine)\n",
        "print(routine)\n",
        "print(l)"
      ]
    },
    {
      "cell_type": "code",
      "execution_count": null,
      "metadata": {
        "colab": {
          "base_uri": "https://localhost:8080/",
          "height": 0
        },
        "id": "NHfcklQAkuwA",
        "outputId": "bebf4996-fc11-43ca-c10c-bbdf2598f615"
      },
      "outputs": [],
      "source": [
        "match_tom = \"India Vs Pakistan\"\n",
        "\n",
        "for c in match_tom:\n",
        "  print(c)"
      ]
    },
    {
      "cell_type": "code",
      "execution_count": null,
      "metadata": {
        "colab": {
          "base_uri": "https://localhost:8080/",
          "height": 0
        },
        "id": "hDdkBFtwmA89",
        "outputId": "6e5e8cc6-dbfe-48de-fbc9-814770d85189"
      },
      "outputs": [],
      "source": [
        "for i in range(0, 51, 2):\n",
        "  print(i)"
      ]
    },
    {
      "cell_type": "code",
      "execution_count": null,
      "metadata": {
        "colab": {
          "base_uri": "https://localhost:8080/",
          "height": 0
        },
        "id": "qk1wbuotmb_K",
        "outputId": "997b23af-794a-459c-ae9c-fc8e0801f305"
      },
      "outputs": [],
      "source": [
        "scores = [12,34,56,28]\n",
        "          #0  1  2  3\n",
        "for s in scores:\n",
        "  print(s)"
      ]
    },
    {
      "cell_type": "code",
      "execution_count": null,
      "metadata": {
        "colab": {
          "base_uri": "https://localhost:8080/",
          "height": 0
        },
        "id": "KeJ7iU_ymu5L",
        "outputId": "be84b48c-4bd3-4ee3-cf57-04fc51183e11"
      },
      "outputs": [],
      "source": [
        "len(scores)"
      ]
    },
    {
      "cell_type": "code",
      "execution_count": null,
      "metadata": {
        "colab": {
          "base_uri": "https://localhost:8080/",
          "height": 0
        },
        "id": "YDfSqxz6mxUl",
        "outputId": "21837c96-cdb4-4c39-974b-6835b8d62824"
      },
      "outputs": [],
      "source": [
        "for i in range(len(scores)):\n",
        "  print(i)"
      ]
    },
    {
      "cell_type": "code",
      "execution_count": null,
      "metadata": {
        "colab": {
          "base_uri": "https://localhost:8080/",
          "height": 0
        },
        "id": "UKiERmpYmrEb",
        "outputId": "82bfc610-cb49-4b58-e5a8-b8ca92b7fe85"
      },
      "outputs": [],
      "source": [
        "scores = [12,34,56,28]\n",
        "          #0  1  2  3\n",
        "for s in scores:\n",
        "  print(s)\n",
        "print(\"*\"*50)\n",
        "for i in range(len(scores)):\n",
        "  print(scores[i])"
      ]
    },
    {
      "cell_type": "code",
      "execution_count": null,
      "metadata": {
        "colab": {
          "base_uri": "https://localhost:8080/",
          "height": 0
        },
        "id": "2gisxy_vnfYw",
        "outputId": "77079fc7-0462-453d-93c4-0f3cba3dfe8a"
      },
      "outputs": [],
      "source": [
        "for i, s in enumerate(scores):\n",
        "  print(\"current index: \", i)\n",
        "  print(\"current value: \", s)"
      ]
    },
    {
      "cell_type": "code",
      "execution_count": null,
      "metadata": {
        "colab": {
          "base_uri": "https://localhost:8080/",
          "height": 0
        },
        "id": "54Ms6SHdn6YJ",
        "outputId": "30439c2c-b949-4ab1-d6ee-7a6211fc1b99"
      },
      "outputs": [],
      "source": [
        "player = [\"Bradman\", \"Richards\", \"Sachin\", \"Kohli\"]\n",
        "\n",
        "for i in range(len(player)-1, -2, -1):\n",
        "  print(player[i])"
      ]
    },
    {
      "cell_type": "code",
      "execution_count": null,
      "metadata": {
        "colab": {
          "base_uri": "https://localhost:8080/",
          "height": 0
        },
        "id": "iKp2cXLjp0HL",
        "outputId": "771d55a9-a3c0-4624-a4cb-33d70f601b37"
      },
      "outputs": [],
      "source": [
        "range(-len(player), 0)"
      ]
    },
    {
      "cell_type": "code",
      "execution_count": null,
      "metadata": {
        "colab": {
          "base_uri": "https://localhost:8080/",
          "height": 0
        },
        "id": "osySSSj6pctq",
        "outputId": "524df8b6-5f4e-4786-caea-938b6b093b98"
      },
      "outputs": [],
      "source": [
        "for i in range(-len(player), 0):\n",
        "  print(player[i])"
      ]
    },
    {
      "cell_type": "code",
      "execution_count": null,
      "metadata": {
        "colab": {
          "base_uri": "https://localhost:8080/",
          "height": 0
        },
        "id": "_hNkEayQp-KU",
        "outputId": "b26881f3-2f8b-4970-ec4e-64820e4d6827"
      },
      "outputs": [],
      "source": [
        "for i in range(len(player)-1, -1, -1):\n",
        "  print(player[i])"
      ]
    },
    {
      "cell_type": "code",
      "execution_count": null,
      "metadata": {
        "colab": {
          "base_uri": "https://localhost:8080/",
          "height": 0
        },
        "id": "rglxfm1dqOmz",
        "outputId": "620467e7-cbbe-4673-fa6e-c2e705d4a576"
      },
      "outputs": [],
      "source": [
        "range(len(player), 0)"
      ]
    },
    {
      "cell_type": "code",
      "execution_count": null,
      "metadata": {
        "colab": {
          "base_uri": "https://localhost:8080/",
          "height": 0
        },
        "id": "-cDdXtKRoURE",
        "outputId": "c2b4229c-d255-441e-ff24-38690624b25b"
      },
      "outputs": [],
      "source": [
        "range(len(player)-1, 0, -1)"
      ]
    },
    {
      "cell_type": "code",
      "execution_count": null,
      "metadata": {
        "colab": {
          "base_uri": "https://localhost:8080/",
          "height": 0
        },
        "id": "meRL4kvOqhj7",
        "outputId": "0781de77-a8ac-4cfa-81dc-ef7acac46e32"
      },
      "outputs": [],
      "source": [
        "range(len(player))"
      ]
    },
    {
      "cell_type": "code",
      "execution_count": null,
      "metadata": {
        "colab": {
          "base_uri": "https://localhost:8080/",
          "height": 0
        },
        "id": "ljD77GWsqjz1",
        "outputId": "a406a43d-057d-4c8b-d441-802eee3a4c4b"
      },
      "outputs": [],
      "source": [
        "range(-len(player))"
      ]
    },
    {
      "cell_type": "code",
      "execution_count": null,
      "metadata": {
        "colab": {
          "base_uri": "https://localhost:8080/",
          "height": 0
        },
        "id": "6SDZ_7SfrTey",
        "outputId": "fef85de0-67d6-4e16-a9c4-48e056e9e287"
      },
      "outputs": [],
      "source": [
        "for i, name in enumerate(player):\n",
        "  print(i, name)"
      ]
    },
    {
      "cell_type": "code",
      "execution_count": null,
      "metadata": {
        "colab": {
          "base_uri": "https://localhost:8080/",
          "height": 0
        },
        "id": "KTkN1krsrqiM",
        "outputId": "9b1444be-eafa-45ac-decb-94d98cda7817"
      },
      "outputs": [],
      "source": [
        "[\"a\",\"b\",\"c\"]"
      ]
    },
    {
      "cell_type": "code",
      "execution_count": null,
      "metadata": {
        "colab": {
          "base_uri": "https://localhost:8080/",
          "height": 0
        },
        "id": "BWBurTZ6rtMy",
        "outputId": "9d870e5b-030b-4410-9346-cd6a951303b3"
      },
      "outputs": [],
      "source": [
        "l = [(0, \"a\"),(1,\"b\"),(2,\"c\")]\n",
        "\n",
        "for i, v in l:\n",
        "  print(i, v)"
      ]
    },
    {
      "cell_type": "code",
      "execution_count": null,
      "metadata": {
        "colab": {
          "base_uri": "https://localhost:8080/",
          "height": 0
        },
        "id": "Jr4J1QCMsMoL",
        "outputId": "a03af85e-5c19-4e09-af76-9196761648e5"
      },
      "outputs": [],
      "source": [
        "players = [[\"Virat\", \"Rohit\"], ['Babar', \"Rizwan\"], [\"Maxi\", \"Warner\"]]\n",
        "\n",
        "for player_list in players:\n",
        "  for player in player_list:\n",
        "    print(player)"
      ]
    },
    {
      "cell_type": "code",
      "execution_count": null,
      "metadata": {
        "colab": {
          "base_uri": "https://localhost:8080/",
          "height": 0
        },
        "id": "CHvlHgmWtNkH",
        "outputId": "b468d5b0-1d99-4172-8a9a-26f418ab692d"
      },
      "outputs": [],
      "source": [
        "election_parties = [\"bjp\", \"congress\", \"dmk\"]\n",
        "\n",
        "constituency = [300, 299, 40]\n",
        "\n",
        "# bjp 300\n",
        "# congress 299\n",
        "# dmk 40\n",
        "\n",
        "for party, value in zip(election_parties, constituency):\n",
        "  print(party, value)\n"
      ]
    },
    {
      "cell_type": "code",
      "execution_count": null,
      "metadata": {
        "colab": {
          "base_uri": "https://localhost:8080/",
          "height": 0
        },
        "id": "j-lL2aHYuIru",
        "outputId": "15593f41-6167-46c1-c4da-ec115d4c2ec0"
      },
      "outputs": [],
      "source": [
        "election_parties = [\"bjp\", \"congress\", \"dmk\", \"x\"]\n",
        "\n",
        "constituency = [300, 299, 40, 25]\n",
        "\n",
        "# bjp 300\n",
        "# congress 299\n",
        "# dmk 40\n",
        "\n",
        "for party in election_parties:\n",
        "  print(party)\n",
        "\n",
        "for party, value in zip(constituency, election_parties):\n",
        "  print(party, value)\n"
      ]
    },
    {
      "cell_type": "code",
      "execution_count": null,
      "metadata": {
        "colab": {
          "base_uri": "https://localhost:8080/",
          "height": 0
        },
        "id": "b5ZKjtPGsNJF",
        "outputId": "60e0980a-b6ff-4cf3-c812-2ff02e6c0fb8"
      },
      "outputs": [],
      "source": [
        "l1 = ['a','b','c']\n",
        "l2 = (1,2,400,3)\n",
        "l3 = {100,200,300}\n",
        "l4 = \"Virat\"\n",
        "\n",
        "for i, (a,b,c,d) in enumerate(zip(l1,l2,l3,l4)):\n",
        "  print(i, a,b,c,d)"
      ]
    },
    {
      "cell_type": "code",
      "execution_count": null,
      "metadata": {
        "colab": {
          "base_uri": "https://localhost:8080/",
          "height": 0
        },
        "id": "yPxdonBKwR0h",
        "outputId": "bd1de3b1-83ca-4607-adc4-5a01838b86ae"
      },
      "outputs": [],
      "source": [
        "for c in \"Virat\":\n",
        "  print(c)"
      ]
    },
    {
      "cell_type": "code",
      "execution_count": null,
      "metadata": {
        "colab": {
          "base_uri": "https://localhost:8080/",
          "height": 0
        },
        "id": "Eq4b-eAY0Vw5",
        "outputId": "4a80a534-f05c-49e6-9860-ee4dca17474c"
      },
      "outputs": [],
      "source": [
        "l1 = ['a','b','c','d','e']\n",
        "\n",
        "for i in range(0, len(l1), 3):\n",
        "  print(l1[i])\n"
      ]
    },
    {
      "cell_type": "markdown",
      "metadata": {
        "id": "zzYVrT-f0JAI"
      },
      "source": [
        "**While Loop**"
      ]
    },
    {
      "cell_type": "code",
      "execution_count": null,
      "metadata": {
        "id": "s3XUCF6_wC8w"
      },
      "outputs": [],
      "source": [
        "while <condition>:\n",
        "  # section of code will get executed\n"
      ]
    },
    {
      "cell_type": "code",
      "execution_count": null,
      "metadata": {
        "colab": {
          "base_uri": "https://localhost:8080/",
          "height": 0
        },
        "id": "30dPB6hw0nl6",
        "outputId": "22e8ac4b-b8ed-4c1c-8481-77991c8b4028"
      },
      "outputs": [],
      "source": [
        "l1 = [\"rbr\", \"jay\", \"hari\", \"venky\"]\n",
        "\n",
        "n = len(l1)\n",
        "print(\"n: \", n)\n",
        "i = 0\n",
        "print(\"i: \", i)\n",
        "while i<n:\n",
        "  print(\"i: \", i)\n",
        "  print(l1[i])\n",
        "  i+=1"
      ]
    },
    {
      "cell_type": "markdown",
      "metadata": {
        "id": "mhiMWvde1ayq"
      },
      "source": [
        "**For loop:** Use it when you are iterating through some sequence(either a string, list, tuple, dictionary, or set)\n",
        "\n",
        "**While Loop:** Suppose you want to do some operations based on some conditions, then use while loop."
      ]
    },
    {
      "cell_type": "code",
      "execution_count": null,
      "metadata": {
        "id": "Ak1I_wJ91pMA"
      },
      "outputs": [],
      "source": [
        "i = 0\n",
        "\n",
        "n = 5\n",
        "\n",
        "while i<n:\n",
        "  print(i)\n",
        "\n",
        "# i didnt increment value i here\n",
        "\n",
        "# so this while loop will go into infinite loop"
      ]
    },
    {
      "cell_type": "code",
      "execution_count": null,
      "metadata": {
        "colab": {
          "base_uri": "https://localhost:8080/",
          "height": 0
        },
        "id": "QrlNTjfz2eo8",
        "outputId": "0fce616d-a26f-4aa4-f885-f66d61c8ba9b"
      },
      "outputs": [],
      "source": [
        "i = 10\n",
        "j = 5\n",
        "\n",
        "while i>5:\n",
        "  while j>2:\n",
        "    print(\"j: \", j)\n",
        "    j-=1\n",
        "  print(\"i:\", i)\n",
        "  i-=1"
      ]
    },
    {
      "cell_type": "code",
      "execution_count": null,
      "metadata": {
        "id": "k6r_RW0A3bOg"
      },
      "outputs": [],
      "source": []
    }
  ],
  "metadata": {
    "colab": {
      "provenance": [],
      "toc_visible": true
    },
    "kernelspec": {
      "display_name": "Python 3",
      "name": "python3"
    },
    "language_info": {
      "name": "python",
      "version": "3.12.4"
    }
  },
  "nbformat": 4,
  "nbformat_minor": 0
}
