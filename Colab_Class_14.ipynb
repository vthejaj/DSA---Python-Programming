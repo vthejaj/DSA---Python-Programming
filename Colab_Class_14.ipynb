{
  "cells": [
    {
      "cell_type": "code",
      "execution_count": null,
      "metadata": {
        "colab": {
          "base_uri": "https://localhost:8080/",
          "height": 180
        },
        "id": "CROVFu0AUCkD",
        "outputId": "51ec9de6-fe62-4572-f4a9-cdeff86f56ae"
      },
      "outputs": [],
      "source": [
        "# pop method\n",
        "\n",
        "d = {\"Venky\": 100, \"Viky\": 200, \"Sendhil\": 300, \"Mani\": 400}\n",
        "\n",
        "d.pop()"
      ]
    },
    {
      "cell_type": "code",
      "execution_count": null,
      "metadata": {
        "colab": {
          "base_uri": "https://localhost:8080/"
        },
        "id": "748fyL6DYKKH",
        "outputId": "9a43a424-ce88-4cee-e2eb-618957aa2529"
      },
      "outputs": [],
      "source": [
        "v = d.pop(\"Sendhil\")\n",
        "print(v)\n",
        "print(type(v))\n",
        "print(d)"
      ]
    },
    {
      "cell_type": "code",
      "execution_count": null,
      "metadata": {
        "colab": {
          "base_uri": "https://localhost:8080/"
        },
        "id": "LoMb-e3kYeGA",
        "outputId": "bc3c9dfc-0e12-4915-cb1a-d10964153969"
      },
      "outputs": [],
      "source": [
        "print(d)"
      ]
    },
    {
      "cell_type": "code",
      "execution_count": null,
      "metadata": {
        "colab": {
          "base_uri": "https://localhost:8080/",
          "height": 144
        },
        "id": "7sWdI8ZdYgBD",
        "outputId": "a05e8b54-f1dd-4e4b-e56e-80707a5dd6f2"
      },
      "outputs": [],
      "source": [
        "d.pop(\"Virat\")"
      ]
    },
    {
      "cell_type": "code",
      "execution_count": null,
      "metadata": {
        "colab": {
          "base_uri": "https://localhost:8080/"
        },
        "id": "wKtb92nmYnw5",
        "outputId": "b96bb4ec-e05b-4d89-8a18-12a7ce1af5f4"
      },
      "outputs": [],
      "source": [
        "v = d.pop(\"Virat\", 10)\n",
        "print(v)\n",
        "print(d)"
      ]
    },
    {
      "cell_type": "code",
      "execution_count": null,
      "metadata": {
        "colab": {
          "base_uri": "https://localhost:8080/"
        },
        "id": "TAQFC9h3Y8CX",
        "outputId": "747c2106-ab8e-4550-8a62-fdcc38be6bd2"
      },
      "outputs": [],
      "source": [
        "v = d.pop(\"Venky\", 10)\n",
        "print(v)\n",
        "print(d)"
      ]
    },
    {
      "cell_type": "code",
      "execution_count": null,
      "metadata": {
        "colab": {
          "base_uri": "https://localhost:8080/"
        },
        "id": "7Nkc5lbMZCJR",
        "outputId": "06e15d51-b18a-4b80-e3e2-bc810277bc95"
      },
      "outputs": [],
      "source": [
        "# popitem()\n",
        "\n",
        "d = {\"Venky\": 100, \"Viky\": 200, \"Sendhil\": 300, \"Mani\": 400}\n",
        "v = d.popitem() # returns a tuple of last key_value pair\n",
        "print(v)\n",
        "print(type(v))\n",
        "print(d)"
      ]
    },
    {
      "cell_type": "code",
      "execution_count": null,
      "metadata": {
        "colab": {
          "base_uri": "https://localhost:8080/"
        },
        "id": "wFOztyMXZW9Y",
        "outputId": "4dd0f169-7b01-4ca8-9b52-bebb1c08e33a"
      },
      "outputs": [],
      "source": [
        "d"
      ]
    },
    {
      "cell_type": "code",
      "execution_count": null,
      "metadata": {
        "colab": {
          "base_uri": "https://localhost:8080/",
          "height": 144
        },
        "id": "hS2zalYgZbnV",
        "outputId": "b692bb21-8a15-4851-f813-1c2dd32315d6"
      },
      "outputs": [],
      "source": [
        "d.popitem(\"Venky\")"
      ]
    },
    {
      "cell_type": "markdown",
      "metadata": {
        "id": "hSnEVI3RZ1HJ"
      },
      "source": [
        "### **Applications of List, Tuple, Sets, Frozen Sets & Dictionary:**"
      ]
    },
    {
      "cell_type": "code",
      "execution_count": null,
      "metadata": {
        "id": "O0vv-A37Z7K6"
      },
      "outputs": [],
      "source": [
        "# see notes"
      ]
    },
    {
      "cell_type": "code",
      "execution_count": null,
      "metadata": {
        "colab": {
          "base_uri": "https://localhost:8080/"
        },
        "id": "yye5rRUUez1N",
        "outputId": "8e61a041-90a7-4045-880f-5f6ff9313536"
      },
      "outputs": [],
      "source": [
        "# Immutable dictionary (NOT FOR GATE)\n",
        "\n",
        "from immutabledict import immutabledict\n",
        "\n",
        "d = immutabledict({\"a\":10, \"b\": 12})\n",
        "\n",
        "print(d)\n",
        "print(type(d))"
      ]
    },
    {
      "cell_type": "code",
      "execution_count": null,
      "metadata": {
        "colab": {
          "base_uri": "https://localhost:8080/"
        },
        "id": "mapqYEEnfHTY",
        "outputId": "5daf777a-a8db-4d8d-86a9-8801d3db906a"
      },
      "outputs": [],
      "source": [
        "d['a']"
      ]
    },
    {
      "cell_type": "code",
      "execution_count": null,
      "metadata": {
        "colab": {
          "base_uri": "https://localhost:8080/",
          "height": 162
        },
        "id": "0aKKk9cnfMuS",
        "outputId": "93ecea76-501d-4785-ecd3-7069946dd38c"
      },
      "outputs": [],
      "source": [
        "d['a'] = 100\n",
        "d"
      ]
    }
  ],
  "metadata": {
    "colab": {
      "provenance": []
    },
    "kernelspec": {
      "display_name": "Python 3",
      "name": "python3"
    },
    "language_info": {
      "name": "python",
      "version": "3.12.4"
    }
  },
  "nbformat": 4,
  "nbformat_minor": 0
}
