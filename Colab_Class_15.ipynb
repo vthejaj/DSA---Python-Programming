{
  "cells": [
    {
      "cell_type": "code",
      "execution_count": null,
      "metadata": {
        "colab": {
          "base_uri": "https://localhost:8080/"
        },
        "id": "8_Upg-7YgOzc",
        "outputId": "0d17f050-ec87-49c6-b523-8aafeec10b90"
      },
      "outputs": [],
      "source": [
        "name = \"Venky\"\n",
        "print(name)\n",
        "print(id(name))\n",
        "name += \"Viky\"\n",
        "print(name)\n",
        "print(id(name))"
      ]
    },
    {
      "cell_type": "code",
      "execution_count": null,
      "metadata": {
        "colab": {
          "base_uri": "https://localhost:8080/"
        },
        "id": "8b21Q0wNm3jQ",
        "outputId": "8f112a9e-74e7-4222-d369-6a6f200170ad"
      },
      "outputs": [],
      "source": [
        "a = 10\n",
        "print(a)\n",
        "print(id(a))\n",
        "a += 12\n",
        "print(a)\n",
        "print(id(a))"
      ]
    },
    {
      "cell_type": "code",
      "execution_count": null,
      "metadata": {
        "colab": {
          "base_uri": "https://localhost:8080/"
        },
        "id": "K5n-W7SFqPLi",
        "outputId": "61869821-03b7-434e-ec34-8cf3482a4525"
      },
      "outputs": [],
      "source": [
        "s1 = \"mit u rock\"\n",
        "s2 = \"i rule mit\"\n",
        "\n",
        "if len(s1) == len(s2):\n",
        "  for c1 in s1:\n",
        "    for c2 in s2:\n",
        "      if c1==c2:\n",
        "        print(\"c1: -->\", c1)\n",
        "        print(\"c2: -->\", c2)\n",
        "        print(\"Gate DA\")\n",
        "        break\n"
      ]
    },
    {
      "cell_type": "code",
      "execution_count": null,
      "metadata": {
        "colab": {
          "base_uri": "https://localhost:8080/"
        },
        "id": "EHreY_4grjbI",
        "outputId": "03342640-1e01-4202-e5a6-971946eea8ce"
      },
      "outputs": [],
      "source": [
        "L = [\"life\", \"anseer\", 42, 0]\n",
        "\n",
        "for v in L:\n",
        "  if v==0:\n",
        "    L[v] = \"Venky\"\n",
        "  elif v==42:\n",
        "    L[1] = 0\n",
        "    L[3] = \"Viky\"\n",
        "\n",
        "print(L)"
      ]
    },
    {
      "cell_type": "code",
      "execution_count": null,
      "metadata": {
        "colab": {
          "base_uri": "https://localhost:8080/"
        },
        "id": "Ewlqaya2ssAy",
        "outputId": "83ecfdbc-cae9-4dd7-8fff-6d09e28fdb98"
      },
      "outputs": [],
      "source": [
        "L = [\"life\", \"anseer\", 42, 0]\n",
        "\n",
        "for v in L:\n",
        "  print(v)\n",
        "  if v==0:\n",
        "    L[v] = \"Venky\"\n",
        "  elif v==42:\n",
        "    L[1] = 0\n",
        "\n",
        "print(L)"
      ]
    },
    {
      "cell_type": "code",
      "execution_count": null,
      "metadata": {
        "colab": {
          "base_uri": "https://localhost:8080/"
        },
        "id": "RNzHGs7stGls",
        "outputId": "e118925f-0bd2-4bb9-f472-e90e010793f5"
      },
      "outputs": [],
      "source": [
        "L = '3'\n",
        "\n",
        "print(len(L))"
      ]
    },
    {
      "cell_type": "code",
      "execution_count": null,
      "metadata": {
        "colab": {
          "base_uri": "https://localhost:8080/"
        },
        "id": "D5Bmypit1GHD",
        "outputId": "22b9c79d-39ba-4586-812e-31b24d561916"
      },
      "outputs": [],
      "source": [
        "# any\n",
        "\n",
        "any([2>8, 2>4, 1>2])"
      ]
    },
    {
      "cell_type": "code",
      "execution_count": null,
      "metadata": {
        "colab": {
          "base_uri": "https://localhost:8080/"
        },
        "id": "qfkrJv1U1W9I",
        "outputId": "23cd45a7-3a9c-44f8-a522-c2d7c1a0aa1c"
      },
      "outputs": [],
      "source": [
        "# all\n",
        "\n",
        "all([8>2, 2<4, 1<2])"
      ]
    },
    {
      "cell_type": "code",
      "execution_count": null,
      "metadata": {
        "colab": {
          "base_uri": "https://localhost:8080/"
        },
        "id": "8_P6_U0b1dO8",
        "outputId": "4534acc3-d08e-4b51-9c83-8868e26f198c"
      },
      "outputs": [],
      "source": [
        "all([8>2, 2>4, 1<2])"
      ]
    },
    {
      "cell_type": "code",
      "execution_count": null,
      "metadata": {
        "colab": {
          "base_uri": "https://localhost:8080/"
        },
        "id": "UVCkFdSK1-Rv",
        "outputId": "d1d60eab-3ca7-441c-99fe-a06196e90aee"
      },
      "outputs": [],
      "source": [
        "any([8,3,2])"
      ]
    },
    {
      "cell_type": "code",
      "execution_count": null,
      "metadata": {
        "colab": {
          "base_uri": "https://localhost:8080/",
          "height": 144
        },
        "id": "AbVyg6Bn2ESQ",
        "outputId": "21f6aa92-b5b8-4515-f3a4-352c2dfb9762"
      },
      "outputs": [],
      "source": [
        "all(3,0.4,2)"
      ]
    },
    {
      "cell_type": "code",
      "execution_count": null,
      "metadata": {
        "colab": {
          "base_uri": "https://localhost:8080/"
        },
        "id": "_xIRXTjd2Gn0",
        "outputId": "36301a89-bf01-4c9f-ae15-4abcd1fedc57"
      },
      "outputs": [],
      "source": [
        "all([3,0.4,2])"
      ]
    },
    {
      "cell_type": "code",
      "execution_count": null,
      "metadata": {
        "colab": {
          "base_uri": "https://localhost:8080/"
        },
        "id": "c380j10q2iHc",
        "outputId": "fd0b48ef-9237-4f26-d79e-5e4094cb6a52"
      },
      "outputs": [],
      "source": [
        "any([\"abc\",\"12\",1.2,1.4,1, \"\"])"
      ]
    },
    {
      "cell_type": "code",
      "execution_count": null,
      "metadata": {
        "colab": {
          "base_uri": "https://localhost:8080/"
        },
        "id": "YcDCIco62sxd",
        "outputId": "1756fbcb-220b-4088-efc2-dcad5ec1c59d"
      },
      "outputs": [],
      "source": [
        "all([\"abc\",\"12\",1.2,1.4,1, \"\"])"
      ]
    },
    {
      "cell_type": "code",
      "execution_count": null,
      "metadata": {
        "colab": {
          "base_uri": "https://localhost:8080/"
        },
        "id": "_MRDT7jR3Sf_",
        "outputId": "31f27057-b1ec-4d7d-941d-2256bd9279f7"
      },
      "outputs": [],
      "source": [
        "all([])"
      ]
    },
    {
      "cell_type": "code",
      "execution_count": null,
      "metadata": {
        "colab": {
          "base_uri": "https://localhost:8080/"
        },
        "id": "XdaMQBPA3WgR",
        "outputId": "b2283287-de12-4305-9680-297ad0ce09c0"
      },
      "outputs": [],
      "source": [
        "any([])"
      ]
    },
    {
      "cell_type": "code",
      "execution_count": null,
      "metadata": {
        "colab": {
          "base_uri": "https://localhost:8080/",
          "height": 180
        },
        "id": "ih59EYB93i1w",
        "outputId": "04b502bd-c977-4121-a4a6-2f38d1fe4d35"
      },
      "outputs": [],
      "source": [
        "# sum\n",
        "\n",
        "sum(1,2,3)"
      ]
    },
    {
      "cell_type": "code",
      "execution_count": null,
      "metadata": {
        "colab": {
          "base_uri": "https://localhost:8080/",
          "height": 144
        },
        "id": "22qvB7Jw3yPT",
        "outputId": "5379b765-11b0-4863-ee85-33f34afbfac7"
      },
      "outputs": [],
      "source": [
        "sum(1,2)"
      ]
    },
    {
      "cell_type": "code",
      "execution_count": null,
      "metadata": {
        "colab": {
          "base_uri": "https://localhost:8080/"
        },
        "id": "9qqMLHob32ZQ",
        "outputId": "31299724-3d94-43b0-c4ef-f6f05a4e8dde"
      },
      "outputs": [],
      "source": [
        "sum([1,2,3])"
      ]
    },
    {
      "cell_type": "code",
      "execution_count": null,
      "metadata": {
        "colab": {
          "base_uri": "https://localhost:8080/"
        },
        "id": "p3FmJ4lA38zO",
        "outputId": "b9cba5d8-8c3f-4631-960b-f03c6e6fbcb1"
      },
      "outputs": [],
      "source": [
        "sum([1,2,3], 4)"
      ]
    },
    {
      "cell_type": "code",
      "execution_count": null,
      "metadata": {
        "colab": {
          "base_uri": "https://localhost:8080/",
          "height": 144
        },
        "id": "sTc7XSLq4C7-",
        "outputId": "f49e0eaa-0ce7-40f5-d0fc-2ca91c830959"
      },
      "outputs": [],
      "source": [
        "sum([1,2], 10)"
      ]
    },
    {
      "cell_type": "code",
      "execution_count": null,
      "metadata": {
        "colab": {
          "base_uri": "https://localhost:8080/",
          "height": 144
        },
        "id": "9oSMfoWO4dU6",
        "outputId": "5643cb8b-fcf0-4f96-9c63-3054e71ebdeb"
      },
      "outputs": [],
      "source": [
        "sum(['1','2','3'])"
      ]
    },
    {
      "cell_type": "code",
      "execution_count": null,
      "metadata": {
        "colab": {
          "base_uri": "https://localhost:8080/"
        },
        "id": "ul_2EyNz4mRf",
        "outputId": "609b1d42-2700-45c6-f083-9090c27e63fa"
      },
      "outputs": [],
      "source": [
        "max(False, -2, -3)"
      ]
    },
    {
      "cell_type": "code",
      "execution_count": null,
      "metadata": {
        "colab": {
          "base_uri": "https://localhost:8080/"
        },
        "id": "a71DCqtN5iEN",
        "outputId": "8b9aee2d-0974-4903-b3d4-dbfaa082b069"
      },
      "outputs": [],
      "source": [
        "min(False, 2, 7)"
      ]
    },
    {
      "cell_type": "code",
      "execution_count": null,
      "metadata": {
        "colab": {
          "base_uri": "https://localhost:8080/"
        },
        "id": "NHTCl2VC5mdX",
        "outputId": "ec3ec031-e66e-4f8c-c9c1-3ba98e7405a8"
      },
      "outputs": [],
      "source": [
        "max(False, -2, -7, True)"
      ]
    },
    {
      "cell_type": "code",
      "execution_count": null,
      "metadata": {
        "colab": {
          "base_uri": "https://localhost:8080/"
        },
        "id": "pA_XLpzw6p-i",
        "outputId": "27fe6267-2f00-4992-dd88-1aa832c9e47c"
      },
      "outputs": [],
      "source": [
        "L = [\"Venky\", \"Viky\", \"Virat\", \"RBR\", \"Kohli\", \"Rohit\"]\n",
        "\n",
        "list(enumerate(L))"
      ]
    },
    {
      "cell_type": "code",
      "execution_count": null,
      "metadata": {
        "colab": {
          "base_uri": "https://localhost:8080/"
        },
        "id": "FKvWjtRQ6_ok",
        "outputId": "bdce5603-b7a6-461e-f9d4-df13bea07d91"
      },
      "outputs": [],
      "source": [
        "complex(\"1-2j\")"
      ]
    },
    {
      "cell_type": "code",
      "execution_count": null,
      "metadata": {
        "colab": {
          "base_uri": "https://localhost:8080/",
          "height": 144
        },
        "id": "WIwcdzO67ETo",
        "outputId": "17b0e68a-a7d5-4bf6-a23d-84ee1f920257"
      },
      "outputs": [],
      "source": [
        "complex(\"-2j+2\")"
      ]
    },
    {
      "cell_type": "code",
      "execution_count": null,
      "metadata": {
        "colab": {
          "base_uri": "https://localhost:8080/"
        },
        "id": "6a7mCgYn8AzB",
        "outputId": "226d3916-e9ab-490f-a8bf-112d83ccb3c4"
      },
      "outputs": [],
      "source": [
        "float(\"1e-003\")"
      ]
    },
    {
      "cell_type": "code",
      "execution_count": null,
      "metadata": {
        "colab": {
          "base_uri": "https://localhost:8080/"
        },
        "id": "1oGy7GAq8FCV",
        "outputId": "9bf998f2-0756-4423-bce5-8945353f200d"
      },
      "outputs": [],
      "source": [
        "float(\"2e+003\")"
      ]
    },
    {
      "cell_type": "code",
      "execution_count": null,
      "metadata": {
        "colab": {
          "base_uri": "https://localhost:8080/"
        },
        "id": "wc6Yrmgo8INr",
        "outputId": "58a597d6-e675-4e2f-ea5d-00934533cfad"
      },
      "outputs": [],
      "source": [
        "float()"
      ]
    },
    {
      "cell_type": "code",
      "execution_count": null,
      "metadata": {
        "colab": {
          "base_uri": "https://localhost:8080/"
        },
        "id": "h9rbI_eG8J5X",
        "outputId": "b3b5391a-9ca0-43ce-e17e-39d162296e2f"
      },
      "outputs": [],
      "source": [
        "complex()"
      ]
    },
    {
      "cell_type": "code",
      "execution_count": null,
      "metadata": {
        "colab": {
          "base_uri": "https://localhost:8080/"
        },
        "id": "ATVaovMA80eZ",
        "outputId": "2682db26-04fd-46b7-e83e-3598bf000dfe"
      },
      "outputs": [],
      "source": [
        "float('    -12345   \\n')"
      ]
    },
    {
      "cell_type": "code",
      "execution_count": null,
      "metadata": {
        "colab": {
          "base_uri": "https://localhost:8080/",
          "height": 162
        },
        "id": "XzrKLG8i9ron",
        "outputId": "ecc8c68d-882f-4756-9f37-98bf26bcadb7"
      },
      "outputs": [],
      "source": [
        "virat = rohit\n",
        "print(virat)"
      ]
    },
    {
      "cell_type": "code",
      "execution_count": null,
      "metadata": {
        "colab": {
          "base_uri": "https://localhost:8080/"
        },
        "id": "wUGk4yvB_Sdv",
        "outputId": "06261796-4c99-4595-96a1-59da19820110"
      },
      "outputs": [],
      "source": [
        "x = 0b101\n",
        "print(x)"
      ]
    },
    {
      "cell_type": "code",
      "execution_count": null,
      "metadata": {
        "colab": {
          "base_uri": "https://localhost:8080/"
        },
        "id": "synvLoaf_gdp",
        "outputId": "6298b8d7-8179-4d1d-b2b8-858a236545b9"
      },
      "outputs": [],
      "source": [
        "x = 0x4f5\n",
        "print(x)"
      ]
    },
    {
      "cell_type": "code",
      "execution_count": null,
      "metadata": {
        "colab": {
          "base_uri": "https://localhost:8080/"
        },
        "id": "AlYAEo08_jyQ",
        "outputId": "343c4430-3df0-4a2a-bfe2-a48504b2255e"
      },
      "outputs": [],
      "source": [
        "5*1 + 15*16 + 4*16*16"
      ]
    },
    {
      "cell_type": "code",
      "execution_count": null,
      "metadata": {
        "colab": {
          "base_uri": "https://localhost:8080/"
        },
        "id": "AlerU1hx_tem",
        "outputId": "e54c496d-3167-436d-932d-431b679454ba"
      },
      "outputs": [],
      "source": [
        "x = 19023\n",
        "\n",
        "print(x)"
      ]
    },
    {
      "cell_type": "code",
      "execution_count": null,
      "metadata": {
        "colab": {
          "base_uri": "https://localhost:8080/",
          "height": 109
        },
        "id": "XjtIlIHB_xUS",
        "outputId": "f76c3b72-2a64-44cc-af00-c5f82a8fae2c"
      },
      "outputs": [],
      "source": [
        "x = 03964"
      ]
    },
    {
      "cell_type": "code",
      "execution_count": null,
      "metadata": {
        "colab": {
          "base_uri": "https://localhost:8080/",
          "height": 109
        },
        "id": "KgfEGFN9_9LM",
        "outputId": "25373a15-a11d-4e8c-a77f-2df1673c715c"
      },
      "outputs": [],
      "source": [
        "x = 0o396"
      ]
    },
    {
      "cell_type": "code",
      "execution_count": null,
      "metadata": {
        "colab": {
          "base_uri": "https://localhost:8080/"
        },
        "id": "STVLsdZSAACf",
        "outputId": "aa8c63da-524e-4417-fd10-e5b5fe7c3736"
      },
      "outputs": [],
      "source": [
        "x"
      ]
    },
    {
      "cell_type": "code",
      "execution_count": null,
      "metadata": {
        "colab": {
          "base_uri": "https://localhost:8080/"
        },
        "id": "ybhT_JTlDISO",
        "outputId": "adc4f32f-4093-4fcd-8e41-b87ef8885c63"
      },
      "outputs": [],
      "source": [
        "x = ['ab', 'cd']\n",
        "for i in range(len(x)):\n",
        "  print(\"i: -->\", i)\n",
        "  x.append(x[i].upper())\n",
        "print(x)"
      ]
    },
    {
      "cell_type": "code",
      "execution_count": null,
      "metadata": {
        "colab": {
          "base_uri": "https://localhost:8080/",
          "height": 1000
        },
        "id": "UoybtRclDTlC",
        "outputId": "48ef186e-ca59-4d25-f0b7-01adf8f06fa1"
      },
      "outputs": [],
      "source": [
        "x = ['ab', 'cd']\n",
        "for i in x:\n",
        "  print(\"i: -->\", i)\n",
        "  x.append(i.upper())\n",
        "print(x)"
      ]
    },
    {
      "cell_type": "code",
      "execution_count": null,
      "metadata": {
        "colab": {
          "base_uri": "https://localhost:8080/",
          "height": 109
        },
        "id": "fc_5AIngDceO",
        "outputId": "4d4542b8-0df2-46a5-a166-a7b1ffde654a"
      },
      "outputs": [],
      "source": [
        "i = 1\n",
        "\n",
        "while True:\n",
        "  if i%3 == 0:\n",
        "    break\n",
        "  print(i)\n",
        "  i + = 1\n"
      ]
    }
  ],
  "metadata": {
    "colab": {
      "provenance": []
    },
    "kernelspec": {
      "display_name": "Python 3",
      "name": "python3"
    },
    "language_info": {
      "name": "python",
      "version": "3.12.4"
    }
  },
  "nbformat": 4,
  "nbformat_minor": 0
}
