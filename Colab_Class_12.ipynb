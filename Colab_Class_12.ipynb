{
  "cells": [
    {
      "cell_type": "markdown",
      "metadata": {
        "id": "L9JPGaWs40BT"
      },
      "source": [
        "#### **Tuples**\n",
        "\n",
        "1. Initializing tuples\n",
        "2. Tuple with single item\n",
        "3. Packing and Unpacking tuples\n",
        "4. Accessing a Tuple & Slicing a tuple\n",
        "5. Update a tuple (?)\n",
        "6. del"
      ]
    },
    {
      "cell_type": "code",
      "execution_count": null,
      "metadata": {
        "colab": {
          "base_uri": "https://localhost:8080/"
        },
        "id": "6nNlbJhNdqvF",
        "outputId": "96e1be6b-b0cf-4aeb-a4ab-1ea006886149"
      },
      "outputs": [],
      "source": [
        "# initialize a tuple\n",
        "\n",
        "t = ()\n",
        "print(t)\n",
        "print(type(t))"
      ]
    },
    {
      "cell_type": "code",
      "execution_count": null,
      "metadata": {
        "colab": {
          "base_uri": "https://localhost:8080/"
        },
        "id": "x5WeqMi_eSVI",
        "outputId": "e6c7feb8-ffe1-4e88-9f03-8807d922ab75"
      },
      "outputs": [],
      "source": [
        "t = tuple()\n",
        "print(t)\n",
        "print(type(t))"
      ]
    },
    {
      "cell_type": "code",
      "execution_count": null,
      "metadata": {
        "colab": {
          "base_uri": "https://localhost:8080/"
        },
        "id": "eO1GfHSDeXjq",
        "outputId": "009f96e7-1cff-4f1b-a931-fd22da9ac5c6"
      },
      "outputs": [],
      "source": [
        "t = tuple([])\n",
        "print(t)\n",
        "print(type(t))\n",
        "\n",
        "t = tuple(())\n",
        "print(t)\n",
        "print(type(t))\n",
        "\n",
        "t = tuple(\"\")\n",
        "print(t)\n",
        "print(type(t))"
      ]
    },
    {
      "cell_type": "code",
      "execution_count": null,
      "metadata": {
        "colab": {
          "base_uri": "https://localhost:8080/"
        },
        "id": "ZjKRQ2l2eev4",
        "outputId": "c23d7a1a-eaca-417c-b6b4-b629cf40ef6f"
      },
      "outputs": [],
      "source": [
        "t = tuple(\" \")\n",
        "print(t)\n",
        "print(type(t))"
      ]
    },
    {
      "cell_type": "code",
      "execution_count": null,
      "metadata": {
        "colab": {
          "base_uri": "https://localhost:8080/"
        },
        "id": "ZS7wknGseokC",
        "outputId": "3ec0ff26-ad0b-48cc-f81a-d55610a4965f"
      },
      "outputs": [],
      "source": [
        "t1= (1)\n",
        "t2 = 1\n",
        "t3 = 1,\n",
        "t4 = (1,)\n",
        "\n",
        "print(t1)\n",
        "print(t2)\n",
        "print(t3)\n",
        "print(t4)\n",
        "\n",
        "print(type(t1))\n",
        "print(type(t2))\n",
        "print(type(t3))\n",
        "print(type(t4))"
      ]
    },
    {
      "cell_type": "code",
      "execution_count": null,
      "metadata": {
        "colab": {
          "base_uri": "https://localhost:8080/"
        },
        "id": "eXMCTj7hfcOz",
        "outputId": "69e3b4e5-bcd2-43c6-8ded-9c7ca99b5d7c"
      },
      "outputs": [],
      "source": [
        "t1 = \"a\",\"b\",\"c\"\n",
        "t2 = (\"a\",\"b\",\"c\")\n",
        "print(t1)\n",
        "print(t2)\n",
        "print(type(t1))\n",
        "print(type(t2))"
      ]
    },
    {
      "cell_type": "code",
      "execution_count": null,
      "metadata": {
        "colab": {
          "base_uri": "https://localhost:8080/"
        },
        "id": "TSY59-0Tge78",
        "outputId": "19b7a90d-6655-4b1b-8ad0-9820c37b46c8"
      },
      "outputs": [],
      "source": [
        "i,j,k = (\"a\",\"b\",\"c\")\n",
        "print(i)\n",
        "print(j)\n",
        "print(k)"
      ]
    },
    {
      "cell_type": "code",
      "execution_count": null,
      "metadata": {
        "colab": {
          "base_uri": "https://localhost:8080/",
          "height": 180
        },
        "id": "pYjuXyBLgm8t",
        "outputId": "37c31d8d-9a85-4489-b5e9-239a05a0827a"
      },
      "outputs": [],
      "source": [
        "a,b = (1,2,3,4,5,6,7)\n",
        "print(a)\n",
        "print(b)"
      ]
    },
    {
      "cell_type": "code",
      "execution_count": null,
      "metadata": {
        "colab": {
          "base_uri": "https://localhost:8080/"
        },
        "id": "-NtkHu5QhHjY",
        "outputId": "c6e6dfa8-4451-4e36-eeec-fd55f9e7c8c0"
      },
      "outputs": [],
      "source": [
        "# use of * operator\n",
        "\n",
        "a, *b = (1,2,3,4,5,6,7)\n",
        "\n",
        "print(a)\n",
        "print(b)\n",
        "print(type(a))\n",
        "print(type(b))"
      ]
    },
    {
      "cell_type": "code",
      "execution_count": null,
      "metadata": {
        "colab": {
          "base_uri": "https://localhost:8080/"
        },
        "id": "sNViHkUZhcVZ",
        "outputId": "9ad061ef-885d-4ee5-d186-7d65d6bd57c9"
      },
      "outputs": [],
      "source": [
        "a, *b, c, d = (1,2,3,4,5,6,7)\n",
        "\n",
        "print(a)\n",
        "print(b)\n",
        "print(c)\n",
        "print(d)\n",
        "print(type(a))\n",
        "print(type(b))\n",
        "print(type(c))\n",
        "print(type(d))"
      ]
    },
    {
      "cell_type": "code",
      "execution_count": null,
      "metadata": {
        "colab": {
          "base_uri": "https://localhost:8080/",
          "height": 109
        },
        "id": "FxWlNlTvgl10",
        "outputId": "825248e7-c7b8-480d-a0eb-ebb76706bb4f"
      },
      "outputs": [],
      "source": [
        "a, *b, c, *d = (1,2,3,4,5,6,7)\n",
        "print(b)\n",
        "print(d)"
      ]
    },
    {
      "cell_type": "code",
      "execution_count": null,
      "metadata": {
        "colab": {
          "base_uri": "https://localhost:8080/"
        },
        "id": "65aqadxRi0s7",
        "outputId": "b4d646b8-e987-48a1-c1e2-160daeb9c86e"
      },
      "outputs": [],
      "source": [
        "a, *b = (1,2)\n",
        "c,d = (1,2)\n",
        "print(a)\n",
        "print(b)\n",
        "print(c)\n",
        "print(d)\n",
        "print(type(a))\n",
        "print(type(b))\n",
        "print(type(c))\n",
        "print(type(d))"
      ]
    },
    {
      "cell_type": "code",
      "execution_count": null,
      "metadata": {
        "colab": {
          "base_uri": "https://localhost:8080/",
          "height": 216
        },
        "id": "nlCpnSlEjH-o",
        "outputId": "67d8719f-9918-4fe2-fdcc-59a3e6e6b475"
      },
      "outputs": [],
      "source": [
        "a,b,c,d = (1,2)\n",
        "print(a)\n",
        "print(b)\n",
        "print(c)\n",
        "print(d)\n"
      ]
    },
    {
      "cell_type": "code",
      "execution_count": null,
      "metadata": {
        "colab": {
          "base_uri": "https://localhost:8080/",
          "height": 144
        },
        "id": "L02TD5Rujf2d",
        "outputId": "dcf12d54-4879-482a-dd4c-e86d79082b4e"
      },
      "outputs": [],
      "source": [
        "a,b = [1,2,3]"
      ]
    },
    {
      "cell_type": "code",
      "execution_count": null,
      "metadata": {
        "colab": {
          "base_uri": "https://localhost:8080/"
        },
        "id": "FGcfsmpUjpwf",
        "outputId": "9a4994f7-3f0d-42a7-8031-9f18dc3f5060"
      },
      "outputs": [],
      "source": [
        "a, *b = [1,2,3]\n",
        "\n",
        "print(a)\n",
        "print(b)\n",
        "print(type(a))\n",
        "print(type(b))"
      ]
    },
    {
      "cell_type": "markdown",
      "metadata": {
        "id": "gH9kk5upkbGG"
      },
      "source": [
        "#### **Accessing tuples**"
      ]
    },
    {
      "cell_type": "code",
      "execution_count": null,
      "metadata": {
        "colab": {
          "base_uri": "https://localhost:8080/"
        },
        "id": "3xH0kFHekIUw",
        "outputId": "39c9f31a-e3e9-4735-890e-646d94257083"
      },
      "outputs": [],
      "source": [
        "t = tuple(\"python\")\n",
        "print(t)\n",
        "print(type(t))"
      ]
    },
    {
      "cell_type": "code",
      "execution_count": null,
      "metadata": {
        "colab": {
          "base_uri": "https://localhost:8080/"
        },
        "id": "Ll1wiHVLkeUj",
        "outputId": "386fe79d-53c7-41b3-ae1f-84e53eabab23"
      },
      "outputs": [],
      "source": [
        "print(t[0])\n",
        "print(t[-1])\n",
        "print(t[5])"
      ]
    },
    {
      "cell_type": "code",
      "execution_count": null,
      "metadata": {
        "colab": {
          "base_uri": "https://localhost:8080/"
        },
        "id": "jag1v5yXkzRf",
        "outputId": "72d2a97d-61cc-4ca6-d81d-53238b43548d"
      },
      "outputs": [],
      "source": [
        "# slice a tuple\n",
        "\n",
        "print(t[1:4])\n",
        "print(t[1:])"
      ]
    },
    {
      "cell_type": "code",
      "execution_count": null,
      "metadata": {
        "colab": {
          "base_uri": "https://localhost:8080/",
          "height": 216
        },
        "id": "EBgPRCsBlCGO",
        "outputId": "cd9e8d43-1517-4ed7-988e-9a87a15d4a1f"
      },
      "outputs": [],
      "source": [
        "l = list(\"python\")\n",
        "t = tuple(\"python\")\n",
        "\n",
        "l[0] = \"m\"\n",
        "print(l)\n",
        "t[0] = \"k\"\n",
        "print(t)"
      ]
    },
    {
      "cell_type": "code",
      "execution_count": null,
      "metadata": {
        "colab": {
          "base_uri": "https://localhost:8080/"
        },
        "id": "o6zvz4falVkt",
        "outputId": "97441b03-79bd-4e8e-df23-d798fc773269"
      },
      "outputs": [],
      "source": [
        "l = [1,2,3,4,5]\n",
        "\n",
        "t = (1,2,3,l)\n",
        "\n",
        "print(t)\n",
        "print(id(t))\n"
      ]
    },
    {
      "cell_type": "code",
      "execution_count": null,
      "metadata": {
        "colab": {
          "base_uri": "https://localhost:8080/"
        },
        "id": "KaO17Acrljxh",
        "outputId": "d2890b54-43f4-4c9a-c6b2-6066f7369e68"
      },
      "outputs": [],
      "source": [
        "print(id(l))\n",
        "l[0] = 10\n",
        "print(t)\n",
        "print(id(l))\n",
        "print(id(t))"
      ]
    },
    {
      "cell_type": "code",
      "execution_count": null,
      "metadata": {
        "colab": {
          "base_uri": "https://localhost:8080/"
        },
        "id": "3DPGY_2Bl5ma",
        "outputId": "dc4c150e-6be1-49b2-b44d-db59ca032713"
      },
      "outputs": [],
      "source": [
        "print(t)"
      ]
    },
    {
      "cell_type": "code",
      "execution_count": null,
      "metadata": {
        "colab": {
          "base_uri": "https://localhost:8080/"
        },
        "id": "UGgRygcFl700",
        "outputId": "3ddebecc-98e1-4054-8b4c-20f8466fa292"
      },
      "outputs": [],
      "source": [
        "# Q1\n",
        "t[3][0] = 100\n",
        "print(t)"
      ]
    },
    {
      "cell_type": "code",
      "execution_count": null,
      "metadata": {
        "colab": {
          "base_uri": "https://localhost:8080/",
          "height": 198
        },
        "id": "RG5KbPohmBJK",
        "outputId": "57cd77c8-e66b-43f3-d80e-77a7231b828b"
      },
      "outputs": [],
      "source": [
        "# Q2\n",
        "\n",
        "t[3] = [100,2,3,4,5]\n",
        "print(t)"
      ]
    },
    {
      "cell_type": "code",
      "execution_count": null,
      "metadata": {
        "colab": {
          "base_uri": "https://localhost:8080/"
        },
        "id": "gaPZb0qSmxhB",
        "outputId": "a1d2f34b-02eb-4013-fead-065b7934b089"
      },
      "outputs": [],
      "source": [
        "l = [1,2,3,4,5]\n",
        "m = l\n",
        "\n",
        "print(m)\n",
        "print(l)\n",
        "print(id(m))\n",
        "print(id(l))\n"
      ]
    },
    {
      "cell_type": "code",
      "execution_count": null,
      "metadata": {
        "colab": {
          "base_uri": "https://localhost:8080/"
        },
        "id": "WJ0Z3Xa-nU42",
        "outputId": "e1f3c62f-f301-46b9-db9d-8ac29e40b903"
      },
      "outputs": [],
      "source": [
        "l[0] = 1000\n",
        "\n",
        "print(m)\n",
        "print(l)"
      ]
    },
    {
      "cell_type": "code",
      "execution_count": null,
      "metadata": {
        "colab": {
          "base_uri": "https://localhost:8080/"
        },
        "id": "zZHssmQ0nJwe",
        "outputId": "08ac41e5-eec2-4c5e-c1df-d53ba0ff0d30"
      },
      "outputs": [],
      "source": [
        "k = [1,2,3]\n",
        "o = [1,2,3]\n",
        "\n",
        "print(id(k))\n",
        "print(id(o))"
      ]
    },
    {
      "cell_type": "code",
      "execution_count": null,
      "metadata": {
        "colab": {
          "base_uri": "https://localhost:8080/"
        },
        "id": "Ffgxyp4fnhq2",
        "outputId": "2352cec0-f33f-4949-d900-0eca4abf955b"
      },
      "outputs": [],
      "source": [
        "l = [1,2,3,4,5]\n",
        "\n",
        "m = l.copy()\n",
        "\n",
        "print(m)\n",
        "print(l)\n",
        "print(id(m))\n",
        "print(id(l))\n",
        "\n",
        "l[0] = 1000\n",
        "print(l)\n",
        "print(m)"
      ]
    },
    {
      "cell_type": "code",
      "execution_count": null,
      "metadata": {
        "colab": {
          "base_uri": "https://localhost:8080/"
        },
        "id": "MC0SPV8goFTX",
        "outputId": "5600f8f9-f354-4b60-a109-d1dcd7e9dcb9"
      },
      "outputs": [],
      "source": [
        "sub_list = [\"a\",\"b\",\"c\"]\n",
        "l = [1,2,3,sub_list]\n",
        "m = l.copy()\n",
        "print(l)\n",
        "print(m)\n",
        "print(id(l))\n",
        "print(id(m))\n",
        "\n",
        "sub_list[1] = \"Venky\"\n",
        "\n",
        "print(l)\n",
        "print(m)\n",
        "print(id(l))\n",
        "print(id(m))"
      ]
    },
    {
      "cell_type": "code",
      "execution_count": null,
      "metadata": {
        "colab": {
          "base_uri": "https://localhost:8080/"
        },
        "id": "aL3v7nzNpnJW",
        "outputId": "9733969a-a820-4359-cdea-c341642f5226"
      },
      "outputs": [],
      "source": [
        "import copy\n",
        "\n",
        "sub_list = [\"a\",\"b\",\"c\"]\n",
        "l = [1,2,3,sub_list]\n",
        "m = copy.deepcopy(l)\n",
        "print(l)\n",
        "print(m)\n",
        "print(id(l))\n",
        "print(id(m))\n",
        "\n",
        "sub_list[1] = \"Venky\"\n",
        "\n",
        "print(l)\n",
        "print(m)\n",
        "print(id(l))\n",
        "print(id(m))"
      ]
    },
    {
      "cell_type": "code",
      "execution_count": null,
      "metadata": {
        "colab": {
          "base_uri": "https://localhost:8080/"
        },
        "id": "V2Pdk-6gp-_Q",
        "outputId": "a53a7e5a-6f17-489a-ab54-8d3b70c675fe"
      },
      "outputs": [],
      "source": [
        "t = (1,2,3)\n",
        "t2 = (1,2,3)\n",
        "print(id(t))\n",
        "print(id(t2))"
      ]
    },
    {
      "cell_type": "markdown",
      "metadata": {
        "id": "C6QkoTnmrLOO"
      },
      "source": [
        "### **Updating a tuple**"
      ]
    },
    {
      "cell_type": "code",
      "execution_count": null,
      "metadata": {
        "colab": {
          "base_uri": "https://localhost:8080/",
          "height": 180
        },
        "id": "JGq0VDROrHNc",
        "outputId": "e7d6b721-5fd9-47e0-b3b5-d2d85e0a0d77"
      },
      "outputs": [],
      "source": [
        "t = (\"python\", \"c\", \"c++\")\n",
        "\n",
        "t[1] = \"Java\""
      ]
    },
    {
      "cell_type": "code",
      "execution_count": null,
      "metadata": {
        "colab": {
          "base_uri": "https://localhost:8080/"
        },
        "id": "GlzFWWoOrXQs",
        "outputId": "9cee4801-184d-4ffd-9f4f-4dfbe177d4d2"
      },
      "outputs": [],
      "source": [
        "temp = list(t)\n",
        "print(temp)"
      ]
    },
    {
      "cell_type": "code",
      "execution_count": null,
      "metadata": {
        "colab": {
          "base_uri": "https://localhost:8080/"
        },
        "id": "DN9zpmZFrc-5",
        "outputId": "c87f8c7f-3309-42e6-f1c1-5d9650413e4f"
      },
      "outputs": [],
      "source": [
        "temp[1] = \"Java\"\n",
        "print(temp)"
      ]
    },
    {
      "cell_type": "code",
      "execution_count": null,
      "metadata": {
        "colab": {
          "base_uri": "https://localhost:8080/"
        },
        "id": "iKdt4RdPrhyS",
        "outputId": "fa1005d2-0190-4bbb-9d37-1ce95387fd66"
      },
      "outputs": [],
      "source": [
        "t = tuple(temp)\n",
        "print(t)"
      ]
    },
    {
      "cell_type": "code",
      "execution_count": null,
      "metadata": {
        "colab": {
          "base_uri": "https://localhost:8080/"
        },
        "id": "kQPh2_SQsQPY",
        "outputId": "b64ecf9b-dee3-4f13-a870-261e117d3b8e"
      },
      "outputs": [],
      "source": [
        "l = [1,2,3,4,5]\n",
        "\n",
        "del l[1:3]\n",
        "print(l)"
      ]
    },
    {
      "cell_type": "code",
      "execution_count": null,
      "metadata": {
        "colab": {
          "base_uri": "https://localhost:8080/",
          "height": 198
        },
        "id": "gVb0vxdFsZOD",
        "outputId": "a7f44389-9a5d-4813-ae72-9e320375ae98"
      },
      "outputs": [],
      "source": [
        "l = (1,2,3,4,5)\n",
        "\n",
        "del l[1:3]\n",
        "print(l)"
      ]
    },
    {
      "cell_type": "code",
      "execution_count": null,
      "metadata": {
        "id": "uxYOZ2Onsigx"
      },
      "outputs": [],
      "source": [
        "l = (1,2,3,4,5)\n",
        "\n",
        "del l"
      ]
    },
    {
      "cell_type": "code",
      "execution_count": null,
      "metadata": {
        "colab": {
          "base_uri": "https://localhost:8080/",
          "height": 144
        },
        "id": "nKzF1OfZspMG",
        "outputId": "3b59c31f-5f86-430b-9922-29d304c7a162"
      },
      "outputs": [],
      "source": [
        "l"
      ]
    },
    {
      "cell_type": "code",
      "execution_count": null,
      "metadata": {
        "colab": {
          "base_uri": "https://localhost:8080/"
        },
        "id": "b0h4IRjKs2Zs",
        "outputId": "0fe98dd3-58f3-426f-a7e7-d3f2248a27b6"
      },
      "outputs": [],
      "source": [
        "# sort\n",
        "# sorted\n",
        "\n",
        "l = [1,10,5,8,9,12,11]\n",
        "print(l)\n",
        "print(id(l))\n",
        "l.sort() # inplace sorting\n",
        "print(l)\n",
        "print(id(l))"
      ]
    },
    {
      "cell_type": "code",
      "execution_count": null,
      "metadata": {
        "colab": {
          "base_uri": "https://localhost:8080/"
        },
        "id": "Yy4GTiFst5G6",
        "outputId": "0b94f48a-ca69-472c-efcd-73e5afbdedd5"
      },
      "outputs": [],
      "source": [
        "l = [1,10,5,8,9,12,11]\n",
        "print(l)\n",
        "print(id(l))\n",
        "print(sorted(l))\n",
        "print(id(sorted(l))) # out of place sorting\n",
        "print(l)\n",
        "print(id(l))"
      ]
    },
    {
      "cell_type": "code",
      "execution_count": null,
      "metadata": {
        "colab": {
          "base_uri": "https://localhost:8080/"
        },
        "id": "Aj6uLg8dxSB0",
        "outputId": "4b74b0e6-9f49-4f8e-e3ca-c6221d34fa50"
      },
      "outputs": [],
      "source": [
        "l = [1,2,3,5,7,9,4]\n",
        "sorted(l, reverse = True)"
      ]
    },
    {
      "cell_type": "code",
      "execution_count": null,
      "metadata": {
        "colab": {
          "base_uri": "https://localhost:8080/"
        },
        "id": "Y8N3GJGruUlV",
        "outputId": "be3275d9-2bfa-451b-bd39-51d27379ff1e"
      },
      "outputs": [],
      "source": [
        "m = l.sort()\n",
        "print(m)\n",
        "print(type(m))"
      ]
    },
    {
      "cell_type": "code",
      "execution_count": null,
      "metadata": {
        "colab": {
          "base_uri": "https://localhost:8080/"
        },
        "id": "yoIZh7EZugG2",
        "outputId": "e5b5d9e1-ae40-447e-e407-99be6a9f5e7b"
      },
      "outputs": [],
      "source": [
        "\n",
        "l = [1,10,5,8,9,12,11]\n",
        "print(l)\n",
        "print(id(l))\n",
        "l.sort(reverse=True) # inplace sorting\n",
        "print(l)\n",
        "print(id(l))"
      ]
    },
    {
      "cell_type": "code",
      "execution_count": null,
      "metadata": {
        "colab": {
          "base_uri": "https://localhost:8080/"
        },
        "id": "dY8P7xh-wxyS",
        "outputId": "91e5b844-6274-4478-d162-facf83849c0b"
      },
      "outputs": [],
      "source": [
        "l = ['a','b','d','z','f']\n",
        "l.sort()\n",
        "print(l)"
      ]
    },
    {
      "cell_type": "code",
      "execution_count": null,
      "metadata": {
        "colab": {
          "base_uri": "https://localhost:8080/"
        },
        "id": "UyBvRuN_w9Yg",
        "outputId": "c004339a-6266-46ba-d7d6-69b7fbc22393"
      },
      "outputs": [],
      "source": [
        "ord('f')"
      ]
    },
    {
      "cell_type": "code",
      "execution_count": null,
      "metadata": {
        "colab": {
          "base_uri": "https://localhost:8080/"
        },
        "id": "JM6WdJJ2xAWw",
        "outputId": "9b8c06af-44b2-45c9-9809-a7cd77a63893"
      },
      "outputs": [],
      "source": [
        "ord('z')"
      ]
    },
    {
      "cell_type": "code",
      "execution_count": null,
      "metadata": {
        "colab": {
          "base_uri": "https://localhost:8080/"
        },
        "id": "Jz31SPKFxFrz",
        "outputId": "8f921ff3-e76b-4dba-fb1f-2d3dd2b7147d"
      },
      "outputs": [],
      "source": [
        "l = ['abc', 'aac', 'aca', 'cab','bca']\n",
        "l.sort()\n",
        "print(l)"
      ]
    },
    {
      "cell_type": "code",
      "execution_count": null,
      "metadata": {
        "colab": {
          "base_uri": "https://localhost:8080/"
        },
        "id": "6xCizYT-xfIP",
        "outputId": "2100e992-5f79-4a40-dd18-33eb4c55b798"
      },
      "outputs": [],
      "source": [
        "l = ['abc', 'aac', 'aca', 'cab','bca', \"9\", \"10\"]\n",
        "l.sort()\n",
        "print(l)"
      ]
    },
    {
      "cell_type": "code",
      "execution_count": null,
      "metadata": {
        "colab": {
          "base_uri": "https://localhost:8080/"
        },
        "id": "oLG5-gaJx4Yn",
        "outputId": "ce3c3504-af0d-4259-d282-356e3ef6e929"
      },
      "outputs": [],
      "source": [
        "ord(\"1\")"
      ]
    },
    {
      "cell_type": "code",
      "execution_count": null,
      "metadata": {
        "colab": {
          "base_uri": "https://localhost:8080/"
        },
        "id": "HQYQ3p-Yx8fu",
        "outputId": "84caf623-e3dc-4cfe-ae3b-ad618417e191"
      },
      "outputs": [],
      "source": [
        "ord(\"9\")"
      ]
    },
    {
      "cell_type": "code",
      "execution_count": null,
      "metadata": {
        "colab": {
          "base_uri": "https://localhost:8080/"
        },
        "id": "VZ0nbO_XyVlX",
        "outputId": "cc8778c6-173f-4f62-ff7e-7c20bd740c70"
      },
      "outputs": [],
      "source": [
        "l = [\"8948279632687268\", \"9\"]\n",
        "l.sort()\n",
        "print(l)"
      ]
    },
    {
      "cell_type": "code",
      "execution_count": null,
      "metadata": {
        "colab": {
          "base_uri": "https://localhost:8080/"
        },
        "id": "48pkqgmbyhEP",
        "outputId": "c80e3a21-d3e8-40e8-bc40-9eeb70b14a89"
      },
      "outputs": [],
      "source": [
        "l = [\" \", \"1\", \"a\"]\n",
        "\n",
        "l.sort(reverse=True)\n",
        "l"
      ]
    },
    {
      "cell_type": "code",
      "execution_count": null,
      "metadata": {
        "colab": {
          "base_uri": "https://localhost:8080/"
        },
        "id": "Z4GXnyzVynrj",
        "outputId": "6c00955e-5ab4-44e9-9fa5-7facbab7a363"
      },
      "outputs": [],
      "source": [
        "ord(\" \")"
      ]
    },
    {
      "cell_type": "code",
      "execution_count": null,
      "metadata": {
        "colab": {
          "base_uri": "https://localhost:8080/"
        },
        "id": "gEUbF6QFyp61",
        "outputId": "82a6f4cc-91eb-433f-a653-ceca37d4ba45"
      },
      "outputs": [],
      "source": [
        "ord(\"0\")"
      ]
    },
    {
      "cell_type": "code",
      "execution_count": null,
      "metadata": {
        "colab": {
          "base_uri": "https://localhost:8080/"
        },
        "id": "9-_1B3o-yrzp",
        "outputId": "33a5f6ce-7076-4e89-e6a0-162d00d4ae34"
      },
      "outputs": [],
      "source": [
        "ord(\"a\")"
      ]
    },
    {
      "cell_type": "code",
      "execution_count": null,
      "metadata": {
        "colab": {
          "base_uri": "https://localhost:8080/",
          "height": 180
        },
        "id": "7Ydi_LTAy-uY",
        "outputId": "bebca4b9-5065-4909-9dae-757e12aa428b"
      },
      "outputs": [],
      "source": [
        "# sort\n",
        "\n",
        "# sorted\n",
        "\n",
        "t = (1,2,3,5,7,9,4,12,10)\n",
        "\n",
        "t.sort() # will fail"
      ]
    },
    {
      "cell_type": "code",
      "execution_count": null,
      "metadata": {
        "colab": {
          "base_uri": "https://localhost:8080/"
        },
        "id": "orV6t0CyzSUV",
        "outputId": "cb64da05-5760-43a4-c3ed-bcaddfadd1d7"
      },
      "outputs": [],
      "source": [
        "sorted(t) # always returns list object"
      ]
    },
    {
      "cell_type": "code",
      "execution_count": null,
      "metadata": {
        "colab": {
          "base_uri": "https://localhost:8080/"
        },
        "id": "gL2u8DlVzg3Z",
        "outputId": "27dfd964-cc07-40fa-c381-b50dd32a4c4c"
      },
      "outputs": [],
      "source": [
        "sorted(\"Venky\")"
      ]
    },
    {
      "cell_type": "code",
      "execution_count": null,
      "metadata": {
        "colab": {
          "base_uri": "https://localhost:8080/"
        },
        "id": "aQrZQTrczcqB",
        "outputId": "941c5140-d275-43f5-f697-94966eba10b5"
      },
      "outputs": [],
      "source": [
        "# reverse\n",
        "l = list(\"Venkatesh\")\n",
        "print(l)"
      ]
    },
    {
      "cell_type": "code",
      "execution_count": null,
      "metadata": {
        "colab": {
          "base_uri": "https://localhost:8080/"
        },
        "id": "VlWP5LTxzwL-",
        "outputId": "f0b16ba1-6bca-4aec-d527-710edaca934a"
      },
      "outputs": [],
      "source": [
        "l.reverse() # equivalent to l[::-1]\n",
        "print(l)  # reverse in place"
      ]
    },
    {
      "cell_type": "code",
      "execution_count": null,
      "metadata": {
        "colab": {
          "base_uri": "https://localhost:8080/"
        },
        "id": "Tzad4ZFHz5uM",
        "outputId": "768284f6-12cc-4009-bfd8-b4b6c299fb35"
      },
      "outputs": [],
      "source": [
        "list(reversed(l)) # out of place - creates new list"
      ]
    },
    {
      "cell_type": "code",
      "execution_count": null,
      "metadata": {
        "colab": {
          "base_uri": "https://localhost:8080/",
          "height": 180
        },
        "id": "nBzYc_Ho0IOj",
        "outputId": "7644da72-6eca-4135-f3a4-c3685f444c65"
      },
      "outputs": [],
      "source": [
        "t = tuple(\"Venkatesh\")\n",
        "\n",
        "t.reverse()"
      ]
    },
    {
      "cell_type": "code",
      "execution_count": null,
      "metadata": {
        "colab": {
          "base_uri": "https://localhost:8080/"
        },
        "id": "CxWrvBQg0QXH",
        "outputId": "a01b511e-be4b-492e-8fa9-ef54418455c8"
      },
      "outputs": [],
      "source": [
        "tuple(reversed(t))"
      ]
    },
    {
      "cell_type": "code",
      "execution_count": null,
      "metadata": {
        "colab": {
          "base_uri": "https://localhost:8080/"
        },
        "id": "2QvRsXzR0WBJ",
        "outputId": "103b0c38-7841-458a-f1f0-48eba583d386"
      },
      "outputs": [],
      "source": [
        "# count\n",
        "\n",
        "l = [1,2,3,1,2,4,3,2,1,3,2,1,5,2,1,4,5]\n",
        "\n",
        "l.count(1)"
      ]
    },
    {
      "cell_type": "code",
      "execution_count": null,
      "metadata": {
        "colab": {
          "base_uri": "https://localhost:8080/"
        },
        "id": "oXuBqCbx0mU1",
        "outputId": "14fa1347-35e5-4bb2-d923-bc605d894485"
      },
      "outputs": [],
      "source": [
        "l.count(6)"
      ]
    },
    {
      "cell_type": "code",
      "execution_count": null,
      "metadata": {
        "colab": {
          "base_uri": "https://localhost:8080/"
        },
        "id": "15zPgegc0sOC",
        "outputId": "e1e66dbb-d747-40e2-bb26-fed18c783bd5"
      },
      "outputs": [],
      "source": [
        "l = (1,2,3,1,2,4,3,2,1,3,2,1,5,2,1,4,5)\n",
        "\n",
        "l.count(1)"
      ]
    },
    {
      "cell_type": "code",
      "execution_count": null,
      "metadata": {
        "colab": {
          "base_uri": "https://localhost:8080/"
        },
        "id": "NEAOwHda07lR",
        "outputId": "526660f9-ea78-42c8-fe15-a732f434a307"
      },
      "outputs": [],
      "source": [
        "k = \"lkaslads\"\n",
        "\n",
        "k.count(\"l\")"
      ]
    },
    {
      "cell_type": "markdown",
      "metadata": {
        "id": "AXnByzHc1cuv"
      },
      "source": [
        "# **SETS**\n",
        "\n",
        "1. Initializing a set\n",
        "2. Accessing Set Items\n",
        "3. How to add items to the set?\n",
        "4. How to remove items from the set?\n",
        "5. Methods supported in sets\n",
        "   -  union\n",
        "   -  intersection\n",
        "   -  difference\n",
        "   -  subset, superset, disjoint"
      ]
    },
    {
      "cell_type": "code",
      "execution_count": null,
      "metadata": {
        "colab": {
          "base_uri": "https://localhost:8080/"
        },
        "id": "Fmw-uPP51_kh",
        "outputId": "ab89db3b-f239-47f6-8aa5-b49c7cbbf1d6"
      },
      "outputs": [],
      "source": [
        "# initializing a set\n",
        "\n",
        "s = {}\n",
        "print(s)\n",
        "print(type(s))"
      ]
    },
    {
      "cell_type": "code",
      "execution_count": null,
      "metadata": {
        "colab": {
          "base_uri": "https://localhost:8080/"
        },
        "id": "CjuyfITZ2bDc",
        "outputId": "e615ef2d-0df4-4365-d1b4-1cb430b367bf"
      },
      "outputs": [],
      "source": [
        "s = {1}\n",
        "print(s)\n",
        "print(type(s))"
      ]
    },
    {
      "cell_type": "code",
      "execution_count": null,
      "metadata": {
        "colab": {
          "base_uri": "https://localhost:8080/"
        },
        "id": "QXh7ZkN21Foi",
        "outputId": "6809dbb9-6019-4940-920f-0698b89a9132"
      },
      "outputs": [],
      "source": [
        "s = set()\n",
        "print(s)\n",
        "print(type(s))"
      ]
    },
    {
      "cell_type": "code",
      "execution_count": null,
      "metadata": {
        "colab": {
          "base_uri": "https://localhost:8080/"
        },
        "id": "7oTm1taI2krt",
        "outputId": "0b8bac71-3b12-4200-b7fb-0e6d75dded94"
      },
      "outputs": [],
      "source": [
        "s = {1,2,3,4,5}\n",
        "print(s)\n",
        "print(id(s))\n",
        "s.add(8)\n",
        "print(s)\n",
        "print(id(s))"
      ]
    },
    {
      "cell_type": "code",
      "execution_count": null,
      "metadata": {
        "colab": {
          "base_uri": "https://localhost:8080/",
          "height": 162
        },
        "id": "P7xSOEN_3oUb",
        "outputId": "22c70d31-ca4e-4faf-cd8c-65ee95948014"
      },
      "outputs": [],
      "source": [
        "s = {1,2,3,4,5,[1,2]}\n",
        "print(s)"
      ]
    },
    {
      "cell_type": "code",
      "execution_count": null,
      "metadata": {
        "colab": {
          "base_uri": "https://localhost:8080/",
          "height": 162
        },
        "id": "gPWmMWF-4pR_",
        "outputId": "c327ac0b-6d44-4a0f-d240-ac4de8a1f41b"
      },
      "outputs": [],
      "source": [
        "s = {1,2,3,4,5,{1,2}}\n",
        "print(s)"
      ]
    },
    {
      "cell_type": "code",
      "execution_count": null,
      "metadata": {
        "colab": {
          "base_uri": "https://localhost:8080/",
          "height": 162
        },
        "id": "QGdrCWjy4swI",
        "outputId": "9e8bfbcb-fe5f-4a10-cb61-4fa72e063093"
      },
      "outputs": [],
      "source": [
        "s = {1,2,3,4,5,{1:2,2:4}}\n",
        "print(s)"
      ]
    },
    {
      "cell_type": "code",
      "execution_count": null,
      "metadata": {
        "colab": {
          "base_uri": "https://localhost:8080/"
        },
        "id": "XADZNBzW4yAn",
        "outputId": "6d8ff60c-2c27-406c-bd28-8ede11cdb976"
      },
      "outputs": [],
      "source": [
        "s = {2,3,(2,3,5)}\n",
        "print(s)"
      ]
    },
    {
      "cell_type": "code",
      "execution_count": null,
      "metadata": {
        "colab": {
          "base_uri": "https://localhost:8080/",
          "height": 198
        },
        "id": "iSrbsXcx46dQ",
        "outputId": "22d150c0-d5b1-44b3-e3aa-02cb961fac5c"
      },
      "outputs": [],
      "source": [
        "t = (2,3,4,[3,5])\n",
        "\n",
        "s = {1,2,t}\n",
        "print(s)"
      ]
    },
    {
      "cell_type": "code",
      "execution_count": null,
      "metadata": {
        "colab": {
          "base_uri": "https://localhost:8080/"
        },
        "id": "Bp2oQwXP5WL6",
        "outputId": "6451b593-8b82-4b40-da01-6c343d6dd4da"
      },
      "outputs": [],
      "source": [
        "# 1 , 1.0, True\n",
        "# 0, 0.0, False\n",
        "\n",
        "# above ones are treated as same in set\n",
        "\n",
        "s = {1, True}\n",
        "print(s)"
      ]
    },
    {
      "cell_type": "code",
      "execution_count": null,
      "metadata": {
        "colab": {
          "base_uri": "https://localhost:8080/"
        },
        "id": "sMqcxK5i5ira",
        "outputId": "882aecb5-0db4-4993-e66d-97ec3cd8e76d"
      },
      "outputs": [],
      "source": [
        "hash(1)"
      ]
    },
    {
      "cell_type": "code",
      "execution_count": null,
      "metadata": {
        "colab": {
          "base_uri": "https://localhost:8080/"
        },
        "id": "WascBvqw5mI5",
        "outputId": "c8dcfba8-f4ed-476d-f50c-822a64c78509"
      },
      "outputs": [],
      "source": [
        "hash(True)"
      ]
    },
    {
      "cell_type": "code",
      "execution_count": null,
      "metadata": {
        "colab": {
          "base_uri": "https://localhost:8080/",
          "height": 144
        },
        "id": "eDojWFrx5t56",
        "outputId": "e1c643cb-8226-48cf-95b0-dd8a80931538"
      },
      "outputs": [],
      "source": [
        "hash((1,2,3,[12,3]))"
      ]
    },
    {
      "cell_type": "code",
      "execution_count": null,
      "metadata": {
        "colab": {
          "base_uri": "https://localhost:8080/"
        },
        "id": "23keMJBf6EVi",
        "outputId": "82637ef5-c2ac-40ce-9f01-a279ea49ddda"
      },
      "outputs": [],
      "source": [
        "len({1,2,3,5,7,10,5})"
      ]
    },
    {
      "cell_type": "code",
      "execution_count": null,
      "metadata": {
        "colab": {
          "base_uri": "https://localhost:8080/",
          "height": 180
        },
        "id": "ThmCz3Yy6bxM",
        "outputId": "298d0204-ad5c-44e2-9ee2-496c48818372"
      },
      "outputs": [],
      "source": [
        "# accessing a set\n",
        "\n",
        "s = {\"Venky\", \"Rajini\", \"Kamal\", \"Allu Arjun\", \"Ramcharan\"}\n",
        "\n",
        "s[0]"
      ]
    },
    {
      "cell_type": "code",
      "execution_count": null,
      "metadata": {
        "colab": {
          "base_uri": "https://localhost:8080/"
        },
        "id": "Fki8E_CO6pK5",
        "outputId": "86eed99e-25cf-400b-af3f-12419b38cda4"
      },
      "outputs": [],
      "source": [
        "\"Venky\" in s"
      ]
    },
    {
      "cell_type": "code",
      "execution_count": null,
      "metadata": {
        "colab": {
          "base_uri": "https://localhost:8080/"
        },
        "id": "9sNpqkRw68YL",
        "outputId": "8e239777-6dda-480f-b1cd-fe7c5b3c37d4"
      },
      "outputs": [],
      "source": [
        "s = {1,2,5.4,\"abc\", \"1234\",2.3,5}\n",
        "print(s)"
      ]
    },
    {
      "cell_type": "code",
      "execution_count": null,
      "metadata": {
        "colab": {
          "base_uri": "https://localhost:8080/"
        },
        "id": "a3ZNFnJa7GQp",
        "outputId": "d343c15e-9b60-4f16-a473-929a58b8ace5"
      },
      "outputs": [],
      "source": [
        "# adding a element to set and updating a set\n",
        "\n",
        "s = {10,20,30}\n",
        "s.add(40)\n",
        "print(s)"
      ]
    },
    {
      "cell_type": "code",
      "execution_count": null,
      "metadata": {
        "colab": {
          "base_uri": "https://localhost:8080/",
          "height": 162
        },
        "id": "Ir48T5CH7Qj4",
        "outputId": "d06f2199-ff8e-4350-9149-466eca80cdf1"
      },
      "outputs": [],
      "source": [
        "s.add(70,50,60)\n",
        "print(s)"
      ]
    },
    {
      "cell_type": "code",
      "execution_count": null,
      "metadata": {
        "colab": {
          "base_uri": "https://localhost:8080/"
        },
        "id": "OVwKhbsl7cjV",
        "outputId": "fb3e6313-358a-43f5-a49b-c1037a5cacbc"
      },
      "outputs": [],
      "source": [
        "s.add((70,50,60))\n",
        "print(s)"
      ]
    },
    {
      "cell_type": "code",
      "execution_count": null,
      "metadata": {
        "colab": {
          "base_uri": "https://localhost:8080/"
        },
        "id": "oR8KxTTl7iQS",
        "outputId": "b447bfca-48e2-4ec4-ee28-db65d54b5ecf"
      },
      "outputs": [],
      "source": [
        "s.add((10,20,30))\n",
        "print(s)"
      ]
    },
    {
      "cell_type": "code",
      "execution_count": null,
      "metadata": {
        "colab": {
          "base_uri": "https://localhost:8080/"
        },
        "id": "bDRFb2gI7yYH",
        "outputId": "606a30c8-e33a-4d87-bb6e-bd570b0db3a9"
      },
      "outputs": [],
      "source": [
        "s = {10,20,30}\n",
        "# update\n",
        "t = {40,50,60}\n",
        "s.update(t) # {10,20,30,40,50,60}\n",
        "print(s)"
      ]
    },
    {
      "cell_type": "code",
      "execution_count": null,
      "metadata": {
        "colab": {
          "base_uri": "https://localhost:8080/"
        },
        "id": "NHzhwtzD8Qf4",
        "outputId": "3b050333-31dd-4bfc-c0bd-6987bf477105"
      },
      "outputs": [],
      "source": [
        "s.union(t)"
      ]
    },
    {
      "cell_type": "code",
      "execution_count": null,
      "metadata": {
        "colab": {
          "base_uri": "https://localhost:8080/"
        },
        "id": "iXf0nShD8Xle",
        "outputId": "3fac6cb2-65f2-488b-eca6-a233757fbe88"
      },
      "outputs": [],
      "source": [
        "s = {1,2,3}\n",
        "t = {4,5,6}\n",
        "s.union(t)"
      ]
    },
    {
      "cell_type": "code",
      "execution_count": null,
      "metadata": {
        "colab": {
          "base_uri": "https://localhost:8080/"
        },
        "id": "ZNajFZaf8kFJ",
        "outputId": "4e6f56b9-b049-4fe3-b613-8c09cfb58393"
      },
      "outputs": [],
      "source": [
        "print(s)\n",
        "print(t)"
      ]
    },
    {
      "cell_type": "code",
      "execution_count": null,
      "metadata": {
        "colab": {
          "base_uri": "https://localhost:8080/"
        },
        "id": "AJuMlQn-9Oth",
        "outputId": "dae1e41b-903d-4cee-f715-b7d4991ab78a"
      },
      "outputs": [],
      "source": [
        "s = {1,2,3}\n",
        "t = {4,5,6}\n",
        "s.update(t)\n",
        "s"
      ]
    },
    {
      "cell_type": "code",
      "execution_count": null,
      "metadata": {
        "id": "O23gvWEa9c8Z"
      },
      "outputs": [],
      "source": [
        "t2 = [10,20,30]\n",
        "s.update(t2)"
      ]
    },
    {
      "cell_type": "code",
      "execution_count": null,
      "metadata": {
        "colab": {
          "base_uri": "https://localhost:8080/"
        },
        "id": "qkV222rU93oq",
        "outputId": "2f4151e0-cf3c-47e6-f548-cc8674f7024b"
      },
      "outputs": [],
      "source": [
        "s.union(t2)"
      ]
    },
    {
      "cell_type": "code",
      "execution_count": null,
      "metadata": {
        "colab": {
          "base_uri": "https://localhost:8080/",
          "height": 144
        },
        "id": "sBXN1_yD-MTc",
        "outputId": "fa3e7082-57e7-496b-8c99-f3d7cd0919e5"
      },
      "outputs": [],
      "source": [
        "t2.union(s)"
      ]
    },
    {
      "cell_type": "code",
      "execution_count": null,
      "metadata": {
        "colab": {
          "base_uri": "https://localhost:8080/"
        },
        "id": "6655denk98aS",
        "outputId": "a5fa267d-d181-450a-80ff-e7b2bfa54960"
      },
      "outputs": [],
      "source": [
        "a = {1,2,3}\n",
        "b = [5,7,8, 3]\n",
        "\n",
        "a.union(b)"
      ]
    },
    {
      "cell_type": "code",
      "execution_count": null,
      "metadata": {
        "colab": {
          "base_uri": "https://localhost:8080/"
        },
        "id": "sdT8xoxf9o7U",
        "outputId": "c5cb43de-54e5-4d0b-c2a6-70da38daaf5a"
      },
      "outputs": [],
      "source": [
        "s"
      ]
    },
    {
      "cell_type": "code",
      "execution_count": null,
      "metadata": {
        "colab": {
          "base_uri": "https://localhost:8080/"
        },
        "id": "SgUw4lrr-Z2L",
        "outputId": "d5b1beaf-86fa-468c-95df-6f04bb5ab7c3"
      },
      "outputs": [],
      "source": [
        "print(s)"
      ]
    },
    {
      "cell_type": "code",
      "execution_count": null,
      "metadata": {
        "colab": {
          "base_uri": "https://localhost:8080/"
        },
        "id": "Jnx_-pnI-bhP",
        "outputId": "4fbc8ae1-1e55-47e2-e4d9-214fdd58a7ac"
      },
      "outputs": [],
      "source": [
        "s ={1,2,3}\n",
        "s.update(\"RBR\")\n",
        "print(s)"
      ]
    },
    {
      "cell_type": "code",
      "execution_count": null,
      "metadata": {
        "colab": {
          "base_uri": "https://localhost:8080/"
        },
        "id": "7zng-i1d-uLm",
        "outputId": "638a5525-f8ef-4c2b-dadf-03ccb9e0a765"
      },
      "outputs": [],
      "source": [
        "s ={1,2,3}\n",
        "s.update([\"RBR\"])\n",
        "print(s)"
      ]
    },
    {
      "cell_type": "markdown",
      "metadata": {
        "id": "odh2Z8rb_JoG"
      },
      "source": [
        "#### **Remove Method**"
      ]
    },
    {
      "cell_type": "code",
      "execution_count": null,
      "metadata": {
        "colab": {
          "base_uri": "https://localhost:8080/"
        },
        "id": "juNfGP49_I5_",
        "outputId": "91206a7e-8621-4844-ce22-93473fda009e"
      },
      "outputs": [],
      "source": [
        "s = {\"Virat\", \"Rohit\", \"Dube\", \"Hardik\"}\n",
        "\n",
        "s.remove(\"Dube\")\n",
        "print(s)"
      ]
    },
    {
      "cell_type": "code",
      "execution_count": null,
      "metadata": {
        "colab": {
          "base_uri": "https://localhost:8080/",
          "height": 144
        },
        "id": "fcuRnqll_aN-",
        "outputId": "7c399686-bde3-48b4-d848-56ac2414b5b7"
      },
      "outputs": [],
      "source": [
        "s.remove(\"Dhoni\")"
      ]
    },
    {
      "cell_type": "code",
      "execution_count": null,
      "metadata": {
        "colab": {
          "base_uri": "https://localhost:8080/"
        },
        "id": "Xki3Tjm__nmH",
        "outputId": "2918ab56-03d3-40d9-f034-815dd544a501"
      },
      "outputs": [],
      "source": [
        "# discard\n",
        "\n",
        "s = {\"Virat\", \"Rohit\", \"Dube\", \"Hardik\"}\n",
        "\n",
        "s.discard(\"Dube\")\n",
        "print(s)"
      ]
    },
    {
      "cell_type": "code",
      "execution_count": null,
      "metadata": {
        "colab": {
          "base_uri": "https://localhost:8080/"
        },
        "id": "ohQuqUfL_zGy",
        "outputId": "7a08b8cf-9d9b-42de-d20e-2ac8ab9afe35"
      },
      "outputs": [],
      "source": [
        "s.discard(\"Dhoni\")\n",
        "print(s)"
      ]
    },
    {
      "cell_type": "code",
      "execution_count": null,
      "metadata": {
        "colab": {
          "base_uri": "https://localhost:8080/"
        },
        "id": "hAHiPNxYACyR",
        "outputId": "14c6909c-6354-4f16-9739-09d1bd67dd2f"
      },
      "outputs": [],
      "source": [
        "# pop\n",
        "\n",
        "l = {1,2,3,4,5,\"abc\",\"12\",1.5,24}\n",
        "\n",
        "print(l.pop())\n",
        "print(l)"
      ]
    },
    {
      "cell_type": "code",
      "execution_count": null,
      "metadata": {
        "colab": {
          "base_uri": "https://localhost:8080/"
        },
        "id": "UYQSJsYkAwhC",
        "outputId": "4e030710-6bd5-4599-f53b-a20dae78eb50"
      },
      "outputs": [],
      "source": [
        "print(l.pop())\n",
        "print(l)"
      ]
    },
    {
      "cell_type": "code",
      "execution_count": null,
      "metadata": {
        "colab": {
          "base_uri": "https://localhost:8080/",
          "height": 162
        },
        "id": "J3doOhBeBC-H",
        "outputId": "d40fa4eb-7c7f-431b-e801-843a4ea322e4"
      },
      "outputs": [],
      "source": [
        "print(l.pop(0))\n",
        "print(l)"
      ]
    },
    {
      "cell_type": "markdown",
      "metadata": {
        "id": "BArI8M7oCYmD"
      },
      "source": [
        "#### **Operations on Set**"
      ]
    },
    {
      "cell_type": "code",
      "execution_count": null,
      "metadata": {
        "colab": {
          "base_uri": "https://localhost:8080/"
        },
        "id": "YnSowUOBCbOU",
        "outputId": "0d20be1e-9055-4c2d-aba6-a252cf520a27"
      },
      "outputs": [],
      "source": [
        "# UNION\n",
        "\n",
        "s = {1,2,3}\n",
        "t = {4,5,6}\n",
        "s.union(t)\n"
      ]
    },
    {
      "cell_type": "code",
      "execution_count": null,
      "metadata": {
        "colab": {
          "base_uri": "https://localhost:8080/"
        },
        "id": "KR_84H5BCgv-",
        "outputId": "80463585-be26-4068-d08d-7826fcc54711"
      },
      "outputs": [],
      "source": [
        "# union ---> |\n",
        "\n",
        "a = {10,20,30}\n",
        "b = {40,50,60}\n",
        "a | b"
      ]
    },
    {
      "cell_type": "code",
      "execution_count": null,
      "metadata": {
        "colab": {
          "base_uri": "https://localhost:8080/"
        },
        "id": "choA6sctCswH",
        "outputId": "2e5bb1c6-c8a6-46df-d685-e16303607b52"
      },
      "outputs": [],
      "source": [
        "a = {1,2,3}\n",
        "b = {4,5,6}\n",
        "c = {7,8,9}\n",
        "d = {10,11,12}\n",
        "e = (14,15,16)\n",
        "f = [17,18,19]\n",
        "g = \"Venky\"\n",
        "\n",
        "a.union(b,c,d,e,f,g)"
      ]
    },
    {
      "cell_type": "code",
      "execution_count": null,
      "metadata": {
        "colab": {
          "base_uri": "https://localhost:8080/"
        },
        "id": "RNcdQHiDDJDN",
        "outputId": "da17c78d-f1b5-44fe-f7e8-41d5b9f8220b"
      },
      "outputs": [],
      "source": [
        "a = {1,2,3}\n",
        "b = {4,5,6}\n",
        "c = {7,8,9}\n",
        "d = {10,11,12}\n",
        "e = (14,15,16)\n",
        "f = [17,18,19]\n",
        "g = \"Venky\"\n",
        "\n",
        "a | b | c | d"
      ]
    },
    {
      "cell_type": "code",
      "execution_count": null,
      "metadata": {
        "colab": {
          "base_uri": "https://localhost:8080/",
          "height": 144
        },
        "id": "Pk_V_PGrDPGw",
        "outputId": "aefc4f3b-44b4-4f63-ca87-4e530f4e7a10"
      },
      "outputs": [],
      "source": [
        "a | b | c| d | e | f | g"
      ]
    },
    {
      "cell_type": "code",
      "execution_count": null,
      "metadata": {
        "colab": {
          "base_uri": "https://localhost:8080/"
        },
        "id": "I4iADx1iDkTY",
        "outputId": "687932da-cccd-40f7-8b55-d8fb66210e89"
      },
      "outputs": [],
      "source": [
        "# intersection\n",
        "\n",
        "a = {1,2,3,4}\n",
        "b = {2,3,5,7}\n",
        "\n",
        "a.intersection(b)"
      ]
    },
    {
      "cell_type": "code",
      "execution_count": null,
      "metadata": {
        "colab": {
          "base_uri": "https://localhost:8080/"
        },
        "id": "y9bTeT0eEQMw",
        "outputId": "d5c264df-d2a3-4f78-c001-224d2cd0e0bf"
      },
      "outputs": [],
      "source": [
        "print(a)"
      ]
    },
    {
      "cell_type": "code",
      "execution_count": null,
      "metadata": {
        "colab": {
          "base_uri": "https://localhost:8080/"
        },
        "id": "TYDgfqLNEF_i",
        "outputId": "b88ee9be-ea88-4b45-e4a2-54f9d067acdb"
      },
      "outputs": [],
      "source": [
        "a = {1,2,3,4}\n",
        "b = {2,3,5,7}\n",
        "c = {10,20,30,40,3}\n",
        "\n",
        "a.intersection(b,c)"
      ]
    },
    {
      "cell_type": "code",
      "execution_count": null,
      "metadata": {
        "colab": {
          "base_uri": "https://localhost:8080/"
        },
        "id": "NSDe07bNEYvR",
        "outputId": "a1447b8d-047f-40ba-f8fd-f08223a70153"
      },
      "outputs": [],
      "source": [
        "# &\n",
        "\n",
        "a & b & c"
      ]
    },
    {
      "cell_type": "code",
      "execution_count": null,
      "metadata": {
        "colab": {
          "base_uri": "https://localhost:8080/"
        },
        "id": "MJBX3coMEeVt",
        "outputId": "61cdf90e-68bb-404a-908d-9030e7c412cb"
      },
      "outputs": [],
      "source": [
        "a = {1,2,3}\n",
        "b = [2,3,4]\n",
        "\n",
        "a.intersection(b)"
      ]
    },
    {
      "cell_type": "code",
      "execution_count": null,
      "metadata": {
        "colab": {
          "base_uri": "https://localhost:8080/",
          "height": 144
        },
        "id": "kBbSzeDzEjGi",
        "outputId": "45e05489-f0ac-4512-972f-d5ece74e9bf3"
      },
      "outputs": [],
      "source": [
        "a & b"
      ]
    },
    {
      "cell_type": "code",
      "execution_count": null,
      "metadata": {
        "colab": {
          "base_uri": "https://localhost:8080/"
        },
        "id": "Uz31fElQE458",
        "outputId": "bc9d72fa-0483-436f-d399-55f0a15da67b"
      },
      "outputs": [],
      "source": [
        "# update , union\n",
        "\n",
        "# intersection_update, intersection\n",
        "\n",
        "a = {1,2,3,4}\n",
        "b = {2,3,5,7}\n",
        "a.intersection(b)"
      ]
    },
    {
      "cell_type": "code",
      "execution_count": null,
      "metadata": {
        "colab": {
          "base_uri": "https://localhost:8080/"
        },
        "id": "x4x8Lg3nFgYi",
        "outputId": "aaa45a89-7a03-4e75-a894-b23e01d7540f"
      },
      "outputs": [],
      "source": [
        "print(a)"
      ]
    },
    {
      "cell_type": "code",
      "execution_count": null,
      "metadata": {
        "id": "BHnBfuKMFiR8"
      },
      "outputs": [],
      "source": [
        "a.intersection_update(b)"
      ]
    },
    {
      "cell_type": "code",
      "execution_count": null,
      "metadata": {
        "colab": {
          "base_uri": "https://localhost:8080/"
        },
        "id": "iH72z-b3Fmu8",
        "outputId": "9a8553d8-e43a-471b-eaf1-71a53eb94988"
      },
      "outputs": [],
      "source": [
        "a"
      ]
    },
    {
      "cell_type": "code",
      "execution_count": null,
      "metadata": {
        "id": "L3lpvM5sFznU"
      },
      "outputs": [],
      "source": [
        "a = {1,2,3,4}\n",
        "b = {2,3,5,7}\n",
        "\n",
        "a &= b\n",
        "\n",
        "# &= -> intersection_update\n",
        "# & -> intersection\n",
        "# | -> union\n",
        "# |= -> update"
      ]
    },
    {
      "cell_type": "code",
      "execution_count": null,
      "metadata": {
        "colab": {
          "base_uri": "https://localhost:8080/"
        },
        "id": "zhMH1u2IGG2D",
        "outputId": "7eb1752d-2a42-4baa-9013-6ddcd533bec0"
      },
      "outputs": [],
      "source": [
        "a"
      ]
    },
    {
      "cell_type": "code",
      "execution_count": null,
      "metadata": {
        "id": "sc9NdgJsGEpo"
      },
      "outputs": [],
      "source": [
        "a = {1,2,3,4}\n",
        "b = {2,3,5,7}\n",
        "\n",
        "a |= b"
      ]
    },
    {
      "cell_type": "code",
      "execution_count": null,
      "metadata": {
        "colab": {
          "base_uri": "https://localhost:8080/"
        },
        "id": "62vaE1tGF4lj",
        "outputId": "ffe9d9cd-192d-4d2f-95c4-a54f00ef6a93"
      },
      "outputs": [],
      "source": [
        "a"
      ]
    },
    {
      "cell_type": "code",
      "execution_count": null,
      "metadata": {
        "colab": {
          "base_uri": "https://localhost:8080/"
        },
        "id": "fsY9cRrHGQwb",
        "outputId": "3ed4ed7e-a7b2-480c-9dea-972bfebdb3dc"
      },
      "outputs": [],
      "source": [
        "# difference\n",
        "\n",
        "a = {1,2,3,4}\n",
        "b = {2,3,5,7}\n",
        "\n",
        "a.difference(b)"
      ]
    },
    {
      "cell_type": "code",
      "execution_count": null,
      "metadata": {
        "colab": {
          "base_uri": "https://localhost:8080/"
        },
        "id": "M34WtI41GqGv",
        "outputId": "e387abbb-7458-4baf-a982-4f8a0fd8ebf0"
      },
      "outputs": [],
      "source": [
        "a"
      ]
    },
    {
      "cell_type": "code",
      "execution_count": null,
      "metadata": {
        "colab": {
          "base_uri": "https://localhost:8080/"
        },
        "id": "bTWLnzpPGryF",
        "outputId": "8d8f7548-c0ec-48e4-c950-81a6a5601918"
      },
      "outputs": [],
      "source": [
        "a-b"
      ]
    },
    {
      "cell_type": "code",
      "execution_count": null,
      "metadata": {
        "colab": {
          "base_uri": "https://localhost:8080/"
        },
        "id": "CDGyUb3iGuAH",
        "outputId": "1f1c6ce5-c674-4750-8b9c-69b66ca76a12"
      },
      "outputs": [],
      "source": [
        "a"
      ]
    },
    {
      "cell_type": "code",
      "execution_count": null,
      "metadata": {
        "id": "iaK887awGvk4"
      },
      "outputs": [],
      "source": [
        "a.difference_update(b)"
      ]
    },
    {
      "cell_type": "code",
      "execution_count": null,
      "metadata": {
        "colab": {
          "base_uri": "https://localhost:8080/"
        },
        "id": "aGKUh1NYGy6L",
        "outputId": "b506794e-9593-489b-d630-8f69f8500756"
      },
      "outputs": [],
      "source": [
        "a"
      ]
    },
    {
      "cell_type": "code",
      "execution_count": null,
      "metadata": {
        "colab": {
          "base_uri": "https://localhost:8080/"
        },
        "id": "X2RixSRhG8cC",
        "outputId": "7db66bc4-0d2f-4ea8-93d1-fd13bf6ee0b7"
      },
      "outputs": [],
      "source": [
        "# -=  ---> difference_update\n",
        "\n",
        "a = {1,2,3,4}\n",
        "b = {2,3,5,7}\n",
        "a-=b\n",
        "print(a)"
      ]
    },
    {
      "cell_type": "code",
      "execution_count": null,
      "metadata": {
        "colab": {
          "base_uri": "https://localhost:8080/"
        },
        "id": "8XmWhpy0HJP_",
        "outputId": "229045b4-e826-4bf7-a726-f84fac55b259"
      },
      "outputs": [],
      "source": [
        "# symmetric_difference\n",
        "\n",
        "gate_da = {\"ML\", \"Python\", \"LA\", \"Calculus\", \"Aptitude\"}\n",
        "\n",
        "gate_cs = {\"OS\", \"C++\", \"LA\", \"Calculus\", \"Aptitude\"}\n",
        "\n",
        "gate_da.symmetric_difference(gate_cs)"
      ]
    },
    {
      "cell_type": "code",
      "execution_count": null,
      "metadata": {
        "colab": {
          "base_uri": "https://localhost:8080/"
        },
        "id": "8Ha3b90OH-Dv",
        "outputId": "6a1c35f7-cda2-4286-df1c-b21e5c39f52e"
      },
      "outputs": [],
      "source": [
        "# ^\n",
        "gate_da ^ gate_cs"
      ]
    },
    {
      "cell_type": "code",
      "execution_count": null,
      "metadata": {
        "id": "VyoRPyqaIFiQ"
      },
      "outputs": [],
      "source": [
        "gate_da.symmetric_difference_update(gate_cs)"
      ]
    },
    {
      "cell_type": "code",
      "execution_count": null,
      "metadata": {
        "colab": {
          "base_uri": "https://localhost:8080/"
        },
        "id": "8FhZJL3mIJzN",
        "outputId": "aa9f0236-e201-484b-b63e-63a3bfec7be0"
      },
      "outputs": [],
      "source": [
        "print(gate_da)\n",
        "print(gate_cs)"
      ]
    },
    {
      "cell_type": "code",
      "execution_count": null,
      "metadata": {
        "id": "29caaFBlIPWn"
      },
      "outputs": [],
      "source": [
        "# ^= ---> symmetric_difference_update"
      ]
    },
    {
      "cell_type": "code",
      "execution_count": null,
      "metadata": {
        "id": "7cuR4HzGITZ9"
      },
      "outputs": [],
      "source": [
        "a = {1,2,3,4,5,6}\n",
        "\n",
        "a.clear()"
      ]
    },
    {
      "cell_type": "code",
      "execution_count": null,
      "metadata": {
        "colab": {
          "base_uri": "https://localhost:8080/"
        },
        "id": "MonCMke4IbZ_",
        "outputId": "930ef599-3242-473c-b3d0-3dea2a6c2e6a"
      },
      "outputs": [],
      "source": [
        "a"
      ]
    },
    {
      "cell_type": "code",
      "execution_count": null,
      "metadata": {
        "id": "_OpNBEbvId1v"
      },
      "outputs": [],
      "source": [
        "a = {1,2,3,4,5,6}\n",
        "\n",
        "del a"
      ]
    },
    {
      "cell_type": "code",
      "execution_count": null,
      "metadata": {
        "colab": {
          "base_uri": "https://localhost:8080/",
          "height": 144
        },
        "id": "Yes14yIDIhr6",
        "outputId": "92f928af-55e5-48a7-87ce-ba66d60d421a"
      },
      "outputs": [],
      "source": [
        "a"
      ]
    },
    {
      "cell_type": "code",
      "execution_count": null,
      "metadata": {
        "id": "vo-iXaRTIl-U"
      },
      "outputs": [],
      "source": [
        "a = {1,2,3,5}\n",
        "b = a.copy()"
      ]
    },
    {
      "cell_type": "code",
      "execution_count": null,
      "metadata": {
        "colab": {
          "base_uri": "https://localhost:8080/"
        },
        "id": "Mh3SMnkuIyAV",
        "outputId": "1edeca31-de6a-48d9-c2c4-a30582946be3"
      },
      "outputs": [],
      "source": [
        "# isdisjoint\n",
        "\n",
        "a = {1,2,3,4}\n",
        "b = {2,3,5,7}\n",
        "\n",
        "a.isdisjoint(b)"
      ]
    },
    {
      "cell_type": "code",
      "execution_count": null,
      "metadata": {
        "colab": {
          "base_uri": "https://localhost:8080/"
        },
        "id": "WUAoYiU-JCUU",
        "outputId": "ad3942a9-98d3-4454-ac1f-d56b31373198"
      },
      "outputs": [],
      "source": [
        "a = {1,2,3,4}\n",
        "b = {10,15,5,7}\n",
        "\n",
        "a.isdisjoint(b)"
      ]
    },
    {
      "cell_type": "code",
      "execution_count": null,
      "metadata": {
        "colab": {
          "base_uri": "https://localhost:8080/"
        },
        "id": "CVvk7RHDJSFq",
        "outputId": "fe77820f-1fa9-468a-a9c3-cca4378100bc"
      },
      "outputs": [],
      "source": [
        "# issuperset\n",
        "\n",
        "a = {1,2,3,4}\n",
        "b ={2,3,5,7}\n",
        "\n",
        "a.issuperset(b)"
      ]
    },
    {
      "cell_type": "code",
      "execution_count": null,
      "metadata": {
        "colab": {
          "base_uri": "https://localhost:8080/"
        },
        "id": "BLIWPoXPJhCn",
        "outputId": "bf20e4b6-dba5-4b59-f8ed-6c36f2d9811c"
      },
      "outputs": [],
      "source": [
        "a = {1,2,3,4,5,7,8}\n",
        "b ={2,3,5,7}\n",
        "\n",
        "a.issuperset(b)"
      ]
    },
    {
      "cell_type": "code",
      "execution_count": null,
      "metadata": {
        "colab": {
          "base_uri": "https://localhost:8080/"
        },
        "id": "l6vUN-jXJmis",
        "outputId": "53cceb9c-e613-444e-f70b-b62f3610cff7"
      },
      "outputs": [],
      "source": [
        "b.issuperset(a)"
      ]
    },
    {
      "cell_type": "code",
      "execution_count": null,
      "metadata": {
        "colab": {
          "base_uri": "https://localhost:8080/"
        },
        "id": "LYuIg7xBJueK",
        "outputId": "642a728c-0084-4e4c-f4bd-13d6f98121c3"
      },
      "outputs": [],
      "source": [
        "# subset\n",
        "\n",
        "a = {1,2,3,5}\n",
        "b = {1,2}\n",
        "\n",
        "a.issubset(b)"
      ]
    },
    {
      "cell_type": "code",
      "execution_count": null,
      "metadata": {
        "colab": {
          "base_uri": "https://localhost:8080/"
        },
        "id": "LSf9j9HTJ7tO",
        "outputId": "fabb8707-f809-47a9-fa0d-d12e60304f19"
      },
      "outputs": [],
      "source": [
        "a = {1,2,3,5}\n",
        "b = {1,2}\n",
        "\n",
        "b.issubset(a)"
      ]
    },
    {
      "cell_type": "markdown",
      "metadata": {
        "id": "AkMdgADVKuOk"
      },
      "source": [
        "### **Frozen Sets**"
      ]
    },
    {
      "cell_type": "code",
      "execution_count": null,
      "metadata": {
        "colab": {
          "base_uri": "https://localhost:8080/"
        },
        "id": "eQ_FZaxOKwFX",
        "outputId": "7ac046be-4bac-42d0-ad06-dd0437a31e9b"
      },
      "outputs": [],
      "source": [
        "f = frozenset([])\n",
        "print(f)\n",
        "print(type(f))"
      ]
    },
    {
      "cell_type": "code",
      "execution_count": null,
      "metadata": {
        "colab": {
          "base_uri": "https://localhost:8080/"
        },
        "id": "CAFREPclK1aC",
        "outputId": "0fd169d2-4a20-4b02-8f94-a59ac01e79a7"
      },
      "outputs": [],
      "source": [
        "f = frozenset([10,20,30,1,True,0,False])\n",
        "print(f)\n",
        "print(type(f))"
      ]
    },
    {
      "cell_type": "code",
      "execution_count": null,
      "metadata": {
        "colab": {
          "base_uri": "https://localhost:8080/",
          "height": 144
        },
        "id": "YI_BwSXYLCD_",
        "outputId": "670810c2-737b-4cd3-93c2-64799395b621"
      },
      "outputs": [],
      "source": [
        "f.add(12)"
      ]
    },
    {
      "cell_type": "code",
      "execution_count": null,
      "metadata": {
        "colab": {
          "base_uri": "https://localhost:8080/",
          "height": 144
        },
        "id": "nzSjNRCGLEOx",
        "outputId": "5ccd30e0-eec7-4adc-ea65-a577dcbf2b39"
      },
      "outputs": [],
      "source": [
        "f.remove(10)"
      ]
    },
    {
      "cell_type": "code",
      "execution_count": null,
      "metadata": {
        "id": "UG1o4hAgLHDT"
      },
      "outputs": [],
      "source": [
        "# UNION\n",
        "# INTERSECTION\n",
        "# DIFFERENCE\n",
        "# SYMMETRIC_DIFFERENCE\n",
        "# COPY"
      ]
    },
    {
      "cell_type": "code",
      "execution_count": null,
      "metadata": {
        "colab": {
          "base_uri": "https://localhost:8080/"
        },
        "id": "UJALClJCLmb9",
        "outputId": "0c9728a8-b4f5-4e5d-c64f-cc85a1359241"
      },
      "outputs": [],
      "source": [
        "f1 = frozenset([10,20,30,1,True,0,False])\n",
        "f2 = frozenset([100,200])\n",
        "f1.union(f2)"
      ]
    },
    {
      "cell_type": "code",
      "execution_count": null,
      "metadata": {
        "colab": {
          "base_uri": "https://localhost:8080/"
        },
        "id": "j7INRan-L94C",
        "outputId": "54faf75a-3732-41ff-cff3-e394dd44dc2e"
      },
      "outputs": [],
      "source": [
        "f1 | f2"
      ]
    }
  ],
  "metadata": {
    "colab": {
      "provenance": []
    },
    "kernelspec": {
      "display_name": "Python 3",
      "name": "python3"
    },
    "language_info": {
      "name": "python",
      "version": "3.12.4"
    }
  },
  "nbformat": 4,
  "nbformat_minor": 0
}
