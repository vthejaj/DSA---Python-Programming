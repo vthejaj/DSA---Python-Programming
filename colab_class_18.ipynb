{
  "cells": [
    {
      "cell_type": "markdown",
      "metadata": {
        "id": "VItPDPUupr12"
      },
      "source": [
        "**Agenda**\n",
        "\n",
        "1. Functions (Examples)\n",
        "2. Global Variables vs Local Variables\n",
        "3. Nested Functions\n",
        "4. nonlocal variables\n",
        "5. Higher-Order Functions\n",
        "6. Anonymous Functions"
      ]
    },
    {
      "cell_type": "code",
      "execution_count": null,
      "metadata": {
        "colab": {
          "base_uri": "https://localhost:8080/",
          "height": 198
        },
        "id": "UUgk_GRu1roM",
        "outputId": "a595de46-bc59-4a0a-d144-8ff5e0204b87"
      },
      "outputs": [],
      "source": [
        "# Global variables vs Local Variables\n",
        "\n",
        "def func_a():\n",
        "  # local_variable\n",
        "  a = 100\n",
        "  print(\"Local Variable - a: \", a)\n",
        "\n",
        "func_a()\n",
        "print(\"Access Local Variable - a from outside the function: \", a)"
      ]
    },
    {
      "cell_type": "code",
      "execution_count": null,
      "metadata": {
        "colab": {
          "base_uri": "https://localhost:8080/"
        },
        "id": "_NCR7iRp27rR",
        "outputId": "1954e180-bd2a-4737-fccb-f498274e104e"
      },
      "outputs": [],
      "source": [
        "# global variable\n",
        "\n",
        "b = 100 # global variable\n",
        "\n",
        "def func_b():\n",
        "  print(\"Access Global Variable -b Inside Function: \", b)\n",
        "\n",
        "func_b()\n",
        "print(\"Access Global Variable - b Outside Function: \", b)\n",
        "\n",
        "def func_new():\n",
        "  print(\"Accessing b: \", b)\n",
        "\n",
        "func_new()"
      ]
    },
    {
      "cell_type": "code",
      "execution_count": null,
      "metadata": {
        "colab": {
          "base_uri": "https://localhost:8080/"
        },
        "id": "8M47AGIM3-gM",
        "outputId": "886eb103-8c51-4e0e-8abf-b6c4d765c570"
      },
      "outputs": [],
      "source": [
        "# global variable vs local variable\n",
        "\n",
        "def func_c():\n",
        "  c = 200 # treated as local variable\n",
        "  print(\"What will get printed: \",c)\n",
        "\n",
        "c = 1000\n",
        "print(\"Global Variable c : \", c)\n",
        "func_c()\n",
        "print(\"Global Variable c: \", c)"
      ]
    },
    {
      "cell_type": "code",
      "execution_count": null,
      "metadata": {
        "colab": {
          "base_uri": "https://localhost:8080/",
          "height": 359
        },
        "id": "QS6f8zVq4hwB",
        "outputId": "b15eda9e-e793-41da-aa68-cde7e46d5f10"
      },
      "outputs": [],
      "source": [
        "# purpose of \"global\" keyword\n",
        "\n",
        "def func_d():\n",
        "  print(\"Global Variable d : \", d)\n",
        "  d += 500\n",
        "  print(\"Changing d inside the function: \",d)\n",
        "\n",
        "d = 1000\n",
        "print(\"Initializing d: -->\", d)\n",
        "d += 500\n",
        "print(\"Modifying d: -->\", d)\n",
        "func_d()\n",
        "print(\"Outside function, d changed to : \", d)"
      ]
    },
    {
      "cell_type": "code",
      "execution_count": null,
      "metadata": {
        "colab": {
          "base_uri": "https://localhost:8080/"
        },
        "id": "mpbNUhA35SpM",
        "outputId": "e8c5d4bd-5919-497c-f7c4-3fd65a8aa8a9"
      },
      "outputs": [],
      "source": [
        "def func_d(d):\n",
        "  print(\"Global Variable d : \", d)\n",
        "  d += 500\n",
        "  print(\"Changing d inside the function: \",d)\n",
        "\n",
        "d = 1000\n",
        "print(\"Initializing d: -->\", d)\n",
        "d += 500\n",
        "print(\"Modifying d: -->\", d)\n",
        "func_d(d)\n",
        "print(\"Outside function, d changed to : \", d)"
      ]
    },
    {
      "cell_type": "code",
      "execution_count": null,
      "metadata": {
        "colab": {
          "base_uri": "https://localhost:8080/"
        },
        "id": "xfOqY5R66BFH",
        "outputId": "d5f7ad14-343f-403b-84d1-bd02e0896f28"
      },
      "outputs": [],
      "source": [
        "def func_d():\n",
        "  global d\n",
        "  print(\"Global Variable d : \", d)\n",
        "  d += 500\n",
        "  print(\"Changing d inside the function: \",d)\n",
        "\n",
        "d = 1000\n",
        "print(\"Initializing d: -->\", d)\n",
        "d += 500\n",
        "print(\"Modifying d: -->\", d)\n",
        "func_d()\n",
        "print(\"Outside function, d changed to : \", d)\n"
      ]
    },
    {
      "cell_type": "code",
      "execution_count": null,
      "metadata": {
        "colab": {
          "base_uri": "https://localhost:8080/",
          "height": 359
        },
        "id": "pl19tFye6Xmt",
        "outputId": "eb6c1ea1-c12c-47a5-9e2f-6b6604bff1fb"
      },
      "outputs": [],
      "source": [
        "def func_d():\n",
        "  print(\"Global Variable d : \", d)\n",
        "  d += 500\n",
        "  print(\"Changing d inside the function: \",d)\n",
        "\n",
        "d = 1000\n",
        "print(\"Initializing d: -->\", d)\n",
        "d += 500\n",
        "print(\"Modifying d: -->\", d)\n",
        "func_d()\n",
        "print(\"Outside function, d changed to : \", d)"
      ]
    },
    {
      "cell_type": "code",
      "execution_count": null,
      "metadata": {
        "colab": {
          "base_uri": "https://localhost:8080/"
        },
        "id": "iEcP7gQz6cfu",
        "outputId": "2d8b8fa1-e829-483b-e5c5-e30a3cdce2ac"
      },
      "outputs": [],
      "source": [
        "def func_d():\n",
        "  d = 1500\n",
        "  print(\"Local Variable d : \", d)\n",
        "  d += 500\n",
        "  print(\"Changing d inside the function: \",d)\n",
        "\n",
        "d = 1000\n",
        "print(\"Initializing d: -->\", d)\n",
        "d += 500\n",
        "print(\"Modifying d: -->\", d)\n",
        "func_d()\n",
        "print(\"Outside function, d changed to : \", d)"
      ]
    },
    {
      "cell_type": "code",
      "execution_count": null,
      "metadata": {
        "colab": {
          "base_uri": "https://localhost:8080/"
        },
        "id": "1kptboN08XB6",
        "outputId": "7337f2c2-aa3c-4f13-bddb-dfeea67dc5a8"
      },
      "outputs": [],
      "source": [
        "def func_d():\n",
        "  e = d + 500\n",
        "  print(\"Changing d inside the function: \",d)\n",
        "  print(\"Creating a new variable e: \", e)\n",
        "\n",
        "d = 1000\n",
        "print(\"Initializing d: -->\", d)\n",
        "d += 500\n",
        "print(\"Modifying d: -->\", d)\n",
        "func_d()\n",
        "print(\"Outside function, d changed to : \", d)"
      ]
    },
    {
      "cell_type": "code",
      "execution_count": null,
      "metadata": {
        "colab": {
          "base_uri": "https://localhost:8080/"
        },
        "id": "rwJaYiQH8Sfd",
        "outputId": "5daaecc5-c009-40d4-d7c5-54426993c0c8"
      },
      "outputs": [],
      "source": [
        "# nested functions\n",
        "\n",
        "def func_outer():\n",
        "  # code block - outer func\n",
        "  x = 1000\n",
        "  y = 2000\n",
        "  def func_inner():\n",
        "    print(\"Accessing outer func variables: x -> {}, y ->{}\".format(x,y))\n",
        "  func_inner()\n",
        "\n",
        "func_outer()"
      ]
    },
    {
      "cell_type": "code",
      "execution_count": null,
      "metadata": {
        "id": "U6nMkx869c_i"
      },
      "outputs": [],
      "source": [
        "def func_outer():\n",
        "  # code block - outer func\n",
        "  x = 1000\n",
        "  y = 2000\n",
        "  def func_inner():\n",
        "    print(\"Accessing outer func variables: x -> {}, y ->{}\".format(x,y))\n",
        "\n",
        "func_outer()"
      ]
    },
    {
      "cell_type": "code",
      "execution_count": null,
      "metadata": {
        "colab": {
          "base_uri": "https://localhost:8080/",
          "height": 329
        },
        "id": "mB9PJfpI93YZ",
        "outputId": "03113671-23eb-4a6f-d935-4ae8c48cebb8"
      },
      "outputs": [],
      "source": [
        "def func_outer():\n",
        "  # code block - outer func\n",
        "  x = 1000\n",
        "  y = 2000\n",
        "  def func_inner():\n",
        "    x += 10000\n",
        "    print(\"Accessing outer func variables: x -> {}, y ->{}\".format(x,y))\n",
        "  func_inner()\n",
        "\n",
        "func_outer()"
      ]
    },
    {
      "cell_type": "code",
      "execution_count": null,
      "metadata": {
        "colab": {
          "base_uri": "https://localhost:8080/"
        },
        "id": "2v_PSlw_-KW3",
        "outputId": "c87bf15f-1ab4-49f7-c34f-9045137928ab"
      },
      "outputs": [],
      "source": [
        "def func_outer():\n",
        "  # code block - outer func\n",
        "  x = 1000\n",
        "  y = 2000\n",
        "  def func_inner():\n",
        "    global x\n",
        "    x = 5000\n",
        "    x += 10000\n",
        "    print(\"Inner func: x -> {}, y ->{}\".format(x,y))\n",
        "  func_inner()\n",
        "  print(\"Outer Func: x-->\", x)\n",
        "\n",
        "func_outer()\n",
        "print(\"x outside the outer/main function : x ->\", x)"
      ]
    },
    {
      "cell_type": "code",
      "execution_count": null,
      "metadata": {
        "colab": {
          "base_uri": "https://localhost:8080/"
        },
        "id": "dmaFmJVc_lJQ",
        "outputId": "caa91227-c396-4ef8-dfd1-8a2d87ef94fe"
      },
      "outputs": [],
      "source": [
        "def func_outer():\n",
        "  # code block - outer func\n",
        "  global x\n",
        "  x = 1000\n",
        "  y = 2000\n",
        "  def func_inner():\n",
        "    global x\n",
        "    x = 5000\n",
        "    x += 10000\n",
        "    print(\"Inner func: x -> {}, y ->{}\".format(x,y))\n",
        "  func_inner()\n",
        "  print(\"Outer Func: x-->\", x)\n",
        "\n",
        "func_outer()\n",
        "print(\"x outside the outer/main function : x ->\", x)"
      ]
    },
    {
      "cell_type": "code",
      "execution_count": null,
      "metadata": {
        "colab": {
          "base_uri": "https://localhost:8080/"
        },
        "id": "lvFpYefD_60r",
        "outputId": "d78b6e25-9fc2-453b-b6bd-c12ad5ca6614"
      },
      "outputs": [],
      "source": [
        "def outer():\n",
        "  v = 500 # local variable\n",
        "  def inner():\n",
        "    global rohit\n",
        "    rohit = 92\n",
        "    print(v) # you can access the outer function local variable from inner function\n",
        "  inner()\n",
        "  print(\"outer func, rohit: \", rohit)\n",
        "\n",
        "outer()\n",
        "print(rohit)"
      ]
    },
    {
      "cell_type": "code",
      "execution_count": null,
      "metadata": {
        "colab": {
          "base_uri": "https://localhost:8080/",
          "height": 180
        },
        "id": "xisQpxfrApnG",
        "outputId": "30c3f749-6c39-4377-f0ee-6b7880e2798a"
      },
      "outputs": [],
      "source": [
        "def func_outer():\n",
        "  # code block - outer func\n",
        "  global x\n",
        "  x = 1000\n",
        "  y = 2000\n",
        "  def func_inner():\n",
        "    global x\n",
        "    x = 5000\n",
        "    x += 10000\n",
        "    print(\"Inner func: x -> {}, y ->{}\".format(x,y))\n",
        "  func_inner()\n",
        "  print(\"Outer Func: x-->\", x)\n",
        "\n",
        "func_inner()"
      ]
    },
    {
      "cell_type": "code",
      "execution_count": null,
      "metadata": {
        "colab": {
          "base_uri": "https://localhost:8080/",
          "height": 216
        },
        "id": "0WnmxT7RBCva",
        "outputId": "a091010a-d694-499f-8756-39ab4a80a8cd"
      },
      "outputs": [],
      "source": [
        "def func_outer():\n",
        "  # code block - outer func\n",
        "  v1 = 1000 # local variable\n",
        "  def func_inner(v1):\n",
        "    v1 += 10000\n",
        "    print(\"Inner func: v1 -> {}\".format(v1))\n",
        "  func_inner(v1)\n",
        "  print(\"Outer Func: v1-->\", v1) # v1 -> 11000\n",
        "\n",
        "func_outer()\n",
        "print(\"v1 outside the outer/main function : v1 ->\", v1)"
      ]
    },
    {
      "cell_type": "code",
      "execution_count": null,
      "metadata": {
        "colab": {
          "base_uri": "https://localhost:8080/",
          "height": 216
        },
        "id": "3KelGqYSCNvk",
        "outputId": "11706d01-69cd-4837-e0a9-d65ca3f35463"
      },
      "outputs": [],
      "source": [
        "# use of \"nonlocal\" keyword comes into picture\n",
        "\n",
        "def func_outer():\n",
        "  # code block - outer func\n",
        "  v1 = 1000 # local variable to outer function\n",
        "  def func_inner():\n",
        "    nonlocal v1 # local variable to inner function\n",
        "    v1 += 1000\n",
        "    print(\"Inner func: v1 -> {}\".format(v1))\n",
        "  func_inner()\n",
        "  print(\"Outer Func: v1-->\", v1) # v1 -> 2000\n",
        "\n",
        "func_outer()\n",
        "print(\"in main code: v1-->\",v1)"
      ]
    },
    {
      "cell_type": "code",
      "execution_count": null,
      "metadata": {
        "colab": {
          "base_uri": "https://localhost:8080/",
          "height": 216
        },
        "id": "lB3B3-DZF3e-",
        "outputId": "209ed8db-4729-4193-80a0-97edf6153596"
      },
      "outputs": [],
      "source": [
        "def func_outer():\n",
        "  # code block - outer func\n",
        "  v1 = 1000 # local variable to outer function\n",
        "  def func_inner():\n",
        "    # local variable to inner function\n",
        "    v1 = 1000\n",
        "    v1 += 1000\n",
        "    print(\"Inner func: v1 -> {}\".format(v1))\n",
        "  func_inner()\n",
        "  print(\"Outer Func: v1-->\", v1) # v1 -> 2000\n",
        "\n",
        "func_outer()\n",
        "print(\"main code: v1-->\", v1)"
      ]
    },
    {
      "cell_type": "code",
      "execution_count": null,
      "metadata": {
        "colab": {
          "base_uri": "https://localhost:8080/"
        },
        "id": "C1J8vn2-GM0p",
        "outputId": "4eedac45-a885-4a00-d551-e5c8598ce3bf"
      },
      "outputs": [],
      "source": [
        "def func_outer():\n",
        "  # code block - outer func\n",
        "  v1 = 1000 # local variable to outer function\n",
        "  def func_inner():\n",
        "    # local variable to inner function\n",
        "    global v1\n",
        "    v1 = 5000\n",
        "    v1 += 1000\n",
        "    print(\"Inner func: v1 -> {}\".format(v1))\n",
        "  func_inner()\n",
        "  print(\"Outer Func: v1-->\", v1) # v1 -> 2000\n",
        "\n",
        "func_outer()\n",
        "print(\"main code: v1-->\", v1)"
      ]
    },
    {
      "cell_type": "code",
      "execution_count": null,
      "metadata": {
        "colab": {
          "base_uri": "https://localhost:8080/",
          "height": 216
        },
        "id": "HVgkQ75BGeRr",
        "outputId": "3e1d239b-2554-4c0c-aeac-7b6b46a4670a"
      },
      "outputs": [],
      "source": [
        "def func_outer():\n",
        "  # code block - outer func\n",
        "  v2 = 1000 # local variable to outer function\n",
        "  def func_inner():\n",
        "    # local variable to inner function\n",
        "    nonlocal v2\n",
        "    v2 += 1000\n",
        "    print(\"Inner func: v2 -> {}\".format(v2))\n",
        "  func_inner()\n",
        "  print(\"Outer Func: v2-->\", v2) # v1 -> 2000\n",
        "\n",
        "func_outer()\n",
        "print(\"main code: v1-->\", v2)"
      ]
    },
    {
      "cell_type": "code",
      "execution_count": null,
      "metadata": {
        "colab": {
          "base_uri": "https://localhost:8080/",
          "height": 109
        },
        "id": "Va2l11B6I3cN",
        "outputId": "54ec00bb-c0c7-457c-875f-d9b060de6273"
      },
      "outputs": [],
      "source": [
        "def func_outer():\n",
        "  # code block - outer func\n",
        "  v2 = 1000 # local variable to outer function\n",
        "  def func_inner():\n",
        "    # local variable to inner function\n",
        "    nonlocal v3\n",
        "    v2 += 1000\n",
        "    print(\"Inner func: v2 -> {}\".format(v2))\n",
        "  func_inner()\n",
        "  print(\"Outer Func: v2-->\", v2) # v1 -> 2000\n",
        "\n",
        "func_outer()\n",
        "print(\"main code: v1-->\", v2)"
      ]
    },
    {
      "cell_type": "code",
      "execution_count": null,
      "metadata": {
        "colab": {
          "base_uri": "https://localhost:8080/"
        },
        "id": "NMC2xOuEJF9S",
        "outputId": "18c3e18e-5f6c-4552-d979-a640accdb8f8"
      },
      "outputs": [],
      "source": [
        "def func_outer():\n",
        "  # code block - outer func\n",
        "  v2 = 1000 # local variable to outer function\n",
        "  def func_inner():\n",
        "    # local variable to inner function\n",
        "    v2 = 5000 # local variable to inner function\n",
        "    print(\"Inner func: v2 -> {}\".format(v2))\n",
        "    def func_insideInner():\n",
        "      nonlocal v2\n",
        "      print(\"Func inside inner: -->\",v2)\n",
        "    func_insideInner()\n",
        "\n",
        "  func_inner()\n",
        "  print(\"Outer Func: v2-->\", v2) # v1 -> 2000\n",
        "\n",
        "func_outer()"
      ]
    },
    {
      "cell_type": "code",
      "execution_count": null,
      "metadata": {
        "colab": {
          "base_uri": "https://localhost:8080/",
          "height": 341
        },
        "id": "LtUIAAHOJ19V",
        "outputId": "caedc6f5-33d8-4ac4-e6c5-163b8cd3a722"
      },
      "outputs": [],
      "source": [
        "def func_outer():\n",
        "  # code block - outer func\n",
        "  v2 = 1000 # local variable to outer function\n",
        "  def func_inner():\n",
        "    # local variable to inner function\n",
        "    v2 = 5000 # local variable to inner function\n",
        "    print(\"Inner func: v2 -> {}\".format(v2))\n",
        "    def func_insideInner():\n",
        "      nonlocal v2\n",
        "      print(\"Func inside inner: -->\",v2)\n",
        "    func_insideInner()\n",
        "\n",
        "  func_inner()\n",
        "  func_insideInner()\n",
        "  print(\"Outer Func: v2-->\", v2) # v1 -> 2000\n",
        "\n",
        "func_outer()"
      ]
    },
    {
      "cell_type": "code",
      "execution_count": null,
      "metadata": {
        "colab": {
          "base_uri": "https://localhost:8080/"
        },
        "id": "fcejoj5SKvDM",
        "outputId": "5b576272-aca8-46e6-df27-fbf4dc54caf2"
      },
      "outputs": [],
      "source": [
        "def calculator(a,b):\n",
        "  print(\"Calculations is printed below: \")\n",
        "  def add(a,b):\n",
        "    print(\"a+b: -->\",a+b)\n",
        "\n",
        "  def sub(a,b):\n",
        "    print(\"a-b: -->\",a-b)\n",
        "\n",
        "  add(a,b)\n",
        "  sub(a,b)\n",
        "\n",
        "  global expose_add_func\n",
        "  expose_add_func = add\n",
        "  global expose_sub_func\n",
        "  expose_sub_func = sub\n",
        "\n",
        "calculator(5,10)"
      ]
    },
    {
      "cell_type": "code",
      "execution_count": null,
      "metadata": {
        "id": "-Mfo1VPKL-xO"
      },
      "outputs": [],
      "source": [
        "def calculator(a,b):\n",
        "  print(\"Calculations is printed below: \")\n",
        "  def add(a,b):\n",
        "    print(\"a+b: -->\",a+b)\n",
        "\n",
        "  def sub(a,b):\n",
        "    print(\"a-b: -->\",a-b)\n",
        "\n",
        "  return add"
      ]
    },
    {
      "cell_type": "code",
      "execution_count": null,
      "metadata": {
        "colab": {
          "base_uri": "https://localhost:8080/"
        },
        "id": "JQVUll7SLIKd",
        "outputId": "a5e25cac-c83a-4751-b4ac-3039d0d4e207"
      },
      "outputs": [],
      "source": [
        "add_fun = calculator(10,15)"
      ]
    },
    {
      "cell_type": "code",
      "execution_count": null,
      "metadata": {
        "colab": {
          "base_uri": "https://localhost:8080/"
        },
        "id": "3Y_iuUYLMOLv",
        "outputId": "1ba4418b-8725-4d72-c00a-6c62d32949b3"
      },
      "outputs": [],
      "source": [
        "add_fun(12,24)"
      ]
    },
    {
      "cell_type": "code",
      "execution_count": null,
      "metadata": {
        "colab": {
          "base_uri": "https://localhost:8080/"
        },
        "id": "IB4pqNldKeOc",
        "outputId": "d00cba68-bea7-445b-a870-31721012c732"
      },
      "outputs": [],
      "source": [
        "# higher order function\n",
        "\n",
        "def calculate(a,b, *operation):\n",
        "  print(operation)\n",
        "  return operation[0](a,b), operation[1](a,b), operation[2](a,b)\n",
        "\n",
        "def add(a,b):\n",
        "  return a+b\n",
        "\n",
        "def sub(a,b):\n",
        "  return a-b\n",
        "\n",
        "def multiply(a,b):\n",
        "  return a*b\n",
        "\n",
        "calculate(10,15,sub, add, multiply, c)\n"
      ]
    }
  ],
  "metadata": {
    "colab": {
      "provenance": []
    },
    "kernelspec": {
      "display_name": "Python 3",
      "name": "python3"
    },
    "language_info": {
      "name": "python",
      "version": "3.12.4"
    }
  },
  "nbformat": 4,
  "nbformat_minor": 0
}
