{
  "nbformat": 4,
  "nbformat_minor": 0,
  "metadata": {
    "colab": {
      "provenance": []
    },
    "kernelspec": {
      "name": "python3",
      "display_name": "Python 3"
    },
    "language_info": {
      "name": "python"
    }
  },
  "cells": [
    {
      "cell_type": "markdown",
      "source": [
        "### **Lambda Functions**"
      ],
      "metadata": {
        "id": "HWflC4sahOv8"
      }
    },
    {
      "cell_type": "code",
      "execution_count": 1,
      "metadata": {
        "id": "KHsp1PEJd-Be"
      },
      "outputs": [],
      "source": [
        "def normalFunc(x):\n",
        "  # squaring the number\n",
        "  return x**2"
      ]
    },
    {
      "cell_type": "code",
      "source": [
        "normalFunc(12)"
      ],
      "metadata": {
        "colab": {
          "base_uri": "https://localhost:8080/"
        },
        "id": "GuF-76qThcwF",
        "outputId": "b3d9e1aa-f4a1-4b8a-e4b4-2288f8bdea73"
      },
      "execution_count": 2,
      "outputs": [
        {
          "output_type": "execute_result",
          "data": {
            "text/plain": [
              "144"
            ]
          },
          "metadata": {},
          "execution_count": 2
        }
      ]
    },
    {
      "cell_type": "code",
      "source": [
        "type(normalFunc)"
      ],
      "metadata": {
        "colab": {
          "base_uri": "https://localhost:8080/"
        },
        "id": "vbDbZz7Uhpwz",
        "outputId": "4f16193f-381e-41ba-e7a6-b49b123abdc9"
      },
      "execution_count": 3,
      "outputs": [
        {
          "output_type": "execute_result",
          "data": {
            "text/plain": [
              "function"
            ]
          },
          "metadata": {},
          "execution_count": 3
        }
      ]
    },
    {
      "cell_type": "code",
      "source": [
        "lambda x: x**2"
      ],
      "metadata": {
        "colab": {
          "base_uri": "https://localhost:8080/"
        },
        "id": "CFpGHcnTiROv",
        "outputId": "3f72081c-0736-41d9-da12-80b3791fa675"
      },
      "execution_count": 4,
      "outputs": [
        {
          "output_type": "execute_result",
          "data": {
            "text/plain": [
              "<function __main__.<lambda>(x)>"
            ]
          },
          "metadata": {},
          "execution_count": 4
        }
      ]
    },
    {
      "cell_type": "code",
      "source": [
        "a = lambda x: x**2"
      ],
      "metadata": {
        "id": "QuX8biJUiaGo"
      },
      "execution_count": 6,
      "outputs": []
    },
    {
      "cell_type": "code",
      "source": [
        "type(a)"
      ],
      "metadata": {
        "colab": {
          "base_uri": "https://localhost:8080/"
        },
        "id": "4FyG5q8vinXL",
        "outputId": "f59514ac-ade0-4cf2-fa95-ec89d9daa64f"
      },
      "execution_count": 7,
      "outputs": [
        {
          "output_type": "execute_result",
          "data": {
            "text/plain": [
              "function"
            ]
          },
          "metadata": {},
          "execution_count": 7
        }
      ]
    },
    {
      "cell_type": "code",
      "source": [
        "a(12)"
      ],
      "metadata": {
        "colab": {
          "base_uri": "https://localhost:8080/"
        },
        "id": "7lc17Wdjiwgf",
        "outputId": "e6fc6718-b736-4c86-812c-1e4971f589bf"
      },
      "execution_count": 8,
      "outputs": [
        {
          "output_type": "execute_result",
          "data": {
            "text/plain": [
              "144"
            ]
          },
          "metadata": {},
          "execution_count": 8
        }
      ]
    },
    {
      "cell_type": "code",
      "source": [
        "a = normalFunc(12)\n",
        "print(a)\n",
        "print(type(a))\n",
        "b = lambda x: x**2\n",
        "print(b)\n",
        "print(type(b))"
      ],
      "metadata": {
        "colab": {
          "base_uri": "https://localhost:8080/"
        },
        "id": "KHVXzICiizfh",
        "outputId": "f46fae3d-b6dc-4e55-c9b2-63cc0c413112"
      },
      "execution_count": 9,
      "outputs": [
        {
          "output_type": "stream",
          "name": "stdout",
          "text": [
            "144\n",
            "<class 'int'>\n",
            "<function <lambda> at 0x7e5ed62460e0>\n",
            "<class 'function'>\n"
          ]
        }
      ]
    },
    {
      "cell_type": "code",
      "source": [
        "a = normalFunc\n",
        "\n",
        "print(a)\n",
        "print(type(a))"
      ],
      "metadata": {
        "colab": {
          "base_uri": "https://localhost:8080/"
        },
        "id": "xpWO5_GjjSEW",
        "outputId": "09f4dac2-e6a9-43e0-9980-e305a10b3e55"
      },
      "execution_count": 10,
      "outputs": [
        {
          "output_type": "stream",
          "name": "stdout",
          "text": [
            "<function normalFunc at 0x7e5ef29c3b50>\n",
            "<class 'function'>\n"
          ]
        }
      ]
    },
    {
      "cell_type": "code",
      "source": [
        "# lambda functions can take any number of arguments\n",
        "\n",
        "summing = lambda a,b: a+b\n",
        "sub = lambda a,b: a-b\n",
        "\n",
        "four_arg_func = lambda a,b,c,d: a+b-c*d\n",
        "\n"
      ],
      "metadata": {
        "id": "taiPokSukGy0"
      },
      "execution_count": 14,
      "outputs": []
    },
    {
      "cell_type": "code",
      "source": [
        "summing(10,20)"
      ],
      "metadata": {
        "colab": {
          "base_uri": "https://localhost:8080/"
        },
        "id": "-hANSkvtkYjM",
        "outputId": "f34caf3d-7c14-447d-b6d7-6b97a519a463"
      },
      "execution_count": 13,
      "outputs": [
        {
          "output_type": "execute_result",
          "data": {
            "text/plain": [
              "30"
            ]
          },
          "metadata": {},
          "execution_count": 13
        }
      ]
    },
    {
      "cell_type": "code",
      "source": [
        "four_arg_func(12,5,8,10)"
      ],
      "metadata": {
        "colab": {
          "base_uri": "https://localhost:8080/"
        },
        "id": "nWrk0vE3ke8f",
        "outputId": "74d53f0f-fc93-4863-98d9-11f90b4009d9"
      },
      "execution_count": 15,
      "outputs": [
        {
          "output_type": "execute_result",
          "data": {
            "text/plain": [
              "-63"
            ]
          },
          "metadata": {},
          "execution_count": 15
        }
      ]
    },
    {
      "cell_type": "code",
      "source": [
        "def add10(x):\n",
        "  return x+10\n",
        "\n",
        "def sum(a):\n",
        "  return add10(a)"
      ],
      "metadata": {
        "id": "kjwLAxislI_9"
      },
      "execution_count": 17,
      "outputs": []
    },
    {
      "cell_type": "code",
      "source": [
        "sum(10)"
      ],
      "metadata": {
        "colab": {
          "base_uri": "https://localhost:8080/"
        },
        "id": "CVUo37vZlogl",
        "outputId": "4ffd38fe-5417-40e4-89be-320d8358d2d5"
      },
      "execution_count": 18,
      "outputs": [
        {
          "output_type": "execute_result",
          "data": {
            "text/plain": [
              "20"
            ]
          },
          "metadata": {},
          "execution_count": 18
        }
      ]
    },
    {
      "cell_type": "code",
      "source": [
        "def f():\n",
        "  print(x)\n",
        "\n",
        "x = 10\n",
        "\n",
        "a = f()\n",
        "print(a)\n",
        "print(type(a))"
      ],
      "metadata": {
        "colab": {
          "base_uri": "https://localhost:8080/"
        },
        "id": "VONOjDllmeaQ",
        "outputId": "ddecf38e-2c24-4930-9f85-350d7297decf"
      },
      "execution_count": 24,
      "outputs": [
        {
          "output_type": "stream",
          "name": "stdout",
          "text": [
            "10\n",
            "None\n",
            "<class 'NoneType'>\n"
          ]
        }
      ]
    },
    {
      "cell_type": "code",
      "source": [
        "f2 = lambda : x\n",
        "\n",
        "type(f2)"
      ],
      "metadata": {
        "colab": {
          "base_uri": "https://localhost:8080/"
        },
        "id": "jDkIa658mXtS",
        "outputId": "3ed0ff5b-c362-4603-ee7a-4735ed4470e5"
      },
      "execution_count": 22,
      "outputs": [
        {
          "output_type": "execute_result",
          "data": {
            "text/plain": [
              "function"
            ]
          },
          "metadata": {},
          "execution_count": 22
        }
      ]
    },
    {
      "cell_type": "code",
      "source": [
        "b = f2()\n",
        "print(b)\n",
        "print(type(b))"
      ],
      "metadata": {
        "colab": {
          "base_uri": "https://localhost:8080/"
        },
        "id": "GJ8W5V9AmwF-",
        "outputId": "004e6a78-09ae-49bf-9bc7-c44336e1f0b8"
      },
      "execution_count": 25,
      "outputs": [
        {
          "output_type": "stream",
          "name": "stdout",
          "text": [
            "10\n",
            "<class 'int'>\n"
          ]
        }
      ]
    },
    {
      "cell_type": "code",
      "source": [
        "f3 = lambda : print(x)\n",
        "\n",
        "type(f3)"
      ],
      "metadata": {
        "colab": {
          "base_uri": "https://localhost:8080/"
        },
        "id": "R46_jtManCfx",
        "outputId": "d25886dd-9ffc-4414-8823-774ba9d2400b"
      },
      "execution_count": 26,
      "outputs": [
        {
          "output_type": "execute_result",
          "data": {
            "text/plain": [
              "function"
            ]
          },
          "metadata": {},
          "execution_count": 26
        }
      ]
    },
    {
      "cell_type": "code",
      "source": [
        "c = f3()\n",
        "\n",
        "print(c)\n",
        "print(type(c))"
      ],
      "metadata": {
        "colab": {
          "base_uri": "https://localhost:8080/"
        },
        "id": "c4I45qF-nFnd",
        "outputId": "d3aca6e3-0cad-4c9f-9e75-715f16f6366d"
      },
      "execution_count": 27,
      "outputs": [
        {
          "output_type": "stream",
          "name": "stdout",
          "text": [
            "10\n",
            "None\n",
            "<class 'NoneType'>\n"
          ]
        }
      ]
    },
    {
      "cell_type": "code",
      "source": [
        "lf1 = lambda : 10\n",
        "\n",
        "lf2 = lambda : print(10)\n"
      ],
      "metadata": {
        "id": "cJT2YJ3zmJhM"
      },
      "execution_count": 28,
      "outputs": []
    },
    {
      "cell_type": "code",
      "source": [
        "def f1(): # lf1\n",
        "  return 10\n",
        "\n",
        "def f2(): # lf2\n",
        "  print(10 )"
      ],
      "metadata": {
        "id": "cKU3s4TYoXmU"
      },
      "execution_count": null,
      "outputs": []
    },
    {
      "cell_type": "code",
      "source": [
        "print(type(lf1))\n",
        "print(type(lf2))"
      ],
      "metadata": {
        "colab": {
          "base_uri": "https://localhost:8080/"
        },
        "id": "6LaP72XLmSxZ",
        "outputId": "e1df01ee-f599-4f78-fe7f-795b8763f560"
      },
      "execution_count": 29,
      "outputs": [
        {
          "output_type": "stream",
          "name": "stdout",
          "text": [
            "<class 'function'>\n",
            "<class 'function'>\n"
          ]
        }
      ]
    },
    {
      "cell_type": "code",
      "source": [
        "a = lf1()\n",
        "\n",
        "print(a)\n",
        "print(type(a))"
      ],
      "metadata": {
        "colab": {
          "base_uri": "https://localhost:8080/"
        },
        "id": "uNrn_m2OoV1R",
        "outputId": "19b88e91-f223-49a2-cf5a-778d70f64cd3"
      },
      "execution_count": 30,
      "outputs": [
        {
          "output_type": "stream",
          "name": "stdout",
          "text": [
            "10\n",
            "<class 'int'>\n"
          ]
        }
      ]
    },
    {
      "cell_type": "code",
      "source": [
        "b = lf2()\n",
        "\n",
        "print(b)\n",
        "print(type(b))"
      ],
      "metadata": {
        "colab": {
          "base_uri": "https://localhost:8080/"
        },
        "id": "v_FakxTWoojb",
        "outputId": "76aba2d0-8da1-4524-c5dd-6f86adff6455"
      },
      "execution_count": 31,
      "outputs": [
        {
          "output_type": "stream",
          "name": "stdout",
          "text": [
            "10\n",
            "None\n",
            "<class 'NoneType'>\n"
          ]
        }
      ]
    },
    {
      "cell_type": "code",
      "source": [
        "def myFunc(n):\n",
        "  return lambda a: a*n\n",
        "\n",
        "myLambda1 = myFunc(2)"
      ],
      "metadata": {
        "id": "9mrZo_Kdo1qA"
      },
      "execution_count": 32,
      "outputs": []
    },
    {
      "cell_type": "code",
      "source": [
        "myLambda2 = myFunc(3)\n",
        "myLambda2(20)"
      ],
      "metadata": {
        "id": "yIet__nIp-sh"
      },
      "execution_count": null,
      "outputs": []
    },
    {
      "cell_type": "code",
      "source": [
        "myLambda2 = myFunc(3)\n",
        "myLambda2([12,20,30])"
      ],
      "metadata": {
        "colab": {
          "base_uri": "https://localhost:8080/"
        },
        "id": "8gc0N115qTzy",
        "outputId": "25077679-4563-45c2-d8c9-845fbf1df531"
      },
      "execution_count": 36,
      "outputs": [
        {
          "output_type": "execute_result",
          "data": {
            "text/plain": [
              "[12, 20, 30, 12, 20, 30, 12, 20, 30]"
            ]
          },
          "metadata": {},
          "execution_count": 36
        }
      ]
    },
    {
      "cell_type": "code",
      "source": [
        "type(myLambda1)"
      ],
      "metadata": {
        "colab": {
          "base_uri": "https://localhost:8080/"
        },
        "id": "1Dr8BroApABk",
        "outputId": "cb28ffcc-d5e5-48bf-ebdf-9de4a425de02"
      },
      "execution_count": 33,
      "outputs": [
        {
          "output_type": "execute_result",
          "data": {
            "text/plain": [
              "function"
            ]
          },
          "metadata": {},
          "execution_count": 33
        }
      ]
    },
    {
      "cell_type": "code",
      "source": [
        "myLambda1(20)"
      ],
      "metadata": {
        "colab": {
          "base_uri": "https://localhost:8080/"
        },
        "id": "eQ6cq-cqpHpw",
        "outputId": "332a22f2-57ae-46ed-da49-649cb59527cf"
      },
      "execution_count": 35,
      "outputs": [
        {
          "output_type": "execute_result",
          "data": {
            "text/plain": [
              "40"
            ]
          },
          "metadata": {},
          "execution_count": 35
        }
      ]
    },
    {
      "cell_type": "code",
      "source": [
        "a = lambda x: lambda y: x+y"
      ],
      "metadata": {
        "id": "gCn_RTQlqpZm"
      },
      "execution_count": 37,
      "outputs": []
    },
    {
      "cell_type": "code",
      "source": [
        "type(a)"
      ],
      "metadata": {
        "colab": {
          "base_uri": "https://localhost:8080/"
        },
        "id": "qVn09X5vqvTl",
        "outputId": "6d2e46c7-4a7f-40cb-e17d-c11b382ba157"
      },
      "execution_count": 38,
      "outputs": [
        {
          "output_type": "execute_result",
          "data": {
            "text/plain": [
              "function"
            ]
          },
          "metadata": {},
          "execution_count": 38
        }
      ]
    },
    {
      "cell_type": "code",
      "source": [
        "output = a(10)\n",
        "\n",
        "output(5)"
      ],
      "metadata": {
        "colab": {
          "base_uri": "https://localhost:8080/"
        },
        "id": "5PqRP2djrTBR",
        "outputId": "68f23a18-1d91-4da6-8e2c-2436e06d093a"
      },
      "execution_count": 40,
      "outputs": [
        {
          "output_type": "execute_result",
          "data": {
            "text/plain": [
              "15"
            ]
          },
          "metadata": {},
          "execution_count": 40
        }
      ]
    },
    {
      "cell_type": "code",
      "source": [
        "a(10)(5)"
      ],
      "metadata": {
        "colab": {
          "base_uri": "https://localhost:8080/"
        },
        "id": "K7WOsgcvrlKB",
        "outputId": "00017bd6-5ca3-47eb-bfe3-03915d2d4dfe"
      },
      "execution_count": 41,
      "outputs": [
        {
          "output_type": "execute_result",
          "data": {
            "text/plain": [
              "15"
            ]
          },
          "metadata": {},
          "execution_count": 41
        }
      ]
    },
    {
      "cell_type": "markdown",
      "source": [
        "### **Filter**"
      ],
      "metadata": {
        "id": "Pdflk48br-uq"
      }
    },
    {
      "cell_type": "code",
      "source": [
        "scores = [50, 45, 10, 76, 100, 12, 5]\n",
        "\n",
        "# create a list which takes the score greater than 40\n",
        "def func(x):\n",
        "  if x>40:\n",
        "    return True\n",
        "  else:\n",
        "    return False\n",
        "\n",
        "filtered_list = filter(func, scores)\n",
        "\n",
        "print(filtered_list)"
      ],
      "metadata": {
        "colab": {
          "base_uri": "https://localhost:8080/"
        },
        "id": "FcybjHRhrszH",
        "outputId": "cd130128-71b0-4846-983a-a523fee65194"
      },
      "execution_count": 42,
      "outputs": [
        {
          "output_type": "stream",
          "name": "stdout",
          "text": [
            "<filter object at 0x7e5ebfc5da80>\n"
          ]
        }
      ]
    },
    {
      "cell_type": "code",
      "source": [
        "filtered_list = list(filter(func, scores))\n",
        "\n",
        "print(filtered_list)"
      ],
      "metadata": {
        "colab": {
          "base_uri": "https://localhost:8080/"
        },
        "id": "R8Y8fjAFuAnH",
        "outputId": "2bfc764d-066c-4923-ace0-0d7081b64c20"
      },
      "execution_count": 45,
      "outputs": [
        {
          "output_type": "stream",
          "name": "stdout",
          "text": [
            "[50, 45, 76, 100]\n"
          ]
        }
      ]
    },
    {
      "cell_type": "code",
      "source": [
        "for value in filtered_list:\n",
        "  print(value)"
      ],
      "metadata": {
        "colab": {
          "base_uri": "https://localhost:8080/"
        },
        "id": "AVvMF__at2bD",
        "outputId": "eb054d9e-6f25-4f41-99b2-00490ea247e4"
      },
      "execution_count": 43,
      "outputs": [
        {
          "output_type": "stream",
          "name": "stdout",
          "text": [
            "50\n",
            "45\n",
            "76\n",
            "100\n"
          ]
        }
      ]
    },
    {
      "cell_type": "code",
      "source": [
        "numbers = [12,42,3,75,124,29,71,1,2,47,10001]\n",
        "\n",
        "evenNumbers = list(filter(lambda x: x%2==0, numbers))\n",
        "oddNumbers = list(filter(lambda x: x%2==1, numbers))\n",
        "\n",
        "print(evenNumbers)\n",
        "print(oddNumbers)"
      ],
      "metadata": {
        "colab": {
          "base_uri": "https://localhost:8080/"
        },
        "id": "YgmpOwGquXRJ",
        "outputId": "a596952b-86bc-4224-e5a8-8294c1c71bff"
      },
      "execution_count": 47,
      "outputs": [
        {
          "output_type": "stream",
          "name": "stdout",
          "text": [
            "[12, 42, 124, 2]\n",
            "[3, 75, 29, 71, 1, 47, 10001]\n"
          ]
        }
      ]
    },
    {
      "cell_type": "code",
      "source": [
        "def isPrime(n):\n",
        "  if n<=1:\n",
        "    return False\n",
        "\n",
        "  for i in range(2,n):\n",
        "    if n%i == 0:\n",
        "      return False\n",
        "\n",
        "  return True\n",
        "\n",
        "numbers = [7,17,29,144,142,2001,199,176, 187]\n",
        "\n",
        "primeNumbers = list(filter(isPrime, numbers))\n",
        "\n",
        "print(primeNumbers)"
      ],
      "metadata": {
        "colab": {
          "base_uri": "https://localhost:8080/"
        },
        "id": "eHjbv1xbvVy1",
        "outputId": "4bc62afe-aa5b-4b2e-91f2-3443e5a752cc"
      },
      "execution_count": 48,
      "outputs": [
        {
          "output_type": "stream",
          "name": "stdout",
          "text": [
            "[7, 17, 29, 199]\n"
          ]
        }
      ]
    },
    {
      "cell_type": "code",
      "source": [],
      "metadata": {
        "id": "fvt3SXHvwJtC"
      },
      "execution_count": null,
      "outputs": []
    },
    {
      "cell_type": "code",
      "source": [
        "for value in numbers:\n",
        "  if isPrime(value):\n",
        "    primeNumbers.append(value)\n",
        "\n",
        "print(primeNumbers)"
      ],
      "metadata": {
        "id": "W8Znv7opv1s5"
      },
      "execution_count": null,
      "outputs": []
    },
    {
      "cell_type": "code",
      "source": [
        "def myFun(a):\n",
        "  if a>18:\n",
        "    return False\n",
        "\n",
        "numbers = [1,2,9,12,18,20,25,40,50]\n",
        "\n",
        "filtered_numbers = list(filter(myFun, numbers))\n",
        "\n",
        "print(filtered_numbers)"
      ],
      "metadata": {
        "colab": {
          "base_uri": "https://localhost:8080/"
        },
        "id": "hbsdrErvwLAh",
        "outputId": "9e2d2743-2157-4627-b966-f22d50e32d18"
      },
      "execution_count": 49,
      "outputs": [
        {
          "output_type": "stream",
          "name": "stdout",
          "text": [
            "[]\n"
          ]
        }
      ]
    },
    {
      "cell_type": "code",
      "source": [
        "a = myFun(2)"
      ],
      "metadata": {
        "id": "qXDlI_Opwmu5"
      },
      "execution_count": 51,
      "outputs": []
    },
    {
      "cell_type": "code",
      "source": [
        "print(a)"
      ],
      "metadata": {
        "colab": {
          "base_uri": "https://localhost:8080/"
        },
        "id": "RJV5t4iMwu1u",
        "outputId": "e83a23aa-72bc-486c-f640-02bc0739c0b4"
      },
      "execution_count": 52,
      "outputs": [
        {
          "output_type": "stream",
          "name": "stdout",
          "text": [
            "None\n"
          ]
        }
      ]
    },
    {
      "cell_type": "code",
      "source": [
        "bool(None)"
      ],
      "metadata": {
        "colab": {
          "base_uri": "https://localhost:8080/"
        },
        "id": "P-r8uqBQwwYW",
        "outputId": "6434f261-4ea1-493a-dcef-a43e72d87054"
      },
      "execution_count": 53,
      "outputs": [
        {
          "output_type": "execute_result",
          "data": {
            "text/plain": [
              "False"
            ]
          },
          "metadata": {},
          "execution_count": 53
        }
      ]
    },
    {
      "cell_type": "code",
      "source": [
        "def myFun(a):\n",
        "  if a>18:\n",
        "    return False\n",
        "  else:\n",
        "    return a+12\n",
        "\n",
        "numbers = [1,2,9,12,18,20,25,40,50]\n",
        "\n",
        "filtered_numbers = list(filter(myFun, numbers))\n",
        "\n",
        "print(filtered_numbers)"
      ],
      "metadata": {
        "colab": {
          "base_uri": "https://localhost:8080/"
        },
        "id": "l4QcWgK6xcGq",
        "outputId": "0e8d6266-083b-4e6a-c1cb-351b6ef237d9"
      },
      "execution_count": 54,
      "outputs": [
        {
          "output_type": "stream",
          "name": "stdout",
          "text": [
            "[1, 2, 9, 12, 18]\n"
          ]
        }
      ]
    },
    {
      "cell_type": "code",
      "source": [
        "def myFun(a):\n",
        "  if a>18:\n",
        "    return False\n",
        "  else:\n",
        "    return a-12\n",
        "\n",
        "numbers = [1,2,9,12,18,20,25,40,50]\n",
        "\n",
        "filtered_numbers = list(filter(myFun, numbers))\n",
        "\n",
        "print(filtered_numbers)"
      ],
      "metadata": {
        "colab": {
          "base_uri": "https://localhost:8080/"
        },
        "id": "l_ENKWpeyXn-",
        "outputId": "589a612c-35be-494a-b031-6066f35fe578"
      },
      "execution_count": 55,
      "outputs": [
        {
          "output_type": "stream",
          "name": "stdout",
          "text": [
            "[1, 2, 9, 18]\n"
          ]
        }
      ]
    },
    {
      "cell_type": "code",
      "source": [
        "bool(-2)"
      ],
      "metadata": {
        "colab": {
          "base_uri": "https://localhost:8080/"
        },
        "id": "nfJcUg1nzCjW",
        "outputId": "32586198-df4c-4eaa-b992-d2e47d930d66"
      },
      "execution_count": 56,
      "outputs": [
        {
          "output_type": "execute_result",
          "data": {
            "text/plain": [
              "True"
            ]
          },
          "metadata": {},
          "execution_count": 56
        }
      ]
    },
    {
      "cell_type": "markdown",
      "source": [
        "### **MAP Function**"
      ],
      "metadata": {
        "id": "avktv1KfzSlC"
      }
    },
    {
      "cell_type": "code",
      "source": [
        "def myFun(a):\n",
        "  if a>18:\n",
        "    return False\n",
        "\n",
        "numbers = [1,2,9,12,18,20,25,40,50]\n",
        "\n",
        "map_numbers = list(map(myFun, numbers))\n",
        "\n",
        "print(map_numbers)"
      ],
      "metadata": {
        "colab": {
          "base_uri": "https://localhost:8080/"
        },
        "id": "YSdIh9FrzR-v",
        "outputId": "027a7011-1e26-4408-d7ac-be9991b57043"
      },
      "execution_count": 57,
      "outputs": [
        {
          "output_type": "stream",
          "name": "stdout",
          "text": [
            "[None, None, None, None, None, False, False, False, False]\n"
          ]
        }
      ]
    },
    {
      "cell_type": "code",
      "source": [
        "scores = [55, 75, 45, 38, 58, 67, 81, 92]\n",
        "\n",
        "map_scores = map(lambda x: x+7, scores)\n",
        "\n",
        "print(map_scores)"
      ],
      "metadata": {
        "colab": {
          "base_uri": "https://localhost:8080/"
        },
        "id": "PBe7Jfyd0ZCm",
        "outputId": "ef1e3315-b3b2-4dbd-e18a-bacd1c2ef416"
      },
      "execution_count": 58,
      "outputs": [
        {
          "output_type": "stream",
          "name": "stdout",
          "text": [
            "<map object at 0x7e5ebfcaa290>\n"
          ]
        }
      ]
    },
    {
      "cell_type": "code",
      "source": [
        "for value in map_scores:\n",
        "  print(value)"
      ],
      "metadata": {
        "colab": {
          "base_uri": "https://localhost:8080/"
        },
        "id": "ChbutJTa0qKE",
        "outputId": "d01bf2cb-441f-4e11-9455-4d35f4fb3eaf"
      },
      "execution_count": 60,
      "outputs": [
        {
          "output_type": "stream",
          "name": "stdout",
          "text": [
            "62\n",
            "82\n",
            "52\n",
            "45\n",
            "65\n",
            "74\n",
            "88\n",
            "99\n"
          ]
        }
      ]
    },
    {
      "cell_type": "code",
      "source": [
        "\n",
        "scores = [55, 75, 45, 38, 58, 67, 81, 92]\n",
        "\n",
        "map_scores = list(map(lambda x: x+7, scores))\n",
        "\n",
        "print(map_scores)"
      ],
      "metadata": {
        "colab": {
          "base_uri": "https://localhost:8080/"
        },
        "id": "OMDkT-gg0y8C",
        "outputId": "888347a9-748d-4f86-b40d-284eae38afbc"
      },
      "execution_count": 61,
      "outputs": [
        {
          "output_type": "stream",
          "name": "stdout",
          "text": [
            "[62, 82, 52, 45, 65, 74, 88, 99]\n"
          ]
        }
      ]
    },
    {
      "cell_type": "code",
      "source": [
        "\n",
        "scores = [55, 75, 45, 38, 58, 67, 81, 92]\n",
        "# add 7 if score is >70 else leave as it is\n",
        "\n",
        "map_scores = list(map(lambda x: x+7 if x>70 else x, scores))\n",
        "\n",
        "print(map_scores)"
      ],
      "metadata": {
        "colab": {
          "base_uri": "https://localhost:8080/"
        },
        "id": "NBaMV9CR1NO1",
        "outputId": "f079549e-565c-431c-acc0-362b9c164bf1"
      },
      "execution_count": 62,
      "outputs": [
        {
          "output_type": "stream",
          "name": "stdout",
          "text": [
            "[55, 82, 45, 38, 58, 67, 88, 99]\n"
          ]
        }
      ]
    },
    {
      "cell_type": "code",
      "source": [
        "def statement(msg, times = 1):\n",
        "  print(msg* times)\n",
        "\n",
        "statement(\"Hello\")\n",
        "statement(\"World\", 5)"
      ],
      "metadata": {
        "colab": {
          "base_uri": "https://localhost:8080/"
        },
        "id": "YYRGjHuQ1pG4",
        "outputId": "beec346b-1d14-4ec8-c224-9cef8df4674a"
      },
      "execution_count": 64,
      "outputs": [
        {
          "output_type": "stream",
          "name": "stdout",
          "text": [
            "Hello\n",
            "WorldWorldWorldWorldWorld\n"
          ]
        }
      ]
    },
    {
      "cell_type": "code",
      "source": [
        "def a(b):\n",
        "  print(\"id of b before adding 5 : \", id(b))\n",
        "  b = b+[5] # create a new list\n",
        "  print(\"id of b after adding 5 : \", id(b))\n",
        "\n",
        "\n",
        "c = [1,2,3,4]\n",
        "print(\"id c : -->\", id(c))\n",
        "a(c)\n",
        "print(len(c))"
      ],
      "metadata": {
        "colab": {
          "base_uri": "https://localhost:8080/"
        },
        "id": "ddGXe3AZ8_S5",
        "outputId": "8d9d829b-c442-47a9-de29-bb48cc069c05"
      },
      "execution_count": 66,
      "outputs": [
        {
          "output_type": "stream",
          "name": "stdout",
          "text": [
            "id c : --> 138945410319808\n",
            "id of b before adding 5 :  138945410319808\n",
            "id of b after adding 5 :  138945410325184\n",
            "4\n"
          ]
        }
      ]
    },
    {
      "cell_type": "code",
      "source": [
        "a = [1,2,3,4]\n",
        "print(\"id : \", id(a))\n",
        "a.append(5) # Q1 # [1,2,3,4,5] in the same id\n",
        "print(\"id post Q1: \", id(a))\n",
        "a = a+[5]  # Q2 # new list id will get created and a will point to it\n",
        "print('id post Q2: ', id(a))"
      ],
      "metadata": {
        "colab": {
          "base_uri": "https://localhost:8080/"
        },
        "id": "o2ePYCD992nu",
        "outputId": "cfc5ea5b-0534-47c8-91c7-a9873cb69280"
      },
      "execution_count": 67,
      "outputs": [
        {
          "output_type": "stream",
          "name": "stdout",
          "text": [
            "id :  138945409800000\n",
            "id post Q1:  138945409800000\n",
            "id post Q2:  138945408243776\n"
          ]
        }
      ]
    },
    {
      "cell_type": "code",
      "source": [
        "def a(b):\n",
        "  print(\"id of b before adding 5 : \", id(b))\n",
        "  b.append(5)\n",
        "  print(\"id of b after adding 5 : \", id(b))\n",
        "\n",
        "\n",
        "c = [1,2,3,4]\n",
        "print(\"id c : -->\", id(c))\n",
        "a(c)\n",
        "print(len(c))"
      ],
      "metadata": {
        "colab": {
          "base_uri": "https://localhost:8080/"
        },
        "id": "i9NPZVhk-kPP",
        "outputId": "4fc15e63-6c2d-4847-e695-7ee5314c07d5"
      },
      "execution_count": 68,
      "outputs": [
        {
          "output_type": "stream",
          "name": "stdout",
          "text": [
            "id c : --> 138946275896064\n",
            "id of b before adding 5 :  138946275896064\n",
            "id of b after adding 5 :  138946275896064\n",
            "5\n"
          ]
        }
      ]
    },
    {
      "cell_type": "code",
      "source": [
        "def foo(i, x=[]):\n",
        "  x.append(i)\n",
        "  return x\n",
        "\n",
        "for i in range(3):\n",
        "  print(foo(i))"
      ],
      "metadata": {
        "colab": {
          "base_uri": "https://localhost:8080/"
        },
        "id": "UkD8nuWNCypj",
        "outputId": "05da9005-d4d1-4ce6-96be-516616eb0809"
      },
      "execution_count": 69,
      "outputs": [
        {
          "output_type": "stream",
          "name": "stdout",
          "text": [
            "[0]\n",
            "[0, 1]\n",
            "[0, 1, 2]\n"
          ]
        }
      ]
    },
    {
      "cell_type": "code",
      "source": [
        "l = [1,2,3]\n",
        "l.append(4)\n",
        "l"
      ],
      "metadata": {
        "colab": {
          "base_uri": "https://localhost:8080/"
        },
        "id": "Q7KkLE4nFoxb",
        "outputId": "4c1874a5-e68b-4d0e-81a0-7855641c980a"
      },
      "execution_count": 70,
      "outputs": [
        {
          "output_type": "execute_result",
          "data": {
            "text/plain": [
              "[1, 2, 3, 4]"
            ]
          },
          "metadata": {},
          "execution_count": 70
        }
      ]
    },
    {
      "cell_type": "code",
      "source": [
        "l = [1,2,3]\n",
        "a = l.append(4)\n",
        "print(a)\n",
        "print(l)"
      ],
      "metadata": {
        "colab": {
          "base_uri": "https://localhost:8080/"
        },
        "id": "5tlR9hdKFsGc",
        "outputId": "2b7e4d75-de2f-47d8-f948-d13a78024139"
      },
      "execution_count": 71,
      "outputs": [
        {
          "output_type": "stream",
          "name": "stdout",
          "text": [
            "None\n",
            "[1, 2, 3, 4]\n"
          ]
        }
      ]
    },
    {
      "cell_type": "code",
      "source": [
        "l = []\n",
        "print(l)\n",
        "for i in range(3):\n",
        "  l.append(l.append(i))\n",
        "  print(l)\n",
        "\n",
        "print(l)"
      ],
      "metadata": {
        "colab": {
          "base_uri": "https://localhost:8080/"
        },
        "id": "Uc1ZV00aGTKL",
        "outputId": "57fa5768-230a-4c7a-f3b9-bac55f917f9f"
      },
      "execution_count": 73,
      "outputs": [
        {
          "output_type": "stream",
          "name": "stdout",
          "text": [
            "[]\n",
            "[0, None]\n",
            "[0, None, 1, None]\n",
            "[0, None, 1, None, 2, None]\n",
            "[0, None, 1, None, 2, None]\n"
          ]
        }
      ]
    },
    {
      "cell_type": "code",
      "source": [
        "def foo(i, x= []):\n",
        "  x.append(i)\n",
        "  return x\n",
        "\n",
        "for i in range(3):\n",
        "  print(foo(i))"
      ],
      "metadata": {
        "colab": {
          "base_uri": "https://localhost:8080/"
        },
        "id": "UADmRHhCG5bb",
        "outputId": "f79c886b-6767-4abe-a83c-fc87441d28ea"
      },
      "execution_count": 74,
      "outputs": [
        {
          "output_type": "stream",
          "name": "stdout",
          "text": [
            "[0]\n",
            "[0, 1]\n",
            "[0, 1, 2]\n"
          ]
        }
      ]
    },
    {
      "cell_type": "markdown",
      "source": [],
      "metadata": {
        "id": "8ATGWiq6HBrZ"
      }
    },
    {
      "cell_type": "code",
      "source": [
        "def foo(i, x= []):\n",
        "  x.append(i)\n",
        "  return x\n",
        "\n",
        "for i in range(3):\n",
        "  print(foo(i))"
      ],
      "metadata": {
        "colab": {
          "base_uri": "https://localhost:8080/"
        },
        "id": "n1lNLa_iHCJE",
        "outputId": "993ded74-b486-49b1-982a-2866f5eff431"
      },
      "execution_count": 76,
      "outputs": [
        {
          "output_type": "stream",
          "name": "stdout",
          "text": [
            "[0]\n",
            "[0, 1]\n",
            "[0, 1, 2]\n"
          ]
        }
      ]
    }
  ]
}