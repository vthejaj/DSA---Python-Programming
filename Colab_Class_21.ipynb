{
  "cells": [
    {
      "cell_type": "markdown",
      "metadata": {
        "id": "HWflC4sahOv8"
      },
      "source": [
        "### **Lambda Functions**"
      ]
    },
    {
      "cell_type": "code",
      "execution_count": null,
      "metadata": {
        "id": "KHsp1PEJd-Be"
      },
      "outputs": [],
      "source": [
        "def normalFunc(x):\n",
        "  # squaring the number\n",
        "  return x**2"
      ]
    },
    {
      "cell_type": "code",
      "execution_count": null,
      "metadata": {
        "colab": {
          "base_uri": "https://localhost:8080/"
        },
        "id": "GuF-76qThcwF",
        "outputId": "b3d9e1aa-f4a1-4b8a-e4b4-2288f8bdea73"
      },
      "outputs": [],
      "source": [
        "normalFunc(12)"
      ]
    },
    {
      "cell_type": "code",
      "execution_count": null,
      "metadata": {
        "colab": {
          "base_uri": "https://localhost:8080/"
        },
        "id": "vbDbZz7Uhpwz",
        "outputId": "4f16193f-381e-41ba-e7a6-b49b123abdc9"
      },
      "outputs": [],
      "source": [
        "type(normalFunc)"
      ]
    },
    {
      "cell_type": "code",
      "execution_count": null,
      "metadata": {
        "colab": {
          "base_uri": "https://localhost:8080/"
        },
        "id": "CFpGHcnTiROv",
        "outputId": "3f72081c-0736-41d9-da12-80b3791fa675"
      },
      "outputs": [],
      "source": [
        "lambda x: x**2"
      ]
    },
    {
      "cell_type": "code",
      "execution_count": null,
      "metadata": {
        "id": "QuX8biJUiaGo"
      },
      "outputs": [],
      "source": [
        "a = lambda x: x**2"
      ]
    },
    {
      "cell_type": "code",
      "execution_count": null,
      "metadata": {
        "colab": {
          "base_uri": "https://localhost:8080/"
        },
        "id": "4FyG5q8vinXL",
        "outputId": "f59514ac-ade0-4cf2-fa95-ec89d9daa64f"
      },
      "outputs": [],
      "source": [
        "type(a)"
      ]
    },
    {
      "cell_type": "code",
      "execution_count": null,
      "metadata": {
        "colab": {
          "base_uri": "https://localhost:8080/"
        },
        "id": "7lc17Wdjiwgf",
        "outputId": "e6fc6718-b736-4c86-812c-1e4971f589bf"
      },
      "outputs": [],
      "source": [
        "a(12)"
      ]
    },
    {
      "cell_type": "code",
      "execution_count": null,
      "metadata": {
        "colab": {
          "base_uri": "https://localhost:8080/"
        },
        "id": "KHVXzICiizfh",
        "outputId": "f46fae3d-b6dc-4e55-c9b2-63cc0c413112"
      },
      "outputs": [],
      "source": [
        "a = normalFunc(12)\n",
        "print(a)\n",
        "print(type(a))\n",
        "b = lambda x: x**2\n",
        "print(b)\n",
        "print(type(b))"
      ]
    },
    {
      "cell_type": "code",
      "execution_count": null,
      "metadata": {
        "colab": {
          "base_uri": "https://localhost:8080/"
        },
        "id": "xpWO5_GjjSEW",
        "outputId": "09f4dac2-e6a9-43e0-9980-e305a10b3e55"
      },
      "outputs": [],
      "source": [
        "a = normalFunc\n",
        "\n",
        "print(a)\n",
        "print(type(a))"
      ]
    },
    {
      "cell_type": "code",
      "execution_count": null,
      "metadata": {
        "id": "taiPokSukGy0"
      },
      "outputs": [],
      "source": [
        "# lambda functions can take any number of arguments\n",
        "\n",
        "summing = lambda a,b: a+b\n",
        "sub = lambda a,b: a-b\n",
        "\n",
        "four_arg_func = lambda a,b,c,d: a+b-c*d\n",
        "\n"
      ]
    },
    {
      "cell_type": "code",
      "execution_count": null,
      "metadata": {
        "colab": {
          "base_uri": "https://localhost:8080/"
        },
        "id": "-hANSkvtkYjM",
        "outputId": "f34caf3d-7c14-447d-b6d7-6b97a519a463"
      },
      "outputs": [],
      "source": [
        "summing(10,20)"
      ]
    },
    {
      "cell_type": "code",
      "execution_count": null,
      "metadata": {
        "colab": {
          "base_uri": "https://localhost:8080/"
        },
        "id": "nWrk0vE3ke8f",
        "outputId": "74d53f0f-fc93-4863-98d9-11f90b4009d9"
      },
      "outputs": [],
      "source": [
        "four_arg_func(12,5,8,10)"
      ]
    },
    {
      "cell_type": "code",
      "execution_count": null,
      "metadata": {
        "id": "kjwLAxislI_9"
      },
      "outputs": [],
      "source": [
        "def add10(x):\n",
        "  return x+10\n",
        "\n",
        "def sum(a):\n",
        "  return add10(a)"
      ]
    },
    {
      "cell_type": "code",
      "execution_count": null,
      "metadata": {
        "colab": {
          "base_uri": "https://localhost:8080/"
        },
        "id": "CVUo37vZlogl",
        "outputId": "4ffd38fe-5417-40e4-89be-320d8358d2d5"
      },
      "outputs": [],
      "source": [
        "sum(10)"
      ]
    },
    {
      "cell_type": "code",
      "execution_count": null,
      "metadata": {
        "colab": {
          "base_uri": "https://localhost:8080/"
        },
        "id": "VONOjDllmeaQ",
        "outputId": "ddecf38e-2c24-4930-9f85-350d7297decf"
      },
      "outputs": [],
      "source": [
        "def f():\n",
        "  print(x)\n",
        "\n",
        "x = 10\n",
        "\n",
        "a = f()\n",
        "print(a)\n",
        "print(type(a))"
      ]
    },
    {
      "cell_type": "code",
      "execution_count": null,
      "metadata": {
        "colab": {
          "base_uri": "https://localhost:8080/"
        },
        "id": "jDkIa658mXtS",
        "outputId": "3ed0ff5b-c362-4603-ee7a-4735ed4470e5"
      },
      "outputs": [],
      "source": [
        "f2 = lambda : x\n",
        "\n",
        "type(f2)"
      ]
    },
    {
      "cell_type": "code",
      "execution_count": null,
      "metadata": {
        "colab": {
          "base_uri": "https://localhost:8080/"
        },
        "id": "GJ8W5V9AmwF-",
        "outputId": "004e6a78-09ae-49bf-9bc7-c44336e1f0b8"
      },
      "outputs": [],
      "source": [
        "b = f2()\n",
        "print(b)\n",
        "print(type(b))"
      ]
    },
    {
      "cell_type": "code",
      "execution_count": null,
      "metadata": {
        "colab": {
          "base_uri": "https://localhost:8080/"
        },
        "id": "R46_jtManCfx",
        "outputId": "d25886dd-9ffc-4414-8823-774ba9d2400b"
      },
      "outputs": [],
      "source": [
        "f3 = lambda : print(x)\n",
        "\n",
        "type(f3)"
      ]
    },
    {
      "cell_type": "code",
      "execution_count": null,
      "metadata": {
        "colab": {
          "base_uri": "https://localhost:8080/"
        },
        "id": "c4I45qF-nFnd",
        "outputId": "d3aca6e3-0cad-4c9f-9e75-715f16f6366d"
      },
      "outputs": [],
      "source": [
        "c = f3()\n",
        "\n",
        "print(c)\n",
        "print(type(c))"
      ]
    },
    {
      "cell_type": "code",
      "execution_count": null,
      "metadata": {
        "id": "cJT2YJ3zmJhM"
      },
      "outputs": [],
      "source": [
        "lf1 = lambda : 10\n",
        "\n",
        "lf2 = lambda : print(10)\n"
      ]
    },
    {
      "cell_type": "code",
      "execution_count": null,
      "metadata": {
        "id": "cKU3s4TYoXmU"
      },
      "outputs": [],
      "source": [
        "def f1(): # lf1\n",
        "  return 10\n",
        "\n",
        "def f2(): # lf2\n",
        "  print(10 )"
      ]
    },
    {
      "cell_type": "code",
      "execution_count": null,
      "metadata": {
        "colab": {
          "base_uri": "https://localhost:8080/"
        },
        "id": "6LaP72XLmSxZ",
        "outputId": "e1df01ee-f599-4f78-fe7f-795b8763f560"
      },
      "outputs": [],
      "source": [
        "print(type(lf1))\n",
        "print(type(lf2))"
      ]
    },
    {
      "cell_type": "code",
      "execution_count": null,
      "metadata": {
        "colab": {
          "base_uri": "https://localhost:8080/"
        },
        "id": "uNrn_m2OoV1R",
        "outputId": "19b88e91-f223-49a2-cf5a-778d70f64cd3"
      },
      "outputs": [],
      "source": [
        "a = lf1()\n",
        "\n",
        "print(a)\n",
        "print(type(a))"
      ]
    },
    {
      "cell_type": "code",
      "execution_count": null,
      "metadata": {
        "colab": {
          "base_uri": "https://localhost:8080/"
        },
        "id": "v_FakxTWoojb",
        "outputId": "76aba2d0-8da1-4524-c5dd-6f86adff6455"
      },
      "outputs": [],
      "source": [
        "b = lf2()\n",
        "\n",
        "print(b)\n",
        "print(type(b))"
      ]
    },
    {
      "cell_type": "code",
      "execution_count": null,
      "metadata": {
        "id": "9mrZo_Kdo1qA"
      },
      "outputs": [],
      "source": [
        "def myFunc(n):\n",
        "  return lambda a: a*n\n",
        "\n",
        "myLambda1 = myFunc(2)"
      ]
    },
    {
      "cell_type": "code",
      "execution_count": null,
      "metadata": {
        "id": "yIet__nIp-sh"
      },
      "outputs": [],
      "source": [
        "myLambda2 = myFunc(3)\n",
        "myLambda2(20)"
      ]
    },
    {
      "cell_type": "code",
      "execution_count": null,
      "metadata": {
        "colab": {
          "base_uri": "https://localhost:8080/"
        },
        "id": "8gc0N115qTzy",
        "outputId": "25077679-4563-45c2-d8c9-845fbf1df531"
      },
      "outputs": [],
      "source": [
        "myLambda2 = myFunc(3)\n",
        "myLambda2([12,20,30])"
      ]
    },
    {
      "cell_type": "code",
      "execution_count": null,
      "metadata": {
        "colab": {
          "base_uri": "https://localhost:8080/"
        },
        "id": "1Dr8BroApABk",
        "outputId": "cb28ffcc-d5e5-48bf-ebdf-9de4a425de02"
      },
      "outputs": [],
      "source": [
        "type(myLambda1)"
      ]
    },
    {
      "cell_type": "code",
      "execution_count": null,
      "metadata": {
        "colab": {
          "base_uri": "https://localhost:8080/"
        },
        "id": "eQ6cq-cqpHpw",
        "outputId": "332a22f2-57ae-46ed-da49-649cb59527cf"
      },
      "outputs": [],
      "source": [
        "myLambda1(20)"
      ]
    },
    {
      "cell_type": "code",
      "execution_count": null,
      "metadata": {
        "id": "gCn_RTQlqpZm"
      },
      "outputs": [],
      "source": [
        "a = lambda x: lambda y: x+y"
      ]
    },
    {
      "cell_type": "code",
      "execution_count": null,
      "metadata": {
        "colab": {
          "base_uri": "https://localhost:8080/"
        },
        "id": "qVn09X5vqvTl",
        "outputId": "6d2e46c7-4a7f-40cb-e17d-c11b382ba157"
      },
      "outputs": [],
      "source": [
        "type(a)"
      ]
    },
    {
      "cell_type": "code",
      "execution_count": null,
      "metadata": {
        "colab": {
          "base_uri": "https://localhost:8080/"
        },
        "id": "5PqRP2djrTBR",
        "outputId": "68f23a18-1d91-4da6-8e2c-2436e06d093a"
      },
      "outputs": [],
      "source": [
        "output = a(10)\n",
        "\n",
        "output(5)"
      ]
    },
    {
      "cell_type": "code",
      "execution_count": null,
      "metadata": {
        "colab": {
          "base_uri": "https://localhost:8080/"
        },
        "id": "K7WOsgcvrlKB",
        "outputId": "00017bd6-5ca3-47eb-bfe3-03915d2d4dfe"
      },
      "outputs": [],
      "source": [
        "a(10)(5)"
      ]
    },
    {
      "cell_type": "markdown",
      "metadata": {
        "id": "Pdflk48br-uq"
      },
      "source": [
        "### **Filter**"
      ]
    },
    {
      "cell_type": "code",
      "execution_count": null,
      "metadata": {
        "colab": {
          "base_uri": "https://localhost:8080/"
        },
        "id": "FcybjHRhrszH",
        "outputId": "cd130128-71b0-4846-983a-a523fee65194"
      },
      "outputs": [],
      "source": [
        "scores = [50, 45, 10, 76, 100, 12, 5]\n",
        "\n",
        "# create a list which takes the score greater than 40\n",
        "def func(x):\n",
        "  if x>40:\n",
        "    return True\n",
        "  else:\n",
        "    return False\n",
        "\n",
        "filtered_list = filter(func, scores)\n",
        "\n",
        "print(filtered_list)"
      ]
    },
    {
      "cell_type": "code",
      "execution_count": null,
      "metadata": {
        "colab": {
          "base_uri": "https://localhost:8080/"
        },
        "id": "R8Y8fjAFuAnH",
        "outputId": "2bfc764d-066c-4923-ace0-0d7081b64c20"
      },
      "outputs": [],
      "source": [
        "filtered_list = list(filter(func, scores))\n",
        "\n",
        "print(filtered_list)"
      ]
    },
    {
      "cell_type": "code",
      "execution_count": null,
      "metadata": {
        "colab": {
          "base_uri": "https://localhost:8080/"
        },
        "id": "AVvMF__at2bD",
        "outputId": "eb054d9e-6f25-4f41-99b2-00490ea247e4"
      },
      "outputs": [],
      "source": [
        "for value in filtered_list:\n",
        "  print(value)"
      ]
    },
    {
      "cell_type": "code",
      "execution_count": null,
      "metadata": {
        "colab": {
          "base_uri": "https://localhost:8080/"
        },
        "id": "YgmpOwGquXRJ",
        "outputId": "a596952b-86bc-4224-e5a8-8294c1c71bff"
      },
      "outputs": [],
      "source": [
        "numbers = [12,42,3,75,124,29,71,1,2,47,10001]\n",
        "\n",
        "evenNumbers = list(filter(lambda x: x%2==0, numbers))\n",
        "oddNumbers = list(filter(lambda x: x%2==1, numbers))\n",
        "\n",
        "print(evenNumbers)\n",
        "print(oddNumbers)"
      ]
    },
    {
      "cell_type": "code",
      "execution_count": null,
      "metadata": {
        "colab": {
          "base_uri": "https://localhost:8080/"
        },
        "id": "eHjbv1xbvVy1",
        "outputId": "4bc62afe-aa5b-4b2e-91f2-3443e5a752cc"
      },
      "outputs": [],
      "source": [
        "def isPrime(n):\n",
        "  if n<=1:\n",
        "    return False\n",
        "\n",
        "  for i in range(2,n):\n",
        "    if n%i == 0:\n",
        "      return False\n",
        "\n",
        "  return True\n",
        "\n",
        "numbers = [7,17,29,144,142,2001,199,176, 187]\n",
        "\n",
        "primeNumbers = list(filter(isPrime, numbers))\n",
        "\n",
        "print(primeNumbers)"
      ]
    },
    {
      "cell_type": "code",
      "execution_count": null,
      "metadata": {
        "id": "fvt3SXHvwJtC"
      },
      "outputs": [],
      "source": []
    },
    {
      "cell_type": "code",
      "execution_count": null,
      "metadata": {
        "id": "W8Znv7opv1s5"
      },
      "outputs": [],
      "source": [
        "for value in numbers:\n",
        "  if isPrime(value):\n",
        "    primeNumbers.append(value)\n",
        "\n",
        "print(primeNumbers)"
      ]
    },
    {
      "cell_type": "code",
      "execution_count": null,
      "metadata": {
        "colab": {
          "base_uri": "https://localhost:8080/"
        },
        "id": "hbsdrErvwLAh",
        "outputId": "9e2d2743-2157-4627-b966-f22d50e32d18"
      },
      "outputs": [],
      "source": [
        "def myFun(a):\n",
        "  if a>18:\n",
        "    return False\n",
        "\n",
        "numbers = [1,2,9,12,18,20,25,40,50]\n",
        "\n",
        "filtered_numbers = list(filter(myFun, numbers))\n",
        "\n",
        "print(filtered_numbers)"
      ]
    },
    {
      "cell_type": "code",
      "execution_count": null,
      "metadata": {
        "id": "qXDlI_Opwmu5"
      },
      "outputs": [],
      "source": [
        "a = myFun(2)"
      ]
    },
    {
      "cell_type": "code",
      "execution_count": null,
      "metadata": {
        "colab": {
          "base_uri": "https://localhost:8080/"
        },
        "id": "RJV5t4iMwu1u",
        "outputId": "e83a23aa-72bc-486c-f640-02bc0739c0b4"
      },
      "outputs": [],
      "source": [
        "print(a)"
      ]
    },
    {
      "cell_type": "code",
      "execution_count": null,
      "metadata": {
        "colab": {
          "base_uri": "https://localhost:8080/"
        },
        "id": "P-r8uqBQwwYW",
        "outputId": "6434f261-4ea1-493a-dcef-a43e72d87054"
      },
      "outputs": [],
      "source": [
        "bool(None)"
      ]
    },
    {
      "cell_type": "code",
      "execution_count": null,
      "metadata": {
        "colab": {
          "base_uri": "https://localhost:8080/"
        },
        "id": "l4QcWgK6xcGq",
        "outputId": "0e8d6266-083b-4e6a-c1cb-351b6ef237d9"
      },
      "outputs": [],
      "source": [
        "def myFun(a):\n",
        "  if a>18:\n",
        "    return False\n",
        "  else:\n",
        "    return a+12\n",
        "\n",
        "numbers = [1,2,9,12,18,20,25,40,50]\n",
        "\n",
        "filtered_numbers = list(filter(myFun, numbers))\n",
        "\n",
        "print(filtered_numbers)"
      ]
    },
    {
      "cell_type": "code",
      "execution_count": null,
      "metadata": {
        "colab": {
          "base_uri": "https://localhost:8080/"
        },
        "id": "l_ENKWpeyXn-",
        "outputId": "589a612c-35be-494a-b031-6066f35fe578"
      },
      "outputs": [],
      "source": [
        "def myFun(a):\n",
        "  if a>18:\n",
        "    return False\n",
        "  else:\n",
        "    return a-12\n",
        "\n",
        "numbers = [1,2,9,12,18,20,25,40,50]\n",
        "\n",
        "filtered_numbers = list(filter(myFun, numbers))\n",
        "\n",
        "print(filtered_numbers)"
      ]
    },
    {
      "cell_type": "code",
      "execution_count": null,
      "metadata": {
        "colab": {
          "base_uri": "https://localhost:8080/"
        },
        "id": "nfJcUg1nzCjW",
        "outputId": "32586198-df4c-4eaa-b992-d2e47d930d66"
      },
      "outputs": [],
      "source": [
        "bool(-2)"
      ]
    },
    {
      "cell_type": "markdown",
      "metadata": {
        "id": "avktv1KfzSlC"
      },
      "source": [
        "### **MAP Function**"
      ]
    },
    {
      "cell_type": "code",
      "execution_count": null,
      "metadata": {
        "colab": {
          "base_uri": "https://localhost:8080/"
        },
        "id": "YSdIh9FrzR-v",
        "outputId": "027a7011-1e26-4408-d7ac-be9991b57043"
      },
      "outputs": [],
      "source": [
        "def myFun(a):\n",
        "  if a>18:\n",
        "    return False\n",
        "\n",
        "numbers = [1,2,9,12,18,20,25,40,50]\n",
        "\n",
        "map_numbers = list(map(myFun, numbers))\n",
        "\n",
        "print(map_numbers)"
      ]
    },
    {
      "cell_type": "code",
      "execution_count": null,
      "metadata": {
        "colab": {
          "base_uri": "https://localhost:8080/"
        },
        "id": "PBe7Jfyd0ZCm",
        "outputId": "ef1e3315-b3b2-4dbd-e18a-bacd1c2ef416"
      },
      "outputs": [],
      "source": [
        "scores = [55, 75, 45, 38, 58, 67, 81, 92]\n",
        "\n",
        "map_scores = map(lambda x: x+7, scores)\n",
        "\n",
        "print(map_scores)"
      ]
    },
    {
      "cell_type": "code",
      "execution_count": null,
      "metadata": {
        "colab": {
          "base_uri": "https://localhost:8080/"
        },
        "id": "ChbutJTa0qKE",
        "outputId": "d01bf2cb-441f-4e11-9455-4d35f4fb3eaf"
      },
      "outputs": [],
      "source": [
        "for value in map_scores:\n",
        "  print(value)"
      ]
    },
    {
      "cell_type": "code",
      "execution_count": null,
      "metadata": {
        "colab": {
          "base_uri": "https://localhost:8080/"
        },
        "id": "OMDkT-gg0y8C",
        "outputId": "888347a9-748d-4f86-b40d-284eae38afbc"
      },
      "outputs": [],
      "source": [
        "\n",
        "scores = [55, 75, 45, 38, 58, 67, 81, 92]\n",
        "\n",
        "map_scores = list(map(lambda x: x+7, scores))\n",
        "\n",
        "print(map_scores)"
      ]
    },
    {
      "cell_type": "code",
      "execution_count": null,
      "metadata": {
        "colab": {
          "base_uri": "https://localhost:8080/"
        },
        "id": "NBaMV9CR1NO1",
        "outputId": "f079549e-565c-431c-acc0-362b9c164bf1"
      },
      "outputs": [],
      "source": [
        "\n",
        "scores = [55, 75, 45, 38, 58, 67, 81, 92]\n",
        "# add 7 if score is >70 else leave as it is\n",
        "\n",
        "map_scores = list(map(lambda x: x+7 if x>70 else x, scores))\n",
        "\n",
        "print(map_scores)"
      ]
    },
    {
      "cell_type": "code",
      "execution_count": null,
      "metadata": {
        "colab": {
          "base_uri": "https://localhost:8080/"
        },
        "id": "YYRGjHuQ1pG4",
        "outputId": "beec346b-1d14-4ec8-c224-9cef8df4674a"
      },
      "outputs": [],
      "source": [
        "def statement(msg, times = 1):\n",
        "  print(msg* times)\n",
        "\n",
        "statement(\"Hello\")\n",
        "statement(\"World\", 5)"
      ]
    },
    {
      "cell_type": "code",
      "execution_count": null,
      "metadata": {
        "colab": {
          "base_uri": "https://localhost:8080/"
        },
        "id": "ddGXe3AZ8_S5",
        "outputId": "8d9d829b-c442-47a9-de29-bb48cc069c05"
      },
      "outputs": [],
      "source": [
        "def a(b):\n",
        "  print(\"id of b before adding 5 : \", id(b))\n",
        "  b = b+[5] # create a new list\n",
        "  print(\"id of b after adding 5 : \", id(b))\n",
        "\n",
        "\n",
        "c = [1,2,3,4]\n",
        "print(\"id c : -->\", id(c))\n",
        "a(c)\n",
        "print(len(c))"
      ]
    },
    {
      "cell_type": "code",
      "execution_count": null,
      "metadata": {
        "colab": {
          "base_uri": "https://localhost:8080/"
        },
        "id": "o2ePYCD992nu",
        "outputId": "cfc5ea5b-0534-47c8-91c7-a9873cb69280"
      },
      "outputs": [],
      "source": [
        "a = [1,2,3,4]\n",
        "print(\"id : \", id(a))\n",
        "a.append(5) # Q1 # [1,2,3,4,5] in the same id\n",
        "print(\"id post Q1: \", id(a))\n",
        "a = a+[5]  # Q2 # new list id will get created and a will point to it\n",
        "print('id post Q2: ', id(a))"
      ]
    },
    {
      "cell_type": "code",
      "execution_count": null,
      "metadata": {
        "colab": {
          "base_uri": "https://localhost:8080/"
        },
        "id": "i9NPZVhk-kPP",
        "outputId": "4fc15e63-6c2d-4847-e695-7ee5314c07d5"
      },
      "outputs": [],
      "source": [
        "def a(b):\n",
        "  print(\"id of b before adding 5 : \", id(b))\n",
        "  b.append(5)\n",
        "  print(\"id of b after adding 5 : \", id(b))\n",
        "\n",
        "\n",
        "c = [1,2,3,4]\n",
        "print(\"id c : -->\", id(c))\n",
        "a(c)\n",
        "print(len(c))"
      ]
    },
    {
      "cell_type": "code",
      "execution_count": null,
      "metadata": {
        "colab": {
          "base_uri": "https://localhost:8080/"
        },
        "id": "UkD8nuWNCypj",
        "outputId": "05da9005-d4d1-4ce6-96be-516616eb0809"
      },
      "outputs": [],
      "source": [
        "def foo(i, x=[]):\n",
        "  x.append(i)\n",
        "  return x\n",
        "\n",
        "for i in range(3):\n",
        "  print(foo(i))"
      ]
    },
    {
      "cell_type": "code",
      "execution_count": null,
      "metadata": {
        "colab": {
          "base_uri": "https://localhost:8080/"
        },
        "id": "Q7KkLE4nFoxb",
        "outputId": "4c1874a5-e68b-4d0e-81a0-7855641c980a"
      },
      "outputs": [],
      "source": [
        "l = [1,2,3]\n",
        "l.append(4)\n",
        "l"
      ]
    },
    {
      "cell_type": "code",
      "execution_count": null,
      "metadata": {
        "colab": {
          "base_uri": "https://localhost:8080/"
        },
        "id": "5tlR9hdKFsGc",
        "outputId": "2b7e4d75-de2f-47d8-f948-d13a78024139"
      },
      "outputs": [],
      "source": [
        "l = [1,2,3]\n",
        "a = l.append(4)\n",
        "print(a)\n",
        "print(l)"
      ]
    },
    {
      "cell_type": "code",
      "execution_count": null,
      "metadata": {
        "colab": {
          "base_uri": "https://localhost:8080/"
        },
        "id": "Uc1ZV00aGTKL",
        "outputId": "57fa5768-230a-4c7a-f3b9-bac55f917f9f"
      },
      "outputs": [],
      "source": [
        "l = []\n",
        "print(l)\n",
        "for i in range(3):\n",
        "  l.append(l.append(i))\n",
        "  print(l)\n",
        "\n",
        "print(l)"
      ]
    },
    {
      "cell_type": "code",
      "execution_count": null,
      "metadata": {
        "colab": {
          "base_uri": "https://localhost:8080/"
        },
        "id": "UADmRHhCG5bb",
        "outputId": "f79c886b-6767-4abe-a83c-fc87441d28ea"
      },
      "outputs": [],
      "source": [
        "def foo(i, x= []):\n",
        "  x.append(i)\n",
        "  return x\n",
        "\n",
        "for i in range(3):\n",
        "  print(foo(i))"
      ]
    },
    {
      "cell_type": "markdown",
      "metadata": {
        "id": "8ATGWiq6HBrZ"
      },
      "source": []
    },
    {
      "cell_type": "code",
      "execution_count": null,
      "metadata": {
        "colab": {
          "base_uri": "https://localhost:8080/"
        },
        "id": "n1lNLa_iHCJE",
        "outputId": "993ded74-b486-49b1-982a-2866f5eff431"
      },
      "outputs": [],
      "source": [
        "def foo(i, x= []):\n",
        "  x.append(i)\n",
        "  return x\n",
        "\n",
        "for i in range(3):\n",
        "  print(foo(i))"
      ]
    }
  ],
  "metadata": {
    "colab": {
      "provenance": []
    },
    "kernelspec": {
      "display_name": "Python 3",
      "name": "python3"
    },
    "language_info": {
      "name": "python",
      "version": "3.12.4"
    }
  },
  "nbformat": 4,
  "nbformat_minor": 0
}
